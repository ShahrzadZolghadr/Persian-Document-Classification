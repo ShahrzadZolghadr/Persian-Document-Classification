{
  "nbformat": 4,
  "nbformat_minor": 0,
  "metadata": {
    "coursera": {
      "schema_names": [
        "NLPC2-3"
      ]
    },
    "kernelspec": {
      "display_name": "Python 3",
      "language": "python",
      "name": "python3"
    },
    "language_info": {
      "codemirror_mode": {
        "name": "ipython",
        "version": 3
      },
      "file_extension": ".py",
      "mimetype": "text/x-python",
      "name": "python",
      "nbconvert_exporter": "python",
      "pygments_lexer": "ipython3",
      "version": "3.7.3"
    },
    "colab": {
      "name": "Assignment_2_NLP_Course.ipynb",
      "provenance": [],
      "collapsed_sections": []
    }
  },
  "cells": [
    {
      "cell_type": "markdown",
      "metadata": {
        "id": "rC_JIOpAxlgK"
      },
      "source": [
        "# Persian Document Classification\n"
      ]
    },
    {
      "cell_type": "code",
      "metadata": {
        "id": "8QL8XrAuxlgM"
      },
      "source": [
        "import numpy as np"
      ],
      "execution_count": null,
      "outputs": []
    },
    {
      "cell_type": "markdown",
      "metadata": {
        "id": "P9S_UcMTxlgQ"
      },
      "source": [
        "## Load and Preprocess Data\n"
      ]
    },
    {
      "cell_type": "code",
      "metadata": {
        "id": "1FleSD81x3ln",
        "colab": {
          "base_uri": "https://localhost:8080/"
        },
        "outputId": "a5666246-05ed-432b-bce3-cf27241b8295"
      },
      "source": [
        "from google.colab import drive\n",
        "drive.mount(\"/content/drive\")"
      ],
      "execution_count": null,
      "outputs": [
        {
          "output_type": "stream",
          "text": [
            "Mounted at /content/drive\n"
          ],
          "name": "stdout"
        }
      ]
    },
    {
      "cell_type": "code",
      "metadata": {
        "id": "riA87WoQqyje",
        "colab": {
          "base_uri": "https://localhost:8080/",
          "height": 289
        },
        "outputId": "d6399bdc-b325-4c47-8262-82e8b192b4b2"
      },
      "source": [
        "import pandas as pd \n",
        "  \n",
        "train_df = pd.read_csv('/content/drive/My Drive/News/train.csv',sep='\\t',error_bad_lines=False , encoding='utf-8') \n",
        "train_df.head()"
      ],
      "execution_count": null,
      "outputs": [
        {
          "output_type": "execute_result",
          "data": {
            "text/html": [
              "<div>\n",
              "<style scoped>\n",
              "    .dataframe tbody tr th:only-of-type {\n",
              "        vertical-align: middle;\n",
              "    }\n",
              "\n",
              "    .dataframe tbody tr th {\n",
              "        vertical-align: top;\n",
              "    }\n",
              "\n",
              "    .dataframe thead th {\n",
              "        text-align: right;\n",
              "    }\n",
              "</style>\n",
              "<table border=\"1\" class=\"dataframe\">\n",
              "  <thead>\n",
              "    <tr style=\"text-align: right;\">\n",
              "      <th></th>\n",
              "      <th>link</th>\n",
              "      <th>title</th>\n",
              "      <th>code_news</th>\n",
              "      <th>category</th>\n",
              "      <th>date</th>\n",
              "      <th>text</th>\n",
              "    </tr>\n",
              "  </thead>\n",
              "  <tbody>\n",
              "    <tr>\n",
              "      <th>0</th>\n",
              "      <td>/fa/news/6276899/اسفراین-جولانگاه-مقدونیان-تصا...</td>\n",
              "      <td>اسفراین؛ جولانگاه مقدونیان + تصاویر</td>\n",
              "      <td>کد خبر: ۶۲۷۶۸۹۹</td>\n",
              "      <td>فرهنگی هنری</td>\n",
              "      <td>تاریخ انتشار: ۲۱ مهر ۱۳۹۶ - ۰۷:۰۴</td>\n",
              "      <td>به گزارش خبرنگار حوزه میراث و گردشگری گروه فر...</td>\n",
              "    </tr>\n",
              "    <tr>\n",
              "      <th>1</th>\n",
              "      <td>/fa/news/4626291/اجرای-قطعات-سلام-آقا-بدون-انگ...</td>\n",
              "      <td>اجرای قطعات \"سلام آقا\" بدون انگیزه مالی و با ا...</td>\n",
              "      <td>کد خبر: ۴۶۲۶۲۹۱</td>\n",
              "      <td>فرهنگی هنری</td>\n",
              "      <td>تاریخ انتشار: ۱۹ آبان ۱۳۹۲ - ۱۰:۰۰</td>\n",
              "      <td>به گزارش حوزه موسیقی باشگاه خبرنگاران، مهدی ی...</td>\n",
              "    </tr>\n",
              "    <tr>\n",
              "      <th>2</th>\n",
              "      <td>/fa/news/4632846/حکایت-سیاریحون-از-نهضت-میرزا-...</td>\n",
              "      <td>حکایت \"سیاریحون\" از نهضت میرزا کوچک خان جنگلی ...</td>\n",
              "      <td>کد خبر: ۴۶۳۲۸۴۶</td>\n",
              "      <td>فرهنگی هنری</td>\n",
              "      <td>تاریخ انتشار: ۲۵ آبان ۱۳۹۲ - ۱۳:۴۵</td>\n",
              "      <td>به گزارش حوزه تئاتر باشگاه خبرنگاران به نقل ا...</td>\n",
              "    </tr>\n",
              "    <tr>\n",
              "      <th>3</th>\n",
              "      <td>/fa/news/5058438/گفتگو-با-کارگردان-سریال-شهید-...</td>\n",
              "      <td>گفتگو با کارگردان سریال شهید مدرس/قدرت بیان فو...</td>\n",
              "      <td>کد خبر: ۵۰۵۸۴۳۸</td>\n",
              "      <td>فرهنگی هنری</td>\n",
              "      <td>تاریخ انتشار: ۱۰ آذر ۱۳۹۳ - ۱۰:۵۴</td>\n",
              "      <td>به گزارش خبرنگار رادیو تلویزیون باشگاه خبرنگا...</td>\n",
              "    </tr>\n",
              "    <tr>\n",
              "      <th>4</th>\n",
              "      <td>/fa/news/6668241/گزارش-تصویری-مراسم-عزاداری-شب...</td>\n",
              "      <td>گزارش تصویری مراسم عزاداری شب ششم محرم ۹۷/ حضو...</td>\n",
              "      <td>کد خبر: ۶۶۶۸۲۴۱</td>\n",
              "      <td>فرهنگی هنری</td>\n",
              "      <td>تاریخ انتشار: ۲۵ شهريور ۱۳۹۷ - ۱۰:۳۵</td>\n",
              "      <td>به گزارش خبرنگار تکیه حسینی گروه فرهنگی باشگا...</td>\n",
              "    </tr>\n",
              "  </tbody>\n",
              "</table>\n",
              "</div>"
            ],
            "text/plain": [
              "                                                link  ...                                               text\n",
              "0  /fa/news/6276899/اسفراین-جولانگاه-مقدونیان-تصا...  ...   به گزارش خبرنگار حوزه میراث و گردشگری گروه فر...\n",
              "1  /fa/news/4626291/اجرای-قطعات-سلام-آقا-بدون-انگ...  ...   به گزارش حوزه موسیقی باشگاه خبرنگاران، مهدی ی...\n",
              "2  /fa/news/4632846/حکایت-سیاریحون-از-نهضت-میرزا-...  ...   به گزارش حوزه تئاتر باشگاه خبرنگاران به نقل ا...\n",
              "3  /fa/news/5058438/گفتگو-با-کارگردان-سریال-شهید-...  ...   به گزارش خبرنگار رادیو تلویزیون باشگاه خبرنگا...\n",
              "4  /fa/news/6668241/گزارش-تصویری-مراسم-عزاداری-شب...  ...   به گزارش خبرنگار تکیه حسینی گروه فرهنگی باشگا...\n",
              "\n",
              "[5 rows x 6 columns]"
            ]
          },
          "metadata": {
            "tags": []
          },
          "execution_count": 5
        }
      ]
    },
    {
      "cell_type": "markdown",
      "metadata": {
        "id": "cHhrAcm9gUzP"
      },
      "source": [
        "## Sample per class distribution"
      ]
    },
    {
      "cell_type": "code",
      "metadata": {
        "id": "2heSk3nDF8O2",
        "colab": {
          "base_uri": "https://localhost:8080/",
          "height": 362
        },
        "outputId": "3c95e069-803d-4172-9f04-cbb50b182e1b"
      },
      "source": [
        "train_df['category'].value_counts().sort_values(ascending=False).plot(kind='bar', \n",
        "                                                                title='Number of news samples in each category')"
      ],
      "execution_count": null,
      "outputs": [
        {
          "output_type": "execute_result",
          "data": {
            "text/plain": [
              "<matplotlib.axes._subplots.AxesSubplot at 0x7f7da5650dd8>"
            ]
          },
          "metadata": {
            "tags": []
          },
          "execution_count": 6
        },
        {
          "output_type": "display_data",
          "data": {
            "image/png": "[encoded data removed]",
            "text/plain": [
              "<Figure size 432x288 with 1 Axes>"
            ]
          },
          "metadata": {
            "tags": [],
            "needs_background": "light"
          }
        }
      ]
    },
    {
      "cell_type": "code",
      "metadata": {
        "id": "ksa4NQcKxlgY"
      },
      "source": [
        "x_train_l = []\n",
        "y_train_l = []\n",
        "for index,row in train_df.iterrows():\n",
        "  x_train_l.append(str(row['title']) + '.' + str(row['text']))\n",
        "  y_train_l.append(row['category'])"
      ],
      "execution_count": null,
      "outputs": []
    },
    {
      "cell_type": "code",
      "metadata": {
        "id": "UHe3kAiFUK_-",
        "colab": {
          "base_uri": "https://localhost:8080/"
        },
        "outputId": "01cbb032-7ecf-4a76-fabd-1d43b3e5b372"
      },
      "source": [
        "print(len(x_train_l))\n",
        "print(len(y_train_l))"
      ],
      "execution_count": null,
      "outputs": [
        {
          "output_type": "stream",
          "text": [
            "117192\n",
            "117192\n"
          ],
          "name": "stdout"
        }
      ]
    },
    {
      "cell_type": "code",
      "metadata": {
        "id": "Fii2BtrlUVIq",
        "colab": {
          "base_uri": "https://localhost:8080/"
        },
        "outputId": "5de4230c-dc06-4d42-f96d-be28ba04abd4"
      },
      "source": [
        "print(x_train_l[5])\n",
        "print(y_train_l[5])"
      ],
      "execution_count": null,
      "outputs": [
        {
          "output_type": "stream",
          "text": [
            "نیازمند نگرشی جدید در تبلیغات فیلم‌های کودکان هستیم. به گزارش حوزه سینما گروه فرهنگی باشگاه خبرنگاران جوان به نقل از ستاد اطلاع‌رسانی جشنواره بین‌المللی فیلم‌های کودکان و نوجوانان؛ امیر عابدی مدیر بخش مواد تبلیغی سی‌امین جشنواره فیلم‌های کودکان و نوجوانان گفت: این بخش در زمینه‌های عکس، پوستر، تیزر و آنونس بستری را فراهم کرده است که در یکی از گالری‌های اصفهان و همزمان در سالن‌های سینما با مرکزیت جشنواره همه آثار این دوستان عرضه شود و هچنین امسال یکی از اولویت‌هایی که در این بخش خواهیم داشت، توجه به کمپین‌های تبلیغاتی است، یعنی فیلم‌هایی که احیانا در این کمپین‌ها وجود داشته باشند، بررسی کرده و می‌بینیم و به سمت راهکارهای تشویقی در این زمینه حرکت خواهیم کرد. وی با اشاره به بحث تبلیغات در سینما گفت: در حال حاضر کار انفرادی در زمینه تبلیغات خیلی جوابگو نخواهد بود و همه باید به این گستره توجه داشته باشند و پیش از کلید خوردن فیلم برنامه‌ریزی‌ها برای تبلیغات فیلم انجام شود و یک اتاق فکر شکل بگیرد و شاخصه‌ها و روش‌های تبلیغاتی را در نظر گرفته و تعریف کنند و روش های تبلیغاتی مدنظر خود را بررسی کرده و به این نتیجه برسند که به عنوان مثال از طریق تبلیغات میدانی و یا از راه فضای مجازی به تبلیغات خواهند پرداخت. سپس در این شرایط یک کمپین شامل مدیر تبلیغات و مدیر روابط عمومی و عناصر آرتیستی که بار اصلی تهیه متریال بر دوش آنها است تشکیل می‌شود که هر کدام باید در کمپین‌ها حضور مثبت و مؤثری داشته باشند. عابدی ادامه داد: ما نیازمند این هستیم که به تبلیغات سینما به شکل متفاوت و با نگرشی جدید بپردازیم و در زمینه سینمای کودک که دنیایی سراسر فانتزی و تخیل‌آمیز  برای کودکان است، محصول متفاوت خواهد بود و قطعا پوستری که برای سینمای کودک طراحی می‌شود با پوستر یک فیلم حادثه‌ای تفاوت دارد، در صورتی که من شاهد هستم که برخی از دوستان تفاوتی بین این دو قائل نیستند، بخشی از این اتفاقات هم به انتخاب نادرست اولیه در زمینه دعوت از افراد متخصص است. وی درباره شاخصه‌هایی که در تمام زمینه‌های تبلیغاتی سینمای کودک باید به آن توجه داشت گفت: به کارگیری عناصری مانند رنگ و نور و در نهایت رسیدن به فضاهای شاد و طراحی‌های کودکانه‌ای که به تخیل و خواسته کودکان نزدیک باشد، از عواملی است که برای دستیابی به سینمای کودکی که بتواند سلامت نسل آینده‌سازان ما را تامین کند، اثرگذار است، پس این پدیده را باید بیشتر جدی بگیریم که جشنواره در حال حاضر به این کار توجه ویژه دارد. عابدی درباره آثار رسیده به دبیرخانه جشنواره گفت: هنرمندان در روزهای گذشته به تدریج آثار را ارائه کردند و هنوز به جمع‌بندی نرسیدیم و فقط در حال انتخاب و آماده‌سازی هستیم و  بزودی آمار دقیق اعلام خواهد شد، اما اساسا چون ما از میان فیلم‌های سال‌های 93 و 94 انتخاب می‌کنیم، امیدواریم چیزی حدود 25 کار در زمینه عکس، تیزر و پوستر و آنونس داشته باشیم. وی در مورد ترکیب هیأت داوران هم گفت: هیأت داوران در هر موضوعی باید آدم‌های حرفه‌ای و باتجربه باشند که ما یک لیست اولیه از داوران تهیه کردیم که به زودی قطعی می‌شود و اعلام می‌کنیم و امیدوارم بتونیم بهترین داورها را داشته باشیم و سالم‌ترین و غیر جانبدارانه‌ترین داوری را انجام دهیم. تمام تلاش ما این است که تیم داوران در این عرصه فعال باشند و دغدغه‌های روز جامعه را داشته باشند.\n",
            "فرهنگی هنری\n"
          ],
          "name": "stdout"
        }
      ]
    },
    {
      "cell_type": "markdown",
      "metadata": {
        "id": "lkEHCDMaxlgj"
      },
      "source": [
        "## Preprocess"
      ]
    },
    {
      "cell_type": "code",
      "metadata": {
        "id": "QJWhXtFTq29B"
      },
      "source": [
        "#!pip install hazm"
      ],
      "execution_count": null,
      "outputs": []
    },
    {
      "cell_type": "code",
      "metadata": {
        "id": "Mkn2X7vUxlgk"
      },
      "source": [
        "from hazm import *\n",
        "import re\n",
        "\n",
        "def clean(t):\n",
        "\n",
        "  t = re.sub(r'[^\\w\\d.؟\\s]+','',t)\n",
        "  t = re.sub(r'[a-zA-Z]+','',t)\n",
        "  t = re.sub(r'\\d+' , ' N ' , t)\n",
        "\n",
        "  t = re.sub(r'_' , '' , t)\n",
        "  t = re.sub(r'\\.+' , '.' , t)\n",
        "\n",
        "  normalizer = Normalizer()\n",
        "  text = normalizer.normalize(t) \n",
        "  return text"
      ],
      "execution_count": null,
      "outputs": []
    },
    {
      "cell_type": "code",
      "metadata": {
        "id": "elXkNWHBxlgm",
        "colab": {
          "base_uri": "https://localhost:8080/",
          "height": 35
        },
        "outputId": "b2919f33-5948-4a41-d642-b635e48e0ea8"
      },
      "source": [
        "# test\n",
        "sentences = \"20 نفر به ستاد فراخونده: شدند/] ! بهترین فصل، بهار+_ 1,433 است ... \"\n",
        "clean(sentences)"
      ],
      "execution_count": null,
      "outputs": [
        {
          "output_type": "execute_result",
          "data": {
            "application/vnd.google.colaboratory.intrinsic+json": {
              "type": "string"
            },
            "text/plain": [
              "' N نفر به ستاد فراخونده شدند بهترین فصل بهار N است. '"
            ]
          },
          "metadata": {
            "tags": []
          },
          "execution_count": 12
        }
      ]
    },
    {
      "cell_type": "code",
      "metadata": {
        "id": "b8sZ71UXxlgu"
      },
      "source": [
        "tokenized_data =[word_tokenize(clean(x)) for x in x_train_l]"
      ],
      "execution_count": null,
      "outputs": []
    },
    {
      "cell_type": "code",
      "metadata": {
        "id": "WMy2XBOoxlgw",
        "colab": {
          "base_uri": "https://localhost:8080/"
        },
        "outputId": "6a55f7ec-9e62-40e9-8a37-71e4adeb1570"
      },
      "source": [
        "print(\"{} data for training \".format(\n",
        "    len(tokenized_data)))\n",
        "\n",
        "train_list=[]\n",
        "for i in range(len(tokenized_data)):\n",
        "    train_list.extend(tokenized_data[i])\n",
        "print('\\n{} tokens for training '.format(\n",
        "    len(train_list)))\n",
        "\n",
        "print('\\n{} unique tokens for training '.format(\n",
        "    len(set(train_list))))"
      ],
      "execution_count": null,
      "outputs": [
        {
          "output_type": "stream",
          "text": [
            "117192 data for training \n",
            "\n",
            "33315315 tokens for training \n",
            "\n",
            "307626 unique tokens for training \n"
          ],
          "name": "stdout"
        }
      ]
    },
    {
      "cell_type": "code",
      "metadata": {
        "id": "e_0O1CmXxlgz"
      },
      "source": [
        "def count_words(tokenized_sentences):\n",
        "    \n",
        "    word_counts = {}\n",
        "    \n",
        "    # Loop through each sentence\n",
        "    for sentence in tokenized_sentences:\n",
        "        \n",
        "        for token in sentence: \n",
        "            if not token in word_counts.keys():\n",
        "                word_counts[token] = 1           \n",
        "            else:\n",
        "                word_counts[token] += 1\n",
        "\n",
        "    return word_counts"
      ],
      "execution_count": null,
      "outputs": []
    },
    {
      "cell_type": "code",
      "metadata": {
        "id": "FwYLOxujxlg1",
        "colab": {
          "base_uri": "https://localhost:8080/"
        },
        "outputId": "b7ae32a0-ce40-48ba-b1ff-efd7703d7c4e"
      },
      "source": [
        "# test\n",
        "tokenized_sentences =[tokenized_data[1250]]\n",
        "count_words(tokenized_sentences)"
      ],
      "execution_count": null,
      "outputs": [
        {
          "output_type": "execute_result",
          "data": {
            "text/plain": [
              "{'.': 8,\n",
              " 'N': 3,\n",
              " 'آبرامز': 3,\n",
              " 'آرنت': 1,\n",
              " 'آلیاس': 1,\n",
              " 'آمریکا': 1,\n",
              " 'ارائه': 1,\n",
              " 'از': 6,\n",
              " 'است': 1,\n",
              " 'استیون': 1,\n",
              " 'اسپیلبرگ': 1,\n",
              " 'اعلام': 2,\n",
              " 'ام': 1,\n",
              " 'امی': 1,\n",
              " 'انقلاب': 1,\n",
              " 'ای': 1,\n",
              " 'این': 2,\n",
              " 'اینکه': 1,\n",
              " 'با': 1,\n",
              " 'باشگاه': 1,\n",
              " 'بر': 1,\n",
              " 'برای': 1,\n",
              " 'برنده': 1,\n",
              " 'بعد': 1,\n",
              " 'به': 4,\n",
              " 'بی': 1,\n",
              " 'تا': 2,\n",
              " 'تمام': 1,\n",
              " 'تهیهکنندگان': 1,\n",
              " 'تکیه': 1,\n",
              " 'جایزه': 1,\n",
              " 'جفری': 1,\n",
              " 'جنگ': 4,\n",
              " 'جی': 4,\n",
              " 'جیکوب': 1,\n",
              " 'حالا': 1,\n",
              " 'حدیث\\u200cها': 1,\n",
              " 'حرف': 1,\n",
              " 'خبرنگاران': 1,\n",
              " 'خریده_است': 1,\n",
              " 'خواهد_زد': 1,\n",
              " 'دارد': 2,\n",
              " 'در': 1,\n",
              " 'دست': 1,\n",
              " 'دلار': 1,\n",
              " 'دهد': 1,\n",
              " 'دی': 1,\n",
              " 'دیزنی': 2,\n",
              " 'را': 5,\n",
              " 'رد': 1,\n",
              " 'روی': 1,\n",
              " 'زیادی': 1,\n",
              " 'سال': 1,\n",
              " 'ستارگان': 4,\n",
              " 'سکان': 1,\n",
              " 'شد': 1,\n",
              " 'شدهاست': 1,\n",
              " 'شرکت': 1,\n",
              " 'صندلی': 1,\n",
              " 'فرینج': 1,\n",
              " 'فضا': 1,\n",
              " 'فیلم': 1,\n",
              " 'فیلمسازی': 2,\n",
              " 'فیلم\\u200cهای': 1,\n",
              " 'قرار': 1,\n",
              " 'قسمت': 4,\n",
              " 'قصد': 1,\n",
              " 'لاست': 1,\n",
              " 'لوکاس': 1,\n",
              " 'مایکل': 1,\n",
              " 'متیو': 1,\n",
              " 'مجموعه': 1,\n",
              " 'مطرح': 1,\n",
              " 'میز': 1,\n",
              " 'میلیارد': 1,\n",
              " 'نقل': 1,\n",
              " 'نویسندگی': 1,\n",
              " 'نیز': 1,\n",
              " 'هدایت': 1,\n",
              " 'هفتم': 2,\n",
              " 'همچون': 1,\n",
              " 'و': 7,\n",
              " 'والت': 2,\n",
              " 'واگن': 1,\n",
              " 'پرداخت': 1,\n",
              " 'پس': 1,\n",
              " 'پیشتازان': 1,\n",
              " 'کارنامه': 1,\n",
              " 'کارهایی': 1,\n",
              " 'کارگردانان': 1,\n",
              " 'کارگردانی': 3,\n",
              " 'کرد': 2,\n",
              " 'کمپانی': 2,\n",
              " 'که': 3,\n",
              " 'گرفت': 2,\n",
              " 'گرفته': 1,\n",
              " 'گزارش': 1,\n",
              " 'گزینه\\u200cهای': 1,\n",
              " 'گلدن': 1,\n",
              " 'گلوب': 1,\n",
              " 'ی': 1}"
            ]
          },
          "metadata": {
            "tags": []
          },
          "execution_count": 16
        }
      ]
    },
    {
      "cell_type": "code",
      "metadata": {
        "id": "PxZcqzomQV1Q"
      },
      "source": [
        "word_counts = count_words(tokenized_data)"
      ],
      "execution_count": null,
      "outputs": []
    },
    {
      "cell_type": "code",
      "metadata": {
        "id": "Hm8N8wc_RT4i",
        "colab": {
          "base_uri": "https://localhost:8080/"
        },
        "outputId": "9e638752-0b19-4dda-99a2-2cee3e04f242"
      },
      "source": [
        "print(\"Number of all tokens:\")\n",
        "print(sum(word_counts.values()))\n",
        "print(\"\\nNumber of unique tokens:\")\n",
        "print(len(word_counts))"
      ],
      "execution_count": null,
      "outputs": [
        {
          "output_type": "stream",
          "text": [
            "Number of all tokens:\n",
            "33315315\n",
            "\n",
            "Number of unique tokens:\n",
            "307626\n"
          ],
          "name": "stdout"
        }
      ]
    },
    {
      "cell_type": "code",
      "metadata": {
        "id": "GL99rLyCxlg3"
      },
      "source": [
        "from collections import Counter\n",
        "def get_words_with_threshold_rank_frequency(tokenized, rank_threshold):\n",
        "    closed_vocab = {}\n",
        "    \n",
        "    # Get the word counts of the tokenized sentences\n",
        "    word_counts = count_words(tokenized)\n",
        "    closed_voc=Counter(word_counts).most_common(rank_threshold)\n",
        "    for a, b in closed_voc: \n",
        "        closed_vocab[a] = b\n",
        "    return closed_vocab"
      ],
      "execution_count": null,
      "outputs": []
    },
    {
      "cell_type": "code",
      "metadata": {
        "id": "0WPVtJMSxlg8",
        "colab": {
          "base_uri": "https://localhost:8080/"
        },
        "outputId": "61e6059d-3e92-4270-fe3d-a3f830e192e3"
      },
      "source": [
        "#test\n",
        "tmp_closed_vocab = get_words_with_threshold_rank_frequency(tokenized_data, 5)\n",
        "print(f\"\\nClosed vocabulary with rank frequency:\")\n",
        "print(tmp_closed_vocab)"
      ],
      "execution_count": null,
      "outputs": [
        {
          "output_type": "stream",
          "text": [
            "\n",
            "Closed vocabulary with rank frequency:\n",
            "{'و': 1412851, 'در': 1190281, '.': 1114247, 'به': 1002197, 'از': 743423}\n"
          ],
          "name": "stdout"
        }
      ]
    },
    {
      "cell_type": "code",
      "metadata": {
        "id": "5e5MDuYcxlhA"
      },
      "source": [
        "def replace_oov_words_by_unk(tokenized, vocabulary, unknown_token=\"<unk>\"):\n",
        "    \n",
        "    replaced_tokenized = []\n",
        "    \n",
        "    for sentence in tokenized:        \n",
        "        replaced_sentence = []\n",
        "\n",
        "        for token in sentence:\n",
        "            if token in vocabulary.keys(): \n",
        "                replaced_sentence.append(token)\n",
        "            else:\n",
        "                replaced_sentence.append(unknown_token)\n",
        "        replaced_tokenized.append(replaced_sentence)\n",
        "        \n",
        "    return replaced_tokenized"
      ],
      "execution_count": null,
      "outputs": []
    },
    {
      "cell_type": "code",
      "metadata": {
        "id": "KvCbCPlzxlhG"
      },
      "source": [
        "def preprocess_data(train_list, rank_threshold):\n",
        "\n",
        "    vocabulary = get_words_with_threshold_rank_frequency(train_list , rank_threshold)\n",
        "    train_data_replaced = replace_oov_words_by_unk(train_list, vocabulary, unknown_token=\"<unk>\")\n",
        "  \n",
        "    return train_data_replaced, vocabulary"
      ],
      "execution_count": null,
      "outputs": []
    },
    {
      "cell_type": "markdown",
      "metadata": {
        "id": "mwafMtHBxlhL"
      },
      "source": [
        "## Appply preprocess on training data"
      ]
    },
    {
      "cell_type": "code",
      "metadata": {
        "id": "KIhGUKtgxlhL"
      },
      "source": [
        "train_data_processed, vocabulary = preprocess_data(tokenized_data,rank_threshold=10000)"
      ],
      "execution_count": null,
      "outputs": []
    },
    {
      "cell_type": "code",
      "metadata": {
        "id": "mVdJm6HoxlhN",
        "colab": {
          "base_uri": "https://localhost:8080/"
        },
        "outputId": "782072c7-bf45-4ac6-fa76-cdab182ac9f7"
      },
      "source": [
        "print(\"First preprocessed training sample:\")\n",
        "print(train_data_processed[100])\n",
        "print()\n",
        "\n",
        "print(\"Most frequent vocabularies:\")\n",
        "print(vocabulary)\n",
        "print()\n",
        "print(\"Size of vocabulary:\", len(vocabulary))"
      ],
      "execution_count": null,
      "outputs": [
        {
          "output_type": "stream",
          "text": [
            "First preprocessed training sample:\n",
            "['اعدام', 'شیخ', 'نمر', 'برای', 'عربستان', 'بسیار', 'گران', 'تمام', 'میشود', '.', 'آیتالله', 'محسن', '<unk>', 'عضو', 'جامعه', 'مدرسین', 'حوزه', 'علمیه', 'قم', 'در', 'گفتگو', 'با', 'خبرنگار', 'حوزه', 'قرآن', 'و', 'عترت', 'گروه', 'فرهنگی', 'باشگاه', 'خبرنگاران', 'جوان', 'اظهار', 'داشت', 'در', 'اسلام', 'از', 'گذشته', 'تاکنون', 'علمای', 'بزرگی', 'وجود', 'داشتهاند', 'که', 'در', 'برابر', 'ظلم', 'و', 'استکبار', '<unk>', 'که', '<unk>', 'و', 'تحمل', '<unk>', 'زندان', 'تبعید', 'و', 'حتی', 'شهادت', 'برای', 'آنها', 'یک', 'افتخار', 'بزرگ', 'است', 'و', 'آیتالله', 'شیخ', 'نمر', 'نمونهای', 'از', 'آنهاست', '.', 'آیتالله', 'محسن', '<unk>', 'عضو', 'جامعه', 'مدرسین', 'حوزه', 'علمیه', 'قم', 'در', 'گفتگو', 'با', 'خبرنگار', 'حوزه', 'قرآن', 'و', 'عترت', 'گروه', 'فرهنگی', 'باشگاه', 'خبرنگاران', 'جوان', 'اظهار', 'داشت', 'در', 'اسلام', 'از', 'گذشته', 'تاکنون', 'علمای', 'بزرگی', 'وجود', 'داشتهاند', 'که', 'در', 'برابر', 'ظلم', 'و', 'استکبار', '<unk>', 'که', '<unk>', 'و', 'تحمل', '<unk>', 'زندان', 'تبعید', 'و', 'حتی', 'شهادت', 'برای', 'آنها', 'یک', 'افتخار', 'بزرگ', 'است', 'و', 'آیتالله', 'شیخ', 'نمر', 'نمونهای', 'از', 'آنهاست', '.', 'وی', 'ادامه', 'داد', 'عربستان', 'که', 'به', 'عنوان', 'رئیس', 'پنل', 'کارشناسان', 'شورای', 'حقوق', 'بشر', 'سازمان', 'ملل', 'معرفی', 'شده', 'باید', 'به', 'این', 'سؤال', 'پاسخ', 'دهد', 'که', 'شیخ', 'نمر', 'به', 'جز', 'بیان', 'حقیقت', 'چه', 'خلافی', 'مرتکب', 'شده', 'و', 'آیا', 'چنین', '<unk>', 'با', 'این', 'دلیل', 'صحیح', 'است', '؟', 'آیتالله', '<unk>', 'تصریح', 'کرد', 'یکی', 'از', 'قوانین', 'حقوق', 'بشر', 'آزادی', 'بیان', 'است', 'که', 'اگر', 'کسی', 'سخنی', 'داشته_باشد', 'و', 'آن', 'را', 'بیان', 'کند', 'برای', 'او', 'جرمی', 'نیست', 'و', 'نباید', 'به', 'او', 'آسیبی', 'برسد', '.', 'وی', 'گفت', 'حکومت', 'عربستان', 'باید', 'بداند', 'و', 'آگاه', 'باشد', 'که', 'اعدام', 'شیخ', 'نمر', 'لکه', '<unk>', 'برای', 'تاریخ', 'این', 'کشور', 'خواهد_شد', 'و', 'برای', 'آنها', 'بسیار', 'گران', 'تمام', 'میشود', 'چرا', 'که', 'اگر', 'خونی', 'به', '<unk>', '<unk>', '<unk>', 'را', 'به', 'دنبال', 'دارد', 'همانطور', 'که', 'حضرت', 'امام', 'حسینع', 'را', 'به', 'شهادت', 'رساندند', 'و', 'سپس', 'جمعیت', 'کثیری', 'برای', '<unk>', 'آن', 'حضرت', 'قیام', 'کردند', 'در', 'مورد', 'این', 'عالم', 'بزرگوار', 'نیز', 'چنین', 'اتفاقی', 'رخ', 'خواهد_داد', '.', 'عضو', 'جامعه', 'مدرسین', 'بیان', 'کرد', 'من', 'از', 'رئیس', 'و', 'علمای', 'دانشگاه', '<unk>', 'مصر', 'و', 'نیز', 'از', 'علمای', '<unk>', 'و', 'تشیع', 'در', 'شهرها', 'و', 'کشورهای', 'دیگر', 'تقاضا', 'دارم', '<unk>', 'حکم', 'اعدام', 'آیتالله', 'شیخ', 'نمر', 'سکوت', 'نکنند', 'و', 'چنین', 'حرکتی', 'را', 'محکوم', 'نمایند', '.', 'برای', 'آگاهی', 'از', 'آخرین', 'اخبار', 'و', 'پیوستن', 'به', 'کانال', 'تلگرامی', 'باشگاه', 'خبرنگاران', 'جوان', 'اینجا', 'کلیک', 'کنید']\n",
            "\n",
            "Most frequent vocabularies:\n",
            "{'و': 1412851, 'در': 1190281, '.': 1114247, 'به': 1002197, 'از': 743423, 'N': 727287, 'این': 559010, 'که': 518122, 'با': 480464, 'را': 450461, 'است': 300401, 'برای': 217880, 'کرد': 168635, 'خود': 126440, 'آن': 125025, 'یک': 123548, 'وی': 120604, 'بر': 116353, 'ایران': 112965, 'تا': 111875, 'کشور': 108113, 'گفت': 105793, 'باشگاه': 104067, 'خبرنگاران': 95683, 'گزارش': 90421, 'شد': 89630, 'سال': 87054, 'ما': 85776, 'نیز': 76405, 'باید': 75989, 'هم': 75926, 'گروه': 72095, 'دارد': 68369, 'قرار': 64857, 'ادامه': 64516, 'اما': 60198, 'شده': 59951, 'آمریکا': 57718, 'اینکه': 55394, 'جوان': 55090, 'روز': 53463, 'میشود': 53210, 'آنها': 53178, 'دو': 53011, 'هر': 52205, 'بین': 52018, 'داد': 51069, 'تهران': 50560, 'اسلامی': 49981, 'شود': 49613, 'مردم': 49559, 'تیم': 49359, 'بود': 48685, 'افزود': 48345, 'رئیس': 48314, 'خبرنگار': 48189, 'کند': 47951, 'دولت': 47768, 'دیگر': 47571, 'انجام': 47281, 'کار': 47032, 'یا': 45194, 'هزار': 45141, 'مورد': 43710, 'عنوان': 43595, 'اعلام': 43513, 'اشاره': 43463, 'سازمان': 43305, 'صورت': 42616, 'حضور': 42581, 'شده_است': 42538, 'حوزه': 42017, 'پس': 41982, 'ملی': 41497, 'هستند': 41205, 'همچنین': 40859, 'داشت': 40492, 'من': 40012, 'او': 39998, 'وجود': 38826, 'بیان': 38459, 'کنند': 38356, 'استفاده': 36562, 'ماه': 36287, 'پیام': 36207, 'حال': 35920, 'پیش': 35507, 'اگر': 35401, 'یکی': 35199, 'برنامه': 35101, 'فیلم': 35015, 'دست': 34983, 'افزایش': 34656, 'منطقه': 34027, 'اظهار': 33998, 'سوریه': 33801, 'همه': 33205, 'توجه': 33067, 'درباره': 32805, 'می\\u200cشود': 32760, 'گذشته': 32721, 'نظر': 32573, 'امروز': 32419, 'مجلس': 32312, 'وزیر': 31969, 'کردند': 31315, 'انتهای': 31270, 'بخش': 30803, 'نقل': 30412, 'اقتصادی': 29765, 'نیست': 29712, 'پایان': 29211, 'شورای': 28765, 'ساعت': 28456, 'شرکت': 28359, 'شهر': 28203, 'روی': 28096, 'وزارت': 27940, 'بازی': 27775, 'برخی': 27557, 'باشد': 27456, 'خصوص': 27399, 'برگزار': 27330, 'درصد': 26769, 'تولید': 26631, 'اجتماعی': 26479, 'موضوع': 26383, 'دارند': 26330, 'سیاسی': 26106, 'نشان': 26057, 'جمهوری': 25824, 'طرح': 25558, 'سه': 25450, 'میکند': 25439, 'شدن': 25237, '؟': 25225, 'استان': 25220, 'اجرای': 25093, 'راه': 24905, 'ایجاد': 24747, 'کنید': 24701, 'بسیار': 24524, 'دانشگاه': 24373, 'کاهش': 24334, 'فرهنگی': 24252, 'تصریح': 24062, 'نفر': 23879, 'جدید': 23664, 'کنیم': 23614, 'زمان': 23241, 'جهان': 23187, 'چه': 23072, 'شما': 22922, 'همین': 22834, 'میلیون': 22771, 'دلیل': 22741, 'افراد': 22724, 'بیشتر': 22720, 'بعد': 22672, 'کرده_است': 22189, 'بازار': 21679, 'عراق': 21598, 'تاکید': 21483, 'هیچ': 21481, 'اصلی': 21388, 'انقلاب': 21364, 'امور': 21322, 'جهانی': 21284, 'قیمت': 20931, 'کردن': 20911, 'حمایت': 20801, 'کشورهای': 20785, 'تومان': 20664, 'سوی': 20416, 'آغاز': 20207, 'توسعه': 19946, 'شبکه': 19934, 'کرده': 19917, 'گفتگو': 19893, 'چند': 19893, 'انتخابات': 19682, 'دیدار': 19491, 'اساس': 19476, 'میان': 19451, 'بیش': 19376, 'روسیه': 19349, 'تمام': 19171, 'قانون': 19170, 'بررسی': 19156, 'مختلف': 19148, 'تنها': 18786, 'امام': 18659, 'اول': 18633, 'فوتبال': 18613, 'نام': 18548, 'شرایط': 18500, 'هفته': 18428, 'جامعه': 18399, 'ارائه': 18385, 'آموزش': 18329, 'توسط': 18309, 'وارد': 18251, 'کل': 18208, 'علمی': 18190, 'نیروهای': 18137, 'شدند': 17936, 'جمهور': 17920, 'تلاش': 17835, 'زمینه': 17783, 'نسبت': 17755, 'نفت': 17616, 'جشنواره': 17598, 'می\\u200cکند': 17564, 'علی': 17562, 'پزشکی': 17485, 'عملیات': 17451, 'علیه': 17347, 'همراه': 17121, 'معاون': 17079, 'میکنند': 17078, 'ندارد': 17048, 'نظام': 17041, 'اقدام': 16995, 'خواهد_شد': 16955, 'جمله': 16934, 'بار': 16919, 'آینده': 16774, 'حاضر': 16721, 'کمک': 16600, 'خارجی': 16487, 'محمد': 16484, 'برگزاری': 16472, 'عمومی': 16429, 'ویژه': 16379, 'رژیم': 16218, 'داعش': 16094, 'امنیت': 16045, 'بی': 15655, 'خبر': 15625, 'مشکلات': 15549, 'بدون': 15525, 'هدف': 15507, 'زیر': 15448, 'آخرین': 15429, 'روابط': 15363, 'لازم': 15356, 'نظامی': 15290, 'نقش': 15267, 'جنگ': 15205, 'انتخاب': 15097, 'همکاری': 15065, 'بزرگ': 15032, 'مرکز': 15022, 'بسیاری': 14911, 'بوده': 14880, 'زندگی': 14852, 'جهت': 14725, 'خوبی': 14628, 'عضو': 14578, 'زیادی': 14560, 'البته': 14556, 'طور': 14542, 'سر': 14466, 'طی': 14459, 'پلیس': 14379, 'آب': 14306, 'دوم': 14299, 'اطلاعات': 14203, 'پیدا': 14187, 'باعث': 14170, 'خارجه': 14155, 'گرفت': 14146, 'بهداشت': 14138, 'دفاع': 14124, 'مقابل': 14100, 'ارتش': 14095, 'حتی': 14052, 'ایرانی': 14047, 'دنبال': 14035, 'اینجا': 13994, 'جلسه': 13991, 'عربستان': 13856, 'قبل': 13840, 'میلیارد': 13839, 'ترکیه': 13803, 'چرا': 13794, 'الله': 13778, 'واقع': 13611, 'غیر': 13587, 'حدود': 13585, 'حمله': 13531, 'دلار': 13492, 'نشست': 13488, 'وضعیت': 13442, 'خاطر': 13440, 'پرداخت': 13321, 'دوره': 13288, 'نیاز': 13284, 'سطح': 13267, 'اقتصاد': 13146, 'هستیم': 13125, 'نتیجه': 13119, 'پاسخ': 13083, 'مقام': 13058, 'داریم': 13027, 'ولی': 13009, 'لیگ': 13009, 'برابر': 12998, 'مصرف': 12971, 'میزان': 12949, 'دانلود': 12949, 'توافق': 12935, 'قابل': 12912, 'آزاد': 12904, 'مهم': 12874, 'المللی': 12858, 'مالی': 12857, 'نه': 12835, 'اقدامات': 12829, 'مسابقات': 12731, 'نمایش': 12705, 'تاریخ': 12694, 'مدیریت': 12625, 'دیگری': 12589, 'نماینده': 12560, 'درمان': 12538, 'عمل': 12536, 'ورزش': 12533, 'سازی': 12511, 'ورزشی': 12442, 'بینالملل': 12441, 'ساخت': 12417, 'استقلال': 12406, 'بوده_است': 12358, 'مراسم': 12356, 'تشکیل': 12331, 'مذاکرات': 12270, 'فضای': 12253, 'مدیر': 12241, 'سرویس': 12206, 'چنین': 12168, 'هایی': 12159, 'تغییر': 12148, 'حقوق': 12141, 'مطرح': 12138, 'دریافت': 12134, 'کتاب': 12110, 'ریاست': 12108, 'سلامت': 12103, 'فعالیت': 12030, 'طریق': 12020, 'کمیسیون': 11984, 'کشورمان': 11897, 'مانند': 11863, 'حل': 11854, 'اخیر': 11833, 'دهد': 11821, 'تعداد': 11793, 'زمانی': 11787, 'داخلی': 11771, 'سفر': 11759, 'اسرائیل': 11755, 'اعضای': 11734, 'مدت': 11722, 'اکنون': 11709, 'تحت': 11705, 'الملل': 11686, 'مواد': 11659, 'منابع': 11628, 'ترامپ': 11626, 'مناطق': 11621, 'تروریستی': 11546, 'کسب': 11541, 'اروپا': 11515, 'ملت': 11510, 'خدمات': 11487, 'می\\u200cکنند': 11481, 'میتواند': 11475, 'رشد': 11382, 'کننده': 11286, 'کنار': 11281, 'مسائل': 11216, 'صهیونیستی': 11209, 'حالی': 11200, 'ثبت': 11049, 'فرهنگ': 11032, 'فروش': 11020, 'اولین': 11008, 'سیاست': 10969, 'رسید': 10939, 'خانه': 10926, 'خارج': 10921, 'اجرا': 10872, 'اثر': 10788, 'مسئولان': 10746, 'اخبار': 10733, 'محل': 10732, 'نمایندگان': 10703, 'دور': 10699, 'خبری': 10683, 'هستهای': 10674, 'مشخص': 10624, 'خواهد_بود': 10605, 'صنعت': 10586, 'میدهد': 10554, 'سایر': 10542, 'بودجه': 10517, 'چون': 10476, 'شب': 10475, 'رو': 10459, 'امر': 10445, 'شنبه': 10385, 'فناوری': 10358, 'علوم': 10346, 'تصمیم': 10344, 'مسئله': 10301, 'سینما': 10281, 'گرفته': 10215, 'بحث': 10169, 'ضمن': 10130, 'وقت': 10059, 'ریال': 10058, 'بازیکنان': 10051, 'شاهد': 10039, 'منظور': 10038, 'هنوز': 10026, 'شهید': 10021, 'محور': 10018, 'مشکل': 10016, 'مرحله': 10011, 'اجرایی': 9987, 'نیروی': 9979, 'خاطرنشان': 9961, 'تن': 9958, 'زیرا': 9957, 'رهبری': 9916, 'دنیا': 9902, 'کمیته': 9888, 'آنان': 9852, 'جوانان': 9848, 'خوب': 9845, 'مربوط': 9845, 'حق': 9804, 'آثار': 9798, 'بانک': 9779, 'حسین': 9757, 'کامل': 9741, 'باز': 9736, 'بهترین': 9728, 'فرانسه': 9725, 'امنیتی': 9677, 'قدرت': 9671, 'جای': 9668, 'همان': 9650, 'اتحادیه': 9641, 'کم': 9633, 'ورود': 9594, 'دارای': 9583, 'مرکزی': 9571, 'معرفی': 9561, 'روند': 9560, 'دکتر': 9550, 'شهرداری': 9525, 'نخست': 9492, 'شوند': 9486, 'دستگاه': 9473, 'بودند': 9461, 'داشته_باشد': 9443, 'فصل': 9441, 'بودن': 9437, 'حزب': 9399, 'خانواده': 9397, 'چین': 9373, 'حضرت': 9362, 'کلیک': 9360, 'سرمایه': 9340, 'غرب': 9291, 'طرف': 9269, 'مسیر': 9221, 'زمین': 9218, 'آمریکایی': 9208, 'نزدیک': 9201, 'عالی': 9138, 'دانش': 9110, 'مبارزه': 9101, 'اختیار': 9092, 'امسال': 9072, 'پایگاه': 9068, 'منتشر': 9064, 'کنترل': 9064, 'ساله': 9048, 'فرد': 9041, 'حفظ': 9023, 'اسلام': 9023, 'رییس': 8995, 'بلکه': 8981, 'فقط': 8967, 'عدم': 8964, 'سمت': 8932, 'موجب': 8932, 'جریان': 8930, 'آیا': 8912, 'جام': 8888, 'کره': 8880, 'تمامی': 8862, 'تامین': 8861, 'شکست': 8853, 'خودرو': 8847, 'ملل': 8845, 'مقامات': 8820, 'تهیه': 8798, 'طول': 8795, 'فنی': 8775, 'گفتنی': 8746, 'ممکن': 8738, 'چهار': 8712, 'انرژی': 8699, 'رعایت': 8696, 'علت': 8689, 'خرید': 8684, 'ارتباط': 8667, 'طبق': 8629, 'فدراسیون': 8610, 'نمایشگاه': 8561, 'هیئت': 8556, 'پرسپولیس': 8546, 'گل': 8539, 'کاری': 8479, 'مجموعه': 8473, 'داده': 8461, 'بازیکن': 8460, 'خدا': 8444, 'دقیقه': 8436, 'اضافه': 8412, 'پیروزی': 8408, 'سوم': 8395, 'آماده': 8393, 'دستور': 8382, 'پی': 8377, 'دولتی': 8344, 'انگلیس': 8299, 'بینالمللی': 8278, 'نوع': 8273, 'پرونده': 8238, 'تاکنون': 8237, 'همزمان': 8223, 'جاری': 8216, 'موجود': 8212, 'علاوه': 8197, 'جمع': 8196, 'کسی': 8178, 'داخل': 8169, 'تصویب': 8133, 'زنان': 8120, 'جدی': 8106, 'کودکان': 8102, 'موفق': 8099, 'حرکت': 8085, 'نرخ': 8070, 'بحران': 8070, 'پخش': 8062, 'فراهم': 8058, 'گفته': 8047, 'تبدیل': 8029, 'بنابراین': 8016, 'وقتی': 8005, 'امتیاز': 7991, 'دادند': 7984, 'قرآن': 7976, 'معظم': 7966, 'نباید': 7962, 'داشتند': 7960, 'تعیین': 7951, 'ماده': 7949, 'محیط': 7944, 'دهند': 7939, 'نظارت': 7929, 'میشوند': 7919, 'شکل': 7896, 'اداره': 7884, 'واحد': 7877, 'یعنی': 7874, 'اهمیت': 7848, 'کردیم': 7827, 'مشترک': 7824, 'براساس': 7815, 'مصر': 7808, 'جنوبی': 7805, 'رابطه': 7792, 'آتش': 7777, 'بالا': 7767, 'بهتر': 7762, 'دانشجویان': 7761, 'انتقال': 7759, 'جان': 7753, 'فکر': 7752, 'خیلی': 7735, 'آسیا': 7732, 'بیشتری': 7712, 'بخشی': 7707, 'حسن': 7705, 'مهمترین': 7702, 'امکان': 7693, 'داده_است': 7685, 'پرورش': 7678, 'دادن': 7670, 'تردد': 7628, 'نامه': 7624, 'مناسب': 7613, 'الی': 7603, 'می\\u200cتواند': 7578, 'نهایی': 7566, 'ایشان': 7547, 'آموزشی': 7533, 'نگاه': 7525, 'ستاد': 7516, 'شمالی': 7496, 'آگاهی': 7490, 'روزهای': 7479, 'جمعه': 7478, 'مبنی': 7459, 'حادثه': 7449, 'هوایی': 7428, 'رسمی': 7418, 'می\\u200cدهد': 7406, 'سی': 7399, 'تأکید': 7394, 'عملکرد': 7337, 'قانونی': 7331, 'پنج': 7317, 'کودک': 7302, 'مراکز': 7301, 'شروع': 7295, 'ارزش': 7287, 'اتفاق': 7281, 'جلوگیری': 7277, 'کشاورزی': 7257, 'گیری': 7254, 'برتر': 7254, 'شامل': 7241, 'اساسی': 7231, 'بهره': 7222, 'درخواست': 7205, 'روزنامه': 7145, 'یمن': 7144, 'اوباما': 7130, 'همچنان': 7124, 'هسته\\u200cای': 7115, 'عامل': 7090, 'گرفته_است': 7089, 'گسترش': 7089, 'تحقیقات': 7083, 'فلسطین': 7064, 'آقای': 7062, 'صبح': 7037, 'خط': 7018, 'هزینه': 7013, 'سعودی': 7007, 'مهدی': 6991, 'سید': 6980, 'سخنگوی': 6978, 'شهری': 6962, 'آلمان': 6948, 'دچار': 6928, 'خواهد_کرد': 6914, 'صادرات': 6908, 'تصاویر': 6887, 'تو': 6851, 'اهداف': 6846, 'بیماری': 6830, 'محصولات': 6797, 'تئاتر': 6790, 'هوا': 6788, 'رای': 6767, 'مواجه': 6757, 'مشاهده': 6733, 'آنچه': 6728, 'سیستم': 6722, 'دبیر': 6711, 'رفت': 6692, 'شده_بود': 6690, 'میتوان': 6676, 'سوال': 6668, 'مى': 6668, 'مقابله': 6666, 'مسلح': 6661, 'تلویزیونی': 6645, 'گذاری': 6645, 'کیلومتر': 6640, 'تقویت': 6637, 'مقاومت': 6622, 'اطلاع': 6618, 'درجه': 6608, 'زیست': 6602, 'امید': 6599, 'ارسال': 6595, 'کمتر': 6584, 'برخورد': 6571, 'شهروندان': 6568, 'قصد': 6567, 'خبرگزاری': 6539, 'کشورها': 6533, 'نخستین': 6533, 'موارد': 6515, 'دوران': 6499, 'باشند': 6497, 'خصوصی': 6469, 'کشتی': 6468, 'طراحی': 6451, 'سینمایی': 6447, 'جایگاه': 6428, 'قهرمانی': 6399, 'اصلاح': 6382, 'عرضه': 6380, 'آمار': 6371, 'رضا': 6367, 'روحانی': 6350, 'میکنیم': 6313, 'انتظار': 6291, 'شناسایی': 6271, 'حملات': 6271, 'عرصه': 6269, 'مشارکت': 6253, 'غربی': 6252, 'کیفیت': 6245, 'تاثیر': 6243, 'اجازه': 6238, 'مسکن': 6236, 'لبنان': 6231, 'مسئول': 6225, 'مقدس': 6209, 'سابق': 6205, 'صادر': 6195, 'سبب': 6181, 'بیمه': 6176, 'نیمه': 6167, 'چشم': 6143, 'صنایع': 6140, 'میدان': 6135, 'جذب': 6129, 'نرم': 6124, 'آزادی': 6119, 'داشته_باشند': 6092, 'ع': 6086, 'کسانی': 6060, 'فعال': 6051, 'کرده\\u200cاند': 6038, 'ذکر': 6028, 'انسانی': 6027, 'دانست': 6015, 'رفع': 5983, 'شمار': 5970, 'نبود': 5967, 'صحنه': 5951, 'تجربه': 5945, 'عوامل': 5921, 'شمال': 5907, 'رهبر': 5901, 'یافت': 5893, 'اعمال': 5891, 'یاد': 5882, 'نهایت': 5878, 'داشته': 5877, 'گیرد': 5874, 'افرادی': 5861, 'شهادت': 5856, 'متهم': 5847, 'شاید': 5844, 'مدیران': 5824, 'داشته_است': 5824, 'کردهاند': 5823, 'نتایج': 5823, 'رشته': 5821, 'دفتر': 5819, 'مذاکره': 5816, 'انواع': 5810, 'پیشنهاد': 5802, 'زبان': 5787, 'زن': 5784, 'ضد': 5783, 'مهر': 5763, 'فرصت': 5753, 'پیشرفت': 5752, 'تلویزیون': 5742, 'گرفتن': 5735, 'پشت': 5735, 'احتمال': 5731, 'آمده_است': 5728, 'مورخ': 5718, 'گاز': 5704, 'خون': 5686, 'قوانین': 5681, 'جنوب': 5653, 'جبهه': 5643, 'جمعیت': 5634, 'محسوب': 5632, 'زیاد': 5628, 'زاده': 5626, 'رسیدن': 5622, 'شرح': 5622, 'میتوانند': 5610, 'ارز': 5608, 'سالهای': 5594, 'کارگردانی': 5591, 'کشته': 5587, 'دعوت': 5578, 'مجازی': 5577, 'خدمت': 5557, 'پیگیری': 5553, 'کیلوگرم': 5553, 'مسابقه': 5552, 'هنری': 5550, 'کارشناسان': 5550, 'برنامههای': 5548, 'بدن': 5542, 'گروههای': 5524, 'برجام': 5518, 'راستای': 5510, 'همیشه': 5505, 'خاص': 5492, 'سعی': 5477, 'سرعت': 5476, 'رخ': 5474, 'انتشار': 5461, 'کاملا': 5456, 'عکس': 5442, 'گونه': 5432, 'کنگره': 5428, 'دهیم': 5410, 'فشار': 5407, 'کنم': 5403, 'پول': 5390, 'طبیعی': 5386, 'سایت': 5382, 'غزه': 5367, 'سامانه': 5354, 'رادیو': 5349, 'حمل': 5344, 'بگیرد': 5335, 'مثل': 5329, 'ندارند': 5320, 'ظرفیت': 5310, 'قضایی': 5307, 'اردیبهشت': 5304, 'متاسفانه': 5302, 'بهمن': 5300, 'وزن': 5295, 'بیست': 5293, 'صحبت': 5292, 'منجر': 5288, 'استقبال': 5287, 'چهارشنبه': 5286, 'دی': 5284, 'بینی': 5284, 'قرارداد': 5277, 'آمد': 5267, 'غذایی': 5253, 'موسیقی': 5242, 'اختصاص': 5239, 'چیزی': 5230, 'بن': 5225, 'خیابان': 5224, 'صلح': 5223, 'پر': 5218, 'رسیدگی': 5213, 'عهده': 5209, 'هیات': 5204, 'مرگ': 5192, 'درست': 5190, 'میگیرد': 5180, 'سفید': 5179, 'مجمع': 5171, 'معاونت': 5154, 'شدت': 5148, 'انجمن': 5143, 'بروز': 5141, 'مراجعه': 5138, 'کد': 5138, 'هنر': 5136, 'واردات': 5130, 'مردمی': 5125, 'پایتخت': 5121, 'همواره': 5118, 'یکدیگر': 5118, 'پیوستن': 5112, 'خواستار': 5105, 'تهدید': 5103, 'محدودیت': 5093, 'پروژه': 5078, 'دوشنبه': 5076, 'دوست': 5069, 'روش': 5069, 'رسانی': 5065, 'امیر': 5062, 'برخوردار': 5060, 'حد': 5059, 'همچون': 5056, 'سپس': 5048, 'فعالیتهای': 5046, 'سرمربی': 5046, 'لذا': 5040, 'لحاظ': 5028, 'فارس': 5027, 'بیمارستان': 5026, 'حسینی': 5014, 'افغانستان': 5012, 'کانال': 5011, 'انسان': 5008, 'مدارس': 5003, 'میرود': 4996, 'هاشمی': 4994, 'می\\u200cشوند': 4988, 'علم': 4987, 'فرمانده': 4975, 'دارم': 4964, 'آنکه': 4955, 'داشتن': 4954, 'کارشناس': 4950, 'حقوقی': 4941, 'هنگام': 4926, 'ابتدا': 4917, 'آمادگی': 4913, 'نشده_است': 4910, 'کردم': 4909, 'متر': 4908, 'برد': 4898, 'حساب': 4894, 'حجم': 4892, 'تروریسم': 4891, 'ابراز': 4887, 'حوادث': 4886, 'کرده_بود': 4884, 'اصل': 4874, 'نوشت': 4868, 'احمد': 4860, 'جدول': 4858, 'میکنم': 4856, 'بهبود': 4854, 'آسیب': 4835, 'دشمن': 4833, 'احزاب': 4828, 'درصدی': 4818, 'بندی': 4818, 'بسته': 4791, 'تاریخی': 4787, 'تجهیزات': 4779, 'فجر': 4776, 'بعدی': 4773, 'شده\\u200cاند': 4773, 'کافی': 4772, 'حکم': 4769, 'فوق': 4767, 'تخصصی': 4767, 'احساس': 4758, 'دریایی': 4752, 'حذف': 4740, 'قطر': 4738, 'المپیک': 4736, 'لایحه': 4735, 'اعتماد': 4733, 'دادگاه': 4720, 'خرداد': 4699, 'شرکتهای': 4673, 'قوه': 4672, 'بانکی': 4668, 'درمانی': 4659, 'رقابت': 4653, 'یکشنبه': 4648, 'شدهاند': 4645, 'موفقیت': 4644, 'خطر': 4642, 'شماره': 4635, 'انتظامی': 4634, 'تجاری': 4633, 'کارگردان': 4632, 'شدید': 4627, 'باقی': 4625, 'می\\u200cتوان': 4615, 'تشخیص': 4608, 'صندوق': 4602, 'خداوند': 4595, 'ریزی': 4593, 'کشوری': 4590, 'کوتاه': 4587, 'آن\\u200cها': 4569, 'سخت': 4567, 'سپاه': 4556, 'شرق': 4556, 'اولیه': 4541, 'میدهند': 4540, 'دهه': 4538, 'دومین': 4534, 'سلاح': 4531, 'سیما': 4528, 'بازگشت': 4527, 'برنامه\\u200cهای': 4518, 'توان': 4516, 'میرسد': 4512, 'ترتیب': 4511, 'سریال': 4508, 'دانشگاهی': 4494, 'عربی': 4480, 'ناشی': 4473, 'دفاعی': 4463, 'جدیدی': 4460, 'باشیم': 4458, 'صنعتی': 4457, 'باره': 4445, 'رقم': 4440, 'تحقق': 4430, 'خاک': 4424, 'می\\u200cرود': 4420, 'امکانات': 4420, 'کلی': 4413, 'سینمای': 4410, 'جز': 4406, 'تجارت': 4399, 'متحد': 4395, 'اعزام': 4391, 'ارشد': 4389, 'بانوان': 4387, 'شش': 4386, 'خروج': 4383, 'سردار': 4375, 'سراسر': 4371, 'حداقل': 4371, 'مرد': 4367, 'گرم': 4362, 'بزرگی': 4361, 'حاشیه': 4350, 'ابتدای': 4348, 'منافع': 4343, 'رسانه': 4335, 'کشف': 4335, 'بشر': 4335, 'بالای': 4325, 'هنرمندان': 4320, 'دنیای': 4315, 'مجوز': 4313, 'شاخص': 4308, 'امیدواریم': 4306, 'ساز': 4298, 'احتیاط': 4290, 'بازیگر': 4289, 'سود': 4281, 'راهی': 4276, 'اصفهان': 4275, 'برق': 4256, 'یادآور': 4255, 'صدور': 4251, 'دمای': 4247, 'صفحه': 4237, 'قالب': 4236, 'سیاستهای': 4234, 'قاچاق': 4233, 'فردی': 4227, 'بازدید': 4224, 'کمی': 4223, 'اوکراین': 4223, 'وظیفه': 4222, 'جا': 4220, 'واشنگتن': 4219, 'نکته': 4217, 'کارهای': 4216, 'متن': 4210, 'داستان': 4210, 'سهم': 4205, 'اظهارات': 4204, 'واکنش': 4203, 'آمده': 4197, 'مشاور': 4193, 'ویدیو': 4185, 'مستند': 4177, 'واقعی': 4172, 'اهل': 4171, 'چهارم': 4170, 'جامع': 4168, 'هماهنگی': 4167, 'همایش': 4167, 'امیدوارم': 4166, 'آزمون': 4165, 'نیازمند': 4163, 'بازداشت': 4162, 'تایید': 4157, 'کنندگان': 4151, 'گسترده': 4151, 'فردا': 4146, 'ائتلاف': 4143, 'بسیج': 4137, 'تسهیلات': 4136, 'ورزشگاه': 4132, 'ژاپن': 4131, 'داشته_باشیم': 4122, 'خراسان': 4121, 'پوشش': 4112, 'میلادی': 4110, 'ارزیابی': 4109, 'محکوم': 4103, 'یابد': 4101, 'ان': 4093, 'برسد': 4093, 'خواهد_داشت': 4089, 'مبلغ': 4082, 'نفتی': 4076, 'رئیسجمهور': 4076, 'رسیده_است': 4073, 'می\\u200cکنیم': 4071, 'مثبت': 4070, 'خودش': 4065, 'تلگرامی': 4046, 'حجت': 4046, 'سنگین': 4041, 'گفتوگو': 4037, 'شخصی': 4034, 'گردشگری': 4031, 'سالن': 4030, 'مدعی': 4029, 'اطلاعاتی': 4026, 'مدال': 4026, 'بزرگترین': 4025, 'می\\u200cتوانند': 4022, 'مسجد': 4019, 'وحدت': 4018, 'تدوین': 4018, 'وقوع': 4015, 'مسئولیت': 4014, 'منبع': 4009, 'سعید': 4003, 'ترک': 4002, 'آذربایجان': 3995, 'انتقاد': 3995, 'اینترنتی': 3982, 'آیتالله': 3982, 'آژانس': 3978, 'فوتسال': 3978, 'چندین': 3977, 'ضرورت': 3977, 'هفت': 3973, 'شرقی': 3970, 'کنفرانس': 3962, 'نوسان': 3955, 'رنگ': 3954, 'مستقیم': 3952, 'تمرین': 3941, 'آنجا': 3936, 'کاخ': 3931, 'توزیع': 3930, 'بیانیه': 3930, 'زنده': 3925, 'فاصله': 3924, 'ترافیک': 3923, 'تأمین': 3921, 'کوچک': 3920, 'شهرستان': 3919, 'روشن': 3918, 'پایه': 3909, 'ایام': 3906, 'مادر': 3906, 'حاصل': 3902, 'ساختمان': 3896, 'پور': 3886, 'نصب': 3886, 'جایزه': 3879, 'عدالت': 3876, 'بورس': 3869, 'می\\u200cرسد': 3859, 'لغایت': 3854, 'رتبه': 3838, 'سخنان': 3838, 'فایل': 3836, 'نحوه': 3829, 'شهریور': 3828, 'گوشی': 3828, 'قطع': 3826, 'پنجشنبه': 3825, 'رفتار': 3823, 'مذکور': 3822, 'تحویل': 3822, 'تحریم': 3822, 'برداری': 3821, 'خاصی': 3815, 'آورد': 3809, 'متفاوت': 3801, 'اروپایی': 3796, 'هستم': 3794, 'بتوانیم': 3793, 'مرتبط': 3784, 'گاهی': 3779, 'محصول': 3767, 'پیشگیری': 3761, 'عباس': 3759, 'لغو': 3756, 'تیم\\u200cهای': 3752, 'مجموع': 3750, 'الاسلام': 3748, 'جایی': 3747, 'زخمی': 3747, 'ایتالیا': 3745, 'درآمد': 3738, 'انفجار': 3736, 'قم': 3732, 'بیماران': 3723, 'استاد': 3719, 'بتواند': 3717, 'تصویر': 3715, 'علیرضا': 3712, 'بیشترین': 3709, 'موثر': 3706, 'خواست': 3702, 'ص': 3701, 'تیر': 3695, 'نیم': 3694, 'اختلاف': 3694, 'محمود': 3693, 'تحولات': 3692, 'تعدادی': 3691, 'سابقه': 3685, 'نقاط': 3685, 'قتل': 3682, 'نشود': 3678, 'چگونه': 3666, 'خلیج': 3664, 'شبانه': 3663, 'دینی': 3661, 'سن': 3659, 'داشتیم': 3659, 'کدام': 3644, 'راستا': 3643, 'صورتی': 3642, 'تلفن': 3641, 'ارتباطات': 3641, 'طلا': 3637, 'کارشناسی': 3633, 'نماز': 3633, 'ادبیات': 3631, 'رد': 3630, 'توصیه': 3623, 'پدر': 3623, 'سخنرانی': 3609, 'موضوعات': 3607, 'افزار': 3603, 'هدایت': 3601, 'مهمی': 3599, 'کارت': 3597, 'منتقل': 3596, 'روزه': 3592, 'مرز': 3591, 'اشتغال': 3588, 'صفر': 3585, 'دار': 3583, 'آیت': 3580, 'دوباره': 3579, 'متخصص': 3577, 'قسمت': 3577, 'برزیل': 3576, 'کنونی': 3575, 'مدرسه': 3569, 'کالا': 3568, 'حفاظت': 3567, 'عبور': 3565, 'آخر': 3562, 'بیرون': 3560, 'علنی': 3542, 'گزارشی': 3539, 'محمدرضا': 3537, 'دهم': 3532, 'عصر': 3527, 'نجات': 3525, 'سبز': 3520, 'مخالف': 3519, 'پنجم': 3513, 'پای': 3509, 'فلسطینی': 3508, 'آهن': 3507, 'منفی': 3505, 'تنظیم': 3496, 'بنده': 3495, 'قدس': 3492, 'قبول': 3488, 'قطعا': 3482, 'تماس': 3481, 'دشمنان': 3471, 'ژنو': 3469, 'بعضی': 3463, 'لاریجانی': 3463, 'هشدار': 3461, 'ارشاد': 3457, 'رده': 3456, 'اتاق': 3455, 'بنیاد': 3454, 'دید': 3449, 'نداریم': 3443, 'سرپرست': 3442, 'آبان': 3441, 'اس': 3440, 'رمضان': 3432, 'مشهد': 3432, 'صدا': 3426, 'هند': 3425, 'محسن': 3419, 'اولویت': 3417, 'خوزستان': 3417, 'نمیشود': 3412, 'کلیه': 3409, 'فروردین': 3405, 'مسلمانان': 3396, 'اعتراض': 3394, 'می\\u200cگیرد': 3394, 'نیستند': 3392, 'ده': 3392, 'پذیرش': 3388, 'متوجه': 3386, 'نقطه': 3381, 'نهاد': 3378, 'نوعی': 3373, 'تکمیل': 3367, 'بنا': 3365, 'آبی': 3365, 'نور': 3363, 'جهاد': 3355, 'گذشت': 3347, 'اندازه': 3341, 'دقیق': 3340, 'علاقه': 3339, 'بلند': 3337, 'اعتبار': 3331, 'متوقف': 3329, 'دسترسی': 3328, 'میراث': 3326, 'دسته': 3325, 'بند': 3321, 'محلی': 3319, 'می\\u200cباشد': 3317, 'چارچوب': 3315, 'گروهی': 3309, 'شهرهای': 3306, 'دل': 3304, 'شعر': 3303, 'سند': 3303, 'دستگاههای': 3301, 'ترور': 3300, 'رقابت\\u200cهای': 3293, 'نسخه': 3289, 'شرایطی': 3286, 'والیبال': 3283, 'ظریف': 3281, 'ترکیب': 3277, 'یافته': 3276, 'کاربران': 3273, 'مصاحبه': 3272, 'گام': 3271, 'پاکستان': 3270, 'حالت': 3265, 'یافته_است': 3260, 'سرطان': 3259, 'فعلی': 3257, 'ازدواج': 3256, 'بهای': 3249, 'سقوط': 3246, 'روبرو': 3244, 'خاورمیانه': 3243, 'حرف': 3242, 'دانشجویی': 3241, 'ششم': 3235, 'رضوی': 3230, 'احداث': 3226, 'میشد': 3225, 'بتوانند': 3225, 'رفتن': 3220, 'فرودگاه': 3218, 'دارو': 3217, 'ثابت': 3216, 'خودشان': 3215, 'سوخت': 3211, 'پوست': 3207, 'تربیت': 3201, 'اسفند': 3201, 'نگرانی': 3201, 'مربی': 3198, 'دستگیر': 3194, 'شیمیایی': 3194, 'اوضاع': 3190, 'اتمی': 3188, 'خودروهای': 3187, 'اندازی': 3174, 'هواداران': 3174, 'هشت': 3173, 'براى': 3172, 'موافقت': 3170, 'تعامل': 3169, 'نتانیاهو': 3168, 'مرداد': 3167, 'مرغ': 3166, 'جنبش': 3165, 'پایین': 3163, 'خیر': 3161, 'پارلمان': 3160, 'عناصر': 3158, 'حقیقت': 3156, 'سوری': 3156, 'وضع': 3154, 'اسناد': 3152, 'موشک': 3152, 'تغییرات': 3150, 'دیده': 3150, 'ضروری': 3149, 'تحریمها': 3149, 'قبلی': 3148, 'طوری': 3147, 'انتخاباتی': 3146, 'میزبان': 3144, 'نفوذ': 3142, 'درگیری': 3136, 'معاملات': 3134, 'امریکا': 3132, 'رویکرد': 3130, 'سبک': 3130, 'مردان': 3130, 'مراحل': 3125, 'تحقیق': 3123, 'سیاه': 3123, 'دونالد': 3121, 'کمبود': 3120, 'مخالفان': 3119, 'الهی': 3114, 'آرامش': 3112, 'سالم': 3112, 'سخن': 3111, 'رأی': 3107, 'تشکر': 3100, 'مشغول': 3100, 'چیز': 3099, 'نژاد': 3099, 'ثبات': 3093, 'نشده': 3093, 'بحرین': 3092, 'فساد': 3090, 'ساخته': 3087, 'قهرمان': 3086, 'متحده': 3086, 'مدیرعامل': 3082, 'حکومت': 3082, 'فولاد': 3081, 'مانع': 3080, 'امضا': 3080, 'وابسته': 3074, 'موشکی': 3074, 'مقاومتی': 3073, 'اکران': 3071, 'دین': 3071, 'دیگران': 3070, 'می\\u200cدهند': 3065, 'مواضع': 3065, 'اداری': 3058, 'آذر': 3058, 'ارتقای': 3056, 'اسد': 3051, 'اشتباه': 3050, 'غذا': 3049, 'پارلمانی': 3049, 'مقایسه': 3046, 'بخوانید': 3046, 'پزشک': 3045, 'هوای': 3040, 'سرقت': 3037, 'دختر': 3036, 'میگوید': 3028, 'مخالفت': 3024, 'بگیرند': 3021, 'احترام': 3016, 'حالا': 3015, 'مخاطبان': 3014, 'بازیهای': 3014, 'مدل': 3014, 'سنت': 3009, 'تبلیغات': 3006, 'سنتی': 3003, 'نمایند': 2999, 'می\\u200cکنم': 2999, 'اجلاس': 2998, 'دستیابی': 2995, 'لیست': 2995, 'تحریمهای': 2995, 'گرفتند': 2994, 'گروه\\u200cهای': 2993, 'معروف': 2989, 'پست': 2980, 'بودیم': 2979, 'امارات': 2979, 'میکرد': 2975, 'طولانی': 2974, 'ضربه': 2972, 'هرگونه': 2972, 'جلسات': 2969, 'زندان': 2969, 'کارکنان': 2951, 'واحدهای': 2949, 'موسسه': 2948, 'پرواز': 2945, 'میباشد': 2945, 'صرف': 2941, 'لحظه': 2941, 'تازه': 2937, 'اتخاذ': 2936, 'لزوم': 2933, 'تحول': 2931, 'زدن': 2927, 'نویسنده': 2925, 'احتمالی': 2918, 'پیرامون': 2917, 'مطلب': 2917, 'آمیز': 2914, 'آسیایی': 2911, 'توجهی': 2910, 'تقدیر': 2905, 'عملیاتی': 2903, 'تروریستها': 2903, 'پا': 2902, 'توضیح': 2900, 'پیامبر': 2899, 'رقابتهای': 2897, 'مخدر': 2896, 'بالاتر': 2895, 'حدفاصل': 2894, 'حاج': 2888, 'تعریف': 2882, 'دانشگاهها': 2879, 'مثال': 2877, 'ابلاغ': 2877, 'صدای': 2875, 'مناسبی': 2875, 'زمینی': 2875, 'خوشبختانه': 2874, 'شیخ': 2874, 'مشابه': 2869, 'روزانه': 2865, 'جمعی': 2864, 'آباد': 2863, 'دوستان': 2858, 'بازی\\u200cهای': 2854, 'ماهه': 2854, 'بخشهای': 2853, 'دلایل': 2850, 'السلام': 2848, 'توانست': 2847, 'انگلیسی': 2841, 'پزشکان': 2840, 'صحیح': 2839, 'نسل': 2838, 'احمدی': 2837, 'حرفهای': 2832, 'میآید': 2829, 'راهبردی': 2829, 'محدود': 2826, 'افتتاح': 2824, 'کی': 2823, 'پایانی': 2823, 'بهدلیل': 2822, 'قابلیت': 2820, 'سومین': 2816, 'چاپ': 2814, 'محمدی': 2813, 'یورو': 2812, 'ایمنی': 2810, 'نمونه': 2801, 'شهردار': 2801, 'مالیات': 2801, 'خمینی': 2800, 'نداشت': 2799, 'تظاهرات': 2794, 'تک': 2793, 'حجتالاسلام': 2792, 'پل': 2792, 'آل': 2790, 'جزئیات': 2788, 'نیویورک': 2788, 'تبریز': 2785, 'درخصوص': 2784, 'وسیله': 2783, 'استاندارد': 2777, 'عقب': 2777, 'نظیر': 2776, 'موضع': 2776, 'نوجوانان': 2772, 'سران': 2771, 'مشخصات': 2771, 'دروازه': 2768, 'تیمهای': 2765, 'بازیگران': 2756, 'پشتیبانی': 2752, 'ره': 2745, 'مصاف': 2743, 'ای': 2741, 'بالایی': 2732, 'نقض': 2731, 'آموزان': 2730, 'خودروی': 2730, 'همراهی': 2721, 'اطراف': 2721, 'دهید': 2717, 'امداد': 2716, 'محترم': 2715, 'درگیر': 2714, 'قهرمانان': 2714, 'بارها': 2713, 'بهداشتی': 2711, 'اصول': 2708, 'لباس': 2701, 'روزی': 2701, 'حج': 2699, 'بازرسی': 2698, 'جدا': 2694, 'رفاه': 2694, 'توپ': 2692, 'آستانه': 2690, 'خواهند_کرد': 2689, 'رویترز': 2689, 'سفیر': 2687, 'اینگونه': 2686, 'نهادهای': 2682, 'گفتند': 2674, 'نظامیان': 2674, 'تخریب': 2673, 'آلودگی': 2669, 'تشریح': 2667, 'شورا': 2663, 'مسلمان': 2662, 'مقررات': 2661, 'مرزی': 2660, 'کانون': 2660, 'نماید': 2659, 'المسلمین': 2658, 'مخاطب': 2656, 'مسکو': 2656, 'ممنوع': 2656, 'هوشمند': 2655, 'مجله': 2648, 'سکه': 2647, 'خواب': 2647, 'مبارک': 2646, 'بیت': 2644, 'منطقهای': 2644, 'دارید': 2644, 'نگهبان': 2643, 'محقق': 2641, 'گوش': 2639, 'بد': 2630, 'اینها': 2629, 'فعالیت\\u200cهای': 2626, 'دقت': 2626, 'وظایف': 2626, 'عین': 2623, 'مختلفی': 2622, 'پسر': 2615, 'فرار': 2615, 'صاحب': 2613, 'توانایی': 2609, 'اطمینان': 2605, 'برنامهریزی': 2603, 'مناسبت': 2603, 'تمرینات': 2603, 'مشکلی': 2602, 'نفع': 2601, 'تکرار': 2598, 'قطعی': 2596, 'تورم': 2596, 'تحصیلی': 2593, 'سرهنگ': 2592, 'مسئولین': 2590, 'کری': 2588, 'مجید': 2585, 'مذهبی': 2585, 'شرکت\\u200cهای': 2580, 'فارسی': 2579, 'نیرو': 2578, 'حمید': 2575, 'حتما': 2575, 'ولایت': 2574, 'نباشد': 2571, 'درون': 2570, 'صد': 2570, 'افتخار': 2569, 'عراقی': 2569, 'مهندسی': 2567, 'سالانه': 2563, 'نهم': 2558, 'مستقل': 2558, 'میوه': 2558, 'پژوهشی': 2555, 'قبال': 2553, 'اینترنت': 2551, 'دستی': 2550, 'اخذ': 2550, 'گزینه': 2549, 'مطالعه': 2548, 'شخص': 2546, 'چیست': 2545, 'سری': 2545, 'هیأت': 2542, 'وسایل': 2540, 'مصوبه': 2538, 'جایگزین': 2530, 'آوری': 2528, 'ی': 2527, 'میکردند': 2527, 'شخصیت': 2522, 'زودی': 2521, 'اکثر': 2520, 'باد': 2517, 'هرگز': 2515, 'جشن': 2513, 'عمر': 2513, 'آشنا': 2508, 'پژوهش': 2508, 'تحصیل': 2506, 'ناحیه': 2506, 'پدیده': 2505, 'بیمار': 2505, 'اذعان': 2504, 'صعود': 2497, 'فهرست': 2489, 'مجبور': 2489, 'نامزد': 2487, 'فیلمهای': 2486, 'فرزند': 2484, 'محدوده': 2483, 'نمود': 2482, 'محورهای': 2482, 'جرم': 2482, 'شهدای': 2481, 'نقد': 2481, 'پاک': 2480, 'انقلابی': 2479, 'باور': 2475, 'عادی': 2473, 'جواد': 2472, 'قضاییه': 2470, 'شعار': 2468, 'مجدد': 2468, 'تبریک': 2466, 'حاکم': 2460, 'دهنده': 2460, 'عدد': 2456, 'پوشان': 2455, 'اسپانیا': 2454, 'ماموران': 2454, 'ایالات': 2453, 'داوران': 2452, 'نوجوان': 2452, 'کریم': 2452, 'رسیده': 2449, 'بارش': 2448, 'معمولا': 2446, 'دیدن': 2445, 'مفید': 2445, 'سهام': 2445, 'شهدا': 2441, 'نشد': 2438, 'داوری': 2431, 'پوتین': 2427, 'فعالان': 2425, 'منتظر': 2425, 'رونمایی': 2425, 'رضایت': 2424, 'اقدامی': 2424, 'شهرسازی': 2423, 'معدن': 2422, 'تولد': 2421, 'قلب': 2416, 'زلزله': 2415, 'مواردی': 2414, 'عملی': 2412, 'واقعیت': 2406, 'حماس': 2405, 'فینال': 2402, 'درد': 2400, 'ساماندهی': 2399, 'تغذیه': 2399, 'هرچه': 2398, 'ام': 2397, 'تقریبا': 2395, 'تمدید': 2394, 'صدر': 2392, 'سنی': 2388, 'شدم': 2386, 'نگهداری': 2386, 'قادر': 2386, 'دریچه': 2385, 'توقف': 2380, 'درگذشت': 2378, 'کس': 2378, 'گردید': 2377, 'مساله': 2376, 'هواپیما': 2374, 'بمب': 2367, 'دخالت': 2366, 'خشونت': 2365, 'شکایت': 2364, 'تشدید': 2364, 'آرام': 2362, 'رفته': 2362, 'مستقر': 2360, 'فتنه': 2359, 'فرماندهی': 2359, 'کن': 2358, 'مجری': 2355, 'عید': 2355, 'ضعف': 2355, 'نوین': 2354, 'خواهیم_کرد': 2353, 'ساختار': 2353, 'ایالت': 2350, 'مصوب': 2348, 'یازدهم': 2346, 'چهره': 2344, 'برطرف': 2343, 'درک': 2343, 'نو': 2342, 'کریمی': 2339, 'فرزندان': 2337, 'اخلاق': 2335, 'اعتقاد': 2334, 'گو': 2334, 'مجاز': 2331, 'مسعود': 2328, 'معنای': 2325, 'تولیدی': 2323, 'خلاف': 2323, 'عرب': 2321, 'قرمز': 2319, 'اصلاحات': 2314, 'موزه': 2313, 'شویم': 2311, 'دبیرکل': 2310, 'ایمان': 2309, 'زائران': 2309, 'برداشت': 2308, 'تیمی': 2307, 'مدیره': 2306, 'برود': 2302, 'خوش': 2300, 'موقعیت': 2300, 'موتور': 2300, 'مالیاتی': 2295, 'بشار': 2294, 'خلق': 2292, 'جالب': 2292, 'نشانی': 2291, 'چراکه': 2288, 'ستاره': 2286, 'خطاب': 2284, 'امروزه': 2283, 'متوسط': 2282, 'کرج': 2282, 'راحتی': 2280, 'لیبی': 2280, 'جانبه': 2279, 'اخلاقی': 2275, 'بگویم': 2273, 'معادل': 2270, 'قرآنی': 2269, 'میلاد': 2266, 'گوشت': 2266, 'رسانههای': 2264, 'معتقد': 2263, 'نوشته': 2261, 'خام': 2259, 'جزیره': 2259, 'بیماریهای': 2259, 'روزها': 2257, 'شیر': 2257, 'تولیدات': 2256, 'محروم': 2256, 'برقراری': 2253, 'نگران': 2251, 'اش': 2249, 'نوروزی': 2248, 'مدیرکل': 2248, 'شیوه': 2247, 'سرمایهگذاری': 2244, 'سختی': 2243, 'دوربین': 2243, 'برعهده': 2242, 'زیارت': 2240, 'زد': 2240, 'حداکثر': 2240, 'داشتم': 2237, 'هست': 2237, 'رسول': 2234, 'خالی': 2233, 'منزل': 2232, 'سوره': 2230, 'جنگی': 2230, 'بدست': 2229, 'خواهان': 2227, 'طرحهای': 2226, 'وجه': 2226, 'ساده': 2225, 'گمرک': 2225, 'داور': 2224, 'روایت': 2221, 'باران': 2220, 'اتفاقات': 2217, 'شریف': 2217, 'اتمام': 2217, 'مصطفی': 2215, 'قاضی': 2215, 'میزبانی': 2214, 'روانی': 2214, 'بودم': 2211, 'خودداری': 2210, 'سنجش': 2208, 'الکترونیکی': 2206, 'دریای': 2206, 'مکان': 2205, 'فضایی': 2204, 'تمرکز': 2200, 'پیاده': 2200, 'دادیم': 2197, 'عمده': 2195, 'لندن': 2194, 'موقت': 2193, 'شاه': 2192, 'برقرار': 2190, 'نزدیکی': 2188, 'مرزهای': 2186, 'ابراهیم': 2185, 'پیشبینی': 2185, 'کادر': 2183, 'کردستان': 2183, 'همانند': 2183, 'نوروز': 2182, 'محله': 2181, 'دمشق': 2180, 'آیین': 2179, 'پایدار': 2178, 'آتی': 2176, 'کنون': 2173, 'گذاشت': 2173, 'کالاهای': 2172, 'آگاه': 2171, 'خواهد_داد': 2169, 'ابعاد': 2169, 'امشب': 2166, 'اسامی': 2165, 'آزمایش': 2165, 'مدتی': 2163, 'برنده': 2161, 'مازندران': 2161, 'مطالبات': 2160, 'شاگردان': 2159, 'حرم': 2158, 'عشق': 2155, 'پتروشیمی': 2152, 'هشتم': 2151, 'هویت': 2148, 'میتوانید': 2147, 'اردن': 2146, 'حریف': 2142, 'مشکلاتی': 2139, 'آشنایی': 2136, 'تفاوت': 2135, 'استقرار': 2133, 'جبران': 2130, 'نگه': 2129, 'خانم': 2129, 'طلای': 2129, 'اندروید': 2127, 'رساند': 2123, 'هزینههای': 2122, 'البرز': 2118, 'بازسازی': 2116, 'مطالعات': 2116, 'ادعای': 2116, 'پیشنهادی': 2114, 'کرمانشاه': 2113, 'مبتلا': 2113, 'هادی': 2112, 'گردد': 2112, 'سوء': 2112, 'دانشجو': 2111, 'موصل': 2110, 'سفارت': 2109, 'دیپلماسی': 2106, 'تبادل': 2105, 'تی': 2102, 'عوارض': 2102, 'می\\u200cگوید': 2101, 'هفتم': 2098, 'چقدر': 2097, 'خودمان': 2096, 'ماشین': 2095, 'تفاهم': 2094, 'تلفنی': 2090, 'نفس': 2088, 'سال\\u200cهای': 2088, 'کارگاه': 2088, 'تصور': 2088, 'اتهام': 2087, 'شان': 2084, 'پیمان': 2084, 'افکار': 2083, 'فضا': 2083, 'شلیک': 2083, 'معرض': 2079, 'کرمان': 2076, 'ایرانیان': 2075, 'ظاهر': 2075, 'دستگیری': 2075, 'صرفا': 2075, 'بدهد': 2075, 'محرم': 2073, 'اردوی': 2072, 'حرفه\\u200cای': 2071, 'تیراندازی': 2070, 'فاقد': 2067, 'مقدار': 2064, 'نمیتواند': 2064, 'باشید': 2064, 'بانکها': 2064, 'سالها': 2063, 'همانطور': 2063, 'استانهای': 2060, 'منتخب': 2057, 'اخیرا': 2056, 'عزیز': 2055, 'مانده': 2055, 'تسلیت': 2054, 'معامله': 2053, 'عبدالله': 2052, 'ادعا': 2052, 'کیلومتری': 2051, 'افتاد': 2041, 'مرا': 2040, 'روستایی': 2039, 'متعلق': 2039, 'الان': 2039, 'شهرک': 2038, 'نوار': 2037, 'ذخیره': 2034, 'حساس': 2032, 'مربیان': 2031, 'بردن': 2031, 'قطعه': 2030, 'مقرر': 2030, 'فراوانی': 2026, 'روح': 2022, 'ظرف': 2020, 'دیوان': 2020, 'سنگ': 2019, 'رئیسه': 2019, 'رسانهها': 2018, 'صادق': 2018, 'وزرای': 2018, 'سالگی': 2015, 'متأسفانه': 2015, 'جزو': 2013, 'بشکه': 2013, 'میز': 2012, 'پارک': 2011, 'درستی': 2010, 'خواهند_شد': 2010, 'پیروز': 2009, 'فوری': 2008, 'استرالیا': 2007, 'مطلوب': 2006, 'دانشگاههای': 2005, 'نکرده_است': 2001, 'سرانجام': 2000, 'قدیمی': 2000, 'همسر': 2000, 'آسفالت': 2000, 'نیازهای': 1999, 'نوبت': 1997, 'وعده': 1996, 'ترویج': 1994, 'تأثیر': 1994, 'اردوغان': 1994, 'جلب': 1990, 'ارتباطی': 1990, 'تحلیل': 1989, 'می\\u200cتوانید': 1988, 'تسلیحات': 1988, 'نقشه': 1987, 'زده': 1984, 'جعفری': 1984, 'جلوی': 1984, 'بازارهای': 1982, 'بغداد': 1980, 'اشغالی': 1980, 'رضایی': 1979, 'نمیکند': 1979, 'بدین': 1978, 'فکری': 1978, 'قلبی': 1977, 'تاسیس': 1977, 'باراک': 1977, 'اربعین': 1976, 'مربوطه': 1975, 'خوردن': 1974, 'اکبر': 1974, 'خودم': 1973, 'خواند': 1973, 'احتمالا': 1971, 'هواپیمای': 1969, 'انگیزه': 1968, 'قربانی': 1968, 'بازرگانی': 1965, 'تقسیم': 1964, 'صالحی': 1964, 'نقدی': 1962, 'غنی': 1962, 'اغلب': 1962, 'فراوان': 1961, 'منطقه\\u200cای': 1960, 'العالم': 1959, 'فاطمه': 1958, 'سریع': 1957, 'رانندگی': 1956, 'اصلا': 1955, 'اورژانس': 1952, 'اساتید': 1951, 'دستاوردهای': 1949, 'تجاوز': 1947, 'تالار': 1946, 'ظهر': 1946, 'پاریس': 1945, 'آسمان': 1945, 'استانها': 1944, 'مرحوم': 1941, 'مصلحت': 1940, 'تعاون': 1940, 'استانی': 1939, 'مغز': 1939, 'مقدم': 1938, 'تشویق': 1937, 'امضای': 1937, 'منتهی': 1936, 'مجازات': 1934, 'کیلو': 1932, 'آمدن': 1927, 'کانادا': 1926, 'شک': 1925, 'هنرمند': 1925, 'رونق': 1925, 'سایپا': 1925, 'آمریکاییها': 1924, 'سازمانهای': 1923, 'ابتلا': 1923, 'اوراق': 1923, 'هستید': 1921, 'خطوط': 1920, 'تومانی': 1917, 'اوایل': 1917, 'ندارم': 1916, 'گفتگوی': 1914, 'آنتن': 1913, 'قوی': 1909, 'همکاریهای': 1909, 'همدان': 1908, 'فراموش': 1905, 'تکلیف': 1905, 'ورودی': 1904, 'نایب': 1903, 'وزارتخانه': 1902, 'تمایل': 1898, 'موقع': 1898, 'متناسب': 1897, 'نوری': 1895, 'قزوین': 1893, 'موسوی': 1891, 'عضویت': 1891, 'اصولگرایان': 1891, 'سرزمین': 1889, 'آیه': 1888, 'کلینتون': 1888, 'سیاست\\u200cهای': 1887, 'شناخت': 1887, 'اواخر': 1885, 'شماری': 1885, 'بنیان': 1884, 'میگویند': 1882, 'شدیم': 1881, 'میتوانیم': 1880, 'حوزههای': 1880, 'کرده_بودند': 1880, 'نکرد': 1879, 'پرتاب': 1879, 'اعتبارات': 1876, 'عظیم': 1874, 'مسکونی': 1874, 'زیبا': 1872, 'خانگی': 1872, 'مرتضی': 1871, 'مقطع': 1868, 'می\\u200cکرد': 1867, 'نزد': 1866, 'دادستان': 1865, 'بندر': 1863, 'مگر': 1860, 'مترو': 1860, 'ثمر': 1859, 'روان': 1858, 'نفره': 1858, 'شبکههای': 1857, 'دیروز': 1857, 'می\\u200cآید': 1856, 'طلایی': 1856, 'راههای': 1855, 'تحریم\\u200cها': 1852, 'خریداری': 1851, 'خویش': 1851, 'معنوی': 1851, 'جاده': 1850, 'واقعا': 1850, 'بدهی': 1850, 'بس': 1848, 'هنرهای': 1846, 'کلان': 1846, 'س': 1845, 'جنایت': 1845, 'رقابت\\u200cها': 1845, 'چالش': 1844, 'نبرد': 1843, 'رکود': 1843, 'ورزشکاران': 1843, 'برجسته': 1842, 'پیشین': 1842, 'شبه': 1842, 'جاسوسی': 1841, 'محیطی': 1840, 'نمی\\u200cشود': 1840, 'بهار': 1840, 'مدافع': 1835, 'دادگستری': 1833, 'پارس': 1832, 'چهارمین': 1829, 'مطابق': 1828, 'چگونگی': 1827, 'تعهدات': 1824, 'نخبگان': 1824, 'نظرات': 1823, 'توصیف': 1823, 'وام': 1822, 'صحن': 1819, 'متعددی': 1818, 'شایان': 1816, 'چنانچه': 1816, 'قلم': 1814, 'تعطیلات': 1812, 'بلافاصله': 1812, 'اعدام': 1810, 'تقاضا': 1810, 'رسانه\\u200cهای': 1810, 'نمایندگی': 1809, 'برتری': 1808, 'نوسازی': 1806, 'اختلافات': 1806, 'سازنده': 1805, 'بنزین': 1804, 'حماسه': 1802, 'حیات': 1802, 'ماست': 1801, 'طرفی': 1801, 'جزء': 1800, 'نکند': 1800, 'بهانه': 1799, 'همت': 1799, 'درس': 1799, 'ارتقاء': 1798, 'دیپلماتیک': 1798, 'بخش\\u200cهای': 1797, 'تبصره': 1796, 'جراحی': 1794, 'برداشته': 1787, 'خشک': 1786, 'ناتو': 1786, 'آقا': 1783, 'گفتم': 1783, 'حلب': 1783, 'سراسری': 1782, 'دارویی': 1782, 'تروریست': 1780, 'تعطیل': 1779, 'پذیر': 1779, 'تعهد': 1776, 'ایستگاه': 1775, 'جلو': 1773, 'اى': 1773, 'اقداماتی': 1772, 'ماهی': 1771, 'سهشنبه': 1769, 'توافقنامه': 1768, 'ضعیف': 1767, 'بهزیستی': 1765, 'قدم': 1764, 'چندان': 1762, 'قدر': 1762, 'کشتار': 1762, 'کردهایم': 1759, 'شبکه\\u200cهای': 1759, 'طبقه': 1758, 'اهالی': 1757, 'عمرانی': 1757, 'سقف': 1756, 'فی': 1752, 'عالم': 1751, 'ملک': 1749, 'نمایشی': 1747, 'حامی': 1747, 'واگذاری': 1746, 'اراده': 1745, 'ذهن': 1743, 'جواب': 1743, 'فاز': 1742, 'معتقدند': 1742, 'کاربردی': 1742, 'پیشرفته': 1742, 'والمسلمین': 1742, 'آشکار': 1741, 'لا': 1738, 'مسدود': 1738, 'سپتامبر': 1737, 'تروریستهای': 1737, 'واگذار': 1735, 'خورد': 1735, 'رسانهای': 1734, 'تحریم\\u200cهای': 1734, 'مبنای': 1732, 'ایفا': 1732, 'میکنید': 1731, 'تازگی': 1730, 'والدین': 1730, 'جریمه': 1729, 'تابستان': 1727, 'اموال': 1727, 'خطرناک': 1727, 'هزاران': 1726, 'میگیرند': 1724, 'فرا': 1723, 'شرط': 1723, 'حاکی': 1723, 'گروهک': 1722, 'داوطلبان': 1720, 'فرمان': 1719, 'تقدیم': 1716, 'مثلا': 1716, 'خلاصه': 1715, 'اتوبوس': 1715, 'دادهاند': 1713, 'تشکلهای': 1712, 'ذیل': 1712, 'روحیه': 1710, 'گونهای': 1710, 'یافتن': 1710, 'مدارک': 1709, 'القاعده': 1708, 'اتفاقی': 1706, 'موسسات': 1706, 'تکنولوژی': 1706, 'آزادراه': 1705, 'حاکمیت': 1705, 'کشورهایی': 1704, 'اخراج': 1703, 'سرنوشت': 1702, 'بگیریم': 1700, 'شیرین': 1700, 'امین': 1698, 'تحمل': 1698, 'کربلا': 1697, 'ریشه': 1696, 'فرآیند': 1694, 'شناسی': 1692, 'قائم': 1692, 'غیرقانونی': 1692, 'هرچند': 1692, 'گاه': 1689, 'عمران': 1689, 'موضوعی': 1687, 'قطعنامه': 1686, 'اف': 1686, 'پژو': 1686, 'قول': 1685, 'پیوند': 1685, 'مباحث': 1684, 'کارگران': 1683, 'سرخ': 1676, 'سهمیه': 1676, 'اسرائیلی': 1676, 'متعدد': 1675, 'رکورد': 1674, 'بیکاری': 1671, 'طراح': 1670, 'سلمان': 1670, 'نبوده': 1669, 'مقاله': 1669, 'تأیید': 1668, 'مراجع': 1667, 'میگردد': 1666, 'تلاشهای': 1664, 'رایگان': 1664, 'می\\u200cشد': 1663, 'نیوز': 1662, 'بابت': 1661, 'وین': 1661, 'هتل': 1659, 'تداوم': 1658, 'چهل': 1658, 'عرض': 1652, 'نمیتوان': 1652, 'خواهد_گرفت': 1650, 'روستای': 1649, 'سرباز': 1647, 'مبتنی': 1646, 'ابزار': 1645, 'نگاهی': 1641, 'برادر': 1641, 'ژانویه': 1641, 'واحدی': 1638, 'دبیرخانه': 1637, 'متقاضیان': 1634, 'شایسته': 1631, 'قبیل': 1631, 'هزینه\\u200cهای': 1630, 'سایه': 1629, 'الکترونیک': 1629, 'مهلت': 1628, 'تجمع': 1628, 'فرانسوی': 1627, 'زهرا': 1626, 'میخواهد': 1625, 'هلال': 1622, 'تدبیر': 1621, 'داده\\u200cاند': 1620, 'گانه': 1620, 'مداخله': 1620, 'عزت': 1619, 'بهتری': 1619, 'آور': 1619, 'اعتراف': 1619, 'شهرها': 1618, 'ارایه': 1618, 'تصویری': 1616, 'کیفی': 1614, 'ایفای': 1614, 'چینی': 1614, 'تکذیب': 1612, 'موسوم': 1612, 'ظرفیتهای': 1611, 'داروهای': 1611, 'روسای': 1610, 'تراکتورسازی': 1610, 'اعتباری': 1609, 'م': 1609, 'دلاری': 1607, 'کنندگی': 1606, 'کلاس': 1605, 'اشغال': 1605, 'استراتژیک': 1601, 'برگشت': 1601, 'بدلیل': 1600, 'هواپیمایی': 1600, 'راننده': 1599, 'هلاکت': 1599, 'پنجمین': 1597, 'حاوی': 1596, 'جانشین': 1594, 'رغم': 1593, 'فیلمنامه': 1593, 'ارزی': 1593, 'ملاقات': 1591, 'شیعه': 1589, 'هنگامی': 1589, 'فراتر': 1588, 'دختران': 1587, 'موانع': 1586, 'عترت': 1585, 'دانشمندان': 1581, 'کلانتری': 1578, 'بدهند': 1578, 'شیراز': 1577, 'اتحاد': 1577, 'کالای': 1577, 'وزیران': 1576, 'حس': 1574, 'راهپیمایی': 1574, 'سوالی': 1574, 'فقیه': 1572, 'برف': 1572, 'لوازم': 1572, 'عمان': 1572, 'رسیدند': 1571, 'تسهیل': 1570, 'مستمر': 1569, 'میبرد': 1568, 'مد': 1568, 'منطقی': 1567, 'نماد': 1565, 'بومی': 1564, 'فرنگی': 1562, 'ارزشمند': 1562, 'میدانند': 1562, 'روغن': 1562, 'دیابت': 1560, 'بنابر': 1556, 'امیدواری': 1556, 'تکفیری': 1556, 'بامداد': 1555, 'خبرگان': 1555, 'دوستانه': 1555, 'احکام': 1553, 'شبیه': 1551, 'نشر': 1551, 'دانشکده': 1551, 'زندانیان': 1549, 'عاشورا': 1548, 'بان': 1547, 'منافقین': 1544, 'روکش': 1544, 'دریا': 1543, 'صلاحیت': 1543, 'ریاض': 1543, 'ارتقا': 1542, 'فرمودند': 1541, 'داری': 1541, 'مسافران': 1540, 'مجهز': 1540, 'ابراهیمی': 1539, 'اگرچه': 1539, 'رفتند': 1539, 'کارها': 1539, 'شغل': 1538, 'تحقیقاتی': 1537, 'دارایی': 1537, 'امیدوار': 1536, 'شوید': 1536, 'زیبایی': 1535, 'پرده': 1535, 'یزد': 1534, 'باند': 1533, 'سپاهان': 1531, 'عجیب': 1530, 'صنفی': 1530, 'شفاف': 1530, 'موج': 1530, 'بزرگراه': 1530, 'جنایات': 1528, 'تصمیمات': 1528, 'کلید': 1525, 'راهاندازی': 1525, 'فراکسیون': 1524, 'کشی': 1523, 'جدایی': 1522, 'هاى': 1521, 'برانکو': 1518, 'ایده': 1517, 'آوردن': 1517, 'تفکر': 1517, 'محاصره': 1516, 'پولی': 1515, 'بسکتبال': 1515, 'برنج': 1514, 'پروانه': 1513, 'ساکنان': 1513, 'اپل': 1513, 'کجا': 1512, 'برپایی': 1512, 'حامیان': 1511, 'رها': 1510, 'رهبران': 1509, 'صهیونیست': 1509, 'داشته_باشید': 1508, 'کارخانه': 1507, 'نکنند': 1506, 'عبارت': 1504, 'رئال': 1503, 'پاسداران': 1503, 'محققان': 1502, 'اعم': 1501, 'اندیشه': 1500, 'فرسوده': 1500, 'سکوت': 1499, 'کویت': 1499, 'سلام': 1498, 'اوج': 1498, 'ساعات': 1497, 'فرصتی': 1497, 'روسی': 1497, 'نشانه': 1497, 'الگوی': 1496, 'قدردانی': 1495, 'گیلان': 1495, 'ضبط': 1494, 'نقاشی': 1494, 'مقدماتی': 1491, 'اقتدار': 1490, 'می\\u200cکردند': 1488, 'استخدام': 1487, 'ترافیکی': 1487, 'ممنوعیت': 1486, 'خواندن': 1485, 'سرد': 1483, 'وزنه': 1482, 'ابتدایی': 1481, 'موافق': 1479, 'شناخته': 1479, 'تجسمی': 1478, 'بماند': 1477, 'تاخیر': 1477, 'گرفته_شده_است': 1476, 'جوانی': 1476, 'سد': 1475, 'درحالی': 1474, 'بویژه': 1474, 'اعتیاد': 1473, 'مادرید': 1473, 'تخلفات': 1472, 'دستگاه\\u200cهای': 1472, 'اوقات': 1471, 'ماند': 1471, 'پیشتر': 1471, 'مهاجم': 1470, 'گندم': 1470, 'گفته_است': 1469, 'میانگین': 1469, 'داده_بود': 1469, 'رقابتها': 1469, 'می\\u200cگردد': 1468, 'آورده_است': 1468, 'نمی\\u200cتواند': 1468, 'بیاید': 1467, 'دیدگاه': 1466, 'گذار': 1465, 'بخواهد': 1465, 'رویداد': 1464, 'موظف': 1464, 'احمر': 1464, 'قضاوت': 1464, 'نیازی': 1463, 'فرمود': 1462, 'شور': 1461, 'على': 1461, 'کابینه': 1461, 'قدرتمند': 1460, 'توانستند': 1459, 'حین': 1459, 'ابری': 1458, 'آیات': 1457, 'پیکان': 1456, 'ذوب': 1456, 'فیلم\\u200cهای': 1455, 'برخلاف': 1455, 'ویژهای': 1455, 'وزش': 1455, 'قرائت': 1454, 'فاش': 1453, 'تساوی': 1453, 'رحمانی': 1451, 'گران': 1451, 'دشوار': 1450, 'تبیین': 1450, 'صحت': 1449, 'نوامبر': 1449, 'دام': 1447, 'دستیار': 1446, 'پدافند': 1446, 'پیوست': 1445, 'بالغ': 1445, 'تضمین': 1445, 'علیرغم': 1445, 'کاروان': 1445, 'نخواهد_بود': 1443, 'فروند': 1443, 'ج': 1442, 'فتح': 1442, 'اسماعیل': 1441, 'مرور': 1441, 'تکیه': 1440, 'کمترین': 1439, 'دیوار': 1438, 'کلینیک': 1438, 'روشهای': 1437, 'معتبر': 1436, 'کرده\\u200cایم': 1435, 'وحید': 1434, 'زنی': 1433, 'صبر': 1431, 'نامهای': 1431, 'مرسی': 1431, 'نظارتی': 1430, 'باغ': 1429, 'برنز': 1429, 'ثانیه': 1428, 'ارومیه': 1427, 'دروغ': 1427, 'محلات': 1427, 'مجتبی': 1426, 'نفرات': 1426, 'سلامتی': 1426, 'نکات': 1425, 'بقیه': 1424, 'معلم': 1423, 'مهرماه': 1422, 'یارانه': 1422, 'مگابایت': 1421, 'روستا': 1420, 'رسانه\\u200cها': 1420, 'مطمئن': 1420, 'کارنامه': 1420, 'قدیم': 1420, 'میدانی': 1419, 'طرح\\u200cهای': 1419, 'میادین': 1418, 'رمز': 1418, 'میخواهند': 1417, 'راهکارهای': 1416, 'مرجع': 1416, 'موشکهای': 1416, 'هواپیماهای': 1415, 'امری': 1413, 'تدابیر': 1411, 'منصور': 1410, 'فوت': 1410, 'تیرماه': 1409, 'جرایم': 1409, 'شانس': 1408, 'آقایان': 1407, 'احسان': 1407, 'لهستان': 1407, 'اوپک': 1407, 'کمال': 1406, 'ناظر': 1406, 'طلب': 1405, 'زودتر': 1404, 'طرفین': 1402, 'طب': 1402, 'سواری': 1402, 'سراغ': 1401, 'بستر': 1400, 'حومه': 1399, 'اختلال': 1397, 'تنهایی': 1396, 'کمکهای': 1396, 'دریاچه': 1396, 'معنی': 1396, 'دهها': 1396, 'ناصر': 1394, 'تولیدکنندگان': 1394, 'استکبار': 1394, 'سوالات': 1394, 'منصوب': 1393, 'دانشآموزان': 1393, 'گذاشته': 1392, 'تروریست\\u200cها': 1392, 'دوستی': 1391, 'بوشهر': 1390, 'میداند': 1388, 'ترجمه': 1388, 'ساحلی': 1388, 'استراحت': 1387, 'جو': 1387, 'برگزیده': 1385, 'بصورت': 1384, 'خشم': 1384, 'مییابد': 1383, 'برج': 1380, 'بوجود': 1378, 'براین': 1378, 'نداشته_باشد': 1377, 'ترس': 1377, 'سیستان': 1374, 'صوتی': 1374, 'خمینیره': 1371, 'پرداختند': 1371, 'متولد': 1370, 'همکاران': 1368, 'گوگل': 1368, 'دربی': 1367, 'گلستان': 1366, 'مشاوره': 1366, 'پادشاه': 1364, 'اصلاحطلبان': 1364, 'دموکرات': 1363, 'تجهیز': 1363, 'یکصد': 1362, 'هماهنگ': 1362, 'بیانیهای': 1362, 'شکر': 1361, 'مطبوعات': 1361, 'دراین': 1361, 'بیانیه\\u200cای': 1361, 'عموم': 1360, 'نقلیه': 1360, 'شاعر': 1359, 'تردید': 1359, 'مکزیک': 1357, 'المیادین': 1357, 'راست': 1356, 'الدین': 1355, 'همسایه': 1355, 'پاکسازی': 1355, 'تشکیلات': 1355, 'سربازان': 1354, 'آدرس': 1352, 'ویژگیهای': 1352, 'تخلف': 1352, 'زرد': 1352, 'رود': 1351, 'اراضی': 1350, 'تیمش': 1349, 'چای': 1348, 'پایداری': 1347, 'مهار': 1345, 'صهیونیستها': 1345, 'فقر': 1344, 'مسایل': 1344, 'ژوئن': 1344, 'ادبی': 1343, 'بمباران': 1343, 'وصول': 1341, 'معلمان': 1340, 'گیر': 1339, 'استاندار': 1339, 'شغلی': 1339, 'قرن': 1338, 'ب': 1337, 'بدانند': 1336, 'نموده': 1335, 'اجاره': 1335, 'مدرک': 1335, 'متری': 1335, 'تعطیلی': 1335, 'قبلا': 1334, 'العاده': 1333, 'سالگرد': 1332, 'اثبات': 1332, 'کلمه': 1332, 'تبلیغاتی': 1331, 'ویژگی': 1331, 'دغدغه': 1331, 'آفریقا': 1331, 'ونزوئلا': 1331, 'نداشته': 1330, 'خواهیم_بود': 1330, 'شهروند': 1330, 'پیامی': 1330, 'افت': 1329, 'ویتامین': 1329, 'قطعات': 1328, 'می': 1327, 'کشورش': 1326, 'تخصیص': 1325, 'روحی': 1325, 'تقاضای': 1325, 'پرس': 1323, 'شوم': 1321, 'توافقی': 1320, 'جانب': 1319, 'نخواهد_شد': 1318, 'بهشتی': 1318, 'لیتر': 1318, 'آزادسازی': 1318, 'مهارت': 1316, 'منع': 1315, 'خروجی': 1314, 'آدم': 1313, 'ز': 1313, 'فرش': 1312, 'فرماندهان': 1312, 'ماموریت': 1311, 'تلفات': 1311, 'حمایتی': 1309, 'مریم': 1309, 'گرد': 1309, 'متخصصان': 1308, 'تجلیل': 1308, 'مخصوص': 1307, 'کارگروه': 1307, 'برساند': 1306, 'فیزیکی': 1306, 'ظهور': 1305, 'نابودی': 1304, 'فارغ': 1303, 'کشته_شدند': 1303, 'نقره': 1303, 'مراتب': 1302, 'شعبه': 1302, 'قند': 1300, 'سایبری': 1300, 'فر': 1299, 'تجدید': 1299, 'مساجد': 1298, 'می\\u200cگویند': 1297, 'جذاب': 1295, 'اکثریت': 1295, 'گوناگون': 1294, 'معماری': 1293, 'چربی': 1293, 'اهواز': 1291, 'حقیقی': 1291, 'سریعتر': 1291, 'چندی': 1289, 'ماندن': 1287, 'مهرداد': 1286, 'مجروح': 1285, 'زندانی': 1285, 'معابر': 1285, 'سوزی': 1285, 'گونه\\u200cای': 1284, 'مهران': 1283, 'مدیریتی': 1283, 'دورههای': 1282, 'اختصاصی': 1282, 'عمق': 1279, 'سوابق': 1279, 'وارداتی': 1279, 'افزوده': 1278, 'چک': 1278, 'رنج': 1277, 'مالزی': 1277, 'آی': 1276, 'تلقی': 1276, 'می\\u200cیابد': 1276, 'پرسش': 1275, 'گرمی': 1274, 'وکیل': 1274, 'ارجاع': 1274, 'نادیده': 1273, 'آلمانی': 1273, 'انتخابی': 1273, 'ناجا': 1273, 'هلند': 1273, 'برسیم': 1272, 'حالیکه': 1271, 'متمرکز': 1270, 'وب': 1270, 'تنش': 1270, 'بالاترین': 1269, 'نشریه': 1269, 'بلوچستان': 1268, 'تحریک': 1267, 'مارس': 1267, 'خاتمه': 1266, 'بعنوان': 1266, 'افراطی': 1266, 'حساسیت': 1266, 'بهرهبرداری': 1264, 'رصد': 1263, 'نداشته_است': 1262, 'قاسم': 1262, 'تحمیل': 1262, 'خواسته': 1261, 'طبیعت': 1261, 'حبس': 1260, 'کشاورزان': 1260, 'اهدای': 1259, 'خواهند_داشت': 1256, 'اعضا': 1253, 'کتابهای': 1253, 'معاصر': 1253, 'پنهان': 1252, 'بگذارد': 1252, 'نکنید': 1252, 'استان\\u200cهای': 1251, 'کارگر': 1251, 'متهمان': 1251, 'ماجرای': 1250, 'ایثارگران': 1250, 'آنکارا': 1250, 'نظری': 1249, 'یونان': 1247, 'بلیت': 1246, 'حریم': 1246, 'بازیگری': 1245, 'یاری': 1245, 'کشت': 1245, 'بیماری\\u200cهای': 1245, 'اهدا': 1244, 'قصه': 1244, 'فیفا': 1244, 'ازای': 1243, 'محتوای': 1241, 'طنز': 1240, 'ف': 1240, 'گفتگوهای': 1240, 'انصاری': 1239, 'سیگار': 1238, 'قربانیان': 1237, 'ملتهای': 1237, 'داده_شود': 1235, 'اسم': 1235, 'قاهره': 1235, 'احیای': 1234, 'خواهند_بود': 1233, 'تایمز': 1233, 'تضعیف': 1233, 'مقصد': 1232, 'اقشار': 1231, 'آید': 1231, 'واسطه': 1230, 'دسامبر': 1230, 'عدهای': 1229, 'مهاجرت': 1228, 'حامد': 1227, 'مطالب': 1226, 'خودروها': 1226, 'طرحی': 1225, 'عمیق': 1224, 'جی': 1224, 'بیداری': 1223, 'بطور': 1222, 'مجتمع': 1222, 'عناوین': 1222, 'لینک': 1222, 'تاسیسات': 1222, 'گشت': 1221, 'معدنی': 1219, 'پرچم': 1219, 'ذخایر': 1219, 'مغزی': 1218, 'تهدیدات': 1217, 'کوتاهی': 1216, 'مه': 1215, 'تخم': 1215, 'گردن': 1213, 'لذت': 1212, 'خاطرات': 1212, 'نیا': 1211, 'صدها': 1211, 'دائمی': 1210, 'می\\u200cخواهد': 1208, 'ردیف': 1208, 'گلوله': 1208, 'تفسیر': 1208, 'نمی\\u200cکند': 1207, 'علائم': 1207, 'اماکن': 1206, 'بازنگری': 1204, 'حجاب': 1203, 'امیری': 1201, 'حوزه\\u200cهای': 1200, 'شیعیان': 1200, 'متعهد': 1199, 'اشخاص': 1197, 'شرکتها': 1197, 'دموکراسی': 1197, 'ایستادگی': 1196, 'نخواهد_داشت': 1196, 'شده_بودند': 1196, 'سؤال': 1196, 'جنسی': 1196, 'جنس': 1194, 'تخت': 1194, 'سخنانی': 1193, 'پردیس': 1193, 'بزند': 1193, 'پروژههای': 1193, 'انگلستان': 1192, 'خسارت': 1190, 'معتقدم': 1188, 'میل': 1188, 'تعلق': 1186, 'بدنی': 1186, 'شدگان': 1186, 'می\\u200cتوانیم': 1185, 'انداز': 1185, 'مسائلی': 1183, 'رشتههای': 1183, 'احمدینژاد': 1182, 'پوش': 1181, 'می\\u200cبرد': 1181, 'ثروت': 1180, 'مهم\\u200cترین': 1180, 'مشتریان': 1179, 'مراقبت': 1178, 'راضی': 1177, 'خورشید': 1177, 'سیر': 1175, 'پرهیز': 1174, 'تونل': 1174, 'بهشت': 1173, 'آبادی': 1173, 'دستگاهها': 1173, 'آسیبهای': 1173, 'داشتهاند': 1172, 'نان': 1171, 'آمدند': 1170, 'راهکار': 1170, 'صادقی': 1169, 'مربع': 1169, 'زود': 1169, 'فراز': 1168, 'اردبیل': 1167, 'مداحی': 1165, 'مدرن': 1165, 'حدی': 1164, 'برون': 1164, 'بدنه': 1164, 'معادن': 1163, 'رفتارهای': 1163, 'کودکی': 1162, 'سحر': 1161, 'حزبالله': 1161, 'تزریق': 1160, 'نبوده_است': 1159, 'محوریت': 1159, 'مانده_است': 1159, 'بافت': 1158, 'مصدوم': 1158, 'قاسمی': 1157, 'گفته_بود': 1157, 'همسرش': 1157, 'مهمان': 1156, 'داستانی': 1155, 'درآمدهای': 1154, 'حافظ': 1154, 'نشدن': 1153, 'رسانه\\u200cای': 1153, 'نکردن': 1150, 'مرتکب': 1150, 'سوئیس': 1150, 'آوریل': 1150, 'دندان': 1149, 'فلسطینیان': 1149, 'اسماعیلی': 1148, 'همکاری\\u200cهای': 1148, 'ست': 1148, 'عوض': 1147, 'میدهیم': 1147, 'علمیه': 1147, 'بلژیک': 1146, 'سو': 1145, 'محرومیت': 1145, 'محاکمه': 1144, 'قوت': 1143, 'ببرد': 1143, 'تعرفه': 1143, 'واریز': 1143, 'ویندوز': 1143, 'راهنمایی': 1142, 'تیپ': 1142, 'فاجعه': 1142, 'رادیویی': 1141, 'اردو': 1141, 'استرس': 1141, 'دوجانبه': 1139, 'همگی': 1138, 'حافظه': 1138, 'بدانید': 1137, 'بتوان': 1136, 'ضوابط': 1135, 'تعلیق': 1134, 'سنگینی': 1134, 'ذیربط': 1134, 'رسمیت': 1134, 'شام': 1133, 'بزرگسالان': 1133, 'معاملاتی': 1133, 'سفارش': 1132, 'یادآوری': 1132, 'زمینههای': 1131, 'حائز': 1131, 'اقامت': 1129, 'سطوح': 1128, 'خواهد_یافت': 1128, 'نداشتند': 1127, 'مصوبات': 1127, 'ششمین': 1126, 'رقیب': 1126, 'فرهاد': 1125, 'بارسلونا': 1125, 'بدهیم': 1124, 'تونس': 1124, 'ایلام': 1124, 'سالی': 1124, 'معنا': 1123, 'اصغر': 1123, 'گرفته_شود': 1123, 'دولتهای': 1123, 'قزاقستان': 1123, 'پاس': 1122, 'خاموش': 1122, 'پیکر': 1121, 'شوراها': 1120, 'الجزیره': 1120, 'سپری': 1118, 'اصرار': 1118, 'تذکر': 1117, 'نخواهد_کرد': 1117, 'مطلع': 1117, 'مشمول': 1117, 'نگارش': 1116, 'اکتبر': 1116, 'ضرر': 1116, 'نشینی': 1116, 'قراردادهای': 1116, 'تخلیه': 1116, 'درحال': 1115, 'تلاش\\u200cهای': 1115, 'عزم': 1115, 'باب': 1114, 'هیچگاه': 1114, 'جناب': 1114, 'استانداردهای': 1113, 'ماجرا': 1112, 'آبادان': 1112, 'ناوگان': 1112, 'سناتور': 1112, 'رفته_است': 1110, 'دکتری': 1110, 'حیدری': 1110, 'موسی': 1110, 'مجددا': 1110, 'تسلیم': 1110, 'بستری': 1109, 'مثبتی': 1109, 'میروند': 1108, 'سینه': 1108, 'آرژانتین': 1108, 'تماشاگران': 1106, 'عکاسی': 1106, 'اوقاف': 1105, 'داده_شد': 1104, 'دعا': 1104, 'معضل': 1104, 'دریافتی': 1104, 'بچه': 1103, 'انیمیشن': 1103, 'حذفی': 1103, 'درخشان': 1101, 'گذاشتن': 1101, 'تکمیلی': 1101, 'خودتان': 1101, 'کاربری': 1101, 'مند': 1101, 'زنجان': 1101, 'تنوع': 1100, 'پنجاه': 1100, 'تسلط': 1100, 'نظرسنجی': 1100, 'چندانی': 1099, 'برگ': 1098, 'ازبکستان': 1098, 'پژوهشگران': 1097, 'نمیکنند': 1095, 'شیوع': 1095, 'مشهور': 1093, 'جهانگیری': 1092, 'کشیدن': 1092, 'تعقیب': 1091, 'غلط': 1091, 'دانشگاه\\u200cها': 1091, 'نمی\\u200cتوان': 1091, 'یوسف': 1090, 'جهادی': 1089, 'تحصیلات': 1089, 'رجب': 1089, 'ریو': 1089, 'تجربیات': 1088, 'پیشبرد': 1086, 'تصادف': 1086, 'تعویض': 1086, 'توانستیم': 1085, 'تأسیس': 1084, 'پایبند': 1084, 'صادراتی': 1084, 'برسند': 1083, 'فیلمی': 1083, 'الف': 1083, 'بابک': 1082, 'خیریه': 1082, 'اخوان': 1082, 'ک': 1082, 'سیب': 1082, 'خاطره': 1081, 'میخواهیم': 1081, 'تاثیرگذار': 1081, 'موبایل': 1081, 'سواحل': 1081, 'آیفون': 1081, 'بروند': 1080, 'رم': 1080, 'سلاحهای': 1080, 'هماکنون': 1079, 'ببینید': 1079, 'دسترس': 1079, 'جدیدترین': 1079, 'دقایقی': 1079, 'خواهیم_داشت': 1078, 'نکرده': 1078, 'مناسبات': 1078, 'وابستگی': 1078, 'آرزوی': 1076, 'استخوان': 1076, 'اتباع': 1076, 'فرهنگیان': 1076, 'معارف': 1075, 'امت': 1075, 'مسافر': 1074, 'مالک': 1074, 'ضرب': 1074, 'مواقع': 1074, 'تبلیغ': 1073, 'توجیه': 1072, 'می\\u200cگیرند': 1072, 'غذاهای': 1072, 'مصدومیت': 1072, 'رزمی': 1071, 'روس': 1071, 'آورده': 1070, 'لوله': 1070, 'ترجیح': 1069, 'اطلاعرسانی': 1068, 'منصوریان': 1068, 'تلخ': 1068, 'طاهری': 1066, 'گرامی': 1065, 'طرفداران': 1065, 'صالح': 1065, 'رایزنی': 1065, 'اعطای': 1065, 'تور': 1065, 'سامان': 1064, 'تخته': 1064, 'شهروندی': 1064, 'راس': 1063, 'نمک': 1063, 'پراید': 1063, 'رساندند': 1062, 'اظهارداشت': 1062, 'ح': 1061, 'حواشی': 1061, 'دفاتر': 1061, 'قیمتی': 1061, 'قضائیه': 1061, 'صحبتهای': 1060, 'ارزشهای': 1060, 'توانمندی': 1059, 'پاسخگویی': 1059, 'تایلند': 1059, 'حمیدرضا': 1058, 'تفکیک': 1058, 'رویه': 1058, 'النصره': 1058, 'بگوییم': 1056, 'تخصص': 1056, 'سینا': 1055, 'رزمندگان': 1055, 'برپا': 1054, 'یکبار': 1054, 'جوامع': 1053, 'توکلی': 1052, 'رشته\\u200cهای': 1052, 'خواننده': 1050, 'توانسته': 1050, 'اقلام': 1050, 'ارتفاع': 1049, 'بشری': 1049, 'خواه': 1049, 'اختیارات': 1048, 'غیره': 1046, 'امن': 1046, 'میر': 1045, 'تصرف': 1044, 'خانوادگی': 1044, 'ویژه\\u200cای': 1044, 'نقدینگی': 1044, 'گفتن': 1043, 'نادر': 1043, 'بخواهیم': 1043, 'نجف': 1043, 'بزرگان': 1042, 'درمورد': 1042, 'تست': 1042, 'هکتار': 1042, 'استناد': 1042, 'رحیمی': 1041, 'جلال': 1041, 'ساختن': 1041, 'لحظاتی': 1041, 'طالبان': 1041, 'بستگی': 1040, 'فیلمبرداری': 1040, 'مظلوم': 1040, 'نادرست': 1039, 'محوطه': 1038, 'تدریج': 1037, 'داشته\\u200cاند': 1037, 'اشتون': 1037, 'آلوده': 1037, 'هیچگونه': 1037, 'آفتاب': 1036, 'کمتری': 1036, 'اسلحه': 1035, 'امامره': 1035, 'سلطه': 1035, 'نقشی': 1034, 'قضیه': 1034, 'اندونزی': 1034, 'فوریه': 1033, 'نحوی': 1032, 'عبارتند': 1032, 'لوکس': 1032, 'قاره': 1031, 'رزمایش': 1031, 'کاغذ': 1030, 'می\\u200cدانند': 1030, 'تهرانی': 1029, 'نداشتن': 1029, 'میزند': 1029, 'سلیمانی': 1029, 'میانه': 1029, 'نیستم': 1028, 'گرفته\\u200cاند': 1028, 'عباسی': 1027, 'سرانه': 1027, 'ری': 1027, 'بهسازی': 1026, 'مو': 1026, 'عملا': 1025, 'قوا': 1024, 'فدرال': 1024, 'پله': 1023, 'متفاوتی': 1022, 'ورزشکار': 1022, 'بایستی': 1021, 'دایی': 1020, 'باقری': 1020, 'رحمت': 1019, 'نتوانست': 1019, 'داغ': 1019, 'بگیرید': 1019, 'قائل': 1017, 'برنامهها': 1017, 'گرایی': 1017, 'آبهای': 1016, 'نظم': 1015, 'مهندس': 1013, 'بوده\\u200cاند': 1013, 'سوئد': 1013, 'مقر': 1013, 'جعفر': 1011, 'صرفه': 1011, 'سفرهای': 1011, 'معلوم': 1010, 'مدنی': 1009, 'بودهاند': 1008, 'دادم': 1008, 'نویسندگان': 1007, 'تثبیت': 1007, 'املاک': 1007, 'فرو': 1007, 'انتقالات': 1007, 'انتشارات': 1006, 'تسریع': 1006, 'عسل': 1005, 'دم': 1004, 'ویژگی\\u200cهای': 1004, 'گزارشهای': 1004, 'جمهوریخواه': 1004, 'دوازدهم': 1003, 'محض': 1003, 'گرفتهاند': 1002, 'متشکل': 1002, 'قطار': 1002, 'نامزدهای': 1002, 'فشرده': 1001, 'افسردگی': 1001, 'توفیق': 1000, 'سنا': 1000, 'محاسبات': 999, 'مهدوی': 999, 'سعود': 999, 'قرارگاه': 998, 'طلاق': 997, 'نبض': 997, 'گازی': 997, 'فیلمها': 996, 'نیت': 995, 'روحانیت': 995, 'رفسنجانی': 995, 'چطور': 994, 'مروری': 994, 'محافظت': 994, 'یافتند': 993, 'ظلم': 993, 'اورانیوم': 993, 'دائم': 992, 'اندکی': 992, 'ایمن': 992, 'اسراییل': 992, 'تماشای': 991, 'متعال': 991, 'مخفی': 991, 'گناه': 990, 'بیمارستانی': 990, 'اعتراضات': 990, 'مصری': 990, 'مطبوعاتی': 989, 'ببرند': 988, 'کلام': 988, 'کمک\\u200cهای': 988, 'محبت': 988, 'فراگیر': 988, 'آنلاین': 987, 'بپردازند': 987, 'چنان': 987, 'وقف': 987, 'ساکن': 987, 'هایش': 987, 'نشاط': 987, 'نیستیم': 986, 'درسی': 986, 'سمنان': 985, 'اصطلاح': 985, 'بپردازد': 985, 'مالکیت': 985, 'خواهد_رسید': 984, 'علل': 983, 'سالروز': 982, 'دهان': 982, 'انسانها': 982, 'گرفتار': 981, 'گذاران': 981, 'پیشروی': 981, 'نعمت': 981, 'اتهامات': 981, 'هدیه': 980, 'مفاد': 980, 'جاده\\u200cای': 980, 'سلطانی': 979, 'لطف': 977, 'مشاغل': 977, 'صلاح': 977, 'ژوئیه': 977, 'یمنی': 977, 'تمدن': 976, 'آرا': 976, 'نابود': 974, 'مسلم': 973, 'مقالات': 973, 'معمولی': 973, 'استراتژی': 973, 'توهین': 973, 'کردید': 972, 'بهرام': 971, 'ابن': 971, 'پرستاری': 971, 'باتری': 971, 'ثبتنام': 970, 'مفهوم': 970, 'راحت': 970, 'جوی': 970, 'ماندگار': 969, 'راهبرد': 969, 'نامناسب': 969, 'فشارهای': 968, 'پیامدهای': 968, 'حامل': 968, 'ولادیمیر': 968, 'جوانب': 968, 'عارف': 967, 'قلعه': 967, 'آوردند': 967, 'باخت': 966, 'سین': 965, 'تسلیحاتی': 965, 'یکم': 964, 'معمول': 963, 'گرفتیم': 962, 'غیردولتی': 962, 'راهور': 962, 'منتقدان': 961, 'بوستان': 961, 'لکه': 960, 'کلیدی': 960, 'خانوادههای': 959, 'همدلی': 959, 'قضا': 959, 'حدیث': 958, 'پژوهشهای': 958, 'افتاده': 957, 'نکردند': 957, 'سوار': 956, 'بگذارند': 956, 'برترین': 955, 'هاست': 955, 'برده': 955, 'کنی': 955, 'دفع': 955, 'اثرات': 954, 'حیوانات': 954, 'پوند': 954, 'منکر': 953, 'عتبات': 953, 'پنالتی': 953, 'دامن': 952, 'فرایند': 952, 'نظرم': 952, 'افتتاحیه': 951, 'ریلی': 951, 'قیام': 950, 'نیروگاه': 950, 'میپردازد': 948, 'قدرتهای': 948, 'داوطلب': 947, 'چراغ': 947, 'خامنهای': 947, 'پذیرفته': 946, 'متصل': 946, 'طلبان': 946, 'کارمندان': 945, 'نوآوری': 945, 'همگان': 945, 'می\\u200cداند': 945, 'صندلی': 944, 'فرم': 944, 'مردی': 943, 'عیار': 943, 'خوشحال': 943, 'سرنشین': 942, 'درب': 941, 'اتریش': 941, 'آنجایی': 940, 'باطل': 940, 'اراک': 939, 'نحو': 939, 'نگارخانه': 938, 'حتم': 938, 'قریب': 938, 'کیفری': 938, 'برند': 937, 'پالایشگاه': 937, 'سیل': 937, 'حمایتهای': 936, 'اصابت': 936, 'می\\u200cروند': 936, 'روستاها': 936, 'تل': 936, 'بزرگداشت': 935, 'می\\u200cکنید': 935, 'نود': 935, 'نشین': 934, 'نهضت': 933, 'سیاستگذاری': 933, 'محاسبه': 933, 'مدرس': 932, 'صدام': 932, 'پایش': 932, 'سازمان\\u200cهای': 932, 'عادل': 931, 'بدانیم': 931, 'بهعنوان': 931, 'گیرند': 931, 'بانکهای': 931, 'اساسنامه': 930, 'اردوگاه': 930, 'رانندگان': 930, 'جنبه': 929, 'چپ': 929, 'خلیفه': 929, 'عازم': 929, 'اصحاب': 928, 'برنامهای': 928, 'نشستی': 928, 'نیجریه': 928, 'نمیتوانند': 927, 'اختتامیه': 927, 'دانشگاه\\u200cهای': 927, 'انتحاری': 927, 'دوش': 926, 'نیروها': 925, 'آذرماه': 924, 'فراخوان': 924, 'عقیده': 924, 'الهام': 923, 'آرای': 923, 'ایمیل': 923, 'خرج': 923, 'فن': 922, 'تحمیلی': 921, 'استانبول': 921, 'آسان': 921, 'پیشکسوت': 920, 'میثم': 920, 'خنثی': 920, 'توضیحات': 920, 'خان': 919, 'ماههای': 919, 'موثری': 919, 'کتابخانه': 919, 'های': 919, 'بله': 919, 'میبرند': 918, 'بارداری': 918, 'نامگذاری': 917, 'محکومیت': 917, 'تروریست\\u200cهای': 917, 'مطهری': 916, 'بختیاری': 916, 'آزار': 916, 'اقیانوس': 916, 'مدنظر': 915, 'مان': 915, 'جهانیان': 915, 'خزر': 915, 'رقابتی': 914, 'کاربرد': 914, 'داده_شده_است': 914, 'معترضان': 914, 'برشمرد': 913, 'دیدارهای': 913, 'ملکی': 912, 'سیا': 912, 'برآورد': 911, 'ببریم': 911, 'ال': 911, 'غیرقابل': 911, 'توقیف': 910, 'استیضاح': 910, 'نجفی': 909, 'شاعران': 909, 'ناراحت': 909, 'آموزشهای': 908, 'جلالی': 908, 'گرفته_بود': 908, 'ابزارهای': 908, 'تصاویری': 907, 'کاربر': 907, 'اسبق': 907, 'چشمگیری': 907, 'آمریکایی\\u200cها': 907, 'آثاری': 906, 'فروشی': 906, 'بوی': 906, 'کنسرت': 905, 'میآورد': 905, 'اوت': 905, 'غلامرضا': 904, 'ترکیبی': 904, 'آفریقای': 904, 'محکم': 904, 'گیاهی': 904, 'انبار': 904, 'نواحی': 904, 'دیدم': 903, 'مس': 903, 'امورخارجه': 902, 'متقاضی': 902, 'زدند': 901, 'بیگانه': 901, 'کشید': 900, 'منحصر': 900, 'پرتغال': 900, 'نمى': 900, 'مهاجران': 899, 'سامسونگ': 898, 'نویسندگی': 897, 'دوره\\u200cهای': 896, 'کوبا': 896, 'بوش': 896, 'ماهیت': 895, 'کاظمی': 894, 'بخصوص': 894, 'نویس': 894, 'سازد': 894, 'جویی': 894, 'شهیدان': 893, 'مؤثر': 893, 'درصدد': 893, 'پروژه\\u200cهای': 893, 'هرمزگان': 892, 'کامیون': 892, 'جعلی': 891, 'آفرینی': 891, 'حکومتی': 891, 'خانوادهها': 890, 'بهینه': 890, 'موضوعاتی': 889, 'درج': 889, 'بنادر': 889, 'آنقدر': 888, 'مکانی': 888, 'قد': 888, 'متقابل': 888, 'حکایت': 887, 'منظم': 887, 'کاندیدای': 887, 'زنگ': 886, 'یکسان': 886, 'محرمانه': 886, 'پذیری': 886, 'میگذارد': 885, 'محمدعلی': 884, 'هفتمین': 884, 'اتصال': 884, 'تفحص': 882, 'سازمانی': 882, 'تهدیدی': 882, 'ریالی': 882, 'فریاد': 881, 'داروی': 881, 'اوست': 880, 'شده_باشد': 880, 'نبودن': 879, 'رساندن': 878, 'بازگشایی': 878, 'افزودند': 878, 'نشوند': 877, 'اندک': 876, 'حسینع': 876, 'معضلات': 876, 'تصمیمی': 876, 'لاوروف': 876, 'حلقه': 875, 'مکه': 875, 'مرادی': 875, 'کسى': 875, 'ا': 874, 'دستورالعمل': 874, 'اعزامی': 874, 'پایبندی': 874, 'سلولهای': 874, 'هایشان': 873, 'آمریکای': 873, 'بگوید': 873, 'دیوید': 873, 'تعادل': 872, 'کف': 872, 'می\\u200cخواهند': 872, 'میانمار': 872, 'علاقمندان': 871, 'برویم': 871, 'بنیامین': 870, 'ادارات': 869, 'خواص': 869, 'کرسی': 869, 'اصولی': 868, 'متولی': 867, 'رایانه': 867, 'جستجو': 867, 'مسأله': 867, 'معاینه': 867, 'هدفمندی': 866, 'آموزی': 866, 'یکپارچه': 866, 'کوه': 865, 'برایم': 865, 'انسجام': 865, 'جسد': 865, 'حاجی': 864, 'طیب': 864, 'بازنشستگان': 864, 'چرخه': 863, 'ریزش': 863, 'جنگنده': 863, 'آوارگان': 863, 'قیمتها': 863, 'اعظم': 862, 'نفری': 862, 'کرانه': 862, 'گردشگران': 861, 'دیجیتال': 861, 'حضوری': 861, 'تره': 861, 'رسالت': 860, 'خستگی': 860, 'توطئه': 860, 'نانو': 860, 'شاد': 859, 'استعفای': 859, 'لبنی': 859, 'جلوه': 858, 'علامه': 858, 'شفافیت': 858, 'شوروی': 857, 'خزانه': 857, 'صاحبان': 856, 'معاونان': 856, 'جانبازان': 856, 'خواهد_رفت': 855, 'زوج': 855, 'گیاهان': 854, 'شوراهای': 852, 'نهادها': 852, 'پروردگار': 852, 'متنوع': 852, 'غذای': 852, 'آنتی': 852, 'روستاهای': 850, 'گذاشته_است': 849, 'تخفیف': 849, 'اختلالات': 849, 'مادی': 847, 'مداوم': 847, 'ابتکار': 847, 'میافتد': 847, 'فراری': 847, 'بالاخره': 847, 'ساختمانی': 847, 'هافبک': 847, 'مشخصی': 845, 'نیمی': 845, 'مشتری': 845, 'فضاهای': 844, 'نخستوزیر': 844, 'گفتگوها': 844, 'معده': 844, 'عراقچی': 844, 'آلبوم': 843, 'دلیلی': 843, 'کوچه': 843, 'گلزنی': 843, 'ویروس': 843, 'عمدتا': 843, 'شیرازی': 842, 'اصناف': 842, 'زمستان': 842, 'بیانگر': 842, 'بدان': 841, 'افتخاری': 841, 'سالمندان': 841, 'کالاها': 841, 'چالشهای': 841, 'اند': 840, 'گردش': 840, 'گویی': 840, 'اشکال': 840, 'می\\u200cخواهیم': 840, 'تربیتی': 839, 'حاتمی': 839, 'ارمنستان': 838, 'مصرفی': 838, 'قسمتی': 837, 'قشر': 837, 'زنجانی': 837, 'خونی': 836, 'بازنشستگی': 836, 'کیف': 836, 'فقره': 836, 'شادی': 835, 'ه': 835, 'گرایش': 835, 'استعفا': 835, 'سرلشکر': 835, 'اسپوتنیک': 835, 'سرخپوشان': 835, 'علمای': 834, 'د': 834, 'خوانی': 833, 'جسمی': 833, 'زمینه\\u200cهای': 833, 'پیچیده': 833, 'سرکوب': 833, 'شخصیتهای': 832, 'برنامه\\u200cها': 832, 'خورده': 832, 'مطهر': 831, 'پرسید': 831, 'جداگانه': 830, 'نسبی': 830, 'کیش': 830, 'افتاده_است': 829, 'خرد': 829, 'جوایز': 829, 'خصوصا': 829, 'جمعآوری': 829, 'مکرر': 829, 'استانداری': 828, 'استان\\u200cها': 828, 'بعید': 828, 'اسکان': 828, 'خاتمی': 827, 'کاراته': 827, 'می\\u200cپردازد': 826, 'بهروز': 826, 'عرصههای': 826, 'تصمیمگیری': 826, 'انفرادی': 825, 'عظیمی': 825, 'پهلوی': 825, 'منا': 825, 'کنکور': 825, 'مک': 825, 'ارزان': 825, 'اجتناب': 825, 'فناوریهای': 824, 'تند': 823, 'خیابانی': 823, 'فعلا': 823, 'اکرم': 822, 'حرکات': 822, 'مصالح': 822, 'خدماتی': 822, 'خانوار': 822, 'میلیاردی': 821, 'ریز': 821, 'عام': 821, 'راجع': 821, 'گرفتم': 820, 'ظاهرا': 820, 'ژنرال': 820, 'تجزیه': 820, 'هیلاری': 820, 'بکار': 819, 'طباطبایی': 819, 'خداحافظی': 819, 'تکواندو': 819, 'برقی': 818, 'برکت': 818, 'دانشجوی': 818, 'مقوله': 817, 'بزنند': 817, 'میداد': 817, 'هفتاد': 817, 'دیر': 817, 'نگرفته_است': 817, 'خورشیدی': 816, 'ریاستجمهوری': 816, 'جاکارتا': 816, 'دوری': 815, 'زحمات': 815, 'پیروان': 815, 'سلاح\\u200cهای': 815, 'بازیکنانی': 815, 'انگیز': 814, 'عنایت': 814, 'درخت': 814, 'شفر': 814, 'اشغالگر': 813, 'همتای': 813, 'چاقی': 813, 'تعالی': 812, 'قبولی': 812, 'مقاطع': 812, 'الجزایر': 812, 'دیه': 812, 'حریفان': 812, 'مراقب': 811, 'نویسی': 811, 'اشتراک': 811, 'شدیدی': 811, 'ادب': 810, 'خرمشهر': 810, 'نمره': 810, 'مبانی': 809, 'برادران': 809, 'تغییراتی': 808, 'بدترین': 808, 'مال': 808, 'پرویز': 807, 'گردیده': 807, 'بحرانی': 807, 'تاج': 807, 'نمیتوانیم': 807, 'متحدان': 807, 'نا': 806, 'تدریس': 805, 'نهمین': 805, 'سبد': 805, 'شهاب': 804, 'له': 804, 'بیفتد': 803, 'پلی': 803, 'تلفیق': 803, 'دامنه': 802, 'همبستگی': 802, 'استعداد': 802, 'گفتمان': 802, 'پاداش': 801, 'آورند': 801, 'کاپیتان': 801, 'مدینه': 800, 'قاطع': 800, 'جدیت': 800, 'کارهایی': 799, 'آموز': 799, 'نقص': 799, 'مبادلات': 799, 'نداد': 798, 'غیبت': 798, 'دانشگاهیان': 797, 'اقلیم': 797, 'سیم': 797, 'سپرده': 797, 'علوی': 796, 'شکوفایی': 796, 'تلگرام': 796, 'میخواهم': 795, 'یابند': 795, 'یارانهها': 795, 'دعای': 794, 'گویا': 794, 'عزاداری': 793, 'گذر': 793, 'تاسف': 793, 'نوزاد': 793, 'ارزشی': 792, 'ش': 792, 'بانک\\u200cها': 792, 'افزاری': 791, 'میهمان': 791, 'بسزایی': 791, 'محمدجواد': 791, 'بلوار': 790, 'خیرین': 790, 'جنگندههای': 790, 'گرچه': 789, 'صدد': 789, 'ظرفیت\\u200cهای': 789, 'جغرافیایی': 789, 'میلان': 789, 'سلطان': 788, 'نیک': 788, 'سجاد': 786, 'پیشکسوتان': 786, 'زیرساختهای': 786, 'شکلی': 785, 'مایکل': 785, 'تهیهکننده': 785, 'ایراد': 785, 'امتیازی': 785, 'فرابورس': 785, 'قراردادی': 784, 'گستردهای': 784, 'ببینیم': 784, 'پراکنده': 784, 'نداشتیم': 784, 'روبه': 784, 'هموطنان': 784, 'ساحل': 784, 'گیاه': 784, 'لوتوس': 784, 'پژوهشگر': 783, 'کاظم': 783, 'بدی': 783, 'خانواده\\u200cهای': 783, 'مشکوک': 783, 'برسانند': 783, 'بزرگوار': 782, 'شهرام': 782, 'خوشحالم': 782, 'قاتل': 782, 'وحشت': 782, 'دهقان': 782, 'پژوهشگاه': 782, 'مبارز': 782, 'آرش': 781, 'ابوالفضل': 779, 'نوای': 779, 'مشورت': 779, 'بخاطر': 778, 'امیرحسین': 778, 'میشویم': 778, 'شصت': 778, 'شناس': 778, 'صنعتتجارت': 778, 'کشیده': 777, 'آزمایشگاه': 777, 'گریه': 777, 'تحکیم': 777, 'اسب': 777, 'مسی': 777, 'طرفدار': 777, 'کسری': 777, 'تدارکاتی': 777, 'دادستانی': 777, 'سطحی': 776, 'صبا': 775, 'منظر': 775, 'پوستر': 774, 'چشمگیر': 774, 'مطلبی': 774, 'اعصاب': 774, 'میخورد': 773, 'جنین': 773, 'دارا': 773, 'دوچرخه': 773, 'یادشده': 773, 'ضریب': 772, 'بصیرت': 772, 'همگانی': 772, 'دوگانه': 772, 'مرمت': 771, 'ق': 771, 'غیرمجاز': 771, 'موافقتنامه': 771, 'اثری': 770, 'پناه': 770, 'فریب': 770, 'شانه': 770, 'اشک': 770, 'هشتمین': 769, 'بردارد': 769, 'واقعه': 769, 'اجباری': 769, 'مایل': 769, 'ساعته': 768, 'گفته_می\\u200cشود': 768, 'انضباطی': 768, 'برابری': 768, 'گالری': 767, 'اسفندماه': 767, 'مفاهیم': 767, 'ائمه': 767, 'حیاتی': 767, 'ریسک': 766, 'خسته': 766, 'چرب': 766, 'میگویم': 765, 'حرکتی': 765, 'پدرش': 765, 'مونیخ': 765, 'روانه': 765, 'باقیمانده': 765, 'باختری': 765, 'اسدی': 764, 'زینب': 764, 'تصویربرداری': 764, 'لرستان': 764, 'پیراهن': 764, 'شهریار': 763, 'پیگیر': 763, 'کبد': 763, 'گودرزی': 762, 'مطلوبی': 762, 'سیمای': 762, 'حدودی': 762, 'طارمی': 762, 'باشم': 761, 'برایش': 761, 'سنین': 761, 'فرض': 761, 'یهودی': 760, 'اضطراری': 760, 'تنیس': 760, 'مادران': 759, 'سالاری': 759, 'سعادت': 758, 'نمادهای': 758, 'بزرگتر': 757, 'انداخت': 757, 'باری': 757, 'تغییری': 756, 'مواجهه': 756, 'مشاوران': 756, 'گزارشها': 756, 'توانمند': 756, 'خسارات': 756, 'شعب': 756, 'پارکینگ': 756, 'توانبخشی': 756, 'عزیزان': 755, 'جیم': 755, 'گمان': 755, 'منهدم': 755, 'بیایند': 754, 'عکاس': 754, 'زیان': 754, 'میدانیم': 754, 'ابر': 754, 'شیطان': 754, 'مهمتر': 753, 'شرعی': 753, 'افسر': 753, 'می\\u200cدهیم': 753, 'رونالدو': 753, 'تشییع': 752, 'نامه\\u200cای': 752, 'جلد': 751, 'بالستیک': 751, 'خواهند_داد': 750, 'دقیقا': 750, 'تان': 750, 'اطلاعیه': 750, 'موتلفه': 750, 'زیستی': 749, 'یادداشت': 749, 'کشورشان': 749, 'نداده_است': 748, 'اهتمام': 748, 'مزایای': 748, 'دهندگان': 748, 'رسما': 747, 'ترسیم': 747, 'إن': 747, 'فرود': 747, 'زور': 746, 'ادعاهای': 746, 'الذین': 746, 'پ': 745, 'دموکراتیک': 745, 'آویو': 745, 'پیشنهادات': 744, 'کمپانی': 743, 'نسبتا': 743, 'مندان': 743, 'براینکه': 743, 'آله': 743, 'تعویق': 743, 'ساخته_شده_است': 742, 'گردان': 742, 'عقل': 742, 'آملی': 742, 'دهی': 742, 'پکن': 742, 'دیپلمات': 742, 'گواهی': 741, 'مرتبه': 741, 'منشور': 741, 'اولویتهای': 741, 'ستارگان': 740, 'شاخه': 740, 'رفتم': 740, 'صاف': 740, 'مکلف': 740, 'کمدی': 739, 'حجاج': 739, 'امینی': 739, 'نکنیم': 738, 'شنیدن': 738, 'کلمات': 738, 'افراط': 738, 'گرامیداشت': 738, 'حبیب': 737, 'خواهیم_داد': 736, 'اعتدال': 736, 'تدارک': 736, 'معین': 736, 'شریک': 736, 'ویتنام': 736, 'خلاقیت': 735, 'رفتاری': 735, 'فرآوردههای': 735, 'نهایتا': 735, 'محبوب': 734, 'خودکشی': 734, 'حفاری': 734, 'چمران': 734, 'آمارهای': 734, 'امان': 733, 'تعجب': 733, 'ناکام': 733, 'آنرا': 733, 'منعقد': 733, 'تقاطع': 733, 'کارگیری': 732, 'حیدر': 732, 'دوازده': 732, 'کیا': 732, 'دستاورد': 731, 'چرخ': 731, 'وانت': 731, 'خلبان': 731, 'کابل': 731, 'میگذرد': 730, 'سازمانها': 730, 'ماهواره': 730, 'تاجیکستان': 730, 'بازیها': 729, 'سازندگی': 729, 'تائید': 729, 'رشت': 729, 'یاران': 728, 'تظاهرکنندگان': 728, 'هاشم': 727, 'لو': 726, 'آتشبس': 726, 'هدفمند': 725, 'رودخانه': 725, 'پتانسیل': 725, 'بررسیهای': 725, 'ناپذیر': 724, 'گرفته_شد': 724, 'پاسخگوی': 724, 'بگذارید': 724, 'میلیونی': 724, 'خودگردان': 724, 'مناطقی': 723, 'بازرسان': 723, 'توییتر': 723, 'کارآفرینی': 723, 'حزبی': 723, 'خسرو': 722, 'سازان': 722, 'مسلحانه': 722, 'باش': 722, 'معتقدیم': 722, 'مقاوم': 722, 'امدادی': 722, 'خوراک': 721, 'بها': 721, 'تعزیرات': 721, 'فیلیپین': 721, 'دخانیات': 721, 'مایه': 720, 'عده\\u200cای': 720, 'معطوف': 720, 'مرزها': 720, 'نوسانات': 720, 'پرداخته': 719, 'روشنی': 719, 'مازاد': 719, 'دیداری': 718, 'میزنند': 718, 'تعبیر': 718, 'بیمارستانها': 718, 'شارژ': 718, 'کارآگاهان': 717, 'مقداری': 717, 'سوق': 717, 'سرکرده': 717, 'رویدادهای': 716, 'زحمت': 716, 'عادت': 716, 'انکار': 716, 'ویدئو': 716, 'تراکتور': 716, 'مرگبار': 715, 'مساحت': 714, 'راه\\u200cهای': 714, 'مسلط': 713, 'ابزاری': 713, 'حکیم': 713, 'کمکی': 713, 'آشتی': 713, 'مصنوعی': 713, 'اکبری': 712, 'جمال': 712, 'راحل': 712, 'خالد': 712, 'رویارویی': 712, 'میآیند': 711, 'اشعار': 711, 'سلیمان': 711, 'حرفه': 711, 'می\\u200cآورد': 710, 'استمرار': 710, 'مردادماه': 710, 'صریح': 710, 'ناگهانی': 710, 'کریمه': 710, 'منچستر': 710, 'چلسی': 710, 'افق': 709, 'نمیدهد': 709, 'یگان': 708, 'فرهنگسرای': 708, 'بازیافت': 708, 'نیمکت': 708, 'بنی': 707, 'سرپرستی': 707, 'هندی': 706, 'بهنام': 706, 'شهریورماه': 706, 'غدیر': 706, 'نبودند': 706, 'گروهها': 706, 'دستمزد': 706, 'منفجر': 705, 'الیوم': 705, 'تعاملات': 705, 'کامپیوتر': 705, 'فیلمسازان': 704, 'حرام': 704, 'مأموران': 704, 'خاندان': 703, 'مدار': 703, 'مجامع': 703, 'برخورداری': 703, 'عذرخواهی': 703, 'قضات': 703, 'استعدادهای': 702, 'دراز': 702, 'گامهای': 702, 'ولایتی': 702, 'تضمینی': 702, 'غم': 701, 'دولتها': 701, 'نمایید': 701, 'آرمانهای': 700, 'مساوی': 700, 'بداند': 699, 'پنجره': 699, 'متوالی': 699, 'محوری': 699, 'نهی': 699, 'مغلوب': 699, 'قالیباف': 698, 'معلولان': 698, 'اشرف': 697, 'آزادگان': 697, 'تب': 697, 'اله': 697, 'نمودن': 697, 'پنتاگون': 697, 'کوچکی': 696, 'سرشار': 696, 'بچهها': 696, 'آرمان': 696, 'مذاکراتی': 696, 'یازده': 695, 'فلسفه': 695, 'محمدحسین': 695, 'ارتکاب': 695, 'اتوماتیک': 695, 'گذاشتند': 694, 'وقایع': 694, 'اشتباهات': 694, 'پاپ': 693, 'میبینیم': 693, 'مامور': 693, 'دوحه': 693, 'زعفران': 693, 'گزارشات': 693, 'درونی': 692, 'نگار': 692, 'سربازی': 692, 'می\\u200cافزاید': 692, 'روال': 692, 'احراز': 692, 'دستکم': 692, 'بروید': 692, 'وادار': 691, 'واشینگتن': 691, 'عادلانه': 690, 'نوشتن': 690, 'جیب': 690, 'مابقی': 690, 'تسویه': 690, 'خودکار': 690, 'خردادماه': 689, 'رحم': 689, 'می\\u200cزند': 689, 'باهنر': 689, 'بالگرد': 689, 'بهادار': 689, 'غیرنظامی': 689, 'عاشق': 688, 'هوش': 688, 'پرداختن': 688, 'ذهنی': 688, 'پایگاههای': 688, 'ختم': 688, 'آزمایشی': 687, 'طرحها': 687, 'درختان': 687, 'رنگی': 687, 'الرحمن': 686, 'تجارب': 685, 'پویا': 685, 'صف': 685, 'خانه\\u200cهای': 685, 'جادهای': 685, 'برلین': 684, 'انتصاب': 684, 'جیمز': 684, 'منطق': 684, 'عصبی': 684, 'مشترکی': 683, 'محبوبیت': 683, 'وبسایت': 683, 'پرسی': 683, 'ترمیم': 682, 'واجد': 682, 'فرماندار': 682, 'سودان': 682, 'روش\\u200cهای': 681, 'نمایشنامه': 681, 'منازل': 681, 'پیشرفتهای': 680, 'میپردازند': 680, 'شواهد': 680, 'میکردم': 680, 'کرامت': 679, 'تیم\\u200cها': 679, 'میدانم': 678, 'اردوهای': 678, 'دقیقی': 677, 'اسکار': 677, 'شانزدهم': 677, 'طرفهای': 677, 'دانشبنیان': 676, 'دشمنی': 676, 'صراحت': 676, 'فضلی': 676, 'افزون': 676, 'کیم': 676, 'فاضلاب': 676, 'ملتها': 676, 'بگذاریم': 675, 'عقد': 675, 'اجتماع': 674, 'مؤسسات': 674, 'نوبخت': 673, 'بخواهند': 673, 'مهیا': 672, 'ترغیب': 672, 'داروها': 672, 'آسیب\\u200cهای': 671, 'منتقد': 671, 'بست': 671, 'پاسخگو': 671, 'شکنجه': 671, 'روانشناس': 671, 'برکناری': 671, 'تعمیر': 670, 'تاثیری': 669, 'حکمت': 669, 'ایثار': 669, 'بیمارستانهای': 669, 'مکمل': 668, 'عربستانی': 668, 'زده_است': 667, 'جایگزینی': 667, 'سرزمینهای': 666, 'مرتب': 666, 'شتاب': 666, 'شورشیان': 666, 'آنهاست': 665, 'غفلت': 665, 'راز': 665, 'جلسهای': 665, 'کارآمد': 665, 'برکنار': 665, 'لرزه': 664, 'سرتیپ': 664, 'صیانت': 664, 'پشتوانه': 664, 'فروشگاه': 664, 'تصدی': 664, 'مقیم': 664, 'شیشه': 663, 'ربوده': 663, 'مقدمات': 663, 'کودتای': 663, 'فتا': 663, 'انتقادات': 662, 'جانبی': 662, 'خدای': 662, 'می\\u200cبرند': 662, 'تیمها': 662, 'پیوسته': 661, 'باستانی': 661, 'نعمتی': 661, 'نداشته_باشند': 661, 'انگشت': 661, 'سارق': 661, 'وری': 661, 'ستون': 660, 'سلیمی': 660, 'شرکت\\u200cها': 659, 'برگزیدگان': 659, 'ناشران': 659, 'طیف': 659, 'خیال': 659, 'چوب': 659, 'غرق': 659, 'یهودیان': 659, 'داریوش': 658, 'صفحات': 658, 'رسیدیم': 658, 'جرائم': 657, 'نصرالله': 657, 'جنابعالی': 657, 'طوفان': 657, 'احساسات': 657, 'تختی': 657, 'حرفی': 656, 'پرسنل': 656, 'شهریه': 656, 'خانواده\\u200cها': 656, 'یوونتوس': 656, 'سرای': 655, 'واژه': 655, 'تعاونی': 655, 'فرستاده': 655, 'سبزی': 655, 'مستلزم': 654, 'سرگئی': 654, 'بیماریها': 654, 'خطا': 652, 'صحبت\\u200cهای': 652, 'امتحان': 652, 'مخلوط': 652, 'افسران': 651, 'بنیادی': 651, 'سالیانه': 651, 'کمپ': 651, 'احیا': 650, 'سیاستمداران': 650, 'متحمل': 650, 'امتیازات': 650, 'ناخالص': 650, 'برنامه\\u200cای': 649, 'شهرت': 648, 'حریق': 648, 'ندهد': 648, 'یادگیری': 648, 'کفش': 648, 'نوید': 647, 'تلاوت': 647, 'انبوه': 647, 'مخابرات': 647, 'امیرکبیر': 647, 'آمریکاست': 646, 'أن': 646, 'جنگنده\\u200cهای': 646, 'غیرنظامیان': 645, 'کلاهبرداری': 645, 'کسانى': 645, 'گمرکی': 645, 'میدهم': 645, 'ارتفاعات': 645, 'بردند': 645, 'مکتب': 644, 'داران': 644, 'تبعیض': 644, 'قرعه': 644, 'مسیرهای': 644, 'خبرنگارانبه': 644, 'انحراف': 643, 'خریداران': 643, 'باردار': 643, 'بدتر': 643, 'اصولگرا': 643, 'شخصیتی': 642, 'جمهوریخواهان': 642, 'گذشته_است': 641, 'درگیریهای': 641, 'مبادله': 641, 'خطرات': 641, 'پیروی': 641, 'سیمرغ': 640, 'مرکل': 640, 'قید': 639, 'ناشناس': 639, 'آحاد': 639, 'همیشگی': 638, 'علاقهمندان': 638, 'جلیلی': 638, 'غافل': 638, 'مقصر': 638, 'ایتالیایی': 638, 'عارضه': 638, 'سنای': 638, 'ضربات': 638, 'سیستمهای': 638, 'جودو': 638, 'بیدار': 637, 'گزارشگر': 637, 'بیروت': 637, 'گزارش\\u200cهای': 637, 'پروندههای': 637, 'انصراف': 636, 'اقامه': 636, 'سازماندهی': 636, 'سرنگونی': 636, 'کامرون': 635, 'تنفسی': 635, 'آئین': 634, 'ظاهری': 634, 'پاییز': 634, 'شاهین': 634, 'مطلق': 634, 'سیف': 634, 'همینطور': 634, 'بیاورد': 633, 'خودکفایی': 633, 'غلبه': 633, 'مفاسد': 633, 'پارالمپیک': 633, 'نمی\\u200cکنند': 632, 'مناظره': 632, 'پوستی': 632, 'لیتری': 632, 'دولتمردان': 631, 'داوود': 631, 'مکعب': 631, 'گوشه': 631, 'سبزیجات': 631, 'پروازهای': 631, 'شکلگیری': 630, 'برایشان': 630, 'جم': 630, 'پلاک': 629, 'اتفاقاتی': 629, 'اعتصاب': 629, 'کارلوس': 629, 'محضر': 628, 'بیستم': 628, 'جایگاهی': 628, 'زائر': 628, 'بگویند': 628, 'مؤسسه': 628, 'متخلف': 628, 'گردهمایی': 627, 'تبریزی': 627, 'لی': 627, 'مخصوصا': 627, 'صندوقهای': 627, 'بیانات': 626, 'آ': 626, 'طعم': 626, 'غرفه': 626, 'وحشیانه': 626, 'گزینههای': 626, 'تجویز': 626, 'تشکل': 626, 'گسترده\\u200cای': 626, 'وسعت': 625, 'زیتون': 625, 'زباله': 625, 'برسانیم': 624, 'استوار': 624, 'سارقان': 624, 'تولیدکننده': 624, 'اندیشی': 624, 'زانو': 624, 'تمهیدات': 624, 'عشایر': 623, 'بستن': 623, 'کارمند': 623, 'زمانیکه': 623, 'گرجستان': 623, 'همانگونه': 622, 'تماشاگر': 621, 'خسروی': 621, 'تاکسی': 621, 'بالینی': 621, 'توافقات': 621, 'ملوان': 621, 'شمس': 620, 'لحظات': 620, 'اواسط': 620, 'سروش': 620, 'چالوس': 620, 'وزرا': 619, 'انتظارات': 619, 'حصول': 619, 'محتوا': 618, 'بشود': 618, 'آماری': 618, 'کارگزاران': 618, 'سامانههای': 618, 'خانههای': 617, 'تمیز': 617, 'کتب': 617, 'عفونت': 617, 'تبلت': 616, 'پیر': 616, 'فرعی': 616, 'ناگهان': 616, 'دستان': 616, 'مانور': 616, 'تهاجم': 615, 'بازنشسته': 615, 'رایج': 615, 'سوز': 615, 'زیبای': 614, 'هنگ': 614, 'موشک\\u200cهای': 614, 'اولاند': 614, 'ساری': 613, 'کبیر': 613, 'وى': 613, 'آنهایی': 613, 'کنفدراسیون': 613, 'میماند': 612, 'ساختاری': 612, 'وجوه': 612, 'هجوم': 612, 'جزئی': 612, 'پیشرو': 611, 'طبیعتا': 611, 'امضاء': 611, 'مطالبه': 611, 'خواستند': 610, 'نموده_است': 610, 'محموله': 610, 'پرداختی': 610, 'ترکمنستان': 610, 'مددجویان': 610, 'بکشد': 609, 'یخ': 609, 'تلاشی': 609, 'دیپلم': 608, 'رایانهای': 608, 'میکردیم': 607, 'ولى': 607, 'قدری': 607, 'بروجردی': 607, 'انتقام': 607, 'بعضا': 606, 'افشار': 606, 'استخدامی': 606, 'نیما': 606, 'تگزاس': 606, 'فهم': 606, 'پرستاران': 606, 'موتورسیکلت': 606, 'درگیریها': 606, 'هستی': 605, 'کمر': 605, 'بشردوستانه': 605, 'ژاپنی': 604, 'ارقام': 604, 'بروکسل': 604, 'ارکان': 604, 'بخشنامه': 604, 'بانوی': 603, 'شیرینی': 603, 'بعدها': 603, 'بازگرداندن': 603, 'زایمان': 603, 'رامین': 602, 'فعالیتها': 602, 'مدتها': 602, 'عبدالرضا': 602, 'ساعتی': 601, 'نصف': 601, 'جزییات': 601, 'هفدهم': 601, 'جستجوی': 601, 'بکارگیری': 601, 'ابهام': 601, 'دبیری': 600, 'شجاع': 600, 'محمودی': 600, 'غبار': 600, 'عذاب': 600, 'می\\u200cخواهم': 600, 'الگو': 600, 'نتوانستند': 600, 'استخراج': 600, 'فریدون': 599, 'عیسی': 599, 'نمیکنم': 599, 'واجب': 599, 'معرفت': 599, 'سوختگی': 599, 'فیلم\\u200cها': 598, 'بابایی': 598, 'علیع': 598, 'مغازه': 598, 'خدایا': 598, 'تقابل': 598, 'لقب': 598, 'منوط': 598, 'خوراکی': 598, 'توکیو': 598, 'باتوجه': 597, 'ملزم': 597, 'کرمی': 596, 'کاشانی': 596, 'شایعه': 596, 'پلیسی': 596, 'تقلید': 596, 'زخم': 596, 'اللهم': 596, 'مایع': 596, 'تصادفات': 596, 'شجاعی': 595, 'بردارند': 595, 'سلسله': 595, 'مخرب': 595, 'ابو': 595, 'صعودی': 595, 'حالیست': 595, 'قال': 594, 'ممانعت': 594, 'ممتاز': 593, 'بارز': 593, 'معصومه': 593, 'عاملی': 593, 'یار': 593, 'بال': 593, 'مطمئنا': 593, 'تابعیت': 593, 'ولیعهد': 593, 'فقدان': 592, 'حسب': 592, 'میکشد': 592, 'قهوه': 592, 'نمودند': 592, 'اون': 592, 'اصولگرایی': 592, 'جامگان': 592, 'بهرهمند': 591, 'کتابی': 591, 'رحیم': 591, 'موکول': 591, 'داده_می\\u200cشود': 591, 'شناختی': 591, 'شاخصهای': 590, 'تعلیم': 590, 'وزیری': 590, 'مون': 590, 'عاملان': 590, 'ناکامی': 590, 'هواشناسی': 590, 'چادر': 589, 'بلیط': 589, 'مسالمت': 589, 'باشگاه\\u200cهای': 589, 'اظهاراتی': 589, 'یانگ': 589, 'حمص': 589, 'سالیان': 588, 'اخباری': 588, 'کارایی': 588, 'کهن': 588, 'برنامههایی': 587, 'تاثیرات': 587, 'استادان': 587, 'هیجان': 587, 'قارچ': 587, 'خونه': 586, 'دیلی': 586, 'فرصتهای': 586, 'ببیند': 586, 'آکادمی': 586, 'اینستاگرام': 586, 'کالیفرنیا': 586, 'کارکرد': 585, 'مندی': 585, 'رمان': 585, 'حکمی': 585, 'آپارتمان': 585, 'اپلیکیشن': 585, 'خ': 585, 'یابی': 585, 'سال\\u200cها': 584, 'قانع': 584, 'وسیع': 584, 'اقوام': 584, 'جابجایی': 584, 'چشمی': 584, 'غنیسازی': 584, 'هندبال': 584, 'پوشاک': 583, 'آییننامه': 583, 'آزمایشگاهی': 583, 'سارا': 582, 'اسپانیایی': 582, 'بازتاب': 582, 'معافیت': 582, 'اینطور': 581, 'عج': 581, 'بدیهی': 581, 'مغایر': 581, 'روانشناسی': 580, 'آرزو': 580, 'یکسال': 580, 'واحدها': 580, 'نامش': 580, 'بسیجی': 580, 'پروین': 580, 'مایکروسافت': 580, 'اسید': 580, 'مبتلایان': 580, 'خواهر': 579, 'محسنی': 579, 'تبعات': 579, 'میرساند': 579, 'آرایشی': 579, 'انصارالله': 579, 'شناسنامه': 578, 'ببینند': 578, 'خیانت': 578, 'اطلاعی': 578, 'وگو': 578, 'غربیها': 578, 'می\\u200cگذارد': 577, 'حبیبی': 577, 'اینجاست': 577, 'هوشیاری': 577, 'قوای': 577, 'راهآهن': 577, 'باورند': 577, 'عکاسان': 576, 'بهزاد': 576, 'تهیهکنندگی': 576, 'مجالس': 576, 'سایز': 576, 'اساسا': 575, 'حسنی': 575, 'بخشهایی': 575, 'گامی': 575, 'رقمی': 575, 'اضافی': 575, 'کودتا': 575, 'مگابایتنسخه': 575, 'لیسانس': 574, 'پانزدهم': 574, 'قلمداد': 574, 'سلفی': 574, 'عظمت': 573, 'افشین': 573, 'شایعات': 573, 'جزایر': 573, 'مزبور': 573, 'سیاستها': 573, 'افشای': 573, 'پانزده': 572, 'گره': 572, 'بسم': 572, 'بدهید': 572, 'توقع': 572, 'خاشقجی': 572, 'دوبله': 571, 'ملاک': 571, 'محافل': 571, 'دلایلی': 571, 'شکاف': 571, 'گوشیهای': 571, 'پالایش': 571, 'حداکثری': 571, 'معاونین': 571, 'خونریزی': 571, 'قیمت\\u200cها': 571, 'مبالغ': 570, 'برداشتن': 570, 'افزارهای': 570, 'لپ': 570, 'فرزاد': 569, 'حضورش': 569, 'انعقاد': 569, 'بنای': 568, 'سازندگان': 568, 'خبرهای': 568, 'تحلیلگر': 568, 'نمی\\u200cتوانند': 567, 'اضطراب': 567, 'الزام': 567, 'هزارو': 567, 'مضاعف': 566, 'جنتی': 566, 'چاقو': 566, 'بررسی\\u200cهای': 566, 'نمیکنیم': 566, 'تنگه': 566, 'اوزان': 566, 'تابع': 565, 'رهایی': 565, 'علیزاده': 565, 'راهنمای': 565, 'عروقی': 565, 'خانی': 564, 'تفاهمنامه': 564, 'دوام': 564, 'کلاه': 564, 'مهاجر': 564, 'تحرک': 564, 'حلی': 564, 'جانی': 564, 'بهارستان': 564, 'داده_بودند': 563, 'عزیزی': 563, 'رسوایی': 563, 'یورش': 563, 'فروپاشی': 563, 'سکته': 563, 'خنده': 562, 'جذابیت': 562, 'محدودیتهای': 562, 'آراء': 562, 'کرواسی': 562, 'احتیاج': 562, 'نداشتم': 562, 'بزنید': 562, 'دادسرای': 562, 'جسمانی': 561, 'داعشی': 561, 'چهرههای': 560, 'هزینهها': 560, 'گم': 560, 'بوسیله': 560, 'انتخابیه': 560, 'الهلال': 560, 'سخنانش': 559, 'اصفهانی': 559, 'فراهانی': 559, 'علما': 559, 'دارنده': 559, 'ورامین': 559, 'سیتی': 559, 'بهرهوری': 559, 'اولادی': 559, 'هراز': 559, 'می\\u200cگویم': 558, 'مادرش': 558, 'میباشند': 558, 'نرمافزار': 558, 'مرتفع': 558, 'میسر': 556, 'درگاه': 556, 'پرنده': 556, 'سواد': 556, 'وطن': 556, 'خطری': 556, 'می\\u200c': 556, 'تحلیلگران': 556, 'شنا': 555, 'ادغام': 555, 'باشگاههای': 555, 'دادهایم': 554, 'شکار': 554, 'تبعیت': 554, 'ناظران': 554, 'پیرو': 554, 'مسیری': 554, 'عواملی': 553, 'رایانه\\u200cای': 553, 'ارمغان': 553, 'مزمن': 553, 'سعودیها': 553, 'لوح': 552, 'امکانپذیر': 552, 'نظریه': 552, 'کارش': 552, 'کوچکترین': 552, 'میبایست': 552, 'شکسته': 552, 'ضمانت': 552, 'وات': 552, 'شکم': 551, 'آسمانی': 551, 'سادگی': 551, 'بازهم': 551, 'سکونت': 551, 'اعتکاف': 551, 'گوشی\\u200cهای': 551, 'آهنگ': 550, 'تقویم': 550, 'ماندگاری': 550, 'انداختن': 550, 'آنگاه': 550, 'انهدام': 550, 'زدایی': 550, 'صنعا': 550, 'اسیر': 549, 'آبیاری': 549, 'وسط': 549, 'گرافیک': 548, 'رفاهی': 548, 'قطب': 548, 'روزمره': 548, 'امواج': 548, 'جریانات': 547, 'عرصه\\u200cهای': 547, 'فرشته': 547, 'بیرانوند': 547, 'الاهلی': 547, 'عبادت': 546, 'یکمین': 546, 'بشریت': 546, 'ترانه': 546, 'علیهم': 546, 'طوریکه': 546, 'بهرهگیری': 546, 'الحاق': 546, 'می\\u200cبایست': 545, 'جماعت': 545, 'حسینیه': 545, 'فطر': 545, 'یازدهمین': 545, 'مارک': 545, 'می\\u200cافتد': 545, 'برداریم': 545, 'دقایق': 545, 'آقایی': 545, 'پهپاد': 545, 'کنیدحجم': 545, 'مگاوات': 545, 'کردهام': 544, 'تماشا': 544, 'دشواری': 544, 'کتبی': 544, 'طرز': 544, 'دانمارک': 544, 'نارضایتی': 544, 'کمپین': 543, 'عبدی': 543, 'تناسب': 543, 'لاتین': 543, 'ایرانیها': 543, 'مدام': 543, 'کشتن': 543, 'ژنتیکی': 543, 'حمایت\\u200cهای': 542, 'اسحاق': 542, 'نمیدانم': 542, 'شکستن': 542, 'دویست': 542, 'چابهار': 541, 'ماهانه': 541, 'عبد': 541, 'پاره': 541, 'روضه': 541, 'شاهزاده': 541, 'بایرن': 541, 'العربیه': 541, 'حرمت': 540, 'قیامت': 540, 'نباشند': 540, 'ولا': 540, 'فصلی': 540, 'کناره': 540, 'خودروسازی': 540, 'بیل': 540, 'فوقالعاده': 539, 'درآمده': 539, 'رازی': 539, 'درگیری\\u200cهای': 539, 'بندرعباس': 539, 'کشته_شد': 539, 'لک': 539, 'توبه': 539, 'توحید': 539, 'گاردین': 539, 'وسیعی': 539, 'وکلای': 539, 'قلیان': 539, 'خلع': 539, 'کنسولگری': 538, 'پرداخته_است': 538, 'مناقشه': 538, 'کاوه': 538, 'رابرت': 538, 'گشایش': 538, 'مضر': 538, 'دود': 538, 'شفیعی': 537, 'درخشش': 537, 'می\\u200cپردازند': 537, 'ارضی': 537, 'گذرگاه': 537, 'کماکان': 537, 'ایستاد': 537, 'یونسکو': 536, 'قربان': 536, 'افطار': 536, 'پدید': 536, 'کلمبیا': 536, 'بلندپایه': 536, 'ناو': 536, 'روادید': 535, 'داود': 535, 'خواهم_کرد': 535, 'نشریات': 535, 'سنگاپور': 535, 'ل': 535, 'بندهای': 535, 'الزامات': 535, 'لیورپول': 535, 'شناور': 534, 'بازی\\u200cها': 534, 'اظهارنظر': 534, 'آمده_بود': 533, 'مهمانان': 533, 'زمینهای': 533, 'واضح': 533, 'گیران': 533, 'هشتاد': 533, 'رؤسای': 533, 'بلاروس': 533, 'مأموریت': 532, 'مدافعان': 532, 'آموزش\\u200cهای': 532, 'متجاوز': 532, 'قوم': 531, 'نامزدی': 531, 'گلهای': 531, 'صداقت': 531, 'سرطانی': 530, 'ناراحتی': 530, 'بگویید': 530, 'خیابانهای': 530, 'بررسیها': 530, 'رنکینگ': 530, 'سالار': 529, 'دکترای': 529, 'تندیس': 529, 'مدیری': 529, 'خبرنگارحوزه': 529, 'روحانیون': 529, 'بازه': 529, 'زندانها': 529, 'بازیکنی': 529, 'دورهای': 528, 'رحمتی': 528, 'راستی': 528, 'یزدی': 528, 'خامنه\\u200cای': 528, 'یکسری': 527, 'غلامی': 527, 'حراست': 527, 'ناپدید': 527, 'حرارت': 527, 'میگفت': 527, 'آمبولانس': 527, 'گرانی': 527, 'جمشید': 526, 'سرود': 526, 'چالش\\u200cهای': 526, 'می\\u200cدانیم': 526, 'نیاوران': 525, 'داشتهایم': 525, 'باقر': 525, 'انجامید': 525, 'پایانه': 525, 'اتکا': 524, 'کرم': 524, 'پدرم': 524, 'مربیگری': 524, 'سانحه': 523, 'گرو': 523, 'میگرفت': 523, 'روشنایی': 523, 'افغان': 523, 'آمارها': 523, 'آرسنال': 523, 'پرستار': 522, 'کفر': 522, 'إلا': 522, 'درهم': 522, 'آخوندی': 522, 'کهگیلویه': 522, 'عنصر': 521, 'امروزی': 520, 'دیدیم': 520, 'ویدئویی': 520, 'جناح': 520, 'اتومبیل': 520, 'رأس': 520, 'نروژ': 520, 'اونس': 520, 'شرکای': 520, 'عاطفی': 519, 'نهادینه': 519, 'زا': 519, 'می\\u200cآیند': 519, 'ازجمله': 519, 'امامزاده': 519, 'اعتقادی': 519, 'وارده': 519, 'تقی': 518, 'نازل': 518, 'برآورده': 518, 'مجروحان': 518, 'معتادان': 518, 'میدادند': 518, 'فشارها': 518, 'فیسبوک': 518, 'التهاب': 518, 'امریکایی': 518, 'اقبال': 517, 'مظنون': 517, 'یقین': 517, 'می\\u200cباشند': 517, 'دانستند': 517, 'سمی': 517, 'خواهد_آمد': 516, 'شاکی': 516, 'مبارزات': 516, 'مجموعهای': 516, 'شوهر': 516, 'داراییهای': 516, 'همسایگان': 516, 'ماه\\u200cهای': 515, 'مجسمه': 515, 'عبادی': 515, 'هک': 515, 'امامی': 514, 'کشاورز': 514, 'لبنانی': 514, 'توانمندسازی': 514, 'پسران': 514, 'سیاره': 514, 'دستورات': 514, 'شهرستانها': 513, 'مبلغی': 513, 'فرق': 513, 'مشروعیت': 513, 'عضلات': 513, 'بازیگرانی': 512, 'مستندات': 512, 'صوت': 512, 'بنیانگذار': 512, 'تنگ': 512, 'اشتغالزایی': 512, 'نگیرد': 512, 'کما': 512, 'مجارستان': 512, 'کاندیداها': 512, 'دراستان': 512, 'داده\\u200cایم': 511, 'رحلت': 511, 'نمی\\u200cتوانیم': 511, 'رجبی': 511, 'بهطور': 511, 'یادگار': 511, 'طلبی': 511, 'زیرزمینی': 511, 'برخوردارند': 511, 'زارع': 510, 'بچههای': 510, 'بازبینی': 510, 'روى': 510, 'عن': 510, 'پیاپی': 510, 'ناتوانی': 510, 'چیزى': 510, 'مهمات': 510, 'بخشیدن': 510, 'اذیت': 510, 'هسته': 510, 'آفریقایی': 510, 'تفاوتی': 509, 'متکی': 509, 'مینماید': 509, 'تراز': 509, 'گفتار': 509, 'تنفس': 509, 'مندرج': 509, 'ناامنی': 509, 'بتوانم': 509, 'درگیری\\u200cها': 509, 'روایات': 508, 'مراکش': 508, 'کیروش': 508, 'همگرایی': 507, 'احضار': 507, 'معیشت': 507, 'سفره': 507, 'ذرات': 507, 'پخت': 507, 'پارچه': 507, 'صفوی': 506, 'گذراندن': 506, 'بیاورند': 506, 'تاپ': 506, 'خودروسازان': 506, 'همهی': 505, 'پرندگان': 505, 'یه': 505, 'ادلب': 505, 'ارسالی': 504, 'لطمه': 504, 'اصیل': 504, 'رفتیم': 504, 'ایرانی\\u200cها': 504, 'خواهد_ماند': 504, 'شربت': 504, 'توانمندیهای': 504, 'انفجاری': 504, 'واکسن': 504, 'فلوجه': 504, 'منوچهر': 503, 'پرشور': 503, 'المقدس': 503, 'جعل': 503, 'عده': 503, 'میشدند': 503, 'دانسته': 503, 'تبع': 503, 'می\\u200cخورد': 503, 'تفریحی': 503, 'بنز': 503, 'الانبار': 503, 'انعکاس': 502, 'میسازد': 502, 'ایکس': 502, 'مشکی': 502, 'کلیات': 502, 'سکوی': 502, 'گرگان': 501, 'هجری': 501, 'نکاتی': 501, 'سانتی': 501, 'فردوسی': 501, 'کاترین': 501, 'کلاسیک': 501, 'زمستانی': 501, 'تانک': 501, 'کتابخوانی': 501, 'درود': 501, 'میافزاید': 501, 'مصمم': 501, 'لایه': 501, 'تندرو': 501, 'فرآورده\\u200cهای': 501, 'لبنیات': 501, 'لیلا': 500, 'متذکر': 500, 'خوانده': 500, 'علاقمند': 500, 'باستان': 500, 'پیامک': 500, 'فرشاد': 500, 'سوى': 500, 'افتادن': 500, 'هفتگی': 499, 'نیکی': 499, 'بگو': 499, 'جنگهای': 499, 'نرسید': 499, 'جمعیتی': 499, 'سعیدی': 498, 'تله': 498, 'انس': 498, 'گرفتگی': 498, 'مسیحی': 497, 'فروشنده': 497, 'لشکر': 497, 'سایتهای': 497, 'کنگ': 497, 'یارانه\\u200cها': 497, 'کاشان': 496, 'مهربان': 496, 'سیار': 496, 'خواستههای': 496, 'شنیده': 496, 'اینجانب': 495, 'فضل': 495, 'رضاع': 495, 'یکى': 495, 'نرسیده_است': 495, 'شاغل': 495, 'معاهده': 495, 'کتاب\\u200cهای': 494, 'شریعتی': 494, 'عسگری': 494, 'بدل': 494, 'مینویسد': 493, 'فقه': 493, 'تکریم': 493, 'ران': 493, 'برمی': 493, 'فى': 493, 'ریاضی': 493, 'صربستان': 493, 'پروتئین': 493, 'سفری': 492, 'خوشحالی': 492, 'رفیعی': 492, 'تفرقه': 492, 'گنبد': 492, 'درهای': 492, 'مزارع': 492, 'میرفت': 491, 'بهبودی': 491, 'نشدند': 491, 'ایرج': 491, 'مستضعفین': 491, 'فول': 491, 'آفرین': 491, 'خشکی': 491, 'الاقصی': 491, 'مصادیق': 490, 'معیار': 490, 'ذی': 490, 'غریب': 490, 'رسانده_است': 490, 'وحش': 490, 'جهانبخش': 490, 'اجساد': 490, 'نماند': 490, 'دوپینگ': 490, 'میدانید': 489, 'سوگند': 489, 'فیلتر': 489, 'بانکداری': 489, 'نائب': 489, 'فاسد': 488, 'دیدگاههای': 488, 'طراحان': 488, 'بیگناه': 488, 'تطبیق': 488, 'سگ': 488, 'داشته_باشم': 488, 'دکمه': 488, 'شایع': 488, 'پسماند': 488, 'میرزا': 487, 'مسلما': 487, 'ارکستر': 487, 'صورتیکه': 487, 'شریفی': 487, 'تلاشها': 487, 'پاسدار': 487, 'ترانزیت': 487, 'پذیرفت': 486, 'بپردازیم': 486, 'بازماندگان': 486, 'کارگاههای': 486, 'همایون': 486, 'مستقیما': 486, 'چهارمحال': 486, 'درنظر': 486, 'معترض': 486, 'دما': 486, 'لاله': 485, 'کپی': 485, 'دیدنی': 485, 'قفل': 485, 'تأثیرگذار': 485, 'بزنیم': 485, 'گردآوری': 485, 'عفو': 485, 'اسارت': 485, 'نوزادان': 485, 'شگفت': 485, 'پایگاه\\u200cهای': 485, 'عمره': 485, 'پرورشی': 485, 'بالقوه': 484, 'اعضاء': 484, 'نگرش': 484, 'بدو': 484, 'تحلیلی': 483, 'منشا': 483, 'خراب': 483, 'معیارهای': 483, 'نشستهای': 483, 'مواصلاتی': 483, 'شهرداریها': 483, 'دهمین': 482, 'نتواند': 482, 'منصوری': 482, 'کنوانسیون': 482, 'خرده': 482, 'صهیونیست\\u200cها': 482, 'گوجه': 482, 'رویکردهای': 481, 'عبدالعزیز': 481, 'میتوانست': 481, 'پاسخی': 481, 'لب': 481, 'گفتگویی': 481, 'نگرفت': 481, 'زنجیره': 481, 'کاشت': 481, 'تحرکات': 481, 'یاس': 480, 'خاصیت': 480, 'همدیگر': 480, 'درآورد': 480, 'جنگل': 480, 'الا': 480, 'ملت\\u200cهای': 480, 'بحرینی': 480, 'امامت': 480, 'ملحق': 480, 'آواره': 480, 'تلآویو': 480, 'کادرفنی': 480, 'آنچنان': 479, 'تکنیک': 479, 'هیچکس': 479, 'خاتم': 479, 'اسکی': 479, 'قرص': 479, 'الزامی': 479, 'شعارهای': 479, 'کاندیداهای': 479, 'استعمار': 479, 'سیمان': 478, 'می\\u200cداد': 478, 'دانشمند': 478, 'تاثیرگذاری': 478, 'فراموشی': 478, 'مصداق': 478, 'مکتوب': 478, 'خرسندی': 478, 'مغرب': 478, 'بنگلادش': 478, 'کارگری': 478, 'بازجویی': 478, 'دندانپزشکی': 478, 'شطرنج': 477, 'اذان': 477, 'سرما': 477, 'بحثهای': 477, 'سازش': 477, 'صدرنشین': 477, 'تصفیه': 477, 'گریم': 476, 'نکردیم': 476, 'نمایان': 476, 'هو': 476, 'دبی': 476, 'کالری': 476, 'یونایتد': 476, 'بزودی': 475, 'نوشته_است': 475, 'اینک': 475, 'ناچار': 475, 'سلب': 475, 'برهم': 475, 'آر': 475, 'خانمها': 475, 'مضمون': 474, 'اولویت\\u200cهای': 474, 'آستان': 474, 'عهد': 474, 'وصل': 474, 'راهیان': 474, 'خونین': 474, 'سلطنتی': 474, 'معارضان': 474, 'ادای': 473, 'سلیقه': 473, 'نیامده': 473, 'نتوانسته': 473, 'شجاعت': 473, 'ایستگاههای': 473, 'قبر': 473, 'روزنامههای': 473, 'نمایشگر': 473, 'هوادار': 473, 'تأسیسات': 472, 'ارزشمندی': 472, 'هدر': 472, 'خورده_است': 472, 'اخطار': 472, 'پناهجویان': 472, 'منتظری': 471, 'اشراف': 471, 'ساخته_است': 471, 'صمیمی': 471, 'مشروط': 471, 'فرهادی': 471, 'اعطا': 471, 'میهن': 471, 'خیابانها': 471, 'برنت': 471, 'کلسیم': 471, 'فرمایشات': 470, 'بچه\\u200cها': 470, 'مطالبی': 470, 'نامی': 470, 'آلزایمر': 470, 'یزدانی': 470, 'خرم': 470, 'اندام': 470, 'مدیترانه': 470, 'پیونگ': 470, 'مزدوران': 470, 'تورنمنت': 470, 'تأخیر': 469, 'ژانر': 469, 'مصدومان': 469, 'دیده_می\\u200cشود': 468, 'سیامک': 468, 'می\\u200cگذرد': 468, 'کیست': 468, 'بخورد': 468, 'رقبای': 468, 'شیمی': 468, 'عالیات': 468, 'سیستم\\u200cهای': 468, 'انگار': 468, 'ایست': 468, 'دینار': 468, 'نساجی': 468, 'استارت': 467, 'شامگاه': 467, 'نکرده\\u200cاند': 467, 'قومی': 467, 'دفترچه': 467, 'دفن': 466, 'شعبان': 466, 'شکوه': 466, 'جولان': 466, 'تقلب': 466, 'انتهایپیام': 466, 'کیسه': 466, 'مجریه': 466, 'پیاز': 466, 'اینچی': 466, 'نمایشگاهی': 465, 'راد': 465, 'تجربی': 465, 'بازاریابی': 465, 'آذری': 465, 'مقادیر': 465, 'روده': 465, 'شرکتی': 464, 'مراسمی': 464, 'دقیقه\\u200cای': 464, 'الرحیم': 464, 'کلاسهای': 464, 'عطر': 464, 'غالب': 464, 'داروسازی': 464, 'آشپزخانه': 464, 'نسیم': 463, 'برروی': 463, 'نمی\\u200cدهد': 463, 'بهصورت': 463, 'عاشقانه': 462, 'امنای': 462, 'عجیبی': 462, 'میلیونها': 462, 'اچ': 462, 'سپر': 462, 'سرمایهگذاران': 462, 'شوت': 462, 'گلی': 461, 'دوازدهمین': 461, 'رکن': 461, 'لازمه': 461, 'دخیل': 461, 'تهدیدهای': 461, 'اصلی\\u200cترین': 461, 'آسیای': 461, 'عروق': 461, 'اثرگذار': 460, 'کامران': 460, 'رستوران': 460, 'مستعد': 460, 'یوم': 460, 'چاه': 460, 'رجایی': 460, 'پیمانکاران': 460, 'دیرالزور': 460, 'رستمی': 459, 'نصیب': 459, 'کاردانی': 459, 'خادم': 459, 'آسوشیتدپرس': 459, 'تاکتیکی': 459, 'سرور': 458, 'عواقب': 458, 'انجمنهای': 458, 'بلومبرگ': 458, 'یخچال': 458, 'سیزدهم': 457, 'میخواهید': 457, 'بازگردد': 457, 'فرانک': 456, 'سویی': 456, 'دایره': 456, 'فرستاد': 456, 'روبهرو': 456, 'گزینش': 456, 'تابستانی': 456, 'ابلاغی': 456, 'فراغت': 455, 'سهولت': 455, 'ببرید': 455, 'ابوبکر': 455, 'اسنودن': 455, 'فرهنگسازی': 454, 'بمانند': 454, 'توضیحاتی': 454, 'زوجین': 454, 'جنایی': 454, 'سوءاستفاده': 454, 'جریانهای': 454, 'ندهند': 454, 'فیلمساز': 453, 'منعکس': 453, 'ناب': 453, 'امدادرسانی': 453, 'افزایی': 453, 'آلات': 453, 'بیکار': 453, 'دامپزشکی': 453, 'فنآوریهای': 453, 'برگرفته': 452, 'چهاردهم': 452, 'افتخارات': 452, 'لابی': 452, 'فرمول': 452, 'مردمان': 452, 'احوال': 452, 'گروگان': 452, 'سعدی': 452, 'راهداری': 452, 'لیوان': 452, 'جلساتی': 451, 'حیث': 451, 'معتاد': 451, 'خطای': 451, 'شمسی': 450, 'صداوسیما': 450, 'کش': 450, 'همکاریها': 450, 'روزنامه\\u200cهای': 450, 'سم': 449, 'ویران': 449, 'مهارتی': 449, 'تجمیع': 449, 'تنظیمات': 449, 'سرمایههای': 448, 'شر': 448, 'هوشمندانه': 448, 'اختراع': 448, 'بصری': 447, 'عرفان': 447, 'قدمت': 447, 'خداى': 447, 'سئوال': 447, 'دریغ': 447, 'سجادی': 447, 'میلی': 447, 'خریدار': 447, 'ادیان': 446, 'مجیدی': 446, 'هزینهای': 446, 'کابین': 446, 'کرده\\u200cام': 446, 'ستم': 446, 'شوخی': 446, 'متقاعد': 446, 'بانک\\u200cهای': 446, 'نمیرسد': 446, 'بافتهای': 446, 'بوم': 445, 'همدردی': 445, 'فلزی': 445, 'تعدیل': 445, 'اصلاحطلب': 445, 'عاشورایی': 444, 'دروس': 444, 'سیروس': 444, 'پسند': 444, 'مجرم': 444, 'سرویسهای': 444, 'دموکراتها': 444, 'قابلیتهای': 443, 'حوالی': 443, 'اصلیترین': 443, 'زندانهای': 443, 'جوش': 443, 'گفتیم': 443, 'رب': 443, 'سریعا': 443, 'حمد': 442, 'روزگار': 442, 'آداب': 442, 'پذیرایی': 442, 'معلول': 442, 'همسرم': 442, 'می\\u200cسازد': 442, 'نمای': 442, 'قاچاقچیان': 442, 'یگانهای': 442, 'گیگابایت': 442, 'یکجانبه': 442, 'جشنوارههای': 441, 'ارزش\\u200cهای': 441, 'خواهیم_شد': 441, 'می\\u200cزنند': 441, 'بعدازظهر': 441, 'نزولی': 441, 'سینماگران': 440, 'ولادت': 440, 'بدهم': 440, 'شهرستانهای': 440, 'مرتضوی': 440, 'توازن': 440, 'ربیعی': 440, 'تماشاخانه': 439, 'می\\u200cشویم': 439, 'گناهان': 439, 'برانگیز': 438, 'حمام': 438, 'کشیدند': 438, 'مسوولان': 438, 'خلاق': 438, 'ادعایی': 438, 'نیشابور': 437, 'فانی': 437, 'ساعاتی': 437, 'درآمدی': 437, 'اعراب': 437, 'شیلی': 437, 'کمرنگ': 436, 'متوسطه': 436, 'میثاق': 436, 'پروتکل': 436, 'شکلات': 436, 'کت': 436, 'متخصصین': 436, 'مترمکعب': 436, 'لبخند': 435, 'زاویه': 435, 'مهارتهای': 435, 'جنجالی': 435, 'صلى': 435, 'نشستن': 435, 'عینی': 434, 'پادشاهی': 434, 'کردی': 434, 'عمار': 434, 'سنجی': 434, 'نخبه': 434, 'یو': 434, 'دادرسی': 434, 'خبرنگاری': 433, 'ستایش': 433, 'رویکردی': 433, 'متون': 433, 'هرکدام': 433, 'نشانگر': 433, 'گزینه\\u200cهای': 433, 'تملک': 433, 'اهانت': 432, 'بگیرم': 432, 'حقایق': 432, 'گفتدر': 432, 'میرزایی': 432, 'تمجید': 432, 'پیچ': 432, 'استثنایی': 432, 'توئیتر': 432, 'شانگهای': 432, 'واگن': 432, 'کروز': 432, 'ساختمانهای': 432, 'وست': 432, 'روپیه': 432, 'مادرم': 431, 'مذاهب': 431, 'کسر': 431, 'بمبگذاری': 431, 'احتساب': 431, 'اسباب': 430, 'مالکی': 430, 'قرقیزستان': 430, 'قضائی': 430, 'متواری': 429, 'جهنم': 429, 'بعدا': 429, 'ترخیص': 429, 'مقطعی': 429, 'گفته\\u200cاند': 429, 'ترکی': 429, 'مصارف': 429, 'قواعد': 428, 'شبهای': 428, 'بخار': 428, 'میانی': 428, 'مشهود': 427, 'بیننده': 427, 'پذیرای': 427, 'مملکت': 427, 'رشوه': 427, 'بینایی': 427, 'فرزانه': 427, 'بریتانیا': 427, 'ناامید': 427, 'المنار': 427, 'ستاری': 427, 'فارابی': 426, 'نمیدهند': 426, 'دستگاه\\u200cها': 426, 'دانه': 426, 'پردازنده': 426, 'نشانان': 425, 'شباهت': 425, 'التحصیلان': 425, 'نینوا': 425, 'بروم': 425, 'پرتقال': 425, 'مخابراتی': 425, 'آجیل': 425, 'ذات': 424, 'آزاده': 424, 'کرددر': 424, 'شین': 424, 'روشی': 424, 'حلال': 424, 'دلخواه': 424, 'قدرت\\u200cهای': 424, 'مهندسین': 424, 'فیبر': 424, 'ر': 423, 'سالهاست': 423, 'منش': 423, 'صمیمانه': 423, 'منزله': 423, 'دولت\\u200cهای': 423, 'هفته\\u200cهای': 423, 'تعرض': 423, 'اطفال': 423, 'گازهای': 423, 'هزینه\\u200cها': 422, 'متولیان': 422, 'موعد': 422, 'پنجه': 422, 'پسرش': 422, 'رواج': 422, 'منطبق': 422, 'بیمهها': 422, 'العبادی': 422, 'نکردم': 421, 'رسیده_بود': 421, 'نمیشوند': 421, 'بالعکس': 421, 'نکردهاند': 421, 'کاران': 420, 'قاعده': 420, 'کان': 420, 'تحسین': 419, 'بالاتری': 419, 'هموار': 419, 'علیخانی': 419, 'حدادی': 419, 'هرمز': 419, 'ناسالم': 419, 'علاقهمند': 419, 'تحلیف': 419, 'بیعت': 419, 'بابل': 419, 'ترکیبات': 419, 'اجماع': 419, 'السد': 419, 'جلسه\\u200cای': 418, 'خصوصیات': 418, 'سیزده': 418, 'منسجم': 418, 'معجزه': 418, 'تمامیت': 418, 'ندهید': 418, 'موادی': 418, 'فرصت\\u200cهای': 418, 'توانسته_است': 418, 'موضعی': 418, 'سرگرم': 417, 'نیایش': 417, 'برزیلی': 417, 'اندرکاران': 417, 'آسانی': 417, 'هراس': 417, 'ندادند': 417, 'استادیوم': 417, 'اسکای': 417, 'زودهنگام': 417, 'موفقیتهای': 416, 'جالبی': 416, 'شخصیت\\u200cهای': 416, 'دلم': 416, 'میدارد': 416, 'فلج': 416, 'صدیقی': 416, 'باشگاهی': 416, 'اینچ': 416, 'اندرویدنوع': 416, 'دختری': 415, 'گمنام': 415, 'ویرایش': 415, 'معناست': 415, 'خواسته\\u200cهای': 415, 'ها': 415, 'خشکسالی': 415, 'خمپاره': 415, 'بیژن': 414, 'رمضانی': 414, 'خنک': 414, 'همهپرسی': 414, 'پیگیریهای': 413, 'زرین': 413, 'نمایشگاههای': 413, 'شأن': 413, 'نرسیده': 413, 'خواندند': 413, 'پلاسکو': 413, 'عکسهای': 413, 'فرید': 413, 'گفته_شد': 413, 'سازگار': 413, 'اذهان': 413, 'مسافرت': 413, 'گواهینامه': 413, 'دریانوردی': 413, 'تعریض': 413, 'اشتباهی': 412, 'جنجال': 412, 'دیماه': 412, 'سومالی': 412, 'کندی': 412, 'پیک': 412, 'پژمان': 411, 'دقیقهای': 411, 'نشده_بود': 411, 'استقامت': 411, 'برمیگردد': 411, 'معلق': 411, 'پشتیبان': 411, 'ساوه': 411, 'برگه': 411, 'بازدارندگی': 411, 'دامی': 411, 'کبدی': 411, 'گذاشته_شد': 410, 'صنف': 410, 'نطق': 410, 'ساکت': 410, 'شمارش': 410, 'ضلع': 410, 'خواسته_است': 410, 'گردانهای': 410, 'مذاکرهکننده': 410, 'تیلرسون': 410, 'آمانو': 410, 'دشت': 409, 'می\\u200cدانم': 409, 'شیوههای': 409, 'اولی': 409, 'بالاست': 409, 'خلیل': 409, 'داشته\\u200cایم': 409, 'ملاحظه': 409, 'زنگنه': 409, 'خودرویی': 409, 'دیدگی': 409, 'قیمتهای': 408, 'ماهوارهای': 408, 'عبارتی': 408, 'نوجوانی': 408, 'زاهدان': 408, 'جامعی': 408, 'وضوح': 408, 'شکایات': 408, 'حملونقل': 408, 'خصمانه': 408, 'کیلویی': 408, 'سئول': 407, 'فاکس': 407, 'نمایی': 407, 'پانصد': 407, 'مفصل': 407, 'هرگاه': 407, 'کرده_باشد': 407, 'درحالیکه': 407, 'فیلمهایی': 406, 'حاضران': 406, 'نمیتوانم': 406, 'اصولا': 406, 'می\\u200cبینیم': 406, 'سرنگون': 406, 'الحاقی': 406, 'فیلمسازی': 405, 'ساخته_شد': 405, 'برایتان': 405, 'صلی': 405, 'زشت': 405, 'ژنتیک': 405, 'قدرتی': 405, 'علیپور': 405, 'ندارید': 405, 'می\\u200cماند': 405, 'ترورکننده': 405, 'نباشیم': 404, 'ثروتمند': 404, 'فردوس': 404, 'یحیی': 404, 'نامزدها': 404, 'حداد': 404, 'میگذارند': 404, 'عابر': 404, 'ذرت': 404, 'استحکام': 403, 'بازى': 403, 'نادری': 403, 'مداحان': 403, 'بنیادین': 403, 'ده\\u200cها': 403, 'پروازی': 403, 'موادمخدر': 403, 'تجار': 403, 'مقتول': 402, 'خندوانه': 402, 'نهادی': 402, 'هفتهای': 402, 'جک': 402, 'افزوده_است': 402, 'چشمانداز': 402, 'علامت': 402, 'دغدغههای': 401, 'جسم': 401, 'رویا': 401, 'دیگرى': 401, 'کاریکاتور': 401, 'مسیحیان': 401, 'دوره\\u200cای': 401, 'عصبانیت': 401, 'بازپرداخت': 401, 'هریک': 401, 'مبادرت': 401, 'کردها': 401, 'کتابها': 400, 'بکند': 400, 'دبیرستان': 400, 'ثالث': 400, 'خواجه': 400, 'قاب': 400, 'مقدمه': 400, 'نماییم': 400, 'اقلیت': 400, 'مرسدس': 400, 'وضعیتی': 399, 'دیدند': 399, 'زارعی': 399, 'توسل': 399, 'بیگانگان': 399, 'عقیدتی': 399, 'نویی': 399, 'بنگاههای': 399, 'طرح\\u200cها': 398, 'ربط': 398, 'تکه': 398, 'فداکاری': 398, 'خم': 398, 'نمی\\u200cکنم': 398, 'دبیران': 398, 'الهى': 398, 'پلاستیکی': 398, 'مطالعاتی': 398, 'کمیته\\u200cهای': 398, 'سل': 398, 'دلالان': 398, 'الحسین': 397, 'مذهب': 397, 'مجریان': 397, 'میشل': 397, 'عقاید': 397, 'فرموده': 397, 'تدریجی': 397, 'مسافربری': 397, 'تبعه': 397, 'پولشویی': 397, 'رقه': 397, 'هفتههای': 396, 'منتفی': 396, 'اهمیتی': 396, 'فرزندش': 396, 'نجومی': 396, 'آیینی': 396, 'کاملی': 396, 'حول': 396, 'قاشق': 396, 'متحدانش': 396, 'نوشیدن': 396, 'فابیوس': 396, 'اتلتیکو': 396, 'سعد': 395, 'ربطی': 395, 'مؤمن': 395, 'عصبانی': 395, 'مشابهی': 395, 'سرنشینان': 395, 'ریشتر': 395, 'مدعیان': 394, 'معیشتی': 394, 'می\\u200cکشد': 394, 'نشسته': 394, 'نرگس': 394, 'قسم': 394, 'برجای': 394, 'چشمان': 394, 'تمایلی': 394, 'استانداران': 394, 'قانونگذاری': 394, 'میلیمتر': 394, 'مصادف': 393, 'ملکه': 393, 'خودی': 393, 'یلدا': 393, 'این\\u200cها': 393, 'جونگ': 393, 'مسمومیت': 393, 'وعدههای': 392, 'آخرت': 392, 'انزلی': 392, 'شعله': 392, 'بلغارستان': 392, 'سیصد': 392, 'سندی': 392, 'انشاءالله': 391, 'کاش': 391, 'عبداللهی': 391, 'غایب': 391, 'زیرساخت': 391, 'خلال': 391, 'بیمهای': 391, 'کرملین': 391, 'زمره': 390, 'تیره': 390, 'علیهالسلام': 390, 'قسمتهای': 390, 'نبی': 390, 'بردار': 390, 'پیامهای': 390, 'بدنبال': 390, 'شرب': 390, 'مشروح': 390, 'وکالت': 390, 'سیطره': 390, 'مسئلهای': 389, 'امثال': 389, 'لم': 389, 'نمونههای': 389, 'وال': 389, 'می\\u200cنماید': 389, 'سمینار': 389, 'واحده': 389, 'انحلال': 389, 'مدیون': 389, 'پیشنویس': 389, 'موردی': 389, 'تندر': 389, 'گوارش': 389, 'خداست': 388, 'الگوهای': 388, 'بک': 388, 'انحرافی': 388, 'ریل': 388, 'انها': 388, 'فقیر': 388, 'صادره': 388, 'اوغلو': 388, 'نوشیدنی': 388, 'ناطق': 388, 'الکتریکی': 388, 'سویا': 388, 'خزانهداری': 388, 'شخصا': 387, 'می\\u200cکردم': 387, 'سونی': 387, 'مجرمان': 387, 'باشگاهها': 387, 'هندوستان': 386, 'پوشیده': 386, 'مختص': 386, 'صادقانه': 386, 'فلسطینیها': 386, 'همسو': 385, 'فلاح': 385, 'اشکالات': 385, 'می\\u200cدهم': 385, 'آورده\\u200cاند': 385, 'گارد': 385, 'فوریت': 385, 'فناوری\\u200cهای': 385, 'مشمولان': 385, 'نوزدهم': 384, 'تازهای': 384, 'بى': 384, 'دیشب': 384, 'راهبردهای': 384, 'میشوید': 384, 'سردرد': 384, 'بادام': 384, 'چشمه': 383, 'برده_است': 383, 'میگوییم': 383, 'گرما': 383, 'رسم': 383, 'میآورند': 383, 'یابیم': 383, 'فلسطینی\\u200cها': 383, 'استرداد': 382, 'بری': 382, 'امتناع': 382, 'فرمانداری': 382, 'رنو': 382, 'عفونی': 382, 'باشگاه\\u200cها': 382, 'چهره\\u200cهای': 381, 'بیگی': 381, 'فاضل': 381, 'تدارکات': 381, 'نخواهد_داد': 381, 'بهرامی': 381, 'چی': 381, 'تکراری': 381, 'ودر': 381, 'سوپر': 381, 'ضایعات': 381, 'آلاینده': 381, 'نزدیکتر': 380, 'نمیشد': 380, 'رسان': 380, 'ایرانشهر': 380, 'سرزمین\\u200cهای': 380, 'هراسی': 380, 'نیل': 380, 'میگفتند': 380, 'محکمی': 379, 'زمینهها': 379, 'پژوهشکده': 379, 'همدانی': 379, 'تحقیر': 379, 'مبین': 379, 'محدودیت\\u200cهای': 379, 'امتحانات': 379, 'بحرانهای': 379, 'دماوند': 379, 'تخمین': 379, 'راهها': 379, 'فرانس': 379, 'کرکوک': 379, 'آلومینیوم': 379, 'تهاجمی': 379, 'ارتحال': 378, 'محتوایی': 378, 'تکامل': 378, 'انتها': 378, 'روایتی': 378, 'بهویژه': 378, 'ایرلند': 378, 'پرونده\\u200cهای': 378, 'مشی': 378, 'پسته': 378, 'بیرونی': 377, 'بدهکار': 377, 'زین': 377, 'فروشندگان': 377, 'یاالله': 377, 'جور': 376, 'طبقات': 376, 'تشریفات': 376, 'حیطه': 376, 'اینتر': 376, 'اولا': 376, 'پودر': 376, 'استعلام': 376, 'حاد': 376, 'مخزن': 376, 'صدم': 376, 'بوئینگ': 376, 'کهنه': 375, 'سازهای': 375, 'مسلمین': 375, 'منحرف': 375, 'تابش': 375, 'نما': 375, 'دیسک': 375, 'یونس': 374, 'زند': 374, 'بپذیرد': 374, 'صهیونیسم': 374, 'مستمری': 374, 'طرف\\u200cهای': 374, 'شهرزاد': 373, 'خوان': 373, 'بادی': 373, 'نوازنده': 373, 'نمیگیرد': 373, 'اسرار': 373, 'ناصری': 373, 'جرج': 373, 'ضیافت': 373, 'موازین': 373, 'جنایتکار': 373, 'ممتنع': 373, 'ایدز': 373, 'رادار': 373, 'ارزشیابی': 372, 'بازگو': 372, 'تکان': 372, 'آرد': 372, 'سخنران': 372, 'تشکل\\u200cهای': 372, 'شیوه\\u200cهای': 372, 'شاخص\\u200cهای': 372, 'وقفه': 371, 'واعظی': 371, 'مهرآباد': 371, 'تفکرات': 371, 'اظهاراتش': 371, 'شماست': 371, 'بیم': 371, 'مراد': 371, 'مهندسان': 371, 'نوبل': 371, 'ایستاده': 371, 'فیزیک': 371, 'مدلهای': 371, 'اکسیژن': 371, 'کارتهای': 371, 'حکام': 371, 'نقاش': 370, 'سازمان\\u200cها': 370, 'نگرفته': 370, 'حتى': 370, 'استریت': 370, 'اهدافی': 370, 'مقیاس': 370, 'آتشسوزی': 370, 'مبادی': 370, 'سرگیری': 370, 'پررنگ': 369, 'سوژه': 369, 'میتوانم': 369, 'میبینند': 369, 'تحولی': 369, 'رسانده': 369, 'جوجه': 369, 'پیست': 369, 'برچسب': 369, 'چمن': 368, 'افسانه': 368, 'بندگان': 368, 'مومنی': 368, 'مرضیه': 368, 'عاری': 368, 'گام\\u200cهای': 368, 'اعتمادی': 368, 'غفوری': 368, 'منجمد': 368, 'آنالیز': 368, 'راهبری': 367, 'مانعی': 367, 'گروه\\u200cها': 367, 'آوریم': 367, 'بخواهید': 367, 'جعبه': 367, 'کوهستانی': 367, 'کوچکتر': 367, 'جوادی': 367, 'خواهد_گذاشت': 367, 'تالاب': 367, 'پاکستانی': 367, 'سوانح': 367, 'ظالمانه': 367, 'آسایش': 366, 'معنویت': 366, 'صادرکنندگان': 366, 'الناس': 366, 'بهاره': 366, 'پنیر': 366, 'قراردادها': 366, 'دردناک': 365, 'اینباره': 365, 'تامل': 365, 'چهارده': 365, 'انضباط': 365, 'کذب': 365, 'فنلاند': 365, 'ظروف': 365, 'خالص': 365, 'رییسجمهور': 365, 'کمیتههای': 365, 'قمری': 364, 'بارانی': 364, 'نشست\\u200cهای': 364, 'ارزشها': 363, 'مومن': 363, 'تابعه': 363, 'خشن': 363, 'یکباره': 363, 'دارندگان': 363, 'پیشینه': 363, 'صدمه': 363, 'درصورت': 363, 'مخازن': 363, 'نشانههای': 362, 'داوطلبانه': 362, 'سلطنت': 362, 'هرکس': 362, 'آدمی': 362, 'آمدم': 362, 'نصر': 362, 'شفاهی': 362, 'وصف': 362, 'سلم': 362, 'معصوم': 362, 'یکپارچگی': 362, 'ایندیپندنت': 362, 'استقلالی\\u200cها': 362, 'دامداران': 362, 'تاریک': 361, 'طبع': 361, 'غیرمستقیم': 361, 'غلامحسین': 361, 'پایینتر': 361, 'حیوان': 361, 'امکاناتی': 361, 'کمربندی': 361, 'حسابهای': 361, 'لاستیک': 361, 'فریبا': 360, 'کارگردانان': 360, 'بودهایم': 360, 'خیز': 360, 'گفتهاند': 360, 'کالایی': 360, 'بیمارستان\\u200cها': 360, 'السیسی': 360, 'صبحانه': 359, 'جواندر': 359, 'الکساندر': 359, 'خطرناکی': 359, 'هوشیار': 359, 'شعری': 358, 'تازهترین': 358, 'کوشش': 358, 'وفادار': 358, 'وبه': 358, 'سالجاری': 358, 'هجدهم': 358, 'سامرا': 358, 'بکشند': 358, 'بلندمدت': 358, 'مقامهای': 358, 'مایک': 358, 'مضامین': 357, 'نگاری': 357, 'بخواند': 357, 'برندهای': 357, 'تاریخچه': 357, 'رومانی': 357, 'طرفه': 357, 'بوک': 357, 'دریافتند': 357, 'بسا': 356, 'بیاوریم': 356, 'تأسف': 356, 'رویای': 356, 'خواهران': 356, 'شاکری': 356, 'سان': 356, 'مرجعیت': 356, 'متعادل': 356, 'زایی': 356, 'موگرینی': 356, 'سپیدرود': 356, 'موازی': 355, 'سیاوش': 355, 'پذیرد': 355, 'خبرها': 355, 'بلندی': 355, 'مشروع': 355, 'موز': 355, 'دادسرا': 355, 'اتوبان': 354, 'غیرعامل': 354, 'صحبتی': 354, 'فرانسوا': 354, 'آشوب': 354, 'مجوزهای': 354, 'شوک': 354, 'هیچکدام': 354, 'بیماری\\u200cها': 354, 'پروژهها': 354, 'نمی\\u200cکنیم': 354, 'لرزاند': 354, 'زودرس': 354, 'مجزا': 353, 'محافظه': 353, 'قدمی': 353, 'انسان\\u200cها': 353, 'فلان': 353, 'اسلامى': 353, 'تنبیه': 353, 'کارآمدی': 353, 'نتوانند': 353, 'یعنى': 353, 'سبزوار': 353, 'کارخانجات': 353, 'اشاعه': 353, 'تعرفههای': 353, 'بارندگی': 353, 'فتحی': 352, 'فیض': 352, 'مبارکه': 352, 'آهنگساز': 352, 'دستیاران': 352, 'شهرستانی': 352, 'معاف': 352, 'دعوا': 352, 'رئیسی': 352, 'وما': 352, 'المپیکی': 352, 'زرهی': 352, 'تبعید': 351, 'کیانی': 351, 'دانشآموز': 351, 'وخیم': 351, 'سالمند': 351, 'کاپ': 351, 'ریف': 351, 'ابد': 350, 'عمدهای': 350, 'آیندهای': 350, 'گوید': 350, 'ور': 350, 'گلایه': 350, 'خاکی': 350, 'فعالیت\\u200cها': 350, 'سایت\\u200cهای': 350, 'رده\\u200cهای': 350, 'قاطعانه': 350, 'مسافری': 350, 'بیبیسی': 350, 'همایشهای': 349, 'فرمت': 349, 'روزافزون': 349, 'ناخواسته': 349, 'مکارم': 349, 'حرفها': 349, 'می\\u200cرساند': 349, 'مینی': 349, 'نیاید': 349, 'المپیاد': 349, 'کفاشیان': 349, 'جشنواره\\u200cهای': 348, 'رحمان': 348, 'مجلسی': 348, 'خوانندگان': 348, 'علیاکبر': 348, 'مارتین': 348, 'توکل': 348, 'شروط': 348, 'صلحآمیز': 348, 'لمس': 347, 'ارجمند': 347, 'کربلای': 347, 'ولید': 347, 'افشا': 347, 'همتی': 347, 'خلافت': 347, 'بوده\\u200cایم': 347, 'استخر': 347, 'سلول': 347, 'پیمانکار': 347, 'وبا': 347, 'ریه': 347, 'مقننه': 347, 'معلولین': 347, 'تراکم': 347, 'لله': 346, 'هیئتهای': 346, 'ریختن': 346, 'امیدی': 346, 'قله': 346, 'تلاش\\u200cها': 346, 'اطرافیان': 346, 'فورا': 346, 'بررسی\\u200cها': 346, 'واکنشی': 346, 'هواپیماها': 346, 'مصیبت': 345, 'بوسنی': 345, 'گریز': 345, 'مهربانی': 345, 'مستحکم': 345, 'ظرفیتها': 345, 'برنامهریزیهای': 345, 'تکالیف': 345, 'جهش': 345, 'معارفه': 345, 'شناختن': 345, 'شدهاست': 345, 'دا': 345, 'تمرینی': 345, 'مرورگر': 345, 'ندا': 344, 'بخشها': 344, 'نیکو': 344, 'برایمان': 344, 'پویایی': 344, 'مجموعههای': 344, 'کام': 344, 'هدفی': 344, 'ریزی\\u200cهای': 344, 'نمی\\u200cدانم': 344, 'حوزهها': 344, 'شمشیر': 344, 'آگهی': 344, 'نصیری': 344, 'می\\u200cبینید': 344, 'عموما': 344, 'گزارش\\u200cها': 344, 'باغات': 344, 'مشعل': 344, 'هیوندای': 344, 'هالیوود': 343, 'ستادی': 343, 'پیشگیرانه': 343, 'نگرانیهای': 343, 'پورمحمدی': 343, 'آبشار': 343, 'سعودی\\u200cها': 343, 'اسکن': 343, 'مشترکان': 343, 'پناهندگان': 343, 'پیامبرای': 343, 'گوینده': 342, 'خواری': 342, 'هزارتن': 342, 'گرا': 342, 'ویلیام': 342, 'دوی': 342, 'فزاینده': 342, 'منصفانه': 342, 'لطفی': 342, 'پیغمبر': 342, 'سمند': 342, 'راهکاری': 342, 'فیس': 342, 'تقدم': 342, 'گرسنگی': 342, 'پوکی': 342, 'برهه': 341, 'وان': 341, 'درسال': 341, 'بیمارستان\\u200cهای': 341, 'صید': 341, 'ایزدی': 341, 'خرما': 341, 'نامشروع': 341, 'نشینان': 341, 'رانت': 341, 'طلاب': 341, 'زیرساخت\\u200cهای': 341, 'مجرمانه': 341, 'مکرون': 341, 'اعتقادات': 340, 'سینماهای': 340, 'سیاری': 340, 'کرار': 340, 'سازند': 340, 'می\\u200cتوانست': 340, 'رسیدهاند': 340, 'رابط': 340, 'اسلامشهر': 340, 'مظلومی': 340, 'ارزهای': 340, 'جمعبندی': 339, 'تعمیق': 339, 'بوکس': 339, 'برکات': 339, 'هفته\\u200cای': 339, 'ناقص': 339, 'اتفاقا': 339, 'ایوبی': 339, 'همکار': 339, 'نشاندهنده': 339, 'تکثیر': 339, 'تام': 339, 'ویزا': 339, 'منچستریونایتد': 339, 'فلزات': 339, 'راکتور': 339, 'کاندیدا': 338, 'اسکندری': 338, 'فاخر': 338, 'ادوار': 338, 'تکفیریها': 338, 'درام': 338, 'چیزهایی': 338, 'میبیند': 338, 'ولیعصر': 338, 'کوروش': 338, 'تونی': 338, 'دوومیدانی': 338, 'ثباتی': 338, 'مباحثی': 337, 'آغوش': 337, 'کجاست': 337, 'إلى': 337, 'سرش': 337, 'شاهدان': 337, 'بدهیهای': 337, 'تقلبی': 337, 'کودکانی': 337, 'فیروزکوه': 337, 'نیسان': 337, 'درپی': 336, 'شایستگی': 336, 'تازه\\u200cترین': 336, 'خشمگین': 336, 'تریبون': 336, 'آسم': 336, 'مفصلی': 336, 'بستههای': 336, 'وهابیت': 336, 'مدرسین': 335, 'شدنی': 335, 'میگیریم': 335, 'نتوانستیم': 335, 'سربلندی': 335, 'زیربنایی': 335, 'ملتی': 335, 'میبینید': 335, 'پیشنهادهای': 335, 'ترش': 335, 'عددی': 335, 'معوقات': 335, 'چوبی': 334, 'تسخیر': 334, 'پستی': 334, 'آسیبی': 334, 'نتیجهای': 334, 'کارخانه\\u200cهای': 334, 'وکلا': 334, 'سیانان': 334, 'درعا': 334, 'خواهند_گرفت': 333, 'مسیح': 333, 'محو': 333, 'دانشآموزی': 333, 'پادگان': 333, 'رعد': 333, 'غرور': 333, 'استدلال': 333, 'ریشتری': 333, 'مسئولیتهای': 333, 'تنشها': 333, 'ویسی': 333, 'ربات': 333, 'شمخانی': 333, 'هوانوردی': 333, 'منفجره': 333, 'تئوری': 332, 'آواز': 332, 'انصار': 332, 'اصالت': 332, 'سهراب': 332, 'ارزنده': 332, 'سنگی': 332, 'عفاف': 332, 'زاهدی': 332, 'جادهها': 332, 'گاو': 332, 'دستگاهی': 332, 'غاصب': 332, 'سلامی': 331, 'سرگرمی': 331, 'اندازهای': 331, 'نمایشهای': 331, 'رسد': 331, 'مجموعه\\u200cای': 331, 'معکوس': 331, 'قصاص': 331, 'دیجیتالی': 331, 'دیکتاتور': 331, 'سلول\\u200cهای': 331, 'دیپلماتهای': 331, 'شوق': 330, 'آینه': 330, 'بینظیر': 330, 'انتقالی': 330, 'لحن': 330, 'کارشان': 330, 'تار': 330, 'دره': 330, 'دیدگان': 330, 'تاب': 330, 'ضامن': 330, 'صادرکننده': 330, 'مغذی': 330, 'رضایتمندی': 330, 'لیزر': 330, 'بافت\\u200cهای': 330, 'نتیجه\\u200cای': 329, 'وحشتناک': 329, 'کارگاه\\u200cهای': 329, 'زائرین': 329, 'منشی': 329, 'آتشنشانی': 329, 'گذاشته_شده_است': 329, 'روزى': 329, 'پرتو': 329, 'بلوغ': 329, 'شرکتکنندگان': 329, 'سیزدهمین': 329, 'لبیک': 329, 'احیاء': 329, 'ایوان': 329, 'بتوانید': 329, 'کمیسیونهای': 329, 'تهدیدها': 329, 'می\\u200cدانید': 329, 'دیابتی': 329, 'پروسه': 328, 'مادری': 328, 'مسئولیتی': 328, 'فیه': 328, 'نبوی': 328, 'اجناس': 328, 'تجلی': 328, 'گوی': 328, 'اخضر': 328, 'انار': 328, 'بودجهای': 328, 'اشخاصی': 328, 'حاکمیتی': 328, 'فوتبالی': 328, 'شنود': 328, 'تایوان': 328, 'سالنهای': 327, 'فقید': 327, 'سیره': 327, 'حمیدی': 327, 'نمیآید': 327, 'متروی': 327, 'تقوی': 327, 'اطاعت': 327, 'احساسی': 327, 'پایین\\u200cتر': 327, 'غوطه': 327, 'غربالگری': 327, 'ژرمن': 327, 'نهفته': 326, 'حفاظتی': 326, 'نهج': 326, 'مبدل': 326, 'همانا': 326, 'قلمرو': 326, 'عینک': 326, 'العالی': 326, 'بدنسازی': 326, 'واهی': 326, 'مالکان': 326, 'لاذقیه': 326, 'غلات': 326, 'تکریت': 326, 'خدایی': 325, 'درخواستی': 325, 'تعمیرات': 325, 'میهمانان': 325, 'رجوع': 325, 'خانواده\\u200cاش': 325, 'دادههای': 325, 'نامه\\u200cهای': 325, 'مسروقه': 325, 'مزایده': 325, 'محورها': 325, 'روستاییان': 325, 'صلیب': 325, 'شهرکهای': 324, 'عماد': 324, 'اجبار': 324, 'جرات': 324, 'زراعی': 324, 'میرویم': 324, 'بیتوجهی': 324, 'چرخش': 324, 'متخلفان': 324, 'گوارشی': 324, 'آریا': 323, 'خب': 323, 'بنام': 323, 'یوسفی': 323, 'موجودیت': 323, 'فرجی': 323, 'فضیلت': 323, 'ناچیز': 323, 'نورانی': 323, 'نرسد': 323, 'اعتراضی': 323, 'پوشیدن': 323, 'العین': 323, 'تلگراف': 323, 'کوثر': 322, 'پوریا': 322, 'رهنمودهای': 322, 'میپذیرد': 322, 'امیرالمؤمنین': 322, 'داشتید': 322, 'بلا': 322, 'یاسر': 322, 'چتر': 322, 'کور': 322, 'درواقع': 322, 'دیرینه': 322, 'التحصیل': 322, 'قرض': 322, 'معادلات': 322, 'امانت': 322, 'ناخن': 322, 'بیمه\\u200cای': 322, 'صرفهجویی': 322, 'خیابان\\u200cهای': 322, 'لوایح': 322, 'ناباروری': 322, 'جلیل': 321, 'باشکوه': 321, 'تعبیه': 321, 'محمدباقر': 321, 'مختل': 321, 'یاسوج': 321, 'موجبات': 321, 'راکت': 321, 'آوردهاند': 321, 'لیمو': 321, 'گوشتی': 321, 'صبای': 320, 'مبارزان': 320, 'سرو': 320, 'گذاشتیم': 320, 'جمشیدی': 320, 'شلوغ': 320, 'پردازی': 320, 'تنی': 320, 'سالمندی': 320, 'محدودی': 320, 'تفریح': 320, 'تحصن': 320, 'اسکاتلند': 320, 'می\\u200cنویسد': 320, 'صدراعظم': 320, 'انرژیهای': 320, 'مورینیو': 320, 'می\\u200cگفت': 319, 'عرق': 319, 'زمانبندی': 319, 'راهکارهایی': 319, 'لوکوموتیو': 319, 'قطری': 319, 'انعطاف': 318, 'مستضعفان': 318, 'نفرت': 318, 'جین': 318, 'عمد': 318, 'عقبنشینی': 318, 'بهرهمندی': 318, 'غرامت': 318, 'اشغالگران': 318, 'ائتلافی': 318, 'روبل': 318, 'قاجار': 317, 'هرج': 317, 'باکو': 317, 'زهراس': 317, 'نزول': 317, 'آرامی': 317, 'متعاقبا': 317, 'رشید': 317, 'کین': 317, 'مصاحبهای': 317, 'ابطال': 317, 'بازده': 317, 'مهاجمان': 317, 'شدهایم': 317, 'راهحل': 317, 'مصلی': 316, 'انسانهای': 316, 'رفته_بود': 316, 'متنوعی': 316, 'ادوارد': 316, 'دربارهی': 316, 'میخواست': 316, 'درخشانی': 316, 'مصادره': 316, 'برادرش': 316, 'مرخصی': 316, 'فسخ': 316, 'ثانوی': 316, 'شایانی': 315, 'مکانهای': 315, 'زهره': 315, 'بودید': 315, 'مداح': 315, 'کرمانی': 315, 'زیباترین': 315, 'رام': 315, 'خطیب': 315, 'ذاتی': 314, 'شی': 314, 'مشرف': 314, 'تقوا': 314, 'تاکسیرانی': 314, 'توهم': 314, 'دروغین': 314, 'اشتیاق': 314, 'بعلاوه': 314, 'پولهای': 314, 'پارسال': 314, 'قایق': 314, 'فلوریدا': 314, 'آبرسانی': 314, 'مبلمان': 314, 'مخفیگاه': 314, 'پروندهها': 313, 'نخواهیم_داشت': 313, 'رنگهای': 313, 'مبحث': 313, 'برعکس': 313, 'کوبانی': 313, 'پلاستیک': 313, 'عدن': 313, 'بدهی\\u200cهای': 313, 'اروپاییها': 313, 'رهن': 313, 'برکسیت': 313, 'نیازمندان': 312, 'خوشنویسی': 312, 'تاریکی': 312, 'توی': 312, 'می\\u200cخواهید': 312, 'مقاصد': 312, 'تدابیری': 312, 'مترمربع': 312, 'ابهامات': 312, 'تابلوهای': 312, 'روندی': 312, 'فلفل': 312, 'فرآوری': 312, 'طرفها': 312, 'مفقود': 311, 'پیری': 311, 'فرقی': 311, 'بیات': 311, 'سرزمینی': 311, 'ناشر': 311, 'البلاغه': 311, 'جباری': 311, 'سنندج': 311, 'تیتراژ': 311, 'توابع': 311, 'بهاری': 311, 'می\\u200cرفت': 311, 'اپراتور': 311, 'نزاع': 311, 'کلسترول': 311, 'شریعتمداری': 311, 'گوناگونی': 310, 'خدشه': 310, 'کنارهگیری': 310, 'نداده': 310, 'پیدایش': 310, 'غارت': 310, 'ریزگردها': 310, 'عمدی': 310, 'ستد': 310, 'اصلاحیه': 310, 'لاغری': 310, 'اندرویدی': 310, 'پمپئو': 310, 'بجای': 309, 'جانباز': 309, 'والای': 309, 'نزدیکان': 309, 'علیکم': 309, 'تضاد': 309, 'مترجم': 309, 'اعتلای': 309, 'بعمل': 309, 'بعضى': 309, 'استعمال': 309, 'ناامیدی': 309, 'مملو': 309, 'پیشتاز': 309, 'هرحال': 309, 'فایلهای': 309, 'مدون': 309, 'محصولاتی': 309, 'هنرمندانی': 308, 'زنانه': 308, 'یگانه': 308, 'برگردد': 308, 'جولای': 308, 'محمدیان': 308, 'تلفنهای': 308, 'سپید': 308, 'وحی': 308, 'علیک': 308, 'شو': 308, 'مشورتی': 308, 'بویراحمد': 308, 'فرقه': 308, 'ونقل': 308, 'درویش': 307, 'رژه': 307, 'آموزههای': 307, 'قذافی': 307, 'جلوتر': 307, 'قاطعیت': 307, 'جنازه': 307, 'دوربینهای': 307, 'میطلبد': 307, 'نسب': 307, 'درخواستهای': 307, 'توجیهی': 307, 'سموم': 307, 'ساختگی': 307, 'تودی': 307, 'ترزا': 307, 'گربه': 306, 'گشود': 306, 'رودکی': 306, 'عسکری': 306, 'ریخته': 306, 'آبروی': 306, 'زیرساختها': 306, 'رشدی': 306, 'شستشو': 306, 'کلم': 306, 'تویوتا': 306, 'سرشناس': 305, 'محدودیتی': 305, 'شیب': 305, 'فیزیوتراپی': 305, 'مساعد': 305, 'سامانه\\u200cهای': 305, 'گوانتانامو': 305, 'لالیگا': 305, 'سرکردگان': 305, 'شنیدم': 304, 'اشکان': 304, 'کیان': 304, 'معقول': 304, 'نمایندگانی': 304, 'طالبی': 304, 'دورهمی': 304, 'می\\u200cآورند': 304, 'خبرداد': 304, 'متبرکه': 304, 'شهریاری': 304, 'العمل': 304, 'بلوک': 304, 'حیاط': 304, 'استفان': 304, 'مداری': 304, 'موهای': 304, 'بالادستی': 304, 'حقوقدان': 304, 'خواهند_رفت': 303, 'صحنههای': 303, 'هومن': 303, 'پدری': 303, 'روسها': 303, 'کیهان': 303, 'پاسداری': 303, 'رهگیری': 303, 'نهال': 303, 'آبزیان': 303, 'خصوصیسازی': 303, 'بیسابقه': 303, 'کربن': 303, 'میعانات': 303, 'عکسی': 302, 'ین': 302, 'طالب': 302, 'تردیدی': 302, 'جورج': 302, 'دیواری': 302, 'زبانی': 302, 'روزبه': 302, 'غول': 302, 'الذی': 302, 'گله': 302, 'بخت': 302, 'همخوانی': 302, 'همگام': 302, 'شرع': 302, 'هیئتی': 302, 'هیل': 302, 'نامید': 302, 'شنوایی': 302, 'نفتکش': 302, 'مردمسالاری': 302, 'نقشهای': 301, 'هایمان': 301, 'خطی': 301, 'همه\\u200cی': 301, 'رویش': 301, 'نواقص': 301, 'موی': 301, 'انحصار': 301, 'خوابگاه': 301, 'امتداد': 301, 'عکس\\u200cهای': 301, 'بام': 301, 'کشاند': 301, 'واژگونی': 301, 'سقط': 301, 'چاق': 301, 'آلسعود': 301, 'قابلیت\\u200cهای': 300, 'همسران': 300, 'مخفیانه': 300, 'فرارسیدن': 300, 'می\\u200cشوید': 300, 'عثمانی': 300, 'ضمنا': 300, 'انجمن\\u200cهای': 300, 'شبها': 300, 'بابا': 300, 'منویات': 300, 'جدال': 300, 'نواب': 300, 'دانستن': 300, 'توفان': 300, 'نیمار': 300, 'سردبیر': 299, 'یاسین': 299, 'مزیت': 299, 'مهارت\\u200cهای': 299, 'صدق': 299, 'تعزیه': 299, 'زیاده': 299, 'گیتی': 299, 'سرمایه\\u200cهای': 299, 'مکانیزه': 299, 'دردهای': 299, 'دایر': 299, 'جایز': 299, 'الکل': 299, 'پیامبرص': 299, 'شمیرانات': 299, 'میپردازیم': 298, 'مرج': 298, 'احادیث': 298, 'بسازد': 298, 'نمیکرد': 298, 'عطا': 298, 'موظفند': 298, 'نارسایی': 298, 'گواه': 298, 'وقتى': 298, 'فرزندانشان': 298, 'می\\u200cکردیم': 298, 'سلیم': 298, 'خواهش': 298, 'صحرای': 298, 'انا': 298, 'بما': 298, 'قرمزی': 298, 'دزدی': 298, 'بازپرس': 298, 'موفقیت\\u200cهای': 298, 'لفظی': 298, 'دریادار': 298, 'اکو': 297, 'وداع': 297, 'شیشه\\u200cای': 297, 'موجودات': 297, 'اسنادی': 297, 'عزیزمان': 297, 'سریع\\u200cتر': 297, 'ایرادات': 297, 'کارون': 297, 'پرند': 297, 'استثنای': 297, 'سیکلت': 297, 'عضلانی': 297, 'هاآرتص': 297, 'شناخته_شد': 296, 'کوفه': 296, 'ندای': 296, 'آیتم': 296, 'ملموس': 296, 'موسس': 296, 'فرشید': 296, 'نباشید': 296, 'سبحان': 296, 'چنانکه': 296, 'سیدنی': 296, 'اقلیمی': 296, 'دوستانش': 296, 'بهانهای': 296, 'لادن': 296, 'داماد': 296, 'نخ': 296, 'بایدن': 296, 'دکور': 295, 'متاثر': 295, 'اندوه': 295, 'زندگى': 295, 'قنبری': 295, 'می\\u200cدادند': 295, 'گلزار': 295, 'قطبی': 295, 'موقعیتی': 295, 'سازوکار': 295, 'تایپه': 295, 'خیار': 295, 'غیررسمی': 295, 'گلکسی': 295, 'درجات': 294, 'ساختارهای': 294, 'تازه\\u200cای': 294, 'نخواهند_داشت': 294, 'قیاس': 294, 'علیها': 294, 'منحل': 294, 'استکباری': 294, 'تفنگ': 294, 'کربلایی': 294, 'ایر': 294, 'براندازی': 294, 'ایربگ': 294, 'البغدادی': 294, 'صدابردار': 293, 'کردهاید': 293, 'سپاس': 293, 'عامه': 293, 'بازگردند': 293, 'کاغذی': 293, 'گرمای': 293, 'مکان\\u200cهای': 293, 'شکستگی': 293, 'گیرنده': 293, 'مراقبتهای': 293, 'سرمایهای': 293, 'سیاستمدار': 293, 'پیروزیهای': 293, 'ملارد': 293, 'حوزهی': 292, 'خلوت': 292, 'بهم': 292, 'آنطور': 292, 'یهود': 292, 'پشیمان': 292, 'بعث': 292, 'غالبا': 292, 'لیکن': 292, 'میرسند': 292, 'بسیجیان': 292, 'الگویی': 292, 'فروشگاههای': 292, 'گذرنامه': 292, 'ژورنال': 292, 'آب\\u200cهای': 292, 'خوابی': 292, 'مرزبانی': 292, 'پسماندهای': 292, 'صادقع': 291, 'فراگیری': 291, 'نبودیم': 291, 'کارتر': 291, 'احمدرضا': 291, 'سادات': 291, 'مردانی': 291, 'می\\u200cدارد': 291, 'ارث': 291, 'روبروی': 291, 'بیتع': 291, 'صبحگاهی': 291, 'وجودی': 291, 'دستش': 291, 'نشویم': 291, 'مقاله\\u200cای': 291, 'شیلات': 291, 'محمدمهدی': 290, 'نوشته_شده_است': 290, 'بازدیدکنندگان': 290, 'دخترش': 290, 'خانه\\u200cها': 290, 'جنب': 290, 'کینه': 290, 'اندیشمندان': 290, 'قطره': 290, 'چهارچوب': 290, 'سمتی': 290, 'افغانی': 290, 'ابتلای': 290, 'محصولی': 290, 'عوارضی': 290, 'سرمربیگری': 290, 'میرسید': 289, 'تبار': 289, 'عابدینی': 289, 'عروسکی': 289, 'مسافت': 289, 'مخدوش': 289, 'جغرافیای': 289, 'ابریشم': 289, 'موسى': 289, 'باورهای': 289, 'دولت\\u200cها': 289, 'نارنجی': 289, 'مکالمه': 289, 'رطوبت': 289, 'حقی': 289, 'سیستانی': 289, 'وزارتخانهها': 289, 'قشم': 289, 'کشتیرانی': 289, 'روسیا': 289, 'بخشید': 288, 'جنبههای': 288, 'جرمی': 288, 'تواند': 288, 'عزل': 288, 'تصاحب': 288, 'فاتح': 288, 'کویر': 288, 'غیرنفتی': 288, 'رئیسجمهوری': 288, 'فیلیپ': 288, 'معارض': 288, 'پرش': 288, 'کود': 288, 'پویانمایی': 287, 'طلوع': 287, 'لباسهای': 287, 'دیده_است': 287, 'بازگرداند': 287, 'فردای': 287, 'ناتوان': 287, 'گفتوگوی': 287, 'گستردگی': 287, 'فاصل': 287, 'پیشرفت\\u200cهای': 287, 'سرویس\\u200cهای': 287, 'سناریوی': 287, 'عالیرتبه': 287, 'نشدهاند': 286, 'نبودم': 286, 'ماندند': 286, 'آینده\\u200cای': 286, 'جاذبههای': 286, 'ابوظبی': 286, 'تابلو': 286, 'انسانیت': 286, 'بکنند': 286, 'ذلک': 286, 'شرف': 286, 'ترابی': 286, 'محلهای': 286, 'جنگجویان': 286, 'سومی': 286, 'ارگانیک': 286, 'رسیده\\u200cاند': 286, 'گوسفندی': 286, 'فایل\\u200cهای': 286, 'تجدیدنظر': 286, 'مداخلات': 286, 'موساد': 286, 'هورمون': 286, 'موتورهای': 286, 'انگور': 285, 'مقصود': 285, 'گرافیکی': 285, 'گردو': 285, 'کلیسای': 285, 'تابلوی': 285, 'بعثی': 285, 'سازگاری': 285, 'بیافتد': 285, 'ازشبکه': 285, 'بسازیم': 285, 'نمی\\u200cرسد': 285, 'آفت': 285, 'اوصاف': 285, 'حدودا': 285, 'خوی': 285, 'کنفرانسی': 285, 'موجی': 285, 'بازنده': 285, 'مقیمی': 285, 'المالکی': 285, 'نوکیا': 285, 'تعرفهها': 285, 'آمادهسازی': 284, 'دیده_شود': 284, 'اثرگذاری': 284, 'منزوی': 284, 'نمایش\\u200cهای': 284, 'محمدزاده': 284, 'توام': 284, 'چاره': 284, 'کمین': 284, 'ناشناخته': 284, 'دستخوش': 284, 'ممیز': 284, 'کانونهای': 284, 'اقساط': 284, 'دهکده': 284, 'لنز': 284, 'پرتغالی': 284, 'رزومه': 283, 'تشیع': 283, 'تجریش': 283, 'سنوات': 283, 'هوشمندی': 283, 'ریچارد': 283, 'مبدا': 283, 'همفکری': 283, 'قصر': 283, 'عملکردی': 283, 'نداشته_باشیم': 283, 'کاذب': 283, 'باروری': 283, 'زورگیری': 283, 'سریلانکا': 283, 'هماهنگیهای': 282, 'کشور\\u200cهای': 282, 'آمده\\u200cاند': 282, 'فوتبالیست': 282, 'بم': 282, 'سیستمی': 282, 'مهری': 282, 'اسطوره': 282, 'هفدهمین': 282, 'بلد': 282, 'نرود': 282, 'منزلت': 282, 'گونههای': 282, 'سهامداران': 282, 'صندوق\\u200cهای': 282, 'جت': 282, 'ایدههای': 281, 'گردشگر': 281, 'سیاستی': 281, 'آگاهانه': 281, 'حجازی': 281, 'توماس': 281, 'عبدالهی': 281, 'لکم': 281, 'شیء': 281, 'اینصورت': 281, 'احسن': 281, 'مساعدت': 281, 'برخوردهای': 281, 'کلیوی': 281, 'بازدارنده': 281, 'خوارزمی': 281, 'آلرژی': 281, 'مغایرت': 281, 'اخلال': 281, 'عب': 281, 'ذوبآهن': 281, 'کاشی': 280, 'پیتر': 280, 'تحریف': 280, 'ردیابی': 280, 'رفتارها': 280, 'حیثیت': 280, 'آفرینش': 280, 'گذاشته_شود': 280, 'اللهی': 280, 'متعارف': 280, 'کارم': 280, 'مبهم': 280, 'آزمایشات': 280, 'وزارتخانههای': 280, 'مغولستان': 280, 'قیمت\\u200cهای': 280, 'خواهند_پرداخت': 279, 'آلن': 279, 'اینبار': 279, 'کشیده_شد': 279, 'آرایش': 279, 'توانمندی\\u200cهای': 279, 'شرطی': 279, 'شیکاگو': 279, 'گنجانده': 279, 'مچ': 279, 'هپاتیت': 279, 'پروژه\\u200cها': 279, 'نگرانی\\u200cهای': 279, 'انفجارهای': 279, 'سیلندر': 279, 'پژوهش\\u200cهای': 278, 'حسام': 278, 'کفایت': 278, 'خانوادهاش': 278, 'باهم': 278, 'لوئیس': 278, 'اکتفا': 278, 'دزد': 278, 'مکرمه': 278, 'حراج': 278, 'مأمور': 278, 'وجهه': 278, 'تریلر': 278, 'گل\\u200cهای': 278, 'تشکیلاتی': 278, 'آزمایشهای': 278, 'مریخ': 278, 'شناخته_شده_است': 277, 'نمی\\u200cتوانم': 277, 'غفاری': 277, 'توفیقی': 277, 'خودت': 277, 'کمالی': 277, 'سرچشمه': 277, 'فرماید': 277, 'نمیدانند': 277, 'گویند': 277, 'دوبلاژ': 277, 'میخواستند': 277, 'فرهنگستان': 277, 'تنشهای': 277, 'جست': 277, 'سانتیمتر': 277, 'قدرتمندی': 277, 'اسرع': 277, 'می\\u200cگرفت': 277, 'میلیاردها': 277, 'استیل': 277, 'ناسا': 277, 'خطبه': 276, 'نمادین': 276, 'یادداشتی': 276, 'کمربند': 276, 'هنرمندی': 276, 'عرف': 276, 'وفاق': 276, 'ماری': 276, 'ماساژ': 276, 'آنگلا': 276, 'زیباسازی': 275, 'سختتر': 275, 'منصرف': 275, 'اباعبدالله': 275, 'متغیر': 275, 'مخاطبین': 275, 'بازگشته': 275, 'گمانه': 275, 'ایرباس': 275, 'فنآوری': 275, 'کنیا': 275, 'مقتضی': 275, 'دنیاست': 274, 'دیار': 274, 'نازنین': 274, 'نپال': 274, 'کشتیهای': 274, 'بهمنی': 274, 'ویدیویی': 274, 'سندرز': 274, 'اصلانی': 274, 'اشرار': 274, 'پیشه': 274, 'عروسی': 274, 'سینماها': 274, 'بچه\\u200cهای': 274, 'دیوانه': 274, 'جابه': 274, 'محال': 274, 'بزرگ\\u200cترین': 274, 'شهیدی': 274, 'فقرات': 274, 'انداختند': 274, 'فوریتی': 274, 'موشکها': 274, 'آهنگسازی': 273, 'یقینا': 273, 'سرلوحه': 273, 'ملاحظات': 273, 'فاکتور': 273, 'بخشش': 273, 'وگرنه': 273, 'ار': 273, 'کریس': 273, 'ذهاب': 273, 'اجر': 273, 'حسابرسی': 273, 'داستانهای': 273, 'مصونیت': 273, 'مجلات': 273, 'عملیاتهای': 273, 'شلوار': 273, 'مستثنی': 273, 'واردکنندگان': 273, 'آتلانتیک': 273, 'رایگیری': 273, 'تاتنهام': 273, 'وزنی': 273, 'ازخبرگزاری': 273, 'تبلیغی': 272, 'ابوالقاسم': 272, 'ناهار': 272, 'الهه': 272, 'بخشد': 272, 'ورزشهای': 272, 'بپذیریم': 272, 'صفت': 272, 'اجزای': 272, 'واقف': 272, 'دیدارها': 272, 'جادههای': 272, 'بدر': 272, 'سرتاسر': 272, 'لس': 272, 'میرزاده': 272, 'کلاس\\u200cهای': 272, 'ناگفته': 272, 'اوتیسم': 272, 'زاگرس': 272, 'زیارتی': 272, 'کندوان': 272, 'خطیر': 272, 'عزیمت': 272, 'محافظ': 272, 'نرخی': 272, 'شرمن': 272, 'فرآیندهای': 272, 'مقدسات': 272, 'کارآفرینان': 272, 'دیکتاتوری': 272, 'اژهای': 272, 'انتفاضه': 272, 'نقشآفرینی': 271, 'حماسی': 271, 'آزادانه': 271, 'بینندگان': 271, 'فاطمی': 271, 'آمیزی': 271, 'برادرم': 271, 'آبانماه': 271, 'دغدغه\\u200cهای': 271, 'درایت': 271, 'قل': 271, 'دومی': 271, 'دردسر': 271, 'مولر': 271, 'سوختی': 271, 'امیرعبداللهیان': 271, 'سجده': 270, 'صفات': 270, 'رسولی': 270, 'ثم': 270, 'بسنده': 270, 'ادوات': 270, 'بزرگسال': 270, 'کمان': 270, 'توصیههای': 270, 'ضربان': 270, 'تلاشمان': 270, 'متجاوزان': 270, 'طبس': 270, 'فنجان': 270, 'معلولیت': 270, 'پیگرد': 270, 'دروازهبان': 270, 'میوه\\u200cهای': 270, 'منچسترسیتی': 270, 'رزرو': 269, 'کاره': 269, 'مرده': 269, 'گرفته_می\\u200cشود': 269, 'اجراهای': 269, 'بناهای': 269, 'ریخت': 269, 'لهم': 269, 'پژوهشها': 269, 'تیغ': 269, 'تربت': 269, 'کیمیا': 269, 'واکنشهای': 269, 'پردازش': 269, 'میآمد': 269, 'شیری': 269, 'خاور': 269, 'اربیل': 269, 'هندوانه': 269, 'هیگل': 269, 'ترمز': 269, 'هضم': 269, 'تنش\\u200cها': 269, 'آلایندگی': 269, 'جنگلی': 268, 'تعدد': 268, 'خیلیها': 268, 'دائما': 268, 'شیعی': 268, 'مزار': 268, 'دوسالانه': 268, 'انحصاری': 268, 'قویتر': 268, 'رفیع': 268, 'زنجیرهای': 268, 'انصاف': 268, 'مشت': 268, 'وحشی': 268, 'میدانستند': 268, 'بطوریکه': 268, 'عقلانیت': 268, 'صراحتا': 268, 'امتحانی': 268, 'نامههای': 268, 'تخلفاتی': 268, 'نمایشگاه\\u200cهای': 267, 'سراج': 267, 'عروس': 267, 'سپرده_شد': 267, 'جانسون': 267, 'غذاها': 267, 'حالى': 267, 'دهقانی': 267, 'پرچمدار': 267, 'غار': 267, 'سایتها': 267, 'جناحی': 267, 'مقالهای': 267, 'گذشته_بود': 266, 'طالقانی': 266, 'دیدگاه\\u200cهای': 266, 'ورق': 266, 'میکشند': 266, 'جویا': 266, 'خواستم': 266, 'چالشها': 266, 'پنهانی': 266, 'ناراضی': 266, 'کرده\\u200cاید': 266, 'دوستداران': 266, 'تلخی': 266, 'زابل': 266, 'رفح': 266, 'مجاور': 266, 'العظمی': 266, 'مفاصل': 266, 'مین': 266, 'بقای': 266, 'رامنی': 266, 'مقدسی': 265, 'گستره': 265, 'ساخته_شود': 265, 'دانیال': 265, 'نهاده': 265, 'کمیت': 265, 'ته': 265, 'تماسی': 265, 'تیتر': 265, 'بصره': 265, 'احقاق': 265, 'گولن': 265, 'واگیر': 265, 'دادگاههای': 264, 'شگفتی': 264, 'بحثی': 264, 'سبحانی': 264, 'غلامعلی': 264, 'کرده_باشند': 264, 'سنگر': 264, 'موجودی': 264, 'یادبود': 264, 'راحتتر': 264, 'میلیون\\u200cها': 264, 'روغنی': 264, 'مازیار': 263, 'رشیدی': 263, 'همکاری\\u200cها': 263, 'رستاخیز': 263, 'فیروز': 263, 'زنانی': 263, 'سرزنش': 263, 'تواناییهای': 263, 'صاحبنظران': 263, 'سردرگمی': 263, 'مجاهدت': 263, 'بازاری': 263, 'لطفا': 263, 'دستکاری': 263, 'آنجلس': 263, 'دال': 263, 'فون': 263, 'درز': 263, 'غافلگیر': 262, 'کوهستان': 262, 'می\\u200cبینند': 262, 'آوردیم': 262, 'حسابی': 262, 'کیوان': 262, 'موقوفات': 262, 'ابوترابی': 262, 'آش': 262, 'مبنا': 262, 'مصاحبه\\u200cای': 262, 'شاهرود': 262, 'شیاطین': 262, 'سنسور': 262, 'مرزن': 262, 'ترشح': 262, 'گازوئیل': 262, 'تشویقی': 261, 'داراست': 261, 'چنگ': 261, 'صحبتهایی': 261, 'وای': 261, 'جواز': 261, 'خوردند': 261, 'گرفتهایم': 261, 'آشکارا': 261, 'مدل\\u200cهای': 261, 'همجوار': 261, 'اینچئون': 261, 'کشنده': 261, 'اوکراینی': 261, 'دارایی\\u200cهای': 261, 'سریالهای': 260, 'کافه': 260, 'مرسوم': 260, 'اجراست': 260, 'نائل': 260, 'کارتن': 260, 'خیمه': 260, 'اندیشههای': 260, 'اکرمص': 260, 'نشده\\u200cاند': 260, 'انتقادی': 260, 'جنگ\\u200cهای': 260, 'شده\\u200cایم': 260, 'نیازها': 260, 'ملزومات': 260, 'ماسه': 260, 'کیفرخواست': 260, 'تیروئید': 260, 'ردهبندی': 260, 'نکونام': 260, 'وثیقه': 260, 'متیس': 260, 'ترقی': 259, 'بازرس': 259, 'هجدهمین': 259, 'رفیق': 259, 'مسافرتی': 259, 'خیره': 259, 'بشناسید': 259, 'انتظاری': 259, 'یادگاری': 259, 'اتوبوسرانی': 259, 'اهم': 259, 'تفصیلی': 259, 'اعداد': 259, 'پناهندگی': 259, 'کلاهک': 259, 'لیبرمن': 259, 'هوشنگ': 258, 'استودیو': 258, 'اینرو': 258, 'دبستانی': 258, 'مؤمنان': 258, 'ایستگاه\\u200cهای': 258, 'رزم': 258, 'درشت': 258, 'نیلی': 258, 'بازان': 258, 'متحرک': 258, 'دلسوز': 258, 'گرفته_بودند': 258, 'مشارکتهای': 258, 'نامطلوب': 258, 'توفیقات': 258, 'سرعتی': 258, 'نفی': 258, 'حساسی': 258, 'آناتولی': 258, 'یادمان': 257, 'ماهر': 257, 'می\\u200cتوانم': 257, 'آمدهاند': 257, 'بیهوده': 257, 'وخامت': 257, 'زبانهای': 257, 'مهد': 257, 'بنگاه': 257, 'فایده': 257, 'بازدهی': 257, 'سیاست\\u200cها': 257, 'ناپذیری': 257, 'اوباش': 257, 'رتبهبندی': 257, 'حاملین': 257, 'چهارراه': 256, 'کوثری': 256, 'غزل': 256, 'شب\\u200cهای': 256, 'اطلاق': 256, 'بپذیرند': 256, 'مدت\\u200cها': 256, 'عیدی': 256, 'مثابه': 256, 'پیامبران': 256, 'نژادی': 256, 'حمزه': 256, 'شانزدهمین': 256, 'مثلث': 256, 'شاگرد': 256, 'هماهنگی\\u200cهای': 256, 'دوربین\\u200cهای': 256, 'گارانتی': 256, 'دکترا': 256, 'حرارتی': 256, 'انبارهای': 256, 'ساختمانها': 256, 'مهرام': 256, 'دستاوردها': 256, 'شلمچه': 255, 'هزینه\\u200cای': 255, 'حضار': 255, 'تقریبی': 255, 'چارهای': 255, 'محرک': 255, 'خلیلی': 255, 'سام': 255, 'پهلوان': 255, 'بیستمین': 255, 'مسئله\\u200cای': 255, 'بورسیه': 255, 'مراتع': 255, 'غربی\\u200cها': 255, 'سیسی': 255, 'مسوول': 255, 'مخاطرات': 255, 'متبوع': 255, 'کاهشی': 255, 'مسئلت': 254, 'هما': 254, 'بلورین': 254, 'طهماسبی': 254, 'متوسل': 254, 'اکتشاف': 254, 'بیتالمقدس': 254, 'یزید': 254, 'وصیت': 254, 'اروپای': 254, 'مزاحم': 254, 'موفقی': 254, 'همیاری': 254, 'کهریزک': 254, 'برهمین': 254, 'مکالمات': 254, 'پرخاشگری': 254, 'انسداد': 254, 'شناورهای': 254, 'مادورو': 254, 'میخواند': 253, 'مهتاب': 253, 'کیارستمی': 253, 'فرشتگان': 253, 'توطئههای': 253, 'سرافراز': 253, 'حالتی': 253, 'ارگانهای': 253, 'بسته\\u200cهای': 253, 'رباط': 253, 'مجموعه\\u200cهای': 253, 'لانه': 253, 'تصمیماتی': 253, 'شکی': 253, 'افشاگری': 253, 'تمتع': 253, 'درآمدها': 253, 'بای': 253, 'نافرجام': 253, 'خدمه': 253, 'طوسی': 252, 'تپه': 252, 'ماموریتهای': 252, 'نامبرده': 252, 'تاسوعا': 252, 'نگاران': 252, 'یعقوب': 252, 'تحریریه': 252, 'سوگواری': 252, 'رویت': 252, 'غیاب': 252, 'اکسید': 252, 'رهروان': 252, 'اختیاری': 252, 'مرغداران': 252, 'آبی\\u200cها': 252, 'کرنر': 252, 'معدود': 251, 'پهن': 251, 'طاهر': 251, 'وعده\\u200cهای': 251, 'سلایق': 251, 'فستیوال': 251, 'زمینه\\u200cها': 251, 'میشوم': 251, 'تعالى': 251, 'وهله': 251, 'فرصتها': 251, 'گرفته\\u200cایم': 251, 'لحظهای': 251, 'کرایه': 251, 'حسنه': 251, 'آسیبها': 251, 'سهل': 251, 'خیابان\\u200cها': 251, 'عالمیان': 251, 'شن': 251, 'بازارها': 251, 'هلندی': 251, 'منشأ': 251, 'شهرداران': 251, 'کارفرمایان': 251, 'عابدی': 250, 'نگین': 250, 'حریری': 250, 'کارت\\u200cهای': 250, 'بزنم': 250, 'متضرر': 250, 'مروارید': 250, 'عجله': 250, 'نظران': 250, 'جاده\\u200cهای': 250, 'دادگاهی': 250, 'سرماخوردگی': 250, 'نقشههای': 250, 'شستشوی': 250, 'تورمی': 250, 'کرون': 250, 'شیرخام': 250, 'امنا': 249, 'چنینی': 249, 'مولوی': 249, 'مجموعا': 249, 'خوشی': 249, 'متنی': 249, 'رامبد': 249, 'ضریح': 249, 'کرده_بودیم': 249, 'بیندازد': 249, 'آمده_بودند': 249, 'کامپیوتری': 249, 'حوادثی': 249, 'خواهد_زد': 249, 'بو': 249, 'جاوید': 249, 'کرسیهای': 249, 'سیرجان': 249, 'مسقط': 249, 'محکومان': 249, 'ساقط': 249, 'منوی': 249, 'کنسولی': 249, 'زیدان': 249, 'پیشگاه': 248, 'خدمتی': 248, 'معصومین': 248, 'ممنوعه': 248, 'آقاجانی': 248, 'ژان': 248, 'جاى': 248, 'مظنه': 248, 'شیطانی': 248, 'بسته_است': 248, 'گلزن': 248, 'سؤالات': 248, 'قوانینی': 248, 'برادری': 248, 'العربی': 248, 'تسهیلاتی': 248, 'ادرار': 248, 'اختراعات': 248, 'قوچان': 248, 'گردنه': 248, 'سوچی': 248, 'عروسک': 247, 'مردانه': 247, 'مفهومی': 247, 'کوین': 247, 'دستوری': 247, 'فال': 247, 'موید': 247, 'نمی\\u200cشوند': 247, 'موقتی': 247, 'حفر': 247, 'جیرفت': 247, 'ید': 247, 'رشته\\u200cها': 247, 'پافشاری': 247, 'تلف': 247, 'فوریتهای': 247, 'کریسمس': 247, 'تریاک': 247, 'هزارتومان': 247, 'اتوبوسهای': 247, 'پروازها': 247, 'گرانقدر': 246, 'والا': 246, 'کلامی': 246, 'انزوا': 246, 'نخواهیم_کرد': 246, 'سوت': 246, 'شیشهای': 246, 'اختلاس': 246, 'بیایید': 246, 'امدادگران': 246, 'آبادانی': 246, 'قبضه': 246, 'نوشابه': 246, 'نیروگاههای': 246, 'فرودگاهها': 246, 'بورسبانک': 246, 'گویای': 245, 'صفی': 245, 'تهمت': 245, 'جامعهای': 245, 'خانهای': 245, 'رسیدم': 245, 'غیرممکن': 245, 'حرف\\u200cهای': 245, 'معناى': 245, 'اخلاص': 245, 'ربع': 245, 'کیک': 245, 'تایپ': 245, 'صیاد': 245, 'محرز': 245, 'توت': 245, 'یورویی': 245, 'ظرفشویی': 245, 'بدمینتون': 245, 'وکیلی': 244, 'مقامی': 244, 'محک': 244, 'خراسانی': 244, 'میفرماید': 244, 'سیدعلی': 244, 'ماهیان': 244, 'فدای': 244, 'مبادا': 244, 'بازوی': 244, 'سازه': 244, 'رخدادهای': 244, 'کعبه': 244, 'رشتهها': 244, 'نخواهند_کرد': 244, 'مولد': 244, 'بدرقه': 244, 'ساختمان\\u200cهای': 244, 'مستقیمی': 244, 'بحث\\u200cهای': 244, 'بسترهای': 244, 'جاسم': 244, 'ایوانکوویچ': 244, 'رقبا': 244, 'بنزینی': 244, 'فرودگاههای': 244, 'لاتزیو': 244, 'میخوانید': 243, 'نمیرود': 243, 'القا': 243, 'قلی': 243, 'سهگانه': 243, 'احمدزاده': 243, 'اسرای': 243, 'روم': 243, 'ببینم': 243, 'یادم': 243, 'بندری': 243, 'گلف': 243, 'دورتموند': 243, 'تحریر': 242, 'ارباب': 242, 'لبه': 242, 'هذا': 242, 'محفوظ': 242, 'خانهها': 242, 'وتو': 242, 'رکعت': 242, 'فلز': 242, 'ژیمناستیک': 242, 'می\\u200cگذارند': 242, 'بفروش': 242, 'قسام': 242, 'محلول': 242, 'تجدیدپذیر': 242, 'ایستادند': 241, 'شاعری': 241, 'تالیف': 241, 'خواهیم_دید': 241, 'اختلافی': 241, 'شبی': 241, 'ایوب': 241, 'تشکلها': 241, 'گزارشهایی': 241, 'نیامد': 241, 'استانداردها': 241, 'مزرعه': 241, 'گریبان': 241, 'می\\u200cبیند': 241, 'مشارکتی': 241, 'حصر': 241, 'ثواب': 241, 'تقریب': 241, 'ماهشهر': 241, 'موضعگیری': 241, 'اردوها': 241, 'شرکتهایی': 241, 'آمایش': 241, 'روهینگیا': 241, 'لیونل': 241, 'طرابلس': 241, 'پاری': 241, 'تئاتری': 240, 'مختاری': 240, 'فعالیتهایی': 240, 'بختیار': 240, 'فولادی': 240, 'درآمدزایی': 240, 'شکوهمند': 240, 'میرباقری': 240, 'خسارتهای': 240, 'کثیف': 240, 'معدل': 240, 'فواید': 240, 'جبهههای': 240, 'سهیم': 240, 'شکاری': 240, 'پانزدهمین': 240, 'زدگی': 240, 'پشتی': 240, 'الماس': 240, 'بولیوی': 240, 'معاینات': 240, 'تیرماهتحولات': 240, 'غروب': 239, 'شادابی': 239, 'گردی': 239, 'بطحایی': 239, 'بده': 239, 'چالشی': 239, 'چهلمین': 239, 'تورهای': 239, 'فرات': 239, 'بانی': 239, 'میاندازد': 239, 'گلچین': 239, 'توانستم': 239, 'مرکب': 239, 'وفاداری': 239, 'پایههای': 239, 'مخاطره': 239, 'فعالی': 239, 'انداخته_است': 239, 'اصلاحی': 239, 'مفتی': 239, 'شوهرم': 239, 'آشامیدنی': 239, 'راهنما': 238, 'جشنوارهها': 238, 'ارگان': 238, 'عاقبت': 238, 'مرقد': 238, 'شکایتی': 238, 'حیوانی': 238, 'پایلوت': 238, 'چهارصد': 238, 'جاسوس': 238, 'سوسنگرد': 238, 'کارشکنی': 238, 'نبش': 238, 'مادهای': 238, 'دزفول': 238, 'دیده_شده_است': 238, 'قبرس': 238, 'آنتونیو': 238, 'عمده\\u200cای': 238, 'تندروی': 238, 'هشدارهای': 238, 'اسکیت': 238, 'تریلیون': 238, 'هجرت': 237, 'مجاهدین': 237, 'تعاملی': 237, 'قهر': 237, 'عیادت': 237, 'هولناک': 237, 'متوازن': 237, 'گمراه': 237, 'سهمی': 237, 'شهرستان\\u200cها': 237, 'ملت\\u200cها': 237, 'خانم\\u200cها': 237, 'گروههایی': 237, 'بازپس': 237, 'فیصل': 237, 'اعترافات': 237, 'عبدالفتاح': 237, 'سکوهای': 237, 'شورایعالی': 237, 'داروسازان': 237, 'مجاری': 237, 'نمر': 236, 'فصول': 236, 'قره': 236, 'مقتدر': 236, 'انداخته': 236, 'ملایم': 236, 'شکستهای': 236, 'عاشورای': 236, 'ندادن': 236, 'وجدان': 236, 'شینهوا': 236, 'ملیپوشان': 236, 'بازگردانده': 235, 'مولانا': 235, 'رسوم': 235, 'ردههای': 235, 'هری': 235, 'انطباق': 235, 'ادا': 235, 'نیاورد': 235, 'بیهوشی': 235, 'بریزید': 235, 'دستباف': 234, 'تصادفی': 234, 'أو': 234, 'پوشی': 234, 'بازیابی': 234, 'ومن': 234, 'پلاس': 234, 'تلفن\\u200cهای': 234, 'اثربخشی': 234, 'بویر': 234, 'لشکری': 234, 'چاک': 234, 'پروفسور': 234, 'رزولوشن': 234, 'تسنیم': 234, 'دندانها': 234, 'مسموم': 234, 'انگشتان': 234, 'آمل': 234, 'لوزان': 234, 'ستیزی': 234, 'کنگو': 234, 'ضرورتی': 234, 'گمرکات': 234, 'کاندیداتوری': 234, 'اسمارت': 234, 'درزگیری': 234, 'فلش': 233, 'صداگذاری': 233, 'گنجی': 233, 'سربلند': 233, 'تکنیکی': 233, 'سرایت': 233, 'اشکالی': 233, 'گردند': 233, 'فدک': 233, 'مجاورت': 233, 'هایم': 233, 'دهلی': 233, 'صدایی': 233, 'بهانه\\u200cای': 233, 'خلاء': 233, 'تهویه': 233, 'افزایشی': 233, 'اکوادور': 233, 'ارزها': 233, 'سناتورهای': 233, 'حریرچی': 233, 'ذوق': 232, 'جلوههای': 232, 'کانادایی': 232, 'پناهنده': 232, 'بهداد': 232, 'میری': 232, 'مصباح': 232, 'جمالی': 232, 'فرآورده': 232, 'کمیل': 232, 'شخصیتها': 232, 'رایان': 232, 'تاکتیک': 232, 'نشت': 232, 'یبوست': 232, 'شبکهها': 231, 'خلقت': 231, 'منابعی': 231, 'آوای': 231, 'فرج': 231, 'ناموفق': 231, 'متدین': 231, 'غیور': 231, 'بیابان': 231, 'قمر': 231, 'حوزه\\u200cها': 231, 'غلطی': 231, 'ترکیهای': 231, 'پیام\\u200cهای': 231, 'اسمی': 231, 'شتم': 231, 'رنگ\\u200cهای': 231, 'وبگردی': 231, 'طبقاتی': 231, 'شعارهایی': 231, 'طیور': 231, 'فشارخون': 231, 'دنده': 231, 'اروگوئه': 231, 'هلالاحمر': 231, 'خشونتها': 231, 'کلانشهرها': 231, 'کوارتر': 231, 'آدمهای': 230, 'گنجینه': 230, 'می\\u200cرویم': 230, 'عرفانی': 230, 'سودی': 230, 'حیرت': 230, 'پیرمرد': 230, 'صحرایی': 230, 'علایم': 230, 'آغازین': 230, 'خاکستری': 230, 'جنسیتی': 230, 'حوزوی': 230, 'گیری\\u200cهای': 230, 'درگفتگو': 230, 'تبرئه': 230, 'حدس': 230, 'محدودیتها': 230, 'کارآفرین': 230, 'آزمایی': 230, 'لیبرال': 230, 'ناپولی': 230, 'پرز': 230, 'تعرفه\\u200cهای': 230, 'معتدل': 229, 'درآورده': 229, 'روز\\u200cهای': 229, 'شنوندگان': 229, 'منفعت': 229, 'برومند': 229, 'بقاع': 229, 'مجاهد': 229, 'مفیدی': 229, 'انقلابیون': 229, 'دیدید': 229, 'آشفته': 229, 'ثامن': 229, 'کشتند': 229, 'جاهای': 229, 'فعالیتی': 229, 'بازرگانان': 229, 'مردود': 229, 'شهرستان\\u200cهای': 229, 'مکانیزم': 229, 'شست': 229, 'جراح': 229, 'بیمه\\u200cها': 229, 'مایعات': 229, 'رضاییان': 229, 'شوی': 228, 'سمیه': 228, 'نمونهای': 228, 'ون': 228, 'حجتی': 228, 'ایمانی': 228, 'سالن\\u200cهای': 228, 'فروشان': 228, 'پسرم': 228, 'جد': 228, 'میدهید': 228, 'بروجرد': 228, 'بیرویه': 228, 'سیدحسن': 228, 'آرتروز': 228, 'غدد': 228, 'بولتون': 228, 'نمیداند': 227, 'مشتاق': 227, 'پیادهروی': 227, 'بیا': 227, 'همایش\\u200cهای': 227, 'الى': 227, 'سفرای': 227, 'می\\u200cفرماید': 227, 'جویانه': 227, 'کردهای': 227, 'خودسرانه': 227, 'بغدادی': 227, 'پارکهای': 227, 'نبیل': 227, 'غلظت': 227, 'باکتری': 227, 'حملاتی': 227, 'واترپلو': 227, 'امامزادگان': 226, 'پذیرفتن': 226, 'مکانیکی': 226, 'بایستد': 226, 'اهداء': 226, 'ورزش\\u200cهای': 226, 'خانوادهای': 226, 'نامیده': 226, 'اپ': 226, 'ایجاب': 226, 'لحظه\\u200cای': 226, 'زننده': 226, 'نفاق': 226, 'سفرها': 226, 'الحرام': 226, 'بلک': 226, 'مشهدی': 226, 'ابوذر': 226, 'اظهارکرد': 226, 'شفافسازی': 226, 'مسجدالاقصی': 226, 'نشانهای': 226, 'میوهها': 226, 'همتایان': 226, 'مستعفی': 226, 'کاراکتر': 225, 'پهلوانی': 225, 'منتسب': 225, 'سپیده': 225, 'محبی': 225, 'فروخته': 225, 'سرم': 225, 'مرطوب': 225, 'معصومی': 225, 'لایحهای': 225, 'هتک': 225, 'اسکناس': 225, 'ادعاها': 225, 'ژئوفیزیک': 225, 'پتاسیم': 225, 'حسی': 224, 'رانده': 224, 'راسخ': 224, 'امامان': 224, 'موها': 224, 'هویتی': 224, 'شاهدیم': 224, 'تفاسیر': 224, 'چرایی': 224, 'برآمده': 224, 'نزدیکترین': 224, 'ارسلان': 224, 'حاکمان': 224, 'موافقان': 224, 'جهات': 224, 'بارزانی': 224, 'رتبه\\u200cهای': 224, 'سرپایی': 224, 'زمین\\u200cهای': 224, 'هکرها': 224, 'لوبیا': 224, 'مودیان': 224, 'سپهر': 223, 'محجوب': 223, 'تأثیرگذاری': 223, 'موقعیتهای': 223, 'گور': 223, 'آگوست': 223, 'بخوانند': 223, 'محسوس': 223, 'زوایای': 223, 'هجمه': 223, 'ثمره': 223, 'برانگیخته': 223, 'اعلامی': 223, 'سکو': 223, 'ماهها': 223, 'میدانست': 223, 'دانا': 223, 'ملا': 223, 'فهرستی': 223, 'قانونگذاران': 223, 'پز': 223, 'جداسازی': 223, 'فتوای': 223, 'ضربتی': 223, 'یدیعوت': 223, 'پینگ': 223, 'کواچ': 223, 'فازهای': 223, 'بارگیری': 223, 'پهپادهای': 223, 'یونانی': 222, 'تناقض': 222, 'شکنی': 222, 'کشیده_است': 222, 'پاسداشت': 222, 'مناجات': 222, 'عمیقی': 222, 'معینی': 222, 'اقرار': 222, 'خواهید_شد': 222, 'نیفتاده': 222, 'قراردادش': 222, 'لامپ': 222, 'مطیعی': 222, 'بخش\\u200cها': 222, 'خوشبین': 222, 'بیاورید': 222, 'بشناسیم': 222, 'گوشزد': 222, 'آفتابی': 222, 'زوار': 222, 'شورش': 222, 'لاغر': 222, 'بنگاه\\u200cهای': 222, 'بنیه': 222, 'می\\u200cشدند': 221, 'فرانکفورت': 221, 'دربار': 221, 'لوکیشن': 221, 'طرحهایی': 221, 'مظلومیت': 221, 'سروده': 221, 'سیلی': 221, 'شیوا': 221, 'فقهی': 221, 'بازخوانی': 221, 'کیانوش': 221, 'اشیاء': 221, 'رسایی': 221, 'کریستین': 221, 'تماسهای': 221, 'وادی': 221, 'مظهر': 221, 'اسلوونی': 221, 'نرمافزاری': 221, 'متداول': 221, 'راهکارها': 221, 'ماسک': 221, 'هیاتهای': 221, 'حسابداری': 221, 'قایقرانی': 221, 'شایعترین': 221, 'دربعدازظهر': 221, 'قطعنامههای': 221, 'تاکیدات': 220, 'سیدی': 220, 'استیو': 220, 'ذره': 220, 'وفات': 220, 'صفری': 220, 'جسارت': 220, 'مىشود': 220, 'زدم': 220, 'یافته_بود': 220, 'سانس': 220, 'مکانیک': 220, 'جاذبه': 220, 'نمیدانیم': 220, 'افشارزاده': 220, 'معبر': 220, 'مزدا': 220, 'اتلاف': 220, 'تشخیصی': 220, 'گراهام': 220, 'زلزلهای': 220, 'المانیتور': 220, 'کنست': 220, 'ارتوپدی': 220, 'رتبههای': 219, 'فرهیخته': 219, 'جزای': 219, 'تایم': 219, 'رویدادها': 219, 'تصحیح': 219, 'تیموریان': 219, 'نامه\\u200cها': 219, 'گویندگی': 219, 'اسپانسر': 219, 'نمی\\u200cآید': 219, 'راهیابی': 219, 'متراژ': 219, 'سخت\\u200cتر': 219, 'جابر': 219, 'ساحت': 219, 'چهاردهمین': 219, 'پیشی': 219, 'می\\u200cگیریم': 219, 'بحران\\u200cهای': 219, 'انرژی\\u200cهای': 219, 'شهرک\\u200cهای': 219, 'خرازی': 219, 'بیتالمال': 219, 'تعارض': 219, 'زمینهساز': 219, 'خلبانان': 219, 'تذکرات': 219, 'براثر': 219, 'شدیدا': 219, 'مقتدرانه': 219, 'خشونت\\u200cها': 219, 'میستورا': 219, 'شقایق': 218, 'معمای': 218, 'متین': 218, 'خور': 218, 'فعل': 218, 'تنزل': 218, 'شهبازی': 218, 'مینا': 218, 'آمنوا': 218, 'توده': 218, 'آری': 218, 'پارسا': 218, 'کشفیات': 218, 'کجای': 218, 'ولو': 218, 'شانزده': 218, 'امانی': 218, 'آرژانتینی': 218, 'جریان\\u200cهای': 218, 'زوال': 218, 'تودیع': 218, 'ویزای': 218, 'زندان\\u200cهای': 218, 'تمکین': 218, 'راشاتودی': 218, 'مهمانی': 217, 'نواز': 217, 'طمع': 217, 'قسمت\\u200cهای': 217, 'آرمان\\u200cهای': 217, 'سهیل': 217, 'آشتیانی': 217, 'فیلمبردار': 217, 'تذکری': 217, 'برو': 217, 'دیرباز': 217, 'روشها': 217, 'کیفر': 217, 'پستهای': 217, 'جابجا': 217, 'بکنیم': 217, 'بپردازید': 217, 'جامه': 217, 'نام\\u200cهای': 217, 'زکات': 217, 'بستگان': 217, 'مقام\\u200cهای': 217, 'سیلاب': 217, 'نشانه\\u200cهای': 217, 'اسرا': 217, 'اشعه': 217, 'نقطهای': 217, 'شاهرودی': 217, 'خودروهایی': 217, 'جراحان': 217, 'دیزین': 217, 'سانتریفیوژ': 217, 'آرشیو': 216, 'کثیری': 216, 'خلاقانه': 216, 'جانشینی': 216, 'المال': 216, 'امنی': 216, 'مرزبان': 216, 'بهمنماه': 216, 'ویکتور': 216, 'ادیب': 216, 'افزودن': 216, 'برخاسته': 216, 'توانسته\\u200cاند': 216, 'کاربردهای': 216, 'نمونه\\u200cهای': 216, 'کوک': 216, 'حاملهای': 216, 'چاره\\u200cای': 216, 'تنگی': 216, 'اشباع': 216, 'راند': 216, 'منیزیم': 216, 'صندوقدار': 216, 'شکیبایی': 215, 'ماهیانه': 215, 'جاودانه': 215, 'بازنویسی': 215, 'لطیفی': 215, 'کلیپ': 215, 'هدایتی': 215, 'استعدادها': 215, 'ورشکستگی': 215, 'راندن': 215, 'تقلیل': 215, 'اقصی': 215, 'هئیت': 215, 'بسازند': 215, 'برخى': 215, 'وسواس': 215, 'خلیجفارس': 215, 'اسلواکی': 215, 'بیثباتی': 215, 'حبوبات': 215, 'انسولین': 215, 'شیرخشک': 215, 'پروندهای': 214, 'راوی': 214, 'زندگانی': 214, 'عمو': 214, 'اماراتی': 214, 'نکنم': 214, 'معمار': 214, 'رعب': 214, 'عکسها': 214, 'پری': 214, 'لای': 214, 'درنهایت': 214, 'امپراتوری': 214, 'جدیدش': 214, 'تجهیزاتی': 214, 'ناتمام': 214, 'مضحک': 214, 'ازاین': 214, 'تلفیقی': 214, 'مصدق': 214, 'ربیع': 214, 'گوساله': 214, 'حاصله': 214, 'تعلل': 214, 'تحریمی': 214, 'اسپرت': 214, 'عاشقی': 213, 'حرکتهای': 213, 'منشاء': 213, 'سیدمحمد': 213, 'ناهید': 213, 'کننده\\u200cای': 213, 'گرداند': 213, 'سلحشور': 213, 'وسیلهای': 213, 'دزدان': 213, 'اصلاحاتی': 213, 'قمی': 213, 'جریانی': 213, 'اقیانوسیه': 213, 'مسؤولان': 213, 'ملى': 213, 'ریش': 213, 'تظاهر': 213, 'می\\u200cپذیرد': 213, 'نصاب': 213, 'نسخههای': 213, 'اجرائی': 213, 'پیشمرگه': 213, 'مؤثری': 212, 'اشیا': 212, 'نکتهای': 212, 'ناعادلانه': 212, 'ذهنیت': 212, 'ناگوار': 212, 'بکر': 212, 'اردکان': 212, 'نوک': 212, 'تلاشهایی': 212, 'مابین': 212, 'گوسفند': 212, 'عبدالعظیم': 212, 'نوشتند': 212, 'هفده': 212, 'اشرفی': 212, 'ظرفیت\\u200cها': 212, 'ثانیا': 212, 'می\\u200cطلبد': 212, 'حوصله': 212, 'بهمنظور': 212, 'اکثرا': 212, 'منهای': 212, 'ولایی': 212, 'نمی\\u200cدهند': 212, 'نوربخش': 212, 'آشفتگی': 212, 'عقاب': 212, 'میگو': 212, 'واحد\\u200cهای': 212, 'میانجیگری': 212, 'جداول': 212, 'ماهینی': 212, 'حادثهای': 211, 'نسلهای': 211, 'بینش': 211, 'شیفت': 211, 'روزهایی': 211, 'دوستش': 211, 'توپخانه': 211, 'صبور': 211, 'اشغالگری': 211, 'ایستاده_است': 211, 'آلود': 211, 'فرهیختگان': 211, 'جوار': 211, 'خواهد_پرداخت': 211, 'کوی': 211, 'توانایی\\u200cهای': 211, 'خانه\\u200cای': 211, 'مارکو': 211, 'منتشره': 211, 'دستیاری': 211, 'جماهیر': 211, 'رختکن': 211, 'امیدوارند': 211, 'وهابی': 211, 'مهدویکنی': 211, 'کارکردهای': 210, 'یکطرفه': 210, 'ن': 210, 'مستندی': 210, 'جراحات': 210, 'مرحلهای': 210, 'صبوری': 210, 'بستند': 210, 'کتابهایی': 210, 'شناسان': 210, 'یافته\\u200cاند': 210, 'خلاص': 210, 'قوام': 210, 'مشایی': 210, 'عدل': 210, 'دستاندرکاران': 210, 'شکری': 210, 'مزاحمت': 210, 'بسر': 210, 'آف': 210, 'نشوید': 210, 'عظام': 210, 'میت': 210, 'گرشاسبی': 210, 'فروشگاه\\u200cهای': 210, 'فریزر': 210, 'گچساران': 210, 'خانوارهای': 210, 'قیر': 210, 'جروزالم': 210, 'تاجیک': 209, 'اکشن': 209, 'رخداد': 209, 'درازمدت': 209, 'متمایز': 209, 'یکساله': 209, 'پیشانی': 209, 'آسانتر': 209, 'بسته_شد': 209, 'هی': 209, 'جوابگوی': 209, 'صلابت': 209, 'اعاده': 209, 'شوهرش': 209, 'سبقت': 209, 'جوانبه': 209, 'خبرهایی': 209, 'روزنامهنگار': 209, 'فست': 209, 'زنجیره\\u200cای': 209, 'شایعاتی': 209, 'حکیمانه': 209, 'تنش\\u200cهای': 209, 'توسعهای': 209, 'افشانی': 209, 'صدمات': 209, 'آهنین': 209, 'کلانشهر': 209, 'اراذل': 209, 'اسپورت': 209, 'جشنواره\\u200cها': 208, 'آثارشان': 208, 'لزوما': 208, 'مظفری': 208, 'بانو': 208, 'گذاشتم': 208, 'ابی': 208, 'مخارج': 208, 'شوکه': 208, 'جنبه\\u200cهای': 208, 'همراهان': 208, 'مشایخی': 208, 'بکشید': 208, 'وآله': 208, 'تشنج': 208, 'پیامکی': 208, 'آدمها': 208, 'تسکین': 208, 'پارسی': 208, 'نهصد': 208, 'مجرب': 208, 'دیناروند': 208, 'عراقیها': 208, 'خشونتهای': 208, 'غیرعلنی': 208, 'فتنهگران': 208, 'ربانی': 207, 'امانوئل': 207, 'شرم': 207, 'عشایری': 207, 'معنایی': 207, 'رقص': 207, 'مناسک': 207, 'فرزندانش': 207, 'پرو': 207, 'عیب': 207, 'بالندگی': 207, 'انزوای': 207, 'نمیخواهد': 207, 'کارگروهی': 207, 'ناامن': 207, 'مزایا': 207, 'ریوی': 207, 'بمانیم': 207, 'افزوددر': 207, 'رگبار': 207, 'طعمه': 207, 'نظرتان': 207, 'میوههای': 207, 'راندمان': 207, 'گوگرد': 207, 'کشتی\\u200cهای': 207, 'پیامص': 206, 'کیومرث': 206, 'رکوردهای': 206, 'فروتن': 206, 'استرالیایی': 206, 'آنگونه': 206, 'شاهرخ': 206, 'گروهکهای': 206, 'بعضیها': 206, 'میزد': 206, 'خیس': 206, 'دیالیز': 206, 'نکردهایم': 206, 'تاجر': 206, 'صادقیان': 206, 'ثانویه': 206, 'موناکو': 206, 'ودیعه': 206, 'ویزیت': 206, 'چاوز': 206, 'متهمین': 206, 'میکرون': 206, 'نمرات': 206, 'همپیمانان': 206, 'نیروهایی': 205, 'تیرانداز': 205, 'آموزه\\u200cهای': 205, 'پروردگارا': 205, 'پیوستند': 205, 'موردنظر': 205, 'هرکسی': 205, 'پلمپ': 205, 'زدیم': 205, 'برش': 205, 'رستگاری': 205, 'قیمتگذاری': 205, 'سودجو': 205, 'جده': 205, 'افول': 205, 'آبه': 205, 'تهوع': 205, 'ایالتهای': 205, 'مشترکین': 205, 'پلور': 205, 'توانستهاند': 204, 'داده_خواهد_شد': 204, 'میشناسند': 204, 'خردسال': 204, 'ایدئولوژی': 204, 'اجابت': 204, 'افتاده_بود': 204, 'یکهزار': 204, 'آرم': 204, 'همشهری': 204, 'ناپیوسته': 204, 'موادغذایی': 204, 'رایزنیهای': 204, 'استبداد': 204, 'ترمینال': 204, 'ناکارآمد': 204, 'اردنی': 204, 'وامهای': 204, 'مالباخته': 204, 'میلگرد': 204, 'بازیکنانم': 204, 'آکادمیک': 203, 'مظفر': 203, 'دیزل': 203, 'بیمارانی': 203, 'معتمدی': 203, 'قاچاقچی': 203, 'درخواست\\u200cهای': 203, 'متعالی': 203, 'وا': 203, 'ساعتهای': 203, 'اصغری': 203, 'ماریا': 203, 'شرور': 203, 'ساندویچ': 203, 'نگرانی\\u200cها': 203, 'پیمانی': 203, 'سرپرستان': 203, 'اطلاعیهای': 203, 'نگرانیها': 203, 'زیردریایی': 203, 'اسرائیلیها': 203, 'داوطلبانی': 203, 'ریابکوف': 203, 'استقلالیها': 203, 'تأمل': 202, 'نازی': 202, 'بخواهم': 202, 'مختار': 202, 'واقعیات': 202, 'مولفههای': 202, 'زاکانی': 202, 'مهسا': 202, 'دگرگون': 202, 'جوانها': 202, 'کاسه': 202, 'تمهیداتی': 202, 'بودجه\\u200cای': 202, 'درادامه': 202, 'نیزه': 202, 'کریستال': 202, 'آمازون': 202, 'تجاوزات': 202, 'اتاقهای': 202, 'پیگیری\\u200cهای': 202, 'مجازاتهای': 202, 'پیروزی\\u200cهای': 202, 'هویج': 202, 'بنغازی': 202, 'بارسا': 202, 'توانستهایم': 201, 'داشتنی': 201, 'شده_باشند': 201, 'کتک': 201, 'پذیرفته_است': 201, 'سخنی': 201, 'قشقایی': 201, 'زده_شد': 201, 'صفا': 201, 'دانشجویانی': 201, 'میبریم': 201, 'ماندنی': 201, 'موازات': 201, 'صابری': 201, 'نوظهور': 201, 'زمانه': 201, 'ساسان': 201, 'سخنگو': 201, 'چیزهای': 201, 'جاذبه\\u200cهای': 201, 'بنشیند': 201, 'خصومت': 201, 'قبایل': 201, 'ندهیم': 201, 'آوار': 201, 'راشا': 201, 'لیتوانی': 201, 'فیمابین': 201, 'راداری': 201, 'اظهارنامه': 201, 'کوهی': 200, 'محفل': 200, 'سوادآموزی': 200, 'طبعا': 200, 'رویایی': 200, 'سفارشی': 200, 'ویرانی': 200, 'باج': 200, 'هنگامى': 200, 'تیموری': 200, 'عطف': 200, 'همهجانبه': 200, 'نقشه\\u200cهای': 200, 'بازگشتند': 200, 'ت': 200, 'سراهای': 200, 'میخورند': 200, 'مراجعات': 200, 'فارغالتحصیلان': 200, 'باوجود': 200, 'میلیمتری': 200, 'محلاتی': 200, 'قانونگذار': 200, 'بلوکه': 200, 'کارمزد': 200, 'صحنه\\u200cهای': 199, 'سوالاتی': 199, 'پایه\\u200cهای': 199, 'ارادت': 199, 'مرجان': 199, 'بزرگسالی': 199, 'تحولاتی': 199, 'صنوف': 199, 'جوانانی': 199, 'ماهواره\\u200cای': 199, 'خوشایند': 199, 'مسوولیت': 199, 'فتاحی': 199, 'لیر': 199, 'چاههای': 199, 'دانههای': 199, 'می\\u200cرسید': 199, 'حقیقتا': 199, 'کنترلی': 199, 'بلامانع': 199, 'داروهایی': 199, 'خوار': 198, 'گمشده': 198, 'برضد': 198, 'اعلان': 198, 'تیز': 198, 'شرک': 198, 'قاریان': 198, 'چو': 198, 'تخلفی': 198, 'تأثیری': 198, 'نظافت': 198, 'مدظله': 198, 'تشنگی': 198, 'پیکسل': 198, 'نشدنی': 198, 'می\\u200cاندازد': 198, 'جنگلها': 198, 'اطلس': 198, 'معبد': 198, 'نیافته_است': 198, 'باریک': 198, 'همسرتان': 198, 'مبل': 198, 'سنگال': 198, 'ناکارآمدی': 198, 'قائمشهر': 198, 'موشک\\u200cها': 198, 'سلولی': 198, 'یعلون': 198, 'سانتر': 198, 'رایت': 197, 'آسیبشناسی': 197, 'نسرین': 197, 'فنون': 197, 'کر': 197, 'قبیله': 197, 'یافتهاند': 197, 'افطاری': 197, 'رفتهاند': 197, 'جملات': 197, 'دیگه': 197, 'گوهر': 197, 'خواهد_افتاد': 197, 'بردیم': 197, 'عبوری': 197, 'باشی': 197, 'ایده\\u200cهای': 197, 'قطارهای': 197, 'استیون': 197, 'آئیننامه': 197, 'قسط': 197, 'مصون': 197, 'رمادی': 197, 'قطعنامهای': 197, 'قرنیه': 197, 'قاضیپور': 197, 'داعشیها': 197, 'سنگهای': 196, 'سردبیری': 196, 'فیلسوف': 196, 'سرازیر': 196, 'وفا': 196, 'اهرم': 196, 'ناجی': 196, 'شعاع': 196, 'تفاوتهای': 196, 'غیرت': 196, 'صدقه': 196, 'بجز': 196, 'بغل': 196, 'پناهی': 196, 'نوه': 196, 'فرانسیس': 196, 'آموختگان': 196, 'شهرکرد': 196, 'طبخ': 196, 'جاده\\u200cها': 196, 'گابریل': 196, 'شبهات': 196, 'محول': 196, 'اتم': 196, 'پاشی': 196, 'روس\\u200cها': 196, 'اسامه': 196, 'افخم': 196, 'کاسترو': 196, 'متعاهد': 196, 'ازدحام': 195, 'پرور': 195, 'محراب': 195, 'لیستی': 195, 'پنل': 195, 'ارنست': 195, 'دوبار': 195, 'دوستانم': 195, 'پیشنهاداتی': 195, 'فیها': 195, 'ساختهای': 195, 'مریوان': 195, 'سلاحها': 195, 'گرانترین': 195, 'لاین': 195, 'صدیق': 195, 'جدی\\u200cتر': 195, 'کابوس': 195, 'ثانی': 195, 'مغفول': 195, 'خلخال': 195, 'گذاری\\u200cهای': 195, 'محمدحسن': 195, 'تومور': 195, 'رییسه': 195, 'دستمال': 195, 'کولاک': 195, 'نمیدهیم': 195, 'مهریه': 195, 'هیتلر': 195, 'تحریمهایی': 195, 'مالباختگان': 195, 'ویندوزهای': 195, 'شکات': 195, 'جپاروف': 195, 'دنیایی': 194, 'سوخته': 194, 'تجربههای': 194, 'گفتاین': 194, 'بخاری': 194, 'یکتا': 194, 'قالوا': 194, 'هیچیک': 194, 'بعداز': 194, 'سختترین': 194, 'مراکزی': 194, 'عرفات': 194, 'الیه': 194, 'واقعیتهای': 194, 'ساختند': 194, 'زدهاند': 194, 'کباب': 194, 'نمی\\u200cخواهد': 194, 'نتوانیم': 194, 'رنگارنگ': 194, 'هان': 194, 'توسعه\\u200cای': 194, 'گرایان': 194, 'کولیوند': 194, 'یاب': 194, 'آنهم': 194, 'خانمان': 194, 'بطری': 194, 'ابوترابیفرد': 194, 'حاشیهای': 193, 'مسجدی': 193, 'بازخورد': 193, 'الحق': 193, 'اولیای': 193, 'عذر': 193, 'پیچیدگی': 193, 'گوشهای': 193, 'عالیه': 193, 'جهرمی': 193, 'خوبى': 193, 'موانعی': 193, 'خبرگزاریها': 193, 'ترم': 193, 'احدی': 193, 'نهاوند': 193, 'حداقلی': 193, 'القدس': 193, 'یادآورشد': 193, 'جماران': 193, 'کمیتهای': 193, 'شیرجه': 193, 'قراردادن': 193, 'گواردیولا': 193, 'فردیس': 193, 'کرده_بودم': 192, 'عباسعلی': 192, 'یزدان': 192, 'معاویه': 192, 'هجده': 192, 'دلسوزی': 192, 'لنا': 192, 'پایینی': 192, 'چیدمان': 192, 'همدستی': 192, 'بارگذاری': 192, 'کنسول': 192, 'می\\u200cکشند': 192, 'مولایی': 192, 'دفعه': 192, 'باختند': 192, 'فرمایش': 192, 'نونهالان': 192, 'مامورین': 192, 'پرسشی': 192, 'علائمی': 192, 'تیمشان': 192, 'بمبهای': 192, 'پهنای': 192, 'جاوا': 192, 'رزن': 192, 'سوییس': 192, 'رادیولوژی': 192, 'تلعفر': 192, 'همکارانم': 191, 'حکیمی': 191, 'سکانس': 191, 'ترکمن': 191, 'شکوفا': 191, 'ملیت': 191, 'جنایتهای': 191, 'اعلامیه': 191, 'ناگزیر': 191, 'والله': 191, 'پدران': 191, 'دستم': 191, 'بایستند': 191, 'آوینی': 191, 'روزگاری': 191, 'پیروى': 191, 'خودنمایی': 191, 'ابلاغیه': 191, 'جبل': 191, 'سریعترین': 191, 'صداهای': 191, 'بغیر': 191, 'عطفی': 191, 'جنسیت': 191, 'سرمای': 191, 'خانوارها': 191, 'فاکتورهای': 191, 'دفعات': 191, 'فشاری': 191, 'فرودگاهی': 191, 'داورزنی': 191, 'فک': 191, 'صدرنشینی': 191, 'طرف\\u200cها': 191, 'ویتامینهای': 191, 'گرگ': 190, 'اشارهای': 190, 'مانده_بود': 190, 'مدتهاست': 190, 'تماس\\u200cهای': 190, 'می\\u200cفرمایند': 190, 'خلافی': 190, 'کنت': 190, 'خالق': 190, 'گیشه': 190, 'قبله': 190, 'وسوسه': 190, 'صمد': 190, 'زدگان': 190, 'مولفه': 190, 'نتوانستم': 190, 'آرزوهای': 190, 'روبروست': 190, 'امیرالمومنین': 190, 'متفرق': 190, 'بجنورد': 190, 'جوانه': 190, 'سرگردان': 190, 'تشنه': 190, 'شونده': 190, 'فطرت': 190, 'حقانیت': 190, 'ستادهای': 190, 'کدو': 190, 'صلوات': 190, 'آموخته': 190, 'دادید': 190, 'العاده\\u200cای': 190, 'دلش': 190, 'پخته': 190, 'زاید': 190, 'پهنه': 190, 'سایرین': 190, 'آتن': 190, 'زمانعج': 190, 'اقلیتهای': 190, 'اشاره\\u200cای': 190, 'بهدست': 190, 'ایالتی': 190, 'خفیف': 190, 'اپراتورهای': 190, 'ترکیه\\u200cای': 190, 'داده\\u200cهای': 190, 'خشکبار': 190, 'الشرق': 190, 'نمازگزاران': 189, 'آذین': 189, 'صمدی': 189, 'فهیم': 189, 'گنج': 189, 'گذاشته\\u200cاند': 189, 'الأرض': 189, 'وند': 189, 'محیطهای': 189, 'سانسور': 189, 'نت': 189, 'روا': 189, 'ورزی': 189, 'مهم\\u200cتر': 189, 'تفویض': 189, 'سزایی': 189, 'طلبانه': 189, 'کالاهایی': 189, 'فقرا': 189, 'برگشتی': 189, 'تأثیرات': 189, 'دعوای': 189, 'عون': 189, 'بلوتوث': 189, 'خوشحالیم': 188}\n",
            "\n",
            "Size of vocabulary: 10000\n"
          ],
          "name": "stdout"
        }
      ]
    },
    {
      "cell_type": "code",
      "metadata": {
        "id": "IpBMtYvzTe7w",
        "colab": {
          "base_uri": "https://localhost:8080/"
        },
        "outputId": "855a8aa6-7748-492a-8852-ecb7568b7e73"
      },
      "source": [
        "print(\"Percentage of token coverage :\")\n",
        "print(sum(vocabulary.values())/sum(word_counts.values())*100)"
      ],
      "execution_count": null,
      "outputs": [
        {
          "output_type": "stream",
          "text": [
            "Percentage of token coverage :\n",
            "93.28308317060787\n"
          ],
          "name": "stdout"
        }
      ]
    },
    {
      "cell_type": "markdown",
      "metadata": {
        "id": "reapxL_g3mSI"
      },
      "source": [
        "## Tokenizing"
      ]
    },
    {
      "cell_type": "code",
      "metadata": {
        "id": "VpVvs3oLDyWB"
      },
      "source": [
        "def tokenize(vocabs):\n",
        "\n",
        "    words = sorted(list(vocabs.keys()))\n",
        "    n = len(words)\n",
        "    idx = 1\n",
        "\n",
        "    word2Ind = {}\n",
        "    Ind2word = {}\n",
        "    for k in words:\n",
        "        word2Ind[k] = idx\n",
        "        Ind2word[idx] = k\n",
        "        idx += 1\n",
        "\n",
        "    return word2Ind, Ind2word"
      ],
      "execution_count": null,
      "outputs": []
    },
    {
      "cell_type": "code",
      "metadata": {
        "id": "VYcMy4KxDyYs"
      },
      "source": [
        "word2Index , Index2word = tokenize(vocabulary)"
      ],
      "execution_count": null,
      "outputs": []
    },
    {
      "cell_type": "code",
      "metadata": {
        "id": "S-kM6MSPDygk",
        "colab": {
          "base_uri": "https://localhost:8080/"
        },
        "outputId": "8d3389c6-7c2e-4418-bfbc-dd28551b11ec"
      },
      "source": [
        "V = len(word2Index)\n",
        "print(\"Size of vocabulary: \", V)"
      ],
      "execution_count": null,
      "outputs": [
        {
          "output_type": "stream",
          "text": [
            "Size of vocabulary:  10000\n"
          ],
          "name": "stdout"
        }
      ]
    },
    {
      "cell_type": "markdown",
      "metadata": {
        "id": "9hctsYRwFqA7"
      },
      "source": [
        "## Examples of word to index and index to word mapping"
      ]
    },
    {
      "cell_type": "code",
      "metadata": {
        "id": "dhhivafdDyef",
        "colab": {
          "base_uri": "https://localhost:8080/"
        },
        "outputId": "4b3d2de6-d002-4c91-b90f-faff8a0c4802"
      },
      "source": [
        "print(\"Index of the word 'ترامپ' :  \",word2Index['ترامپ'] )\n",
        "print(\"Word which has index 2736:  \",Index2word[2736] )"
      ],
      "execution_count": null,
      "outputs": [
        {
          "output_type": "stream",
          "text": [
            "Index of the word 'ترامپ' :   2233\n",
            "Word which has index 2736:   جایگزینی\n"
          ],
          "name": "stdout"
        }
      ]
    },
    {
      "cell_type": "code",
      "metadata": {
        "id": "gp-in0-YkMEy",
        "colab": {
          "base_uri": "https://localhost:8080/"
        },
        "outputId": "14bff742-c906-4ba2-d959-7b9e197fccff"
      },
      "source": [
        "def tokenize2(s):\n",
        "  print(\"Indexes for the sentence :\"+s+\"\\n\")\n",
        "  inds=[word2Index[w] for w in s.split()]\n",
        "  return inds\n",
        "\n",
        "s= 'ترامپ برای جایگزینی ریاست جمهوری به ایران سفر کرد'\n",
        "print(tokenize2(s))"
      ],
      "execution_count": null,
      "outputs": [
        {
          "output_type": "stream",
          "text": [
            "Indexes for the sentence :ترامپ برای جایگزینی ریاست جمهوری به ایران سفر کرد\n",
            "\n",
            "[2233, 1564, 2736, 4314, 2845, 1835, 1225, 4742, 9380]\n"
          ],
          "name": "stdout"
        }
      ]
    },
    {
      "cell_type": "code",
      "metadata": {
        "id": "uWG8tc41GvJ6",
        "colab": {
          "base_uri": "https://localhost:8080/"
        },
        "outputId": "89d49cec-f20f-47ec-8185-d359ef052f0e"
      },
      "source": [
        "inds=[word2Index[w] for w in s.split()]\n",
        "print(\"words for the indexes :\",inds)\n",
        "ws=[Index2word[i] for i in inds]\n",
        "print(ws)\n",
        "print('The complete sentence : \\n' + ' '.join(ws))"
      ],
      "execution_count": null,
      "outputs": [
        {
          "output_type": "stream",
          "text": [
            "words for the indexes : [2233, 1564, 2736, 4314, 2845, 1835, 1225, 4742, 9380]\n",
            "['ترامپ', 'برای', 'جایگزینی', 'ریاست', 'جمهوری', 'به', 'ایران', 'سفر', 'کرد']\n",
            "The complete sentence : \n",
            "ترامپ برای جایگزینی ریاست جمهوری به ایران سفر کرد\n"
          ],
          "name": "stdout"
        }
      ]
    },
    {
      "cell_type": "code",
      "metadata": {
        "id": "kZscHQRrGvEh",
        "colab": {
          "base_uri": "https://localhost:8080/"
        },
        "outputId": "f31ba428-1200-4e6f-c541-22479ed3e6e2"
      },
      "source": [
        "mean_word_size = np.mean([len(x) for x in train_data_processed])\n",
        "print('Mean news size of words : ')\n",
        "print(int(mean_word_size))"
      ],
      "execution_count": null,
      "outputs": [
        {
          "output_type": "stream",
          "text": [
            "Mean news size of words : \n",
            "284\n"
          ],
          "name": "stdout"
        }
      ]
    },
    {
      "cell_type": "code",
      "metadata": {
        "id": "CivE6X1whYdh"
      },
      "source": [
        "#train_data = [x for x in train_data_processed if len(x)<mean_word_size]\n",
        "train_data = []\n",
        "classes = []\n",
        "for i , x in enumerate(train_data_processed) :\n",
        "  if len(x)<mean_word_size:\n",
        "    if y_train_l[i] is not np.nan and y_train_l[i] != 'category':\n",
        "      train_data.append(x)\n",
        "      classes.append(y_train_l[i])"
      ],
      "execution_count": null,
      "outputs": []
    },
    {
      "cell_type": "code",
      "metadata": {
        "id": "CDUnSXJLhs8X",
        "colab": {
          "base_uri": "https://localhost:8080/"
        },
        "outputId": "27d44e12-fc42-426c-9fb3-7ee85ba8ae15"
      },
      "source": [
        "print(\"Number of samples with word size less than mean word size :\")\n",
        "print(len(train_data))"
      ],
      "execution_count": null,
      "outputs": [
        {
          "output_type": "stream",
          "text": [
            "Number of samples with word size less than mean word size :\n",
            "83912\n"
          ],
          "name": "stdout"
        }
      ]
    },
    {
      "cell_type": "markdown",
      "metadata": {
        "id": "U3YSKmHqjb50"
      },
      "source": [
        "## Padding"
      ]
    },
    {
      "cell_type": "code",
      "metadata": {
        "id": "JtmbpAnEjaqB"
      },
      "source": [
        "train_data_padding = [x + ((int(mean_word_size) - len(x)) * ' PAD').split() for x in train_data]"
      ],
      "execution_count": null,
      "outputs": []
    },
    {
      "cell_type": "code",
      "metadata": {
        "id": "naJFEencmS9z",
        "colab": {
          "base_uri": "https://localhost:8080/"
        },
        "outputId": "cc09cad3-b8a3-47f5-edff-ab85aa0e8637"
      },
      "source": [
        "len(train_data_padding[20])"
      ],
      "execution_count": null,
      "outputs": [
        {
          "output_type": "execute_result",
          "data": {
            "text/plain": [
              "284"
            ]
          },
          "metadata": {
            "tags": []
          },
          "execution_count": 40
        }
      ]
    },
    {
      "cell_type": "code",
      "metadata": {
        "id": "y9oI2YYrkc0J",
        "colab": {
          "base_uri": "https://localhost:8080/"
        },
        "outputId": "483f1c78-242c-4800-96df-c3ac0c272345"
      },
      "source": [
        "#test\n",
        "print(np.mean([len(x) for x in train_data_padding]))"
      ],
      "execution_count": null,
      "outputs": [
        {
          "output_type": "stream",
          "text": [
            "284.0\n"
          ],
          "name": "stdout"
        }
      ]
    },
    {
      "cell_type": "markdown",
      "metadata": {
        "id": "DpdvkFsgmiky"
      },
      "source": [
        "## Vectorize (Word2Vec (CBOW))"
      ]
    },
    {
      "cell_type": "code",
      "metadata": {
        "id": "6zfg5FwcmcSx"
      },
      "source": [
        "def initialize_model(N,V, random_seed=1):\n",
        "\n",
        "    np.random.seed(random_seed)\n",
        "    \n",
        "    W1 = np.random.rand(N,V)\n",
        "    W2 = np.random.rand(V,N)\n",
        "    b1 = np.random.rand(N,1)\n",
        "    b2 = np.random.rand(V,1)\n",
        "\n",
        "    return W1, W2, b1, b2"
      ],
      "execution_count": null,
      "outputs": []
    },
    {
      "cell_type": "code",
      "metadata": {
        "id": "DZ5gFWMiJSV_"
      },
      "source": [
        "def softmax(z):\n",
        " \n",
        "    # Calculate yhat (softmax)\n",
        "    s=np.sum([np.exp(zi) for zi in z] , axis =0)\n",
        "    yhat = np.exp(z)/s    \n",
        "    return yhat"
      ],
      "execution_count": null,
      "outputs": []
    },
    {
      "cell_type": "code",
      "metadata": {
        "id": "gVtBu1jsJSa5"
      },
      "source": [
        "def forward_prop(x, W1, W2, b1, b2):\n",
        "    \n",
        "    # Calculate h\n",
        "    h = np.dot(W1,x) + b1\n",
        "    # Apply the relu on h (store result in h)\n",
        "    h2 = h.copy()\n",
        "    h2[h2 < 0] = 0\n",
        "    h=h2\n",
        "    # Calculate z\n",
        "    z = np.dot(W2,h)+b2\n",
        "    \n",
        "    return z, h"
      ],
      "execution_count": null,
      "outputs": []
    },
    {
      "cell_type": "code",
      "metadata": {
        "id": "jiFzTTNgJSZC"
      },
      "source": [
        "# compute_cost: cross-entropy cost functioN\n",
        "def compute_cost(y, yhat, batch_size):\n",
        "    # cost function \n",
        "    logprobs = np.multiply(np.log(yhat),y) + np.multiply(np.log(1 - yhat), 1 - y)\n",
        "    cost = - 1/batch_size * np.sum(logprobs)\n",
        "    cost = np.squeeze(cost)\n",
        "    return cost"
      ],
      "execution_count": null,
      "outputs": []
    },
    {
      "cell_type": "markdown",
      "metadata": {
        "id": "KGro9BG2J7_V"
      },
      "source": [
        "## Training the model CBOW (Backpropagation)"
      ]
    },
    {
      "cell_type": "code",
      "metadata": {
        "id": "LaK8fmezJz_s"
      },
      "source": [
        "def back_prop(x, yhat, y, h, W1, W2, b1, b2, batch_size):\n",
        "   \n",
        "    # Compute l1 as W2^T (Yhat - Y)\n",
        "    l1 = np.dot(W2.T ,(yhat - y))\n",
        "    # Apply relu to l1\n",
        "    l11 = l1.copy()\n",
        "    l11[l11 < 0] = 0\n",
        "    l1=l11\n",
        "    grad_W1 = np.dot(l1,x.T)/batch_size\n",
        "    grad_W2 = np.dot((yhat-y),h.T)/batch_size\n",
        "    grad_b1 = np.sum(l1,axis=1,keepdims = True)/batch_size\n",
        "    grad_b2 = np.sum(yhat-y,axis=1,keepdims = True)/batch_size    \n",
        "    return grad_W1, grad_W2, grad_b1, grad_b2"
      ],
      "execution_count": null,
      "outputs": []
    },
    {
      "cell_type": "code",
      "metadata": {
        "id": "cEsxfI5dJ0IX"
      },
      "source": [
        "def gradient_descent(data, word2Ind, N, V, num_iters, alpha=0.03):\n",
        "\n",
        "    W1, W2, b1, b2 = initialize_model(N,V, random_seed=282)\n",
        "    batch_size = 128\n",
        "    iters = 0\n",
        "    C = 2\n",
        "    for x, y in get_batches(data, word2Ind, V, C, batch_size):\n",
        "        z, h = forward_prop(x, W1, W2, b1, b2)\n",
        "        yhat = softmax(z)\n",
        "        cost = compute_cost(y, yhat, batch_size)\n",
        "        if ( (iters+1) % 10 == 0):\n",
        "            print(f\"iters: {iters + 1} cost: {cost:.6f}\")\n",
        "        grad_W1, grad_W2, grad_b1, grad_b2 = back_prop(x, yhat, y, h, W1, W2, b1, b2, batch_size)\n",
        "        \n",
        "        # Update weights and biases\n",
        "        W1 -= alpha*grad_W1\n",
        "        W2 -= alpha*grad_W2\n",
        "        b1 -= alpha*grad_b1\n",
        "        b2 -= alpha*grad_b2 \n",
        "                \n",
        "        iters += 1 \n",
        "        if iters == num_iters: \n",
        "            break\n",
        "        if iters % 100 == 0:\n",
        "            alpha *= 0.66\n",
        "            \n",
        "    return W1, W2, b1, b2"
      ],
      "execution_count": null,
      "outputs": []
    },
    {
      "cell_type": "code",
      "metadata": {
        "id": "BjLPGeXKMZSj"
      },
      "source": [
        "def get_vectors(data, word2Ind, V, C):\n",
        "    i = C\n",
        "    while True:\n",
        "        y = np.zeros(V)\n",
        "        x = np.zeros(V)\n",
        "        center_word = data[i]\n",
        "        y[word2Ind[center_word]] = 1\n",
        "        context_words = data[(i - C):i] + data[(i+1):(i+C+1)]\n",
        "        num_ctx_words = len(context_words)\n",
        "        for idx, freq in pack_idx_with_frequency(context_words, word2Ind):\n",
        "            x[idx] = freq/num_ctx_words\n",
        "        yield x, y\n",
        "        i += 1\n",
        "        if i >= len(data):\n",
        "            print('i is being set to 0')\n",
        "            i = 0"
      ],
      "execution_count": null,
      "outputs": []
    },
    {
      "cell_type": "code",
      "metadata": {
        "id": "t69_1f6DLJ6q"
      },
      "source": [
        "def get_batches(data, word2Ind, V, C, batch_size):\n",
        "    batch_x = []\n",
        "    batch_y = []\n",
        "    for x, y in get_vectors(data, word2Ind, V, C):\n",
        "        while len(batch_x) < batch_size:\n",
        "            batch_x.append(x)\n",
        "            batch_y.append(y)\n",
        "        else:\n",
        "            yield np.array(batch_x).T, np.array(batch_y).T\n",
        "            batch = []"
      ],
      "execution_count": null,
      "outputs": []
    },
    {
      "cell_type": "code",
      "metadata": {
        "id": "yu0Oz1nEPbOr"
      },
      "source": [
        "def pack_idx_with_frequency(context_words, word2Ind):\n",
        "    freq_dict = defaultdict(int)\n",
        "    for word in context_words:\n",
        "        freq_dict[word] += 1\n",
        "    idxs = get_idx(context_words, word2Ind)\n",
        "    packed = []\n",
        "    for i in range(len(idxs)):\n",
        "        idx = idxs[i]\n",
        "        freq = freq_dict[context_words[i]]\n",
        "        packed.append((idx, freq))\n",
        "    return packed"
      ],
      "execution_count": null,
      "outputs": []
    },
    {
      "cell_type": "code",
      "metadata": {
        "id": "AMCUc8GjQyTx"
      },
      "source": [
        "def get_idx(words, word2Ind):\n",
        "    idx = []\n",
        "    for word in words:\n",
        "        idx = idx + [word2Ind[word]]\n",
        "    return idx"
      ],
      "execution_count": null,
      "outputs": []
    },
    {
      "cell_type": "code",
      "metadata": {
        "id": "ujjLMqe9J0E7",
        "colab": {
          "base_uri": "https://localhost:8080/"
        },
        "outputId": "7aa36929-fd75-4a01-b52e-84102f4ff007"
      },
      "source": [
        "# test the function\n",
        "C = 2\n",
        "N = 50\n",
        "\n",
        "word2Index['<unk>'] = len(word2Index)-1\n",
        "V = len(word2Index)\n",
        "num_iters = 150\n",
        "print(\"Call gradient_descent\")\n",
        "\n",
        "import functools\n",
        "import operator\n",
        "from collections import defaultdict\n",
        "\n",
        "flat_list = functools.reduce(operator.iconcat, train_data_processed , [])\n",
        "\n",
        "W1, W2, b1, b2 = gradient_descent(flat_list , word2Index, N, V, num_iters)"
      ],
      "execution_count": null,
      "outputs": [
        {
          "output_type": "stream",
          "text": [
            "Call gradient_descent\n",
            "iters: 10 cost: 0.644764\n",
            "iters: 20 cost: 0.104737\n",
            "iters: 30 cost: 0.056522\n",
            "iters: 40 cost: 0.038684\n",
            "iters: 50 cost: 0.029401\n",
            "iters: 60 cost: 0.023711\n",
            "iters: 70 cost: 0.019866\n",
            "iters: 80 cost: 0.017095\n",
            "iters: 90 cost: 0.015002\n",
            "iters: 100 cost: 0.013366\n",
            "iters: 110 cost: 0.012427\n",
            "iters: 120 cost: 0.011649\n",
            "iters: 130 cost: 0.010962\n",
            "iters: 140 cost: 0.010352\n",
            "iters: 150 cost: 0.009806\n"
          ],
          "name": "stdout"
        }
      ]
    },
    {
      "cell_type": "markdown",
      "metadata": {
        "id": "Aek5Nr-4Uk45"
      },
      "source": [
        "## Visualising CBOW vectorizing"
      ]
    },
    {
      "cell_type": "code",
      "metadata": {
        "id": "MG6Lsi56J0C6",
        "colab": {
          "base_uri": "https://localhost:8080/"
        },
        "outputId": "62ee6a2b-ce5a-4def-ff8c-55d41a690991"
      },
      "source": [
        "# visualizing the word vectors here\n",
        "from matplotlib import pyplot\n",
        "%config InlineBackend.figure_format = 'svg'\n",
        "words = ['ترامپ', 'دلار','تهران','بنزین', 'فوتبال','استقلال','سگ',\n",
        "         'برجام','بورس','نفت','جوان','تجاری','پرسپولیس','تاریخ','لیگ','باشگاه','یورو','رئیس','ارز','پول']\n",
        "\n",
        "embs = (W1.T + W2)/2.0\n",
        " \n",
        "# given a list of words and the embeddings, it returns a matrix with all the embeddings\n",
        "idx = [word2Index[word] for word in words]\n",
        "X = embs[idx, :]\n",
        "print(X.shape, idx)"
      ],
      "execution_count": null,
      "outputs": [
        {
          "output_type": "stream",
          "text": [
            "(20, 50) [2233, 3762, 2524, 1819, 6058, 600, 4899, 1576, 1899, 8058, 2904, 2141, 8899, 2078, 6396, 1389, 9967, 3956, 494, 9015]\n"
          ],
          "name": "stdout"
        }
      ]
    },
    {
      "cell_type": "code",
      "metadata": {
        "id": "aLKgu_0-Jz9W",
        "colab": {
          "base_uri": "https://localhost:8080/",
          "height": 352
        },
        "outputId": "0e6a5867-727d-456d-a61e-5aeb0d64b934"
      },
      "source": [
        "from scipy import linalg\n",
        "\n",
        "def compute_pca(data, n_components=2):\n",
        "    m, n = data.shape\n",
        "    data -= data.mean(axis=0)\n",
        "    R = np.cov(data, rowvar=False)\n",
        "    evals, evecs = linalg.eigh(R)\n",
        "    idx = np.argsort(evals)[::-1]\n",
        "\n",
        "    evecs = evecs[:, idx]\n",
        "    evals = evals[idx]\n",
        "    evecs = evecs[:, :n_components]\n",
        "    return np.dot(evecs.T, data.T).T\n",
        "\n",
        "result= compute_pca(X, 2)\n",
        "pyplot.scatter(result[:, 0], result[:, 1])\n",
        "for i, word in enumerate(words):\n",
        "    w=[]\n",
        "    for j in range(len(word)):\n",
        "      w.append(word[len(word)-1-j])\n",
        "    w=''.join(w)\n",
        "    pyplot.annotate(w, xy=(result[i, 0], result[i, 1]))\n",
        "pyplot.show()"
      ],
      "execution_count": null,
      "outputs": [
        {
          "output_type": "display_data",
          "data": {
            "text/plain": [
              "<Figure size 432x288 with 1 Axes>"
            ],
            "image/svg+xml": "<?xml version=\"1.0\" encoding=\"utf-8\" standalone=\"no\"?>\n<!DOCTYPE svg PUBLIC \"-//W3C//DTD SVG 1.1//EN\"\n  \"http://www.w3.org/Graphics/SVG/1.1/DTD/svg11.dtd\">\n<!-- Created with matplotlib (https://matplotlib.org/) -->\n<svg height=\"248.518125pt\" version=\"1.1\" viewBox=\"0 0 397.955256 248.518125\" width=\"397.955256pt\" xmlns=\"http://www.w3.org/2000/svg\" xmlns:xlink=\"http://www.w3.org/1999/xlink\">\n <defs>\n  <style type=\"text/css\">\n*{stroke-linecap:butt;stroke-linejoin:round;}\n  </style>\n </defs>\n <g id=\"figure_1\">\n  <g id=\"patch_1\">\n   <path d=\"M -0 248.518125 \nL 397.955256 248.518125 \nL 397.955256 0 \nL -0 0 \nz\n\" style=\"fill:none;\"/>\n  </g>\n  <g id=\"axes_1\">\n   <g id=\"patch_2\">\n    <path d=\"M 38.482813 224.64 \nL 373.282813 224.64 \nL 373.282813 7.2 \nL 38.482813 7.2 \nz\n\" style=\"fill:#ffffff;\"/>\n   </g>\n   <g id=\"PathCollection_1\">\n    <defs>\n     <path d=\"M 0 3 \nC 0.795609 3 1.55874 2.683901 2.12132 2.12132 \nC 2.683901 1.55874 3 0.795609 3 0 \nC 3 -0.795609 2.683901 -1.55874 2.12132 -2.12132 \nC 1.55874 -2.683901 0.795609 -3 0 -3 \nC -0.795609 -3 -1.55874 -2.683901 -2.12132 -2.12132 \nC -2.683901 -1.55874 -3 -0.795609 -3 0 \nC -3 0.795609 -2.683901 1.55874 -2.12132 2.12132 \nC -1.55874 2.683901 -0.795609 3 0 3 \nz\n\" id=\"m01e9fd9833\" style=\"stroke:#1f77b4;\"/>\n    </defs>\n    <g clip-path=\"url(#p4bde1baf88)\">\n     <use style=\"fill:#1f77b4;stroke:#1f77b4;\" x=\"246.536458\" xlink:href=\"#m01e9fd9833\" y=\"59.617849\"/>\n     <use style=\"fill:#1f77b4;stroke:#1f77b4;\" x=\"153.082561\" xlink:href=\"#m01e9fd9833\" y=\"90.781378\"/>\n     <use style=\"fill:#1f77b4;stroke:#1f77b4;\" x=\"190.334317\" xlink:href=\"#m01e9fd9833\" y=\"150.365166\"/>\n     <use style=\"fill:#1f77b4;stroke:#1f77b4;\" x=\"243.558294\" xlink:href=\"#m01e9fd9833\" y=\"121.376222\"/>\n     <use style=\"fill:#1f77b4;stroke:#1f77b4;\" x=\"292.955686\" xlink:href=\"#m01e9fd9833\" y=\"82.060332\"/>\n     <use style=\"fill:#1f77b4;stroke:#1f77b4;\" x=\"216.499815\" xlink:href=\"#m01e9fd9833\" y=\"110.342858\"/>\n     <use style=\"fill:#1f77b4;stroke:#1f77b4;\" x=\"270.275739\" xlink:href=\"#m01e9fd9833\" y=\"132.998654\"/>\n     <use style=\"fill:#1f77b4;stroke:#1f77b4;\" x=\"202.203681\" xlink:href=\"#m01e9fd9833\" y=\"132.564294\"/>\n     <use style=\"fill:#1f77b4;stroke:#1f77b4;\" x=\"273.731237\" xlink:href=\"#m01e9fd9833\" y=\"110.813618\"/>\n     <use style=\"fill:#1f77b4;stroke:#1f77b4;\" x=\"124.917484\" xlink:href=\"#m01e9fd9833\" y=\"29.859981\"/>\n     <use style=\"fill:#1f77b4;stroke:#1f77b4;\" x=\"169.725738\" xlink:href=\"#m01e9fd9833\" y=\"117.685042\"/>\n     <use style=\"fill:#1f77b4;stroke:#1f77b4;\" x=\"146.277578\" xlink:href=\"#m01e9fd9833\" y=\"90.111292\"/>\n     <use style=\"fill:#1f77b4;stroke:#1f77b4;\" x=\"220.042365\" xlink:href=\"#m01e9fd9833\" y=\"52.386931\"/>\n     <use style=\"fill:#1f77b4;stroke:#1f77b4;\" x=\"347.236911\" xlink:href=\"#m01e9fd9833\" y=\"124.804654\"/>\n     <use style=\"fill:#1f77b4;stroke:#1f77b4;\" x=\"53.700994\" xlink:href=\"#m01e9fd9833\" y=\"139.538789\"/>\n     <use style=\"fill:#1f77b4;stroke:#1f77b4;\" x=\"150.69562\" xlink:href=\"#m01e9fd9833\" y=\"214.756364\"/>\n     <use style=\"fill:#1f77b4;stroke:#1f77b4;\" x=\"247.578248\" xlink:href=\"#m01e9fd9833\" y=\"17.083636\"/>\n     <use style=\"fill:#1f77b4;stroke:#1f77b4;\" x=\"358.064631\" xlink:href=\"#m01e9fd9833\" y=\"156.680281\"/>\n     <use style=\"fill:#1f77b4;stroke:#1f77b4;\" x=\"262.91893\" xlink:href=\"#m01e9fd9833\" y=\"107.587529\"/>\n     <use style=\"fill:#1f77b4;stroke:#1f77b4;\" x=\"203.965164\" xlink:href=\"#m01e9fd9833\" y=\"103.469768\"/>\n    </g>\n   </g>\n   <g id=\"matplotlib.axis_1\">\n    <g id=\"xtick_1\">\n     <g id=\"line2d_1\">\n      <defs>\n       <path d=\"M 0 0 \nL 0 3.5 \n\" id=\"mc9342b6d87\" style=\"stroke:#000000;stroke-width:0.8;\"/>\n      </defs>\n      <g>\n       <use style=\"stroke:#000000;stroke-width:0.8;\" x=\"74.13758\" xlink:href=\"#mc9342b6d87\" y=\"224.64\"/>\n      </g>\n     </g>\n     <g id=\"text_1\">\n      <!-- −1.0 -->\n      <defs>\n       <path d=\"M 10.59375 35.5 \nL 73.1875 35.5 \nL 73.1875 27.203125 \nL 10.59375 27.203125 \nz\n\" id=\"DejaVuSans-8722\"/>\n       <path d=\"M 12.40625 8.296875 \nL 28.515625 8.296875 \nL 28.515625 63.921875 \nL 10.984375 60.40625 \nL 10.984375 69.390625 \nL 28.421875 72.90625 \nL 38.28125 72.90625 \nL 38.28125 8.296875 \nL 54.390625 8.296875 \nL 54.390625 0 \nL 12.40625 0 \nz\n\" id=\"DejaVuSans-49\"/>\n       <path d=\"M 10.6875 12.40625 \nL 21 12.40625 \nL 21 0 \nL 10.6875 0 \nz\n\" id=\"DejaVuSans-46\"/>\n       <path d=\"M 31.78125 66.40625 \nQ 24.171875 66.40625 20.328125 58.90625 \nQ 16.5 51.421875 16.5 36.375 \nQ 16.5 21.390625 20.328125 13.890625 \nQ 24.171875 6.390625 31.78125 6.390625 \nQ 39.453125 6.390625 43.28125 13.890625 \nQ 47.125 21.390625 47.125 36.375 \nQ 47.125 51.421875 43.28125 58.90625 \nQ 39.453125 66.40625 31.78125 66.40625 \nz\nM 31.78125 74.21875 \nQ 44.046875 74.21875 50.515625 64.515625 \nQ 56.984375 54.828125 56.984375 36.375 \nQ 56.984375 17.96875 50.515625 8.265625 \nQ 44.046875 -1.421875 31.78125 -1.421875 \nQ 19.53125 -1.421875 13.0625 8.265625 \nQ 6.59375 17.96875 6.59375 36.375 \nQ 6.59375 54.828125 13.0625 64.515625 \nQ 19.53125 74.21875 31.78125 74.21875 \nz\n\" id=\"DejaVuSans-48\"/>\n      </defs>\n      <g transform=\"translate(61.996174 239.238437)scale(0.1 -0.1)\">\n       <use xlink:href=\"#DejaVuSans-8722\"/>\n       <use x=\"83.789062\" xlink:href=\"#DejaVuSans-49\"/>\n       <use x=\"147.412109\" xlink:href=\"#DejaVuSans-46\"/>\n       <use x=\"179.199219\" xlink:href=\"#DejaVuSans-48\"/>\n      </g>\n     </g>\n    </g>\n    <g id=\"xtick_2\">\n     <g id=\"line2d_2\">\n      <g>\n       <use style=\"stroke:#000000;stroke-width:0.8;\" x=\"146.426326\" xlink:href=\"#mc9342b6d87\" y=\"224.64\"/>\n      </g>\n     </g>\n     <g id=\"text_2\">\n      <!-- −0.5 -->\n      <defs>\n       <path d=\"M 10.796875 72.90625 \nL 49.515625 72.90625 \nL 49.515625 64.59375 \nL 19.828125 64.59375 \nL 19.828125 46.734375 \nQ 21.96875 47.46875 24.109375 47.828125 \nQ 26.265625 48.1875 28.421875 48.1875 \nQ 40.625 48.1875 47.75 41.5 \nQ 54.890625 34.8125 54.890625 23.390625 \nQ 54.890625 11.625 47.5625 5.09375 \nQ 40.234375 -1.421875 26.90625 -1.421875 \nQ 22.3125 -1.421875 17.546875 -0.640625 \nQ 12.796875 0.140625 7.71875 1.703125 \nL 7.71875 11.625 \nQ 12.109375 9.234375 16.796875 8.0625 \nQ 21.484375 6.890625 26.703125 6.890625 \nQ 35.15625 6.890625 40.078125 11.328125 \nQ 45.015625 15.765625 45.015625 23.390625 \nQ 45.015625 31 40.078125 35.4375 \nQ 35.15625 39.890625 26.703125 39.890625 \nQ 22.75 39.890625 18.8125 39.015625 \nQ 14.890625 38.140625 10.796875 36.28125 \nz\n\" id=\"DejaVuSans-53\"/>\n      </defs>\n      <g transform=\"translate(134.28492 239.238437)scale(0.1 -0.1)\">\n       <use xlink:href=\"#DejaVuSans-8722\"/>\n       <use x=\"83.789062\" xlink:href=\"#DejaVuSans-48\"/>\n       <use x=\"147.412109\" xlink:href=\"#DejaVuSans-46\"/>\n       <use x=\"179.199219\" xlink:href=\"#DejaVuSans-53\"/>\n      </g>\n     </g>\n    </g>\n    <g id=\"xtick_3\">\n     <g id=\"line2d_3\">\n      <g>\n       <use style=\"stroke:#000000;stroke-width:0.8;\" x=\"218.715073\" xlink:href=\"#mc9342b6d87\" y=\"224.64\"/>\n      </g>\n     </g>\n     <g id=\"text_3\">\n      <!-- 0.0 -->\n      <g transform=\"translate(210.76351 239.238437)scale(0.1 -0.1)\">\n       <use xlink:href=\"#DejaVuSans-48\"/>\n       <use x=\"63.623047\" xlink:href=\"#DejaVuSans-46\"/>\n       <use x=\"95.410156\" xlink:href=\"#DejaVuSans-48\"/>\n      </g>\n     </g>\n    </g>\n    <g id=\"xtick_4\">\n     <g id=\"line2d_4\">\n      <g>\n       <use style=\"stroke:#000000;stroke-width:0.8;\" x=\"291.003819\" xlink:href=\"#mc9342b6d87\" y=\"224.64\"/>\n      </g>\n     </g>\n     <g id=\"text_4\">\n      <!-- 0.5 -->\n      <g transform=\"translate(283.052256 239.238437)scale(0.1 -0.1)\">\n       <use xlink:href=\"#DejaVuSans-48\"/>\n       <use x=\"63.623047\" xlink:href=\"#DejaVuSans-46\"/>\n       <use x=\"95.410156\" xlink:href=\"#DejaVuSans-53\"/>\n      </g>\n     </g>\n    </g>\n    <g id=\"xtick_5\">\n     <g id=\"line2d_5\">\n      <g>\n       <use style=\"stroke:#000000;stroke-width:0.8;\" x=\"363.292565\" xlink:href=\"#mc9342b6d87\" y=\"224.64\"/>\n      </g>\n     </g>\n     <g id=\"text_5\">\n      <!-- 1.0 -->\n      <g transform=\"translate(355.341002 239.238437)scale(0.1 -0.1)\">\n       <use xlink:href=\"#DejaVuSans-49\"/>\n       <use x=\"63.623047\" xlink:href=\"#DejaVuSans-46\"/>\n       <use x=\"95.410156\" xlink:href=\"#DejaVuSans-48\"/>\n      </g>\n     </g>\n    </g>\n   </g>\n   <g id=\"matplotlib.axis_2\">\n    <g id=\"ytick_1\">\n     <g id=\"line2d_6\">\n      <defs>\n       <path d=\"M 0 0 \nL -3.5 0 \n\" id=\"m21fb40bc95\" style=\"stroke:#000000;stroke-width:0.8;\"/>\n      </defs>\n      <g>\n       <use style=\"stroke:#000000;stroke-width:0.8;\" x=\"38.482813\" xlink:href=\"#m21fb40bc95\" y=\"198.421695\"/>\n      </g>\n     </g>\n     <g id=\"text_6\">\n      <!-- −1.0 -->\n      <g transform=\"translate(7.2 202.220914)scale(0.1 -0.1)\">\n       <use xlink:href=\"#DejaVuSans-8722\"/>\n       <use x=\"83.789062\" xlink:href=\"#DejaVuSans-49\"/>\n       <use x=\"147.412109\" xlink:href=\"#DejaVuSans-46\"/>\n       <use x=\"179.199219\" xlink:href=\"#DejaVuSans-48\"/>\n      </g>\n     </g>\n    </g>\n    <g id=\"ytick_2\">\n     <g id=\"line2d_7\">\n      <g>\n       <use style=\"stroke:#000000;stroke-width:0.8;\" x=\"38.482813\" xlink:href=\"#m21fb40bc95\" y=\"152.832964\"/>\n      </g>\n     </g>\n     <g id=\"text_7\">\n      <!-- −0.5 -->\n      <g transform=\"translate(7.2 156.632182)scale(0.1 -0.1)\">\n       <use xlink:href=\"#DejaVuSans-8722\"/>\n       <use x=\"83.789062\" xlink:href=\"#DejaVuSans-48\"/>\n       <use x=\"147.412109\" xlink:href=\"#DejaVuSans-46\"/>\n       <use x=\"179.199219\" xlink:href=\"#DejaVuSans-53\"/>\n      </g>\n     </g>\n    </g>\n    <g id=\"ytick_3\">\n     <g id=\"line2d_8\">\n      <g>\n       <use style=\"stroke:#000000;stroke-width:0.8;\" x=\"38.482813\" xlink:href=\"#m21fb40bc95\" y=\"107.244232\"/>\n      </g>\n     </g>\n     <g id=\"text_8\">\n      <!-- 0.0 -->\n      <g transform=\"translate(15.579688 111.043451)scale(0.1 -0.1)\">\n       <use xlink:href=\"#DejaVuSans-48\"/>\n       <use x=\"63.623047\" xlink:href=\"#DejaVuSans-46\"/>\n       <use x=\"95.410156\" xlink:href=\"#DejaVuSans-48\"/>\n      </g>\n     </g>\n    </g>\n    <g id=\"ytick_4\">\n     <g id=\"line2d_9\">\n      <g>\n       <use style=\"stroke:#000000;stroke-width:0.8;\" x=\"38.482813\" xlink:href=\"#m21fb40bc95\" y=\"61.6555\"/>\n      </g>\n     </g>\n     <g id=\"text_9\">\n      <!-- 0.5 -->\n      <g transform=\"translate(15.579688 65.454719)scale(0.1 -0.1)\">\n       <use xlink:href=\"#DejaVuSans-48\"/>\n       <use x=\"63.623047\" xlink:href=\"#DejaVuSans-46\"/>\n       <use x=\"95.410156\" xlink:href=\"#DejaVuSans-53\"/>\n      </g>\n     </g>\n    </g>\n    <g id=\"ytick_5\">\n     <g id=\"line2d_10\">\n      <g>\n       <use style=\"stroke:#000000;stroke-width:0.8;\" x=\"38.482813\" xlink:href=\"#m21fb40bc95\" y=\"16.066769\"/>\n      </g>\n     </g>\n     <g id=\"text_10\">\n      <!-- 1.0 -->\n      <g transform=\"translate(15.579688 19.865988)scale(0.1 -0.1)\">\n       <use xlink:href=\"#DejaVuSans-49\"/>\n       <use x=\"63.623047\" xlink:href=\"#DejaVuSans-46\"/>\n       <use x=\"95.410156\" xlink:href=\"#DejaVuSans-48\"/>\n      </g>\n     </g>\n    </g>\n   </g>\n   <g id=\"patch_3\">\n    <path d=\"M 38.482813 224.64 \nL 38.482813 7.2 \n\" style=\"fill:none;stroke:#000000;stroke-linecap:square;stroke-linejoin:miter;stroke-width:0.8;\"/>\n   </g>\n   <g id=\"patch_4\">\n    <path d=\"M 373.282813 224.64 \nL 373.282813 7.2 \n\" style=\"fill:none;stroke:#000000;stroke-linecap:square;stroke-linejoin:miter;stroke-width:0.8;\"/>\n   </g>\n   <g id=\"patch_5\">\n    <path d=\"M 38.482812 224.64 \nL 373.282812 224.64 \n\" style=\"fill:none;stroke:#000000;stroke-linecap:square;stroke-linejoin:miter;stroke-width:0.8;\"/>\n   </g>\n   <g id=\"patch_6\">\n    <path d=\"M 38.482812 7.2 \nL 373.282812 7.2 \n\" style=\"fill:none;stroke:#000000;stroke-linecap:square;stroke-linejoin:miter;stroke-width:0.8;\"/>\n   </g>\n   <g id=\"text_11\">\n    <!-- پمارت -->\n    <defs>\n     <path d=\"M 85.75 32.671875 \nQ 86.46875 28.265625 86.46875 24.859375 \nQ 86.46875 18.265625 82.765625 13.328125 \nQ 76.515625 4.984375 61.03125 1.859375 \nQ 47.125 -0.984375 38.09375 -0.984375 \nQ 28.765625 -0.984375 22.46875 0.875 \nQ 6.34375 5.609375 6.34375 18.703125 \nQ 6.34375 25.4375 9.421875 29.9375 \nL 18.40625 29.9375 \nQ 15.234375 25.34375 15.234375 18.703125 \nQ 15.234375 12.59375 25.140625 9.328125 \nQ 30.21875 7.671875 37.59375 7.671875 \nQ 46.625 7.671875 59.578125 10.453125 \nQ 72.015625 13.09375 75.296875 18.609375 \nQ 77.984375 23.140625 77.984375 26.8125 \nQ 77.984375 29.6875 76.765625 32.671875 \nz\nM 40.234375 -16.890625 \nL 47.546875 -16.890625 \nL 47.546875 -24.203125 \nL 40.234375 -24.203125 \nz\nM 46.328125 -4.671875 \nL 53.65625 -4.671875 \nL 53.65625 -12 \nL 46.328125 -12 \nz\nM 34.125 -4.671875 \nL 41.453125 -4.671875 \nL 41.453125 -12 \nL 34.125 -12 \nz\n\" id=\"DejaVuSans-1662\"/>\n     <path d=\"M 29.78125 14.40625 \nQ 35.75 12.359375 39.453125 12.359375 \nQ 41.609375 12.359375 42.625 13.421875 \nQ 45.21875 16.21875 45.21875 19.046875 \nQ 45.21875 20.21875 44.921875 21.1875 \nQ 43.890625 25.484375 41.015625 26.3125 \nQ 39.0625 26.90625 36.8125 26.90625 \nQ 33.9375 26.90625 32.625 25.59375 \nQ 29.296875 22.265625 29.296875 18.953125 \nQ 29.296875 17 29.78125 14.40625 \nz\nM 23.921875 7.5625 \nQ 21.484375 8.9375 17.828125 5.125 \nQ 16.609375 3.859375 16.609375 0 \nL 16.609375 -24.03125 \nL 6.84375 -24.03125 \nL 6.84375 0 \nQ 6.84375 8.453125 12.703125 13.421875 \nQ 15.875 16.109375 20.265625 16.109375 \nQ 20.171875 18.171875 20.171875 20.125 \nQ 20.171875 27.34375 28.078125 33.796875 \nQ 31.84375 36.859375 36.328125 36.859375 \nQ 40.09375 36.859375 43.953125 35.109375 \nQ 52.828125 31.0625 54.203125 22.90625 \nQ 54.59375 20.703125 54.59375 17.96875 \nQ 54.59375 10.84375 49.8125 7.671875 \nQ 43.953125 3.765625 39.65625 3.765625 \nQ 30.953125 3.65625 23.921875 7.5625 \nz\n\" id=\"DejaVuSans-1605\"/>\n     <path d=\"M 9.421875 75.984375 \nL 18.40625 75.984375 \nL 18.40625 0 \nL 9.421875 0 \nz\n\" id=\"DejaVuSans-1575\"/>\n     <path d=\"M 32.953125 7.71875 \nQ 33.453125 10.546875 33.453125 14.0625 \nQ 33.453125 20.21875 30.859375 26.859375 \nL 39.84375 26.859375 \nQ 42.28125 21.09375 42.28125 14.65625 \nQ 42.28125 10.640625 41.890625 7.625 \nQ 39.65625 -9.46875 25.4375 -17.046875 \nQ 11.578125 -24.421875 -4.15625 -24.421875 \nL -4.15625 -15.4375 \nQ 10.6875 -15.4375 20.609375 -9.1875 \nQ 31.25 -2.4375 32.953125 7.71875 \nz\n\" id=\"DejaVuSans-1585\"/>\n     <path d=\"M 85.75 32.671875 \nQ 86.46875 28.265625 86.46875 24.859375 \nQ 86.46875 18.265625 82.765625 13.328125 \nQ 76.515625 4.984375 61.03125 1.859375 \nQ 47.125 -0.984375 38.09375 -0.984375 \nQ 28.765625 -0.984375 22.46875 0.875 \nQ 6.34375 5.609375 6.34375 18.703125 \nQ 6.34375 25.4375 9.421875 29.9375 \nL 18.40625 29.9375 \nQ 15.234375 25.34375 15.234375 18.703125 \nQ 15.234375 12.59375 25.140625 9.328125 \nQ 30.21875 7.671875 37.59375 7.671875 \nQ 46.625 7.671875 59.578125 10.453125 \nQ 72.015625 13.09375 75.296875 18.609375 \nQ 77.984375 23.140625 77.984375 26.8125 \nQ 77.984375 29.6875 76.765625 32.671875 \nz\nM 46.328125 39.328125 \nL 53.65625 39.328125 \nL 53.65625 32 \nL 46.328125 32 \nz\nM 34.125 39.328125 \nL 41.453125 39.328125 \nL 41.453125 32 \nL 34.125 32 \nz\n\" id=\"DejaVuSans-1578\"/>\n    </defs>\n    <g transform=\"translate(246.536458 59.617849)scale(0.1 -0.1)\">\n     <use xlink:href=\"#DejaVuSans-1662\"/>\n     <use x=\"94.140625\" xlink:href=\"#DejaVuSans-1605\"/>\n     <use x=\"156.054688\" xlink:href=\"#DejaVuSans-1575\"/>\n     <use x=\"183.837891\" xlink:href=\"#DejaVuSans-1585\"/>\n     <use x=\"232.128906\" xlink:href=\"#DejaVuSans-1578\"/>\n    </g>\n   </g>\n   <g id=\"text_12\">\n    <!-- رالد -->\n    <defs>\n     <path d=\"M 50.875 3.5625 \nQ 54.6875 9.71875 54.6875 20.796875 \nL 54.6875 75.984375 \nL 63.671875 75.984375 \nL 63.671875 20.796875 \nQ 63.671875 5.328125 58.890625 -1.703125 \nQ 52.984375 -10.359375 40.234375 -13.578125 \nQ 33.6875 -15.234375 29.546875 -15.234375 \nQ 24.90625 -15.234375 21.34375 -14.15625 \nQ 7.078125 -9.671875 7.03125 3.65625 \nQ 6.984375 10.40625 10.109375 14.890625 \nL 19.09375 14.890625 \nQ 15.921875 9.28125 15.921875 3.65625 \nQ 15.921875 -2.6875 24.03125 -5.71875 \nQ 25.984375 -6.5 29.546875 -6.5 \nQ 33.453125 -6.5 38.765625 -4.828125 \nQ 47.265625 -2.25 50.875 3.5625 \nz\n\" id=\"DejaVuSans-1604\"/>\n     <path d=\"M 19.09375 7.375 \nQ 27.484375 9.765625 29.203125 15.234375 \nQ 29.59375 16.546875 29.59375 18.609375 \nQ 29.59375 22.40625 26.65625 28.078125 \nQ 23.4375 34.375 14.984375 41.5 \nL 26.078125 41.5 \nQ 31.59375 37.0625 34.8125 31 \nQ 38.8125 23.578125 38.8125 18.453125 \nQ 38.8125 13.625 37.25 9.96875 \nQ 33.34375 0.484375 20.5625 -1.515625 \nQ 18.3125 -1.859375 16.109375 -1.859375 \nQ 11.140625 -1.859375 6.109375 0 \nL 6.109375 8.984375 \nQ 11.71875 6.9375 15.828125 6.9375 \nQ 17.4375 6.9375 19.09375 7.375 \nz\n\" id=\"DejaVuSans-1583\"/>\n    </defs>\n    <g transform=\"translate(153.082561 90.781378)scale(0.1 -0.1)\">\n     <use xlink:href=\"#DejaVuSans-1585\"/>\n     <use x=\"48.291016\" xlink:href=\"#DejaVuSans-1575\"/>\n     <use x=\"76.074219\" xlink:href=\"#DejaVuSans-1604\"/>\n     <use x=\"148.730469\" xlink:href=\"#DejaVuSans-1583\"/>\n    </g>\n   </g>\n   <g id=\"text_13\">\n    <!-- نارهت -->\n    <defs>\n     <path d=\"M 66.015625 15.234375 \nQ 66.015625 6.78125 61.140625 -1.90625 \nQ 55.765625 -11.53125 43.609375 -14.84375 \nQ 38.875 -16.15625 34.96875 -16.15625 \nQ 28.515625 -16.15625 23.1875 -14.359375 \nQ 7.171875 -9.1875 7.171875 8.203125 \nQ 7.171875 19.671875 9.46875 23.640625 \nL 18.453125 23.640625 \nQ 16.0625 16.609375 16.0625 8.203125 \nQ 16.0625 -3.375 25.875 -5.90625 \nQ 30.421875 -7.078125 34.96875 -7.078125 \nQ 38.671875 -7.078125 42.140625 -6.109375 \nQ 51.5625 -3.515625 55.28125 7.328125 \nQ 56.9375 12.109375 56.9375 16.796875 \nQ 56.9375 25.78125 51.953125 36.625 \nL 60.9375 36.625 \nQ 66.015625 29 66.015625 15.234375 \nz\nM 28.125 46.328125 \nL 35.453125 46.328125 \nL 35.453125 39 \nL 28.125 39 \nz\n\" id=\"DejaVuSans-1606\"/>\n     <path d=\"M 21.625 27.046875 \nQ 18.40625 27.046875 16.796875 22.796875 \nQ 15.53125 19.4375 15.578125 13.421875 \nQ 15.625 9.421875 18.3125 7.28125 \nQ 21.09375 5.125 23.875 5.125 \nQ 28.328125 5.125 32.859375 7.90625 \nQ 36.53125 10.15625 36.53125 14.3125 \nQ 36.53125 18.0625 33.296875 21.234375 \nQ 27.296875 27.09375 21.625 27.046875 \nz\nM 19.875 35.84375 \nQ 29.546875 35.84375 38.421875 28.03125 \nQ 45.3125 21.96875 45.3125 14.75 \nQ 45.265625 4.984375 38.09375 1.3125 \nQ 30.03125 -2.828125 23.578125 -2.828125 \nQ 18.890625 -2.828125 14.9375 -1.125 \nQ 6.78125 2.484375 6.78125 14.15625 \nQ 6.78125 23 8.59375 26.8125 \nQ 12.703125 35.84375 19.875 35.84375 \nz\n\" id=\"DejaVuSans-1607\"/>\n    </defs>\n    <g transform=\"translate(190.334317 150.365166)scale(0.1 -0.1)\">\n     <use xlink:href=\"#DejaVuSans-1606\"/>\n     <use x=\"73.4375\" xlink:href=\"#DejaVuSans-1575\"/>\n     <use x=\"101.220703\" xlink:href=\"#DejaVuSans-1585\"/>\n     <use x=\"149.511719\" xlink:href=\"#DejaVuSans-1607\"/>\n     <use x=\"201.904297\" xlink:href=\"#DejaVuSans-1578\"/>\n    </g>\n   </g>\n   <g id=\"text_14\">\n    <!-- نیزنب -->\n    <defs>\n     <path d=\"M 66.703125 0.59375 \nQ 61.71875 -7.71875 44.96875 -11.28125 \nQ 36.328125 -13.140625 30.46875 -13.140625 \nQ 24.171875 -13.140625 20.65625 -11.859375 \nQ 6.34375 -6.78125 6.34375 5.953125 \nQ 6.34375 11.671875 9.421875 17.1875 \nL 18.40625 17.1875 \nQ 15.1875 10.796875 15.234375 5.953125 \nQ 15.328125 -1.21875 23.34375 -3.421875 \nQ 28.078125 -4.6875 31.0625 -4.390625 \nQ 37.203125 -3.859375 43.5 -2.6875 \nQ 52.15625 -1.078125 56.25 2.828125 \nQ 59.125 5.5625 59.125 8.15625 \nQ 59.125 11.765625 52.984375 13.1875 \nQ 49.75 13.921875 44.1875 16.15625 \nQ 40.921875 17.484375 38.09375 19.96875 \nQ 34.96875 22.75 34.90625 28.375 \nQ 34.90625 35.6875 44.1875 39.3125 \nQ 48.828125 41.109375 53.90625 41.109375 \nQ 58.984375 41.109375 63.671875 39.0625 \nQ 70.5625 36.078125 71.875 27.640625 \nL 62.890625 27.640625 \nQ 62.25 30.609375 59.03125 32.234375 \nQ 57.078125 33.203125 53.71875 33.296875 \nQ 49.90625 33.40625 46.875 31.5 \nQ 43.953125 29.640625 43.953125 27.984375 \nQ 43.953125 25.296875 50.046875 23.25 \nQ 62.15625 19.1875 64.9375 16.0625 \nQ 68.703125 11.921875 68.796875 7.5625 \nQ 68.84375 4.25 66.703125 0.59375 \nz\n\" id=\"DejaVuSans-1740\"/>\n     <path d=\"M 32.953125 7.71875 \nQ 33.453125 10.546875 33.453125 14.0625 \nQ 33.453125 20.21875 30.859375 26.859375 \nL 39.84375 26.859375 \nQ 42.28125 21.09375 42.28125 14.65625 \nQ 42.28125 10.640625 41.890625 7.625 \nQ 39.65625 -9.46875 25.4375 -17.046875 \nQ 11.578125 -24.421875 -4.15625 -24.421875 \nL -4.15625 -15.4375 \nQ 10.6875 -15.4375 20.609375 -9.1875 \nQ 31.25 -2.4375 32.953125 7.71875 \nz\nM 30.5 46.328125 \nL 37.828125 46.328125 \nL 37.828125 39 \nL 30.5 39 \nz\n\" id=\"DejaVuSans-1586\"/>\n     <path d=\"M 85.75 32.671875 \nQ 86.46875 28.265625 86.46875 24.859375 \nQ 86.46875 18.265625 82.765625 13.328125 \nQ 76.515625 4.984375 61.03125 1.859375 \nQ 47.125 -0.984375 38.09375 -0.984375 \nQ 28.765625 -0.984375 22.46875 0.875 \nQ 6.34375 5.609375 6.34375 18.703125 \nQ 6.34375 25.4375 9.421875 29.9375 \nL 18.40625 29.9375 \nQ 15.234375 25.34375 15.234375 18.703125 \nQ 15.234375 12.59375 25.140625 9.328125 \nQ 30.21875 7.671875 37.59375 7.671875 \nQ 46.625 7.671875 59.578125 10.453125 \nQ 72.015625 13.09375 75.296875 18.609375 \nQ 77.984375 23.140625 77.984375 26.8125 \nQ 77.984375 29.6875 76.765625 32.671875 \nz\nM 40.25 -9.671875 \nL 47.578125 -9.671875 \nL 47.578125 -17 \nL 40.25 -17 \nz\n\" id=\"DejaVuSans-1576\"/>\n    </defs>\n    <g transform=\"translate(243.558294 121.376222)scale(0.1 -0.1)\">\n     <use xlink:href=\"#DejaVuSans-1606\"/>\n     <use x=\"73.4375\" xlink:href=\"#DejaVuSans-1740\"/>\n     <use x=\"151.708984\" xlink:href=\"#DejaVuSans-1586\"/>\n     <use x=\"200\" xlink:href=\"#DejaVuSans-1606\"/>\n     <use x=\"273.4375\" xlink:href=\"#DejaVuSans-1576\"/>\n    </g>\n   </g>\n   <g id=\"text_15\">\n    <!-- لابتوف -->\n    <defs>\n     <path d=\"M 24.125 22.078125 \nQ 21.046875 22.078125 18.890625 19.28125 \nQ 17.71875 17.671875 17.71875 15.921875 \nQ 17.71875 13.421875 20.21875 11.140625 \nQ 22.515625 8.984375 31.890625 8.984375 \nQ 31.890625 17.96875 27.6875 20.84375 \nQ 25.875 22.078125 24.125 22.078125 \nz\nM 40.625 8.984375 \nQ 40.625 -6.0625 32.234375 -13.875 \nQ 27.59375 -18.171875 23.046875 -20.21875 \nQ 13.671875 -24.421875 -4.15625 -24.421875 \nL -4.15625 -15.4375 \nQ 13.375 -15.4375 19.921875 -11.71875 \nQ 28.125 -7.078125 31.15625 0.140625 \nQ 25.390625 0.140625 23.1875 0.640625 \nQ 15.875 2.25 13.921875 3.90625 \nQ 8.25 8.6875 8.25 15.375 \nQ 8.25 22.265625 12.59375 26.515625 \nQ 17.671875 31.546875 24.359375 31.546875 \nQ 28.71875 31.546875 32.234375 29.046875 \nQ 38.578125 24.65625 39.796875 17.671875 \nQ 40.625 12.703125 40.625 8.984375 \nz\n\" id=\"DejaVuSans-1608\"/>\n     <path d=\"M 83.84375 26.21875 \nQ 85.84375 28.328125 85.84375 32.078125 \nQ 85.84375 34.96875 82.625 37.453125 \nQ 81.109375 38.671875 78.953125 38.625 \nQ 76.421875 38.578125 74.46875 36.53125 \nQ 72.515625 34.515625 72.46875 32.03125 \nQ 72.46875 28.125 75.140625 26.265625 \nQ 77.09375 25.046875 79.15625 25.046875 \nQ 82.671875 25.046875 83.84375 26.21875 \nz\nM 91.40625 10.6875 \nQ 86.03125 1.90625 70.5625 -1.515625 \nQ 57.234375 -4.5 43.21875 -4.5 \nQ 28.8125 -4.5 22.46875 -2.484375 \nQ 6.390625 2.390625 6.34375 15.328125 \nQ 6.296875 22.078125 9.421875 26.5625 \nL 18.40625 26.5625 \nQ 15.234375 21.96875 15.234375 15.328125 \nQ 15.234375 9.671875 25.140625 5.953125 \nQ 29.546875 4.296875 43.21875 4.296875 \nQ 58.890625 4.296875 69.09375 7.078125 \nQ 79.59375 9.96875 84.46875 15.234375 \nQ 86.1875 17.09375 87.15625 20.90625 \nQ 84.078125 17.234375 78.125 17.234375 \nQ 71.625 17.234375 67.96875 20.515625 \nQ 63.1875 24.75 63.1875 31.0625 \nQ 63.1875 33.59375 63.578125 35.75 \nQ 64.703125 42.96875 72.015625 46.34375 \nQ 75.828125 48.09375 79.546875 48.09375 \nQ 83.9375 48.09375 87.15625 45.65625 \nQ 91.84375 42.140625 94.09375 37.15625 \nQ 95.265625 34.515625 95.21875 27.828125 \nQ 95.125 16.796875 91.40625 10.6875 \nz\nM 74.5 63.328125 \nL 81.828125 63.328125 \nL 81.828125 56 \nL 74.5 56 \nz\n\" id=\"DejaVuSans-1601\"/>\n    </defs>\n    <g transform=\"translate(292.955686 82.060332)scale(0.1 -0.1)\">\n     <use xlink:href=\"#DejaVuSans-1604\"/>\n     <use x=\"72.65625\" xlink:href=\"#DejaVuSans-1575\"/>\n     <use x=\"100.439453\" xlink:href=\"#DejaVuSans-1576\"/>\n     <use x=\"194.580078\" xlink:href=\"#DejaVuSans-1578\"/>\n     <use x=\"288.720703\" xlink:href=\"#DejaVuSans-1608\"/>\n     <use x=\"337.011719\" xlink:href=\"#DejaVuSans-1601\"/>\n    </g>\n   </g>\n   <g id=\"text_16\">\n    <!-- لالقتسا -->\n    <defs>\n     <path d=\"M 58.203125 26.21875 \nQ 60.203125 28.328125 60.203125 32.078125 \nQ 60.203125 34.96875 56.984375 37.453125 \nQ 55.46875 38.671875 53.328125 38.625 \nQ 50.78125 38.578125 48.828125 36.53125 \nQ 46.875 34.515625 46.828125 32.03125 \nQ 46.828125 28.125 49.515625 26.265625 \nQ 51.46875 25.046875 53.515625 25.046875 \nQ 57.03125 25.046875 58.203125 26.21875 \nz\nM 25.78125 -12.15625 \nQ 37.5 -12.15625 45.40625 -6.546875 \nQ 61.53125 4.890625 61.53125 20.90625 \nQ 58.453125 17.234375 52.484375 17.234375 \nQ 46 17.234375 42.328125 20.515625 \nQ 37.546875 24.75 37.546875 31.0625 \nQ 37.546875 33.59375 37.9375 35.75 \nQ 39.0625 42.96875 46.390625 46.34375 \nQ 50.203125 48.09375 53.90625 48.09375 \nQ 58.734375 48.09375 61.53125 45.65625 \nQ 66.546875 41.265625 68.453125 35.453125 \nQ 70.0625 30.46875 70.0625 22.65625 \nQ 70.0625 12.703125 67.140625 5.859375 \nQ 62.640625 -4.546875 50.78125 -13.765625 \nQ 40.71875 -21.53125 25.78125 -21.484375 \nQ 15.484375 -21.4375 8.984375 -12.109375 \nQ 5.21875 -6.734375 5.21875 1.765625 \nQ 5.21875 10.546875 9.234375 21.09375 \nL 18.171875 21.09375 \nQ 14.015625 12.0625 13.875 4.5 \nQ 13.8125 1.5625 14.40625 -0.984375 \nQ 17 -12.15625 25.78125 -12.15625 \nz\nM 53.703125 63.328125 \nL 61.03125 63.328125 \nL 61.03125 56 \nL 53.703125 56 \nz\nM 41.5 63.328125 \nL 48.828125 63.328125 \nL 48.828125 56 \nL 41.5 56 \nz\n\" id=\"DejaVuSans-1602\"/>\n     <path d=\"M 62.3125 2.15625 \nQ 61.140625 -6.59375 57.03125 -11.8125 \nQ 50.53125 -20.125 41.109375 -23.140625 \nQ 37.203125 -24.421875 31.34375 -24.421875 \nQ 25.09375 -24.359375 19.78125 -23 \nQ 6.34375 -19.53125 6.34375 -3.515625 \nQ 6.34375 8.5 11.46875 17.28125 \nL 20.453125 17.28125 \nQ 15.1875 7.234375 15.234375 -3.515625 \nQ 15.28125 -12.25 22.46875 -14.109375 \nQ 27.09375 -15.28125 31.0625 -15.28125 \nQ 35.84375 -15.28125 40.484375 -13.484375 \nQ 46.390625 -11.140625 50.984375 -3.421875 \nQ 54.109375 1.859375 54.046875 8.796875 \nQ 54 14.890625 53.21875 17.875 \nL 50.09375 29.296875 \nL 59.078125 29.296875 \nL 60.84375 21.6875 \nQ 61.625 18.0625 62.984375 15.140625 \nQ 65.875 8.84375 71.484375 8.84375 \nQ 75.484375 8.84375 77.640625 14.796875 \nQ 79.4375 19.828125 79.4375 29.296875 \nL 88.421875 29.296875 \nQ 88.421875 19.28125 89.359375 16.84375 \nQ 92.484375 8.59375 97.859375 8.59375 \nQ 104.78125 8.59375 104.78125 22.265625 \nL 104.78125 36.625 \nL 113.765625 36.625 \nL 113.765625 19.921875 \nQ 113.765625 10.203125 109.28125 4.6875 \nQ 105.609375 0.203125 100.640625 -0.984375 \nQ 98.828125 -1.421875 97.265625 -1.421875 \nQ 93.703125 -1.421875 91.359375 -0.203125 \nQ 84.625 3.21875 83.796875 9.234375 \nQ 81.390625 1.46875 76.765625 0 \nQ 74.3125 -0.734375 70.90625 -0.875 \nQ 64.453125 -1.171875 62.3125 2.15625 \nz\n\" id=\"DejaVuSans-1587\"/>\n    </defs>\n    <g transform=\"translate(216.499815 110.342858)scale(0.1 -0.1)\">\n     <use xlink:href=\"#DejaVuSans-1604\"/>\n     <use x=\"72.65625\" xlink:href=\"#DejaVuSans-1575\"/>\n     <use x=\"100.439453\" xlink:href=\"#DejaVuSans-1604\"/>\n     <use x=\"173.095703\" xlink:href=\"#DejaVuSans-1602\"/>\n     <use x=\"250.683594\" xlink:href=\"#DejaVuSans-1578\"/>\n     <use x=\"344.824219\" xlink:href=\"#DejaVuSans-1587\"/>\n     <use x=\"466.894531\" xlink:href=\"#DejaVuSans-1575\"/>\n    </g>\n   </g>\n   <g id=\"text_17\">\n    <!-- گس -->\n    <defs>\n     <path d=\"M 37.59375 4.296875 \nQ 46.578125 4.296875 56.0625 8.203125 \nQ 63.71875 11.375 65.484375 14.0625 \nQ 66.265625 15.328125 66.265625 17.578125 \nQ 66.265625 20.953125 63.625 24.171875 \nL 48.484375 42.71875 \nQ 46.046875 45.703125 46.046875 49.65625 \nQ 46.046875 51.375 46.53125 52.984375 \nQ 48.25 58.796875 53.125 60.84375 \nL 89.5 75.984375 \nL 89.5 66.890625 \nL 60.453125 54.6875 \nQ 56.984375 53.21875 55.953125 51.265625 \nQ 55.671875 50.734375 55.671875 49.515625 \nQ 55.671875 47.953125 57.171875 46.140625 \nL 70.609375 30.03125 \nQ 75.59375 24.03125 75.59375 18.015625 \nQ 75.59375 12.5 72.5625 7.5625 \nQ 69.96875 3.375 57.03125 -0.78125 \nQ 45.953125 -4.34375 38.09375 -4.34375 \nQ 28.71875 -4.34375 22.46875 -2.484375 \nQ 6.34375 2.296875 6.34375 15.328125 \nQ 6.34375 22.078125 9.421875 26.5625 \nL 18.40625 26.5625 \nQ 15.234375 21.96875 15.234375 15.328125 \nQ 15.234375 9.1875 25.140625 5.953125 \nQ 30.21875 4.296875 37.59375 4.296875 \nz\nM 89.515625 82.28125 \nL 47.375 64.984375 \nL 47.375 72.3125 \nL 89.515625 89.59375 \nz\n\" id=\"DejaVuSans-1711\"/>\n    </defs>\n    <g transform=\"translate(270.275739 132.998654)scale(0.1 -0.1)\">\n     <use xlink:href=\"#DejaVuSans-1711\"/>\n     <use x=\"89.501953\" xlink:href=\"#DejaVuSans-1587\"/>\n    </g>\n   </g>\n   <g id=\"text_18\">\n    <!-- ماجرب -->\n    <defs>\n     <path d=\"M 7.671875 39.40625 \nQ 21.140625 42.484375 30.671875 42.484375 \nQ 44.921875 42.484375 54.5 39.84375 \nL 54.5 32.328125 \nQ 40.140625 32.328125 29.640625 24.171875 \nQ 18.703125 15.671875 18.703125 2.9375 \nQ 18.703125 -3.65625 22.3125 -8.34375 \nQ 28.515625 -16.359375 44.671875 -16.359375 \nQ 54.109375 -16.359375 64.453125 -10.59375 \nL 64.453125 -19.578125 \nQ 57.125 -24.421875 44.921875 -24.421875 \nQ 24.515625 -24.421875 16.265625 -14.9375 \nQ 9.859375 -7.625 9.859375 3.328125 \nQ 9.859375 15.921875 20.21875 26.8125 \nQ 24.90625 31.734375 31.59375 34.28125 \nQ 26.65625 34.28125 18.890625 33.34375 \nQ 12.75 32.625 7.671875 30.421875 \nz\nM 37.875 8.328125 \nL 45.203125 8.328125 \nL 45.203125 1 \nL 37.875 1 \nz\n\" id=\"DejaVuSans-1580\"/>\n    </defs>\n    <g transform=\"translate(202.203681 132.564294)scale(0.1 -0.1)\">\n     <use xlink:href=\"#DejaVuSans-1605\"/>\n     <use x=\"61.914062\" xlink:href=\"#DejaVuSans-1575\"/>\n     <use x=\"89.697266\" xlink:href=\"#DejaVuSans-1580\"/>\n     <use x=\"154.248047\" xlink:href=\"#DejaVuSans-1585\"/>\n     <use x=\"202.539062\" xlink:href=\"#DejaVuSans-1576\"/>\n    </g>\n   </g>\n   <g id=\"text_19\">\n    <!-- سروب -->\n    <g transform=\"translate(273.731237 110.813618)scale(0.1 -0.1)\">\n     <use xlink:href=\"#DejaVuSans-1587\"/>\n     <use x=\"122.070312\" xlink:href=\"#DejaVuSans-1585\"/>\n     <use x=\"170.361328\" xlink:href=\"#DejaVuSans-1608\"/>\n     <use x=\"218.652344\" xlink:href=\"#DejaVuSans-1576\"/>\n    </g>\n   </g>\n   <g id=\"text_20\">\n    <!-- تفن -->\n    <g transform=\"translate(124.917484 29.859981)scale(0.1 -0.1)\">\n     <use xlink:href=\"#DejaVuSans-1578\"/>\n     <use x=\"94.140625\" xlink:href=\"#DejaVuSans-1601\"/>\n     <use x=\"197.802734\" xlink:href=\"#DejaVuSans-1606\"/>\n    </g>\n   </g>\n   <g id=\"text_21\">\n    <!-- ناوج -->\n    <g transform=\"translate(169.725738 117.685042)scale(0.1 -0.1)\">\n     <use xlink:href=\"#DejaVuSans-1606\"/>\n     <use x=\"73.4375\" xlink:href=\"#DejaVuSans-1575\"/>\n     <use x=\"101.220703\" xlink:href=\"#DejaVuSans-1608\"/>\n     <use x=\"149.511719\" xlink:href=\"#DejaVuSans-1580\"/>\n    </g>\n   </g>\n   <g id=\"text_22\">\n    <!-- یراجت -->\n    <g transform=\"translate(146.277578 90.111292)scale(0.1 -0.1)\">\n     <use xlink:href=\"#DejaVuSans-1740\"/>\n     <use x=\"78.271484\" xlink:href=\"#DejaVuSans-1585\"/>\n     <use x=\"126.5625\" xlink:href=\"#DejaVuSans-1575\"/>\n     <use x=\"154.345703\" xlink:href=\"#DejaVuSans-1580\"/>\n     <use x=\"218.896484\" xlink:href=\"#DejaVuSans-1578\"/>\n    </g>\n   </g>\n   <g id=\"text_23\">\n    <!-- سیلوپسرپ -->\n    <g transform=\"translate(220.042365 52.386931)scale(0.1 -0.1)\">\n     <use xlink:href=\"#DejaVuSans-1587\"/>\n     <use x=\"122.070312\" xlink:href=\"#DejaVuSans-1740\"/>\n     <use x=\"200.341797\" xlink:href=\"#DejaVuSans-1604\"/>\n     <use x=\"272.998047\" xlink:href=\"#DejaVuSans-1608\"/>\n     <use x=\"321.289062\" xlink:href=\"#DejaVuSans-1662\"/>\n     <use x=\"415.429688\" xlink:href=\"#DejaVuSans-1587\"/>\n     <use x=\"537.5\" xlink:href=\"#DejaVuSans-1585\"/>\n     <use x=\"585.791016\" xlink:href=\"#DejaVuSans-1662\"/>\n    </g>\n   </g>\n   <g id=\"text_24\">\n    <!-- خیرات -->\n    <defs>\n     <path d=\"M 7.671875 39.40625 \nQ 21.140625 42.484375 30.671875 42.484375 \nQ 44.921875 42.484375 54.5 39.84375 \nL 54.5 32.328125 \nQ 40.140625 32.328125 29.640625 24.171875 \nQ 18.703125 15.671875 18.703125 2.9375 \nQ 18.703125 -3.65625 22.3125 -8.34375 \nQ 28.515625 -16.359375 44.671875 -16.359375 \nQ 54.109375 -16.359375 64.453125 -10.59375 \nL 64.453125 -19.578125 \nQ 57.125 -24.421875 44.921875 -24.421875 \nQ 24.515625 -24.421875 16.265625 -14.9375 \nQ 9.859375 -7.625 9.859375 3.328125 \nQ 9.859375 15.921875 20.21875 26.8125 \nQ 24.90625 31.734375 31.59375 34.28125 \nQ 26.65625 34.28125 18.890625 33.34375 \nQ 12.75 32.625 7.671875 30.421875 \nz\nM 28.125 58.328125 \nL 35.453125 58.328125 \nL 35.453125 51 \nL 28.125 51 \nz\n\" id=\"DejaVuSans-1582\"/>\n    </defs>\n    <g transform=\"translate(347.236911 124.804654)scale(0.1 -0.1)\">\n     <use xlink:href=\"#DejaVuSans-1582\"/>\n     <use x=\"64.550781\" xlink:href=\"#DejaVuSans-1740\"/>\n     <use x=\"142.822266\" xlink:href=\"#DejaVuSans-1585\"/>\n     <use x=\"191.113281\" xlink:href=\"#DejaVuSans-1575\"/>\n     <use x=\"218.896484\" xlink:href=\"#DejaVuSans-1578\"/>\n    </g>\n   </g>\n   <g id=\"text_25\">\n    <!-- گیل -->\n    <g transform=\"translate(53.700994 139.538789)scale(0.1 -0.1)\">\n     <use xlink:href=\"#DejaVuSans-1711\"/>\n     <use x=\"89.501953\" xlink:href=\"#DejaVuSans-1740\"/>\n     <use x=\"167.773438\" xlink:href=\"#DejaVuSans-1604\"/>\n    </g>\n   </g>\n   <g id=\"text_26\">\n    <!-- هاگشاب -->\n    <defs>\n     <path d=\"M 62.3125 2.15625 \nQ 61.140625 -6.59375 57.03125 -11.8125 \nQ 50.53125 -20.125 41.109375 -23.140625 \nQ 37.203125 -24.421875 31.34375 -24.421875 \nQ 25.09375 -24.359375 19.78125 -23 \nQ 6.34375 -19.53125 6.34375 -3.515625 \nQ 6.34375 8.5 11.46875 17.28125 \nL 20.453125 17.28125 \nQ 15.1875 7.234375 15.234375 -3.515625 \nQ 15.28125 -12.25 22.46875 -14.109375 \nQ 27.09375 -15.28125 31.0625 -15.28125 \nQ 35.84375 -15.28125 40.484375 -13.484375 \nQ 46.390625 -11.140625 50.984375 -3.421875 \nQ 54.109375 1.859375 54.046875 8.796875 \nQ 54 14.890625 53.21875 17.875 \nL 50.09375 29.296875 \nL 59.078125 29.296875 \nL 60.84375 21.6875 \nQ 61.625 18.0625 62.984375 15.140625 \nQ 65.875 8.84375 71.484375 8.84375 \nQ 75.484375 8.84375 77.640625 14.796875 \nQ 79.4375 19.828125 79.4375 29.296875 \nL 88.421875 29.296875 \nQ 88.421875 19.28125 89.359375 16.84375 \nQ 92.484375 8.59375 97.859375 8.59375 \nQ 104.78125 8.59375 104.78125 22.265625 \nL 104.78125 36.625 \nL 113.765625 36.625 \nL 113.765625 19.921875 \nQ 113.765625 10.203125 109.28125 4.6875 \nQ 105.609375 0.203125 100.640625 -0.984375 \nQ 98.828125 -1.421875 97.265625 -1.421875 \nQ 93.703125 -1.421875 91.359375 -0.203125 \nQ 84.625 3.21875 83.796875 9.234375 \nQ 81.390625 1.46875 76.765625 0 \nQ 74.3125 -0.734375 70.90625 -0.875 \nQ 64.453125 -1.171875 62.3125 2.15625 \nz\nM 67.109375 58.53125 \nL 74.421875 58.53125 \nL 74.421875 51.203125 \nL 67.109375 51.203125 \nz\nM 73.203125 46.328125 \nL 80.53125 46.328125 \nL 80.53125 39 \nL 73.203125 39 \nz\nM 61 46.328125 \nL 68.328125 46.328125 \nL 68.328125 39 \nL 61 39 \nz\n\" id=\"DejaVuSans-1588\"/>\n    </defs>\n    <g transform=\"translate(150.69562 214.756364)scale(0.1 -0.1)\">\n     <use xlink:href=\"#DejaVuSans-1607\"/>\n     <use x=\"52.392578\" xlink:href=\"#DejaVuSans-1575\"/>\n     <use x=\"80.175781\" xlink:href=\"#DejaVuSans-1711\"/>\n     <use x=\"169.677734\" xlink:href=\"#DejaVuSans-1588\"/>\n     <use x=\"291.748047\" xlink:href=\"#DejaVuSans-1575\"/>\n     <use x=\"319.53125\" xlink:href=\"#DejaVuSans-1576\"/>\n    </g>\n   </g>\n   <g id=\"text_27\">\n    <!-- وروی -->\n    <g transform=\"translate(247.578248 17.083636)scale(0.1 -0.1)\">\n     <use xlink:href=\"#DejaVuSans-1608\"/>\n     <use x=\"48.291016\" xlink:href=\"#DejaVuSans-1585\"/>\n     <use x=\"96.582031\" xlink:href=\"#DejaVuSans-1608\"/>\n     <use x=\"144.873047\" xlink:href=\"#DejaVuSans-1740\"/>\n    </g>\n   </g>\n   <g id=\"text_28\">\n    <!-- سیئر -->\n    <defs>\n     <path d=\"M 15.703125 41.828125 \nL 19.515625 42.703125 \nQ 17.375 43.6875 16.59375 45.4375 \nQ 15.8125 47.25 15.8125 49.4375 \nQ 15.8125 54.125 18.546875 56.234375 \nQ 21.375 58.421875 25.859375 58.421875 \nQ 28.890625 58.421875 31.4375 56.8125 \nL 31.4375 51.9375 \nQ 28.984375 53.546875 25.859375 53.546875 \nQ 22.640625 53.546875 21.8125 52.671875 \nQ 20.390625 51.109375 20.390625 49.828125 \nQ 20.390625 46.078125 24.984375 44.75 \nQ 26.59375 44.265625 32.453125 45.6875 \nL 32.453125 40.703125 \nL 15.703125 36.9375 \nz\nM 66.703125 0.59375 \nQ 61.71875 -7.71875 44.96875 -11.28125 \nQ 36.328125 -13.140625 30.46875 -13.140625 \nQ 24.171875 -13.140625 20.65625 -11.859375 \nQ 6.34375 -6.78125 6.34375 5.953125 \nQ 6.34375 11.671875 9.421875 17.1875 \nL 18.40625 17.1875 \nQ 15.1875 10.796875 15.234375 5.953125 \nQ 15.328125 -1.21875 23.34375 -3.421875 \nQ 28.078125 -4.6875 31.0625 -4.390625 \nQ 37.203125 -3.859375 43.5 -2.6875 \nQ 52.15625 -1.078125 56.25 2.828125 \nQ 59.125 5.5625 59.125 8.15625 \nQ 59.125 11.765625 52.984375 13.1875 \nQ 49.75 13.921875 44.1875 16.15625 \nQ 40.921875 17.484375 38.09375 19.96875 \nQ 34.96875 22.75 34.90625 28.375 \nQ 34.90625 35.6875 44.1875 39.3125 \nQ 48.828125 41.109375 53.90625 41.109375 \nQ 58.984375 41.109375 63.671875 39.0625 \nQ 70.5625 36.078125 71.875 27.640625 \nL 62.890625 27.640625 \nQ 62.25 30.609375 59.03125 32.234375 \nQ 57.078125 33.203125 53.71875 33.296875 \nQ 49.90625 33.40625 46.875 31.5 \nQ 43.953125 29.640625 43.953125 27.984375 \nQ 43.953125 25.296875 50.046875 23.25 \nQ 62.15625 19.1875 64.9375 16.0625 \nQ 68.703125 11.921875 68.796875 7.5625 \nQ 68.84375 4.25 66.703125 0.59375 \nz\n\" id=\"DejaVuSans-1574\"/>\n    </defs>\n    <g transform=\"translate(358.064631 156.680281)scale(0.1 -0.1)\">\n     <use xlink:href=\"#DejaVuSans-1587\"/>\n     <use x=\"122.070312\" xlink:href=\"#DejaVuSans-1740\"/>\n     <use x=\"200.341797\" xlink:href=\"#DejaVuSans-1574\"/>\n     <use x=\"278.613281\" xlink:href=\"#DejaVuSans-1585\"/>\n    </g>\n   </g>\n   <g id=\"text_29\">\n    <!-- زرا -->\n    <g transform=\"translate(262.91893 107.587529)scale(0.1 -0.1)\">\n     <use xlink:href=\"#DejaVuSans-1586\"/>\n     <use x=\"48.291016\" xlink:href=\"#DejaVuSans-1585\"/>\n     <use x=\"96.582031\" xlink:href=\"#DejaVuSans-1575\"/>\n    </g>\n   </g>\n   <g id=\"text_30\">\n    <!-- لوپ -->\n    <g transform=\"translate(203.965164 103.469768)scale(0.1 -0.1)\">\n     <use xlink:href=\"#DejaVuSans-1604\"/>\n     <use x=\"72.65625\" xlink:href=\"#DejaVuSans-1608\"/>\n     <use x=\"120.947266\" xlink:href=\"#DejaVuSans-1662\"/>\n    </g>\n   </g>\n  </g>\n </g>\n <defs>\n  <clipPath id=\"p4bde1baf88\">\n   <rect height=\"217.44\" width=\"334.8\" x=\"38.482813\" y=\"7.2\"/>\n  </clipPath>\n </defs>\n</svg>\n"
          },
          "metadata": {
            "tags": [],
            "needs_background": "light"
          }
        }
      ]
    },
    {
      "cell_type": "markdown",
      "metadata": {
        "id": "WE8I_kQQxlhQ"
      },
      "source": [
        "<a name='2'></a>\n",
        "# Classification\n",
        "## Naive Bayes"
      ]
    },
    {
      "cell_type": "code",
      "metadata": {
        "id": "Sw6N9DBqoAxn"
      },
      "source": [
        "train_data_comp = []\n",
        "classes_comp = []\n",
        "for i , x in enumerate(tokenized_data) :\n",
        "  if len(x)<mean_word_size:\n",
        "    if y_train_l[i] is not np.nan and y_train_l[i] != 'category':\n",
        "      train_data_comp.append(x)\n",
        "      classes_comp.append(y_train_l[i])   "
      ],
      "execution_count": null,
      "outputs": []
    },
    {
      "cell_type": "code",
      "metadata": {
        "id": "XUQ4Lba3oHnT",
        "colab": {
          "base_uri": "https://localhost:8080/"
        },
        "outputId": "d9dbc85f-0c40-4454-da5b-0560715d77c0"
      },
      "source": [
        "len(train_data_comp)"
      ],
      "execution_count": null,
      "outputs": [
        {
          "output_type": "execute_result",
          "data": {
            "text/plain": [
              "83912"
            ]
          },
          "metadata": {
            "tags": []
          },
          "execution_count": 56
        }
      ]
    },
    {
      "cell_type": "code",
      "metadata": {
        "id": "RusONztnogrp",
        "colab": {
          "base_uri": "https://localhost:8080/"
        },
        "outputId": "1dc8ccb0-dea4-4425-f098-876121d318a7"
      },
      "source": [
        "len(classes_comp)"
      ],
      "execution_count": null,
      "outputs": [
        {
          "output_type": "execute_result",
          "data": {
            "text/plain": [
              "83912"
            ]
          },
          "metadata": {
            "tags": []
          },
          "execution_count": 57
        }
      ]
    },
    {
      "cell_type": "code",
      "metadata": {
        "id": "KwycUca8x-5T",
        "colab": {
          "base_uri": "https://localhost:8080/",
          "height": 35
        },
        "outputId": "e47b2fb3-a6f6-473f-f3e6-738b6ee17f66"
      },
      "source": [
        "classes_comp[10]"
      ],
      "execution_count": null,
      "outputs": [
        {
          "output_type": "execute_result",
          "data": {
            "application/vnd.google.colaboratory.intrinsic+json": {
              "type": "string"
            },
            "text/plain": [
              "'فرهنگی هنری'"
            ]
          },
          "metadata": {
            "tags": []
          },
          "execution_count": 58
        }
      ]
    },
    {
      "cell_type": "markdown",
      "metadata": {
        "id": "7i3kA-_dyhtx"
      },
      "source": [
        "## A dictionary for classes"
      ]
    },
    {
      "cell_type": "code",
      "metadata": {
        "id": "z6F8nI17yBXM"
      },
      "source": [
        "classes_dict ={}\n",
        "class_set = set(classes)\n",
        "c = 0\n",
        "for i,x in enumerate(class_set):\n",
        "  classes_dict[x] = c\n",
        "  c=c+1"
      ],
      "execution_count": null,
      "outputs": []
    },
    {
      "cell_type": "code",
      "metadata": {
        "id": "0oUhDeZgzKvj",
        "colab": {
          "base_uri": "https://localhost:8080/"
        },
        "outputId": "7febd437-f964-45f6-cf40-9ce1b3dfe0b2"
      },
      "source": [
        "classes_dict"
      ],
      "execution_count": null,
      "outputs": [
        {
          "output_type": "execute_result",
          "data": {
            "text/plain": [
              "{'اجتماعی': 4,\n",
              " 'اقتصادی': 3,\n",
              " 'بین\\u200cالملل': 1,\n",
              " 'سیاسی': 0,\n",
              " 'علمی پزشکی': 2,\n",
              " 'فرهنگی هنری': 7,\n",
              " 'فضای مجازی': 5,\n",
              " 'فیلم و صوت ': 9,\n",
              " 'وب\\u200cگردی': 8,\n",
              " 'ورزشی': 6}"
            ]
          },
          "metadata": {
            "tags": []
          },
          "execution_count": 60
        }
      ]
    },
    {
      "cell_type": "code",
      "metadata": {
        "id": "Ej8NYZ04ziXt",
        "colab": {
          "base_uri": "https://localhost:8080/"
        },
        "outputId": "7e5a54b2-6218-4fd1-e454-e56cfb998b4e"
      },
      "source": [
        "classes_num = [classes_dict[x] for x in classes]\n",
        "#test\n",
        "classes_num[0]"
      ],
      "execution_count": null,
      "outputs": [
        {
          "output_type": "execute_result",
          "data": {
            "text/plain": [
              "7"
            ]
          },
          "metadata": {
            "tags": []
          },
          "execution_count": 61
        }
      ]
    },
    {
      "cell_type": "code",
      "metadata": {
        "id": "Dmh0alvlKfhk"
      },
      "source": [
        "def count_word_in_classes(result, x_list , ys):\n",
        "\n",
        "    for y, text in zip(ys, x_list):\n",
        "        for word in text:\n",
        "            pair = (word,y)\n",
        "            if pair in result:\n",
        "                result[pair] += 1\n",
        "            else:\n",
        "                result[pair] = 1\n",
        "\n",
        "    return result"
      ],
      "execution_count": null,
      "outputs": []
    },
    {
      "cell_type": "code",
      "metadata": {
        "id": "ID8bdeKvMF-f"
      },
      "source": [
        "def train_naive_bayes(train_x, train_y):\n",
        "\n",
        "    word_in_class = count_word_in_classes({}, train_data , classes_num)\n",
        "    loglikelihood = {}\n",
        "    p = {}\n",
        "    logprior = []\n",
        "\n",
        "    # calculate V, the number of unique words in the vocabulary\n",
        "    vocab = set([pair[0] for pair in word_in_class.keys()])\n",
        "    V = len(vocab)\n",
        "\n",
        "    Ns = [0]*10\n",
        "    Ds = [0]*10\n",
        "    for pair in word_in_class.keys():\n",
        "        label = pair[1]\n",
        "        Ds[label] += 1\n",
        "        Ns[label] += word_in_class.get(pair,0)\n",
        "\n",
        "    print('Sample numbers of 10 classes as a list:')\n",
        "    print(Ds)\n",
        "    print('\\nVocabulary numbers of classes as a list:')\n",
        "    print(Ns)\n",
        "    # Calculate logprior\n",
        "    D = len(train_x)\n",
        "    print('\\nPrior probability of 10 classes :')\n",
        "    print([Ds[i]/D for i in range(len(set(classes)))])\n",
        "    logpriors = [np.log(Ds[i]/D) for i in range(len(set(classes)))]\n",
        "\n",
        "    for word in vocab:\n",
        "        class_freqs = [word_in_class.get((word,i),0) for i in range(len(set(classes)))]\n",
        "\n",
        "        # calculate the probability that each word is corresponding to each class\n",
        "        # smoothing\n",
        "        p_w = [(class_freqs[i]+1)/(Ns[i]+V) for i in range(len(set(classes)))]\n",
        "\n",
        "        # calculate the log likelihood\n",
        "        loglikelihood[word] = np.log(p_w)\n",
        "        p[word] = p_w\n",
        "\n",
        "    return logpriors , loglikelihood , p"
      ],
      "execution_count": null,
      "outputs": []
    },
    {
      "cell_type": "code",
      "metadata": {
        "id": "Y7EdtrvVTcBf"
      },
      "source": [
        "#word_in_classes = count_word_in_classes({}, train_data , classes_num)"
      ],
      "execution_count": null,
      "outputs": []
    },
    {
      "cell_type": "code",
      "metadata": {
        "id": "nIkSNZ_zTkce",
        "colab": {
          "base_uri": "https://localhost:8080/"
        },
        "outputId": "7c34d6a4-6b4a-427a-e736-4954e75298a3"
      },
      "source": [
        "logpriors, loglikelihood , probs = train_naive_bayes(train_data, classes_num)\n",
        "print('\\nlogpriors of 10 classes as a list')\n",
        "print(logpriors)\n",
        "#print(len(loglikelihood))"
      ],
      "execution_count": null,
      "outputs": [
        {
          "output_type": "stream",
          "text": [
            "Sample numbers of 10 classes as a list:\n",
            "[9281, 9149, 8823, 8253, 9343, 6005, 8456, 9301, 5972, 2826]\n",
            "\n",
            "Vocabulary numbers of classes as a list:\n",
            "[1190316, 2361055, 1056632, 896711, 1230070, 184106, 1567081, 1211357, 88169, 36805]\n",
            "\n",
            "Prior probability of 10 classes :\n",
            "[0.11060396605968158, 0.10903088950328917, 0.10514586709886548, 0.0983530365144437, 0.11134283535132043, 0.07156306606921536, 0.100772237582229, 0.1108423109924683, 0.07116979693011727, 0.0336781390027648]\n",
            "\n",
            "logpriors of 10 classes as a list\n",
            "[-2.201799331046047, -2.2161240469619043, -2.252406682419335, -2.3191918600487558, -2.1951412308484843, -2.637176175127356, -2.2948923820913665, -2.199646709398973, -2.642686750982359, -3.3909063463969673]\n"
          ],
          "name": "stdout"
        }
      ]
    },
    {
      "cell_type": "markdown",
      "metadata": {
        "id": "L9fHfgzIdCv-"
      },
      "source": [
        "## Predict by the model"
      ]
    },
    {
      "cell_type": "code",
      "metadata": {
        "id": "6VlH6EfsvSDs"
      },
      "source": [
        "def predict(text):\n",
        "  prediction = 0\n",
        "  llhs = [loglikelihood.get(t,0) for t in text.split()]\n",
        "  llhs.append(logpriors)\n",
        "  pr_list = np.sum(llhs,axis = 0)\n",
        "  pr = np.max(pr_list)\n",
        "  for idx,x in enumerate(pr_list):\n",
        "    if x == pr:\n",
        "      prediction = idx\n",
        "      break\n",
        "  return prediction"
      ],
      "execution_count": null,
      "outputs": []
    },
    {
      "cell_type": "code",
      "metadata": {
        "id": "HqHLxDB3VE6E",
        "colab": {
          "base_uri": "https://localhost:8080/"
        },
        "outputId": "e1c7e205-45e1-4428-b2e8-64f9ee8201c3"
      },
      "source": [
        "#test\n",
        "print('Class prediction is :\\n')\n",
        "p = predict('ترامپ در اجلاس سران به ')\n",
        "print(p)\n",
        "print('\\nThe predicted class is :\\n')\n",
        "for c,i in classes_dict.items():\n",
        "  if i == p:\n",
        "    print(c)"
      ],
      "execution_count": null,
      "outputs": [
        {
          "output_type": "stream",
          "text": [
            "Class prediction is :\n",
            "\n",
            "1\n",
            "\n",
            "The predicted class is :\n",
            "\n",
            "بین‌الملل\n"
          ],
          "name": "stdout"
        }
      ]
    },
    {
      "cell_type": "markdown",
      "metadata": {
        "id": "oFPxhZ_Q5JSe"
      },
      "source": [
        "## Evaluation"
      ]
    },
    {
      "cell_type": "code",
      "metadata": {
        "id": "RLpkQQJat_RV"
      },
      "source": [
        "test_df = pd.read_csv('/content/drive/My Drive/News/test.csv',sep='\\t',error_bad_lines=False , encoding='utf-8') "
      ],
      "execution_count": null,
      "outputs": []
    },
    {
      "cell_type": "code",
      "metadata": {
        "id": "dOpxVr2yt_WJ"
      },
      "source": [
        "x_test_l = []\n",
        "y_test_l = []\n",
        "for index,row in test_df.iterrows():\n",
        "  x_test_l.append(str(row['title']) + '.' + str(row['text']))\n",
        "  y_test_l.append(row['category'])"
      ],
      "execution_count": null,
      "outputs": []
    },
    {
      "cell_type": "code",
      "metadata": {
        "id": "KpjaZywRt_UJ"
      },
      "source": [
        "tokenized_test_data =[word_tokenize(clean(x)) for x in x_test_l]"
      ],
      "execution_count": null,
      "outputs": []
    },
    {
      "cell_type": "code",
      "metadata": {
        "id": "FzvHfNWs8fgC"
      },
      "source": [
        "test_data_processed, test_vocabulary = preprocess_data(tokenized_test_data,rank_threshold=10000)"
      ],
      "execution_count": null,
      "outputs": []
    },
    {
      "cell_type": "code",
      "metadata": {
        "id": "tvCDLyV883oA",
        "colab": {
          "base_uri": "https://localhost:8080/"
        },
        "outputId": "7d88dcb8-3d40-4a75-f0d4-0ecd280d2335"
      },
      "source": [
        "len(test_data_processed)"
      ],
      "execution_count": null,
      "outputs": [
        {
          "output_type": "execute_result",
          "data": {
            "text/plain": [
              "21104"
            ]
          },
          "metadata": {
            "tags": []
          },
          "execution_count": 72
        }
      ]
    },
    {
      "cell_type": "code",
      "metadata": {
        "id": "4q8l_gMC9Daa"
      },
      "source": [
        "test_data = []\n",
        "test_classes = []\n",
        "for i , x in enumerate(test_data_processed) :\n",
        "  if len(x)<mean_word_size and len(x)> 2 :\n",
        "    if y_test_l[i] is not np.nan and y_test_l[i] != 'category':\n",
        "      test_data.append(x)\n",
        "      test_classes.append(y_test_l[i])"
      ],
      "execution_count": null,
      "outputs": []
    },
    {
      "cell_type": "code",
      "metadata": {
        "id": "Wak8vJUP9q61",
        "colab": {
          "base_uri": "https://localhost:8080/"
        },
        "outputId": "b9e53b52-e837-4d88-d5ba-11e72a0a0173"
      },
      "source": [
        "len(test_data)"
      ],
      "execution_count": null,
      "outputs": [
        {
          "output_type": "execute_result",
          "data": {
            "text/plain": [
              "15007"
            ]
          },
          "metadata": {
            "tags": []
          },
          "execution_count": 74
        }
      ]
    },
    {
      "cell_type": "code",
      "metadata": {
        "id": "J1AH4s6K9txb",
        "colab": {
          "base_uri": "https://localhost:8080/"
        },
        "outputId": "c81ea7b3-f120-4f8f-c887-73ebe2b2bc74"
      },
      "source": [
        "len(test_classes)"
      ],
      "execution_count": null,
      "outputs": [
        {
          "output_type": "execute_result",
          "data": {
            "text/plain": [
              "15007"
            ]
          },
          "metadata": {
            "tags": []
          },
          "execution_count": 75
        }
      ]
    },
    {
      "cell_type": "code",
      "metadata": {
        "id": "xPYPjT5aAJdP"
      },
      "source": [
        "test_classes_num = [classes_dict[x] for x in test_classes]"
      ],
      "execution_count": null,
      "outputs": []
    },
    {
      "cell_type": "code",
      "metadata": {
        "id": "2OtFTUwc9299"
      },
      "source": [
        "from sklearn.metrics import accuracy_score, precision_score, recall_score, f1_score, confusion_matrix\n",
        "\n",
        "def evaluate(test_list,y_list):\n",
        "\n",
        "  y_pred = []\n",
        "  for doc in test_list:\n",
        "    p = predict(' '.join(doc))\n",
        "    y_pred.append(p)\n",
        "\n",
        "  acc = accuracy_score(y_list,y_pred)\n",
        "  prec = precision_score(y_list,y_pred, average = None)\n",
        "  rec = recall_score(y_list,y_pred, average = None)\n",
        "  f1 = f1_score(y_list,y_pred, average = None)\n",
        "  conf_m = confusion_matrix (y_list,y_pred)\n",
        "\n",
        "  return y_pred , acc , prec , rec , f1 , conf_m"
      ],
      "execution_count": null,
      "outputs": []
    },
    {
      "cell_type": "code",
      "metadata": {
        "id": "X0cBvkNG-1Ln"
      },
      "source": [
        "#test\n",
        "y_pred , accuracy , precision , recall , f1_s , confusion_m = evaluate(test_data,test_classes_num)"
      ],
      "execution_count": null,
      "outputs": []
    },
    {
      "cell_type": "code",
      "metadata": {
        "id": "xRCHB_Rg6YnQ",
        "colab": {
          "base_uri": "https://localhost:8080/"
        },
        "outputId": "b617b82f-8ae2-45fa-baf8-a9026cc3be7b"
      },
      "source": [
        "print('Accuracy is : ' + str(accuracy))\n",
        "print('\\nPrecision is : ' + str(precision))\n",
        "print('\\nRecall is : ' + str(recall))\n",
        "print('\\nF1 score is : ' + str(f1_s))\n",
        "print('\\nConfusion Matrix :')\n",
        "print(confusion_m)"
      ],
      "execution_count": null,
      "outputs": [
        {
          "output_type": "stream",
          "text": [
            "Accuracy is : 0.8340774305324182\n",
            "\n",
            "Precision is : [0.79174368 0.92465961 0.82987552 0.83675937 0.81233062 0.35967302\n",
            " 0.97119056 0.82079343 0.34751773 0.20454545]\n",
            "\n",
            "Recall is : [0.79174368 0.90041249 0.78226858 0.7954023  0.69790454 0.69473684\n",
            " 0.91617551 0.88626292 0.7122093  0.32142857]\n",
            "\n",
            "F1 score is : [0.79174368 0.91237498 0.80536913 0.81555687 0.75078272 0.47396768\n",
            " 0.94288121 0.85227273 0.46711153 0.25      ]\n",
            "\n",
            "Confusion Matrix :\n",
            "[[1285  126   24   50   50    4    4   51   28    1]\n",
            " [  75 3056   17   99   17   42   21   11   54    2]\n",
            " [  49   11 1200   35   56   49   15   32   77   10]\n",
            " [  63   34   38 1384   91   37   13   28   38   14]\n",
            " [  77   22  113   58 1199   29   13   71  133    3]\n",
            " [   6    2    1    3    7  132    2    4    3   30]\n",
            " [  33   30   27   15   25   19 2798   43   62    2]\n",
            " [  27    9   18    7   16    5    7 1200   63    2]\n",
            " [   8   15    8    2   15   22    5   18  245    6]\n",
            " [   0    0    0    1    0   28    3    4    2   18]]\n"
          ],
          "name": "stdout"
        }
      ]
    },
    {
      "cell_type": "markdown",
      "metadata": {
        "id": "BIHQppzK8PHE"
      },
      "source": [
        "## ROC"
      ]
    },
    {
      "cell_type": "code",
      "metadata": {
        "id": "MxR_AiUlVxOx"
      },
      "source": [
        "from sklearn.metrics import roc_curve, auc\n",
        "from sklearn.preprocessing import label_binarize\n",
        "import matplotlib.pyplot as plt\n",
        "from itertools import cycle\n",
        "\n",
        "test_classes_num_bin = label_binarize(test_classes_num, classes=[0,1,2,3,4,5,6,7,8,9])\n",
        "y_pred_bin = label_binarize(y_pred, classes=[0,1,2,3,4,5,6,7,8,9])\n",
        "\n",
        "# Compute ROC curve and ROC area for each class\n",
        "fpr = dict()\n",
        "tpr = dict()\n",
        "roc_auc = dict()\n",
        "for i in range(len(set(classes_num))):\n",
        "    fpr[i], tpr[i], _ = roc_curve(test_classes_num_bin[: ,i], y_pred_bin[: ,i] , pos_label = None)\n",
        "    roc_auc[i] = auc(fpr[i], tpr[i])\n",
        "\n",
        "# Compute micro-average ROC curve and ROC area\n",
        "fpr[\"micro\"], tpr[\"micro\"], _ = roc_curve(test_classes_num_bin.ravel(), y_pred_bin.ravel())\n",
        "roc_auc[\"micro\"] = auc(fpr[\"micro\"], tpr[\"micro\"])"
      ],
      "execution_count": null,
      "outputs": []
    },
    {
      "cell_type": "code",
      "metadata": {
        "id": "CescJQ6PLgiH",
        "colab": {
          "base_uri": "https://localhost:8080/"
        },
        "outputId": "5265f6de-930e-4e79-8660-4853a55f2994"
      },
      "source": [
        "roc_auc"
      ],
      "execution_count": null,
      "outputs": [
        {
          "output_type": "execute_result",
          "data": {
            "text/plain": [
              "{0: 0.8832448249332757,\n",
              " 1: 0.9394855023232298,\n",
              " 2: 0.8820049195885614,\n",
              " 3: 0.8875255256972403,\n",
              " 4: 0.8385301164205675,\n",
              " 5: 0.8394383407394778,\n",
              " 6: 0.9546158220329339,\n",
              " 7: 0.9335365015193527,\n",
              " 8: 0.8404189115460684,\n",
              " 9: 0.6583733051778667,\n",
              " 'micro': 0.9078207947402325}"
            ]
          },
          "metadata": {
            "tags": []
          },
          "execution_count": 81
        }
      ]
    },
    {
      "cell_type": "code",
      "metadata": {
        "id": "3j_P0zB6FUt_",
        "colab": {
          "base_uri": "https://localhost:8080/",
          "height": 391
        },
        "outputId": "464c09a8-5917-47ef-b635-d2b72969b0b0"
      },
      "source": [
        "plt.figure()\n",
        "lw = 2\n",
        "\n",
        "plt.plot(fpr[0], tpr[0], color='green',\n",
        "         lw=lw, label='ROC curve (area = %0.2f)' % roc_auc[0])\n",
        "plt.plot(fpr[1], tpr[1], color='blue',\n",
        "         lw=lw, label='ROC curve (area = %0.2f)' % roc_auc[1])\n",
        "plt.plot(fpr[2], tpr[2], color='darkorange',\n",
        "         lw=lw, label='ROC curve (area = %0.2f)' % roc_auc[2])\n",
        "plt.plot(fpr[3], tpr[3], color='black',\n",
        "         lw=lw, label='ROC curve (area = %0.2f)' % roc_auc[3])\n",
        "plt.plot(fpr[4], tpr[4], color='red',\n",
        "         lw=lw, label='ROC curve (area = %0.2f)' % roc_auc[4])\n",
        "plt.plot(fpr[5], tpr[5], color='brown',\n",
        "         lw=lw, label='ROC curve (area = %0.2f)' % roc_auc[5])\n",
        "plt.plot(fpr[6], tpr[6], color='yellow',\n",
        "         lw=lw, label='ROC curve (area = %0.2f)' % roc_auc[6])\n",
        "plt.plot(fpr[7], tpr[7], color='pink',\n",
        "         lw=lw, label='ROC curve (area = %0.2f)' % roc_auc[7])\n",
        "plt.plot(fpr[8], tpr[8], color='darkgreen',\n",
        "         lw=lw, label='ROC curve (area = %0.2f)' % roc_auc[8])\n",
        "plt.plot(fpr[9], tpr[9], color='purple',\n",
        "         lw=lw, label='ROC curve (area = %0.2f)' % roc_auc[9])\n",
        "\n",
        "plt.plot([0, 1], [0, 1], color='navy', lw=lw, linestyle='--')\n",
        "plt.xlim([0.0, 1.0])\n",
        "plt.ylim([0.0, 1.05])\n",
        "plt.xlabel('False Positive Rate')\n",
        "plt.ylabel('True Positive Rate')\n",
        "plt.title('Receiver operating characteristic example')\n",
        "plt.legend(loc=\"lower right\")\n",
        "plt.show()"
      ],
      "execution_count": null,
      "outputs": [
        {
          "output_type": "display_data",
          "data": {
            "text/plain": [
              "<Figure size 432x288 with 1 Axes>"
            ],
            "image/svg+xml": "<?xml version=\"1.0\" encoding=\"utf-8\" standalone=\"no\"?>\n<!DOCTYPE svg PUBLIC \"-//W3C//DTD SVG 1.1//EN\"\n  \"http://www.w3.org/Graphics/SVG/1.1/DTD/svg11.dtd\">\n<!-- Created with matplotlib (https://matplotlib.org/) -->\n<svg height=\"277.314375pt\" version=\"1.1\" viewBox=\"0 0 393.732813 277.314375\" width=\"393.732813pt\" xmlns=\"http://www.w3.org/2000/svg\" xmlns:xlink=\"http://www.w3.org/1999/xlink\">\n <defs>\n  <style type=\"text/css\">\n*{stroke-linecap:butt;stroke-linejoin:round;}\n  </style>\n </defs>\n <g id=\"figure_1\">\n  <g id=\"patch_1\">\n   <path d=\"M 0 277.314375 \nL 393.732813 277.314375 \nL 393.732813 0 \nL 0 0 \nz\n\" style=\"fill:none;\"/>\n  </g>\n  <g id=\"axes_1\">\n   <g id=\"patch_2\">\n    <path d=\"M 43.78125 239.758125 \nL 378.58125 239.758125 \nL 378.58125 22.318125 \nL 43.78125 22.318125 \nz\n\" style=\"fill:#ffffff;\"/>\n   </g>\n   <g id=\"matplotlib.axis_1\">\n    <g id=\"xtick_1\">\n     <g id=\"line2d_1\">\n      <defs>\n       <path d=\"M 0 0 \nL 0 3.5 \n\" id=\"ma7b1ce45f6\" style=\"stroke:#000000;stroke-width:0.8;\"/>\n      </defs>\n      <g>\n       <use style=\"stroke:#000000;stroke-width:0.8;\" x=\"43.78125\" xlink:href=\"#ma7b1ce45f6\" y=\"239.758125\"/>\n      </g>\n     </g>\n     <g id=\"text_1\">\n      <!-- 0.0 -->\n      <defs>\n       <path d=\"M 31.78125 66.40625 \nQ 24.171875 66.40625 20.328125 58.90625 \nQ 16.5 51.421875 16.5 36.375 \nQ 16.5 21.390625 20.328125 13.890625 \nQ 24.171875 6.390625 31.78125 6.390625 \nQ 39.453125 6.390625 43.28125 13.890625 \nQ 47.125 21.390625 47.125 36.375 \nQ 47.125 51.421875 43.28125 58.90625 \nQ 39.453125 66.40625 31.78125 66.40625 \nz\nM 31.78125 74.21875 \nQ 44.046875 74.21875 50.515625 64.515625 \nQ 56.984375 54.828125 56.984375 36.375 \nQ 56.984375 17.96875 50.515625 8.265625 \nQ 44.046875 -1.421875 31.78125 -1.421875 \nQ 19.53125 -1.421875 13.0625 8.265625 \nQ 6.59375 17.96875 6.59375 36.375 \nQ 6.59375 54.828125 13.0625 64.515625 \nQ 19.53125 74.21875 31.78125 74.21875 \nz\n\" id=\"DejaVuSans-48\"/>\n       <path d=\"M 10.6875 12.40625 \nL 21 12.40625 \nL 21 0 \nL 10.6875 0 \nz\n\" id=\"DejaVuSans-46\"/>\n      </defs>\n      <g transform=\"translate(35.829688 254.356562)scale(0.1 -0.1)\">\n       <use xlink:href=\"#DejaVuSans-48\"/>\n       <use x=\"63.623047\" xlink:href=\"#DejaVuSans-46\"/>\n       <use x=\"95.410156\" xlink:href=\"#DejaVuSans-48\"/>\n      </g>\n     </g>\n    </g>\n    <g id=\"xtick_2\">\n     <g id=\"line2d_2\">\n      <g>\n       <use style=\"stroke:#000000;stroke-width:0.8;\" x=\"110.74125\" xlink:href=\"#ma7b1ce45f6\" y=\"239.758125\"/>\n      </g>\n     </g>\n     <g id=\"text_2\">\n      <!-- 0.2 -->\n      <defs>\n       <path d=\"M 19.1875 8.296875 \nL 53.609375 8.296875 \nL 53.609375 0 \nL 7.328125 0 \nL 7.328125 8.296875 \nQ 12.9375 14.109375 22.625 23.890625 \nQ 32.328125 33.6875 34.8125 36.53125 \nQ 39.546875 41.84375 41.421875 45.53125 \nQ 43.3125 49.21875 43.3125 52.78125 \nQ 43.3125 58.59375 39.234375 62.25 \nQ 35.15625 65.921875 28.609375 65.921875 \nQ 23.96875 65.921875 18.8125 64.3125 \nQ 13.671875 62.703125 7.8125 59.421875 \nL 7.8125 69.390625 \nQ 13.765625 71.78125 18.9375 73 \nQ 24.125 74.21875 28.421875 74.21875 \nQ 39.75 74.21875 46.484375 68.546875 \nQ 53.21875 62.890625 53.21875 53.421875 \nQ 53.21875 48.921875 51.53125 44.890625 \nQ 49.859375 40.875 45.40625 35.40625 \nQ 44.1875 33.984375 37.640625 27.21875 \nQ 31.109375 20.453125 19.1875 8.296875 \nz\n\" id=\"DejaVuSans-50\"/>\n      </defs>\n      <g transform=\"translate(102.789688 254.356562)scale(0.1 -0.1)\">\n       <use xlink:href=\"#DejaVuSans-48\"/>\n       <use x=\"63.623047\" xlink:href=\"#DejaVuSans-46\"/>\n       <use x=\"95.410156\" xlink:href=\"#DejaVuSans-50\"/>\n      </g>\n     </g>\n    </g>\n    <g id=\"xtick_3\">\n     <g id=\"line2d_3\">\n      <g>\n       <use style=\"stroke:#000000;stroke-width:0.8;\" x=\"177.70125\" xlink:href=\"#ma7b1ce45f6\" y=\"239.758125\"/>\n      </g>\n     </g>\n     <g id=\"text_3\">\n      <!-- 0.4 -->\n      <defs>\n       <path d=\"M 37.796875 64.3125 \nL 12.890625 25.390625 \nL 37.796875 25.390625 \nz\nM 35.203125 72.90625 \nL 47.609375 72.90625 \nL 47.609375 25.390625 \nL 58.015625 25.390625 \nL 58.015625 17.1875 \nL 47.609375 17.1875 \nL 47.609375 0 \nL 37.796875 0 \nL 37.796875 17.1875 \nL 4.890625 17.1875 \nL 4.890625 26.703125 \nz\n\" id=\"DejaVuSans-52\"/>\n      </defs>\n      <g transform=\"translate(169.749688 254.356562)scale(0.1 -0.1)\">\n       <use xlink:href=\"#DejaVuSans-48\"/>\n       <use x=\"63.623047\" xlink:href=\"#DejaVuSans-46\"/>\n       <use x=\"95.410156\" xlink:href=\"#DejaVuSans-52\"/>\n      </g>\n     </g>\n    </g>\n    <g id=\"xtick_4\">\n     <g id=\"line2d_4\">\n      <g>\n       <use style=\"stroke:#000000;stroke-width:0.8;\" x=\"244.66125\" xlink:href=\"#ma7b1ce45f6\" y=\"239.758125\"/>\n      </g>\n     </g>\n     <g id=\"text_4\">\n      <!-- 0.6 -->\n      <defs>\n       <path d=\"M 33.015625 40.375 \nQ 26.375 40.375 22.484375 35.828125 \nQ 18.609375 31.296875 18.609375 23.390625 \nQ 18.609375 15.53125 22.484375 10.953125 \nQ 26.375 6.390625 33.015625 6.390625 \nQ 39.65625 6.390625 43.53125 10.953125 \nQ 47.40625 15.53125 47.40625 23.390625 \nQ 47.40625 31.296875 43.53125 35.828125 \nQ 39.65625 40.375 33.015625 40.375 \nz\nM 52.59375 71.296875 \nL 52.59375 62.3125 \nQ 48.875 64.0625 45.09375 64.984375 \nQ 41.3125 65.921875 37.59375 65.921875 \nQ 27.828125 65.921875 22.671875 59.328125 \nQ 17.53125 52.734375 16.796875 39.40625 \nQ 19.671875 43.65625 24.015625 45.921875 \nQ 28.375 48.1875 33.59375 48.1875 \nQ 44.578125 48.1875 50.953125 41.515625 \nQ 57.328125 34.859375 57.328125 23.390625 \nQ 57.328125 12.15625 50.6875 5.359375 \nQ 44.046875 -1.421875 33.015625 -1.421875 \nQ 20.359375 -1.421875 13.671875 8.265625 \nQ 6.984375 17.96875 6.984375 36.375 \nQ 6.984375 53.65625 15.1875 63.9375 \nQ 23.390625 74.21875 37.203125 74.21875 \nQ 40.921875 74.21875 44.703125 73.484375 \nQ 48.484375 72.75 52.59375 71.296875 \nz\n\" id=\"DejaVuSans-54\"/>\n      </defs>\n      <g transform=\"translate(236.709688 254.356562)scale(0.1 -0.1)\">\n       <use xlink:href=\"#DejaVuSans-48\"/>\n       <use x=\"63.623047\" xlink:href=\"#DejaVuSans-46\"/>\n       <use x=\"95.410156\" xlink:href=\"#DejaVuSans-54\"/>\n      </g>\n     </g>\n    </g>\n    <g id=\"xtick_5\">\n     <g id=\"line2d_5\">\n      <g>\n       <use style=\"stroke:#000000;stroke-width:0.8;\" x=\"311.62125\" xlink:href=\"#ma7b1ce45f6\" y=\"239.758125\"/>\n      </g>\n     </g>\n     <g id=\"text_5\">\n      <!-- 0.8 -->\n      <defs>\n       <path d=\"M 31.78125 34.625 \nQ 24.75 34.625 20.71875 30.859375 \nQ 16.703125 27.09375 16.703125 20.515625 \nQ 16.703125 13.921875 20.71875 10.15625 \nQ 24.75 6.390625 31.78125 6.390625 \nQ 38.8125 6.390625 42.859375 10.171875 \nQ 46.921875 13.96875 46.921875 20.515625 \nQ 46.921875 27.09375 42.890625 30.859375 \nQ 38.875 34.625 31.78125 34.625 \nz\nM 21.921875 38.8125 \nQ 15.578125 40.375 12.03125 44.71875 \nQ 8.5 49.078125 8.5 55.328125 \nQ 8.5 64.0625 14.71875 69.140625 \nQ 20.953125 74.21875 31.78125 74.21875 \nQ 42.671875 74.21875 48.875 69.140625 \nQ 55.078125 64.0625 55.078125 55.328125 \nQ 55.078125 49.078125 51.53125 44.71875 \nQ 48 40.375 41.703125 38.8125 \nQ 48.828125 37.15625 52.796875 32.3125 \nQ 56.78125 27.484375 56.78125 20.515625 \nQ 56.78125 9.90625 50.3125 4.234375 \nQ 43.84375 -1.421875 31.78125 -1.421875 \nQ 19.734375 -1.421875 13.25 4.234375 \nQ 6.78125 9.90625 6.78125 20.515625 \nQ 6.78125 27.484375 10.78125 32.3125 \nQ 14.796875 37.15625 21.921875 38.8125 \nz\nM 18.3125 54.390625 \nQ 18.3125 48.734375 21.84375 45.5625 \nQ 25.390625 42.390625 31.78125 42.390625 \nQ 38.140625 42.390625 41.71875 45.5625 \nQ 45.3125 48.734375 45.3125 54.390625 \nQ 45.3125 60.0625 41.71875 63.234375 \nQ 38.140625 66.40625 31.78125 66.40625 \nQ 25.390625 66.40625 21.84375 63.234375 \nQ 18.3125 60.0625 18.3125 54.390625 \nz\n\" id=\"DejaVuSans-56\"/>\n      </defs>\n      <g transform=\"translate(303.669688 254.356562)scale(0.1 -0.1)\">\n       <use xlink:href=\"#DejaVuSans-48\"/>\n       <use x=\"63.623047\" xlink:href=\"#DejaVuSans-46\"/>\n       <use x=\"95.410156\" xlink:href=\"#DejaVuSans-56\"/>\n      </g>\n     </g>\n    </g>\n    <g id=\"xtick_6\">\n     <g id=\"line2d_6\">\n      <g>\n       <use style=\"stroke:#000000;stroke-width:0.8;\" x=\"378.58125\" xlink:href=\"#ma7b1ce45f6\" y=\"239.758125\"/>\n      </g>\n     </g>\n     <g id=\"text_6\">\n      <!-- 1.0 -->\n      <defs>\n       <path d=\"M 12.40625 8.296875 \nL 28.515625 8.296875 \nL 28.515625 63.921875 \nL 10.984375 60.40625 \nL 10.984375 69.390625 \nL 28.421875 72.90625 \nL 38.28125 72.90625 \nL 38.28125 8.296875 \nL 54.390625 8.296875 \nL 54.390625 0 \nL 12.40625 0 \nz\n\" id=\"DejaVuSans-49\"/>\n      </defs>\n      <g transform=\"translate(370.629687 254.356562)scale(0.1 -0.1)\">\n       <use xlink:href=\"#DejaVuSans-49\"/>\n       <use x=\"63.623047\" xlink:href=\"#DejaVuSans-46\"/>\n       <use x=\"95.410156\" xlink:href=\"#DejaVuSans-48\"/>\n      </g>\n     </g>\n    </g>\n    <g id=\"text_7\">\n     <!-- False Positive Rate -->\n     <defs>\n      <path d=\"M 9.8125 72.90625 \nL 51.703125 72.90625 \nL 51.703125 64.59375 \nL 19.671875 64.59375 \nL 19.671875 43.109375 \nL 48.578125 43.109375 \nL 48.578125 34.8125 \nL 19.671875 34.8125 \nL 19.671875 0 \nL 9.8125 0 \nz\n\" id=\"DejaVuSans-70\"/>\n      <path d=\"M 34.28125 27.484375 \nQ 23.390625 27.484375 19.1875 25 \nQ 14.984375 22.515625 14.984375 16.5 \nQ 14.984375 11.71875 18.140625 8.90625 \nQ 21.296875 6.109375 26.703125 6.109375 \nQ 34.1875 6.109375 38.703125 11.40625 \nQ 43.21875 16.703125 43.21875 25.484375 \nL 43.21875 27.484375 \nz\nM 52.203125 31.203125 \nL 52.203125 0 \nL 43.21875 0 \nL 43.21875 8.296875 \nQ 40.140625 3.328125 35.546875 0.953125 \nQ 30.953125 -1.421875 24.3125 -1.421875 \nQ 15.921875 -1.421875 10.953125 3.296875 \nQ 6 8.015625 6 15.921875 \nQ 6 25.140625 12.171875 29.828125 \nQ 18.359375 34.515625 30.609375 34.515625 \nL 43.21875 34.515625 \nL 43.21875 35.40625 \nQ 43.21875 41.609375 39.140625 45 \nQ 35.0625 48.390625 27.6875 48.390625 \nQ 23 48.390625 18.546875 47.265625 \nQ 14.109375 46.140625 10.015625 43.890625 \nL 10.015625 52.203125 \nQ 14.9375 54.109375 19.578125 55.046875 \nQ 24.21875 56 28.609375 56 \nQ 40.484375 56 46.34375 49.84375 \nQ 52.203125 43.703125 52.203125 31.203125 \nz\n\" id=\"DejaVuSans-97\"/>\n      <path d=\"M 9.421875 75.984375 \nL 18.40625 75.984375 \nL 18.40625 0 \nL 9.421875 0 \nz\n\" id=\"DejaVuSans-108\"/>\n      <path d=\"M 44.28125 53.078125 \nL 44.28125 44.578125 \nQ 40.484375 46.53125 36.375 47.5 \nQ 32.28125 48.484375 27.875 48.484375 \nQ 21.1875 48.484375 17.84375 46.4375 \nQ 14.5 44.390625 14.5 40.28125 \nQ 14.5 37.15625 16.890625 35.375 \nQ 19.28125 33.59375 26.515625 31.984375 \nL 29.59375 31.296875 \nQ 39.15625 29.25 43.1875 25.515625 \nQ 47.21875 21.78125 47.21875 15.09375 \nQ 47.21875 7.46875 41.1875 3.015625 \nQ 35.15625 -1.421875 24.609375 -1.421875 \nQ 20.21875 -1.421875 15.453125 -0.5625 \nQ 10.6875 0.296875 5.421875 2 \nL 5.421875 11.28125 \nQ 10.40625 8.6875 15.234375 7.390625 \nQ 20.0625 6.109375 24.8125 6.109375 \nQ 31.15625 6.109375 34.5625 8.28125 \nQ 37.984375 10.453125 37.984375 14.40625 \nQ 37.984375 18.0625 35.515625 20.015625 \nQ 33.0625 21.96875 24.703125 23.78125 \nL 21.578125 24.515625 \nQ 13.234375 26.265625 9.515625 29.90625 \nQ 5.8125 33.546875 5.8125 39.890625 \nQ 5.8125 47.609375 11.28125 51.796875 \nQ 16.75 56 26.8125 56 \nQ 31.78125 56 36.171875 55.265625 \nQ 40.578125 54.546875 44.28125 53.078125 \nz\n\" id=\"DejaVuSans-115\"/>\n      <path d=\"M 56.203125 29.59375 \nL 56.203125 25.203125 \nL 14.890625 25.203125 \nQ 15.484375 15.921875 20.484375 11.0625 \nQ 25.484375 6.203125 34.421875 6.203125 \nQ 39.59375 6.203125 44.453125 7.46875 \nQ 49.3125 8.734375 54.109375 11.28125 \nL 54.109375 2.78125 \nQ 49.265625 0.734375 44.1875 -0.34375 \nQ 39.109375 -1.421875 33.890625 -1.421875 \nQ 20.796875 -1.421875 13.15625 6.1875 \nQ 5.515625 13.8125 5.515625 26.8125 \nQ 5.515625 40.234375 12.765625 48.109375 \nQ 20.015625 56 32.328125 56 \nQ 43.359375 56 49.78125 48.890625 \nQ 56.203125 41.796875 56.203125 29.59375 \nz\nM 47.21875 32.234375 \nQ 47.125 39.59375 43.09375 43.984375 \nQ 39.0625 48.390625 32.421875 48.390625 \nQ 24.90625 48.390625 20.390625 44.140625 \nQ 15.875 39.890625 15.1875 32.171875 \nz\n\" id=\"DejaVuSans-101\"/>\n      <path id=\"DejaVuSans-32\"/>\n      <path d=\"M 19.671875 64.796875 \nL 19.671875 37.40625 \nL 32.078125 37.40625 \nQ 38.96875 37.40625 42.71875 40.96875 \nQ 46.484375 44.53125 46.484375 51.125 \nQ 46.484375 57.671875 42.71875 61.234375 \nQ 38.96875 64.796875 32.078125 64.796875 \nz\nM 9.8125 72.90625 \nL 32.078125 72.90625 \nQ 44.34375 72.90625 50.609375 67.359375 \nQ 56.890625 61.8125 56.890625 51.125 \nQ 56.890625 40.328125 50.609375 34.8125 \nQ 44.34375 29.296875 32.078125 29.296875 \nL 19.671875 29.296875 \nL 19.671875 0 \nL 9.8125 0 \nz\n\" id=\"DejaVuSans-80\"/>\n      <path d=\"M 30.609375 48.390625 \nQ 23.390625 48.390625 19.1875 42.75 \nQ 14.984375 37.109375 14.984375 27.296875 \nQ 14.984375 17.484375 19.15625 11.84375 \nQ 23.34375 6.203125 30.609375 6.203125 \nQ 37.796875 6.203125 41.984375 11.859375 \nQ 46.1875 17.53125 46.1875 27.296875 \nQ 46.1875 37.015625 41.984375 42.703125 \nQ 37.796875 48.390625 30.609375 48.390625 \nz\nM 30.609375 56 \nQ 42.328125 56 49.015625 48.375 \nQ 55.71875 40.765625 55.71875 27.296875 \nQ 55.71875 13.875 49.015625 6.21875 \nQ 42.328125 -1.421875 30.609375 -1.421875 \nQ 18.84375 -1.421875 12.171875 6.21875 \nQ 5.515625 13.875 5.515625 27.296875 \nQ 5.515625 40.765625 12.171875 48.375 \nQ 18.84375 56 30.609375 56 \nz\n\" id=\"DejaVuSans-111\"/>\n      <path d=\"M 9.421875 54.6875 \nL 18.40625 54.6875 \nL 18.40625 0 \nL 9.421875 0 \nz\nM 9.421875 75.984375 \nL 18.40625 75.984375 \nL 18.40625 64.59375 \nL 9.421875 64.59375 \nz\n\" id=\"DejaVuSans-105\"/>\n      <path d=\"M 18.3125 70.21875 \nL 18.3125 54.6875 \nL 36.8125 54.6875 \nL 36.8125 47.703125 \nL 18.3125 47.703125 \nL 18.3125 18.015625 \nQ 18.3125 11.328125 20.140625 9.421875 \nQ 21.96875 7.515625 27.59375 7.515625 \nL 36.8125 7.515625 \nL 36.8125 0 \nL 27.59375 0 \nQ 17.1875 0 13.234375 3.875 \nQ 9.28125 7.765625 9.28125 18.015625 \nL 9.28125 47.703125 \nL 2.6875 47.703125 \nL 2.6875 54.6875 \nL 9.28125 54.6875 \nL 9.28125 70.21875 \nz\n\" id=\"DejaVuSans-116\"/>\n      <path d=\"M 2.984375 54.6875 \nL 12.5 54.6875 \nL 29.59375 8.796875 \nL 46.6875 54.6875 \nL 56.203125 54.6875 \nL 35.6875 0 \nL 23.484375 0 \nz\n\" id=\"DejaVuSans-118\"/>\n      <path d=\"M 44.390625 34.1875 \nQ 47.5625 33.109375 50.5625 29.59375 \nQ 53.5625 26.078125 56.59375 19.921875 \nL 66.609375 0 \nL 56 0 \nL 46.6875 18.703125 \nQ 43.0625 26.03125 39.671875 28.421875 \nQ 36.28125 30.8125 30.421875 30.8125 \nL 19.671875 30.8125 \nL 19.671875 0 \nL 9.8125 0 \nL 9.8125 72.90625 \nL 32.078125 72.90625 \nQ 44.578125 72.90625 50.734375 67.671875 \nQ 56.890625 62.453125 56.890625 51.90625 \nQ 56.890625 45.015625 53.6875 40.46875 \nQ 50.484375 35.9375 44.390625 34.1875 \nz\nM 19.671875 64.796875 \nL 19.671875 38.921875 \nL 32.078125 38.921875 \nQ 39.203125 38.921875 42.84375 42.21875 \nQ 46.484375 45.515625 46.484375 51.90625 \nQ 46.484375 58.296875 42.84375 61.546875 \nQ 39.203125 64.796875 32.078125 64.796875 \nz\n\" id=\"DejaVuSans-82\"/>\n     </defs>\n     <g transform=\"translate(164.714844 268.034687)scale(0.1 -0.1)\">\n      <use xlink:href=\"#DejaVuSans-70\"/>\n      <use x=\"48.394531\" xlink:href=\"#DejaVuSans-97\"/>\n      <use x=\"109.673828\" xlink:href=\"#DejaVuSans-108\"/>\n      <use x=\"137.457031\" xlink:href=\"#DejaVuSans-115\"/>\n      <use x=\"189.556641\" xlink:href=\"#DejaVuSans-101\"/>\n      <use x=\"251.080078\" xlink:href=\"#DejaVuSans-32\"/>\n      <use x=\"282.867188\" xlink:href=\"#DejaVuSans-80\"/>\n      <use x=\"339.544922\" xlink:href=\"#DejaVuSans-111\"/>\n      <use x=\"400.726562\" xlink:href=\"#DejaVuSans-115\"/>\n      <use x=\"452.826172\" xlink:href=\"#DejaVuSans-105\"/>\n      <use x=\"480.609375\" xlink:href=\"#DejaVuSans-116\"/>\n      <use x=\"519.818359\" xlink:href=\"#DejaVuSans-105\"/>\n      <use x=\"547.601562\" xlink:href=\"#DejaVuSans-118\"/>\n      <use x=\"606.78125\" xlink:href=\"#DejaVuSans-101\"/>\n      <use x=\"668.304688\" xlink:href=\"#DejaVuSans-32\"/>\n      <use x=\"700.091797\" xlink:href=\"#DejaVuSans-82\"/>\n      <use x=\"767.324219\" xlink:href=\"#DejaVuSans-97\"/>\n      <use x=\"828.603516\" xlink:href=\"#DejaVuSans-116\"/>\n      <use x=\"867.8125\" xlink:href=\"#DejaVuSans-101\"/>\n     </g>\n    </g>\n   </g>\n   <g id=\"matplotlib.axis_2\">\n    <g id=\"ytick_1\">\n     <g id=\"line2d_7\">\n      <defs>\n       <path d=\"M 0 0 \nL -3.5 0 \n\" id=\"m0840e2f3eb\" style=\"stroke:#000000;stroke-width:0.8;\"/>\n      </defs>\n      <g>\n       <use style=\"stroke:#000000;stroke-width:0.8;\" x=\"43.78125\" xlink:href=\"#m0840e2f3eb\" y=\"239.758125\"/>\n      </g>\n     </g>\n     <g id=\"text_8\">\n      <!-- 0.0 -->\n      <g transform=\"translate(20.878125 243.557344)scale(0.1 -0.1)\">\n       <use xlink:href=\"#DejaVuSans-48\"/>\n       <use x=\"63.623047\" xlink:href=\"#DejaVuSans-46\"/>\n       <use x=\"95.410156\" xlink:href=\"#DejaVuSans-48\"/>\n      </g>\n     </g>\n    </g>\n    <g id=\"ytick_2\">\n     <g id=\"line2d_8\">\n      <g>\n       <use style=\"stroke:#000000;stroke-width:0.8;\" x=\"43.78125\" xlink:href=\"#m0840e2f3eb\" y=\"198.340982\"/>\n      </g>\n     </g>\n     <g id=\"text_9\">\n      <!-- 0.2 -->\n      <g transform=\"translate(20.878125 202.140201)scale(0.1 -0.1)\">\n       <use xlink:href=\"#DejaVuSans-48\"/>\n       <use x=\"63.623047\" xlink:href=\"#DejaVuSans-46\"/>\n       <use x=\"95.410156\" xlink:href=\"#DejaVuSans-50\"/>\n      </g>\n     </g>\n    </g>\n    <g id=\"ytick_3\">\n     <g id=\"line2d_9\">\n      <g>\n       <use style=\"stroke:#000000;stroke-width:0.8;\" x=\"43.78125\" xlink:href=\"#m0840e2f3eb\" y=\"156.923839\"/>\n      </g>\n     </g>\n     <g id=\"text_10\">\n      <!-- 0.4 -->\n      <g transform=\"translate(20.878125 160.723058)scale(0.1 -0.1)\">\n       <use xlink:href=\"#DejaVuSans-48\"/>\n       <use x=\"63.623047\" xlink:href=\"#DejaVuSans-46\"/>\n       <use x=\"95.410156\" xlink:href=\"#DejaVuSans-52\"/>\n      </g>\n     </g>\n    </g>\n    <g id=\"ytick_4\">\n     <g id=\"line2d_10\">\n      <g>\n       <use style=\"stroke:#000000;stroke-width:0.8;\" x=\"43.78125\" xlink:href=\"#m0840e2f3eb\" y=\"115.506696\"/>\n      </g>\n     </g>\n     <g id=\"text_11\">\n      <!-- 0.6 -->\n      <g transform=\"translate(20.878125 119.305915)scale(0.1 -0.1)\">\n       <use xlink:href=\"#DejaVuSans-48\"/>\n       <use x=\"63.623047\" xlink:href=\"#DejaVuSans-46\"/>\n       <use x=\"95.410156\" xlink:href=\"#DejaVuSans-54\"/>\n      </g>\n     </g>\n    </g>\n    <g id=\"ytick_5\">\n     <g id=\"line2d_11\">\n      <g>\n       <use style=\"stroke:#000000;stroke-width:0.8;\" x=\"43.78125\" xlink:href=\"#m0840e2f3eb\" y=\"74.089554\"/>\n      </g>\n     </g>\n     <g id=\"text_12\">\n      <!-- 0.8 -->\n      <g transform=\"translate(20.878125 77.888772)scale(0.1 -0.1)\">\n       <use xlink:href=\"#DejaVuSans-48\"/>\n       <use x=\"63.623047\" xlink:href=\"#DejaVuSans-46\"/>\n       <use x=\"95.410156\" xlink:href=\"#DejaVuSans-56\"/>\n      </g>\n     </g>\n    </g>\n    <g id=\"ytick_6\">\n     <g id=\"line2d_12\">\n      <g>\n       <use style=\"stroke:#000000;stroke-width:0.8;\" x=\"43.78125\" xlink:href=\"#m0840e2f3eb\" y=\"32.672411\"/>\n      </g>\n     </g>\n     <g id=\"text_13\">\n      <!-- 1.0 -->\n      <g transform=\"translate(20.878125 36.471629)scale(0.1 -0.1)\">\n       <use xlink:href=\"#DejaVuSans-49\"/>\n       <use x=\"63.623047\" xlink:href=\"#DejaVuSans-46\"/>\n       <use x=\"95.410156\" xlink:href=\"#DejaVuSans-48\"/>\n      </g>\n     </g>\n    </g>\n    <g id=\"text_14\">\n     <!-- True Positive Rate -->\n     <defs>\n      <path d=\"M -0.296875 72.90625 \nL 61.375 72.90625 \nL 61.375 64.59375 \nL 35.5 64.59375 \nL 35.5 0 \nL 25.59375 0 \nL 25.59375 64.59375 \nL -0.296875 64.59375 \nz\n\" id=\"DejaVuSans-84\"/>\n      <path d=\"M 41.109375 46.296875 \nQ 39.59375 47.171875 37.8125 47.578125 \nQ 36.03125 48 33.890625 48 \nQ 26.265625 48 22.1875 43.046875 \nQ 18.109375 38.09375 18.109375 28.8125 \nL 18.109375 0 \nL 9.078125 0 \nL 9.078125 54.6875 \nL 18.109375 54.6875 \nL 18.109375 46.1875 \nQ 20.953125 51.171875 25.484375 53.578125 \nQ 30.03125 56 36.53125 56 \nQ 37.453125 56 38.578125 55.875 \nQ 39.703125 55.765625 41.0625 55.515625 \nz\n\" id=\"DejaVuSans-114\"/>\n      <path d=\"M 8.5 21.578125 \nL 8.5 54.6875 \nL 17.484375 54.6875 \nL 17.484375 21.921875 \nQ 17.484375 14.15625 20.5 10.265625 \nQ 23.53125 6.390625 29.59375 6.390625 \nQ 36.859375 6.390625 41.078125 11.03125 \nQ 45.3125 15.671875 45.3125 23.6875 \nL 45.3125 54.6875 \nL 54.296875 54.6875 \nL 54.296875 0 \nL 45.3125 0 \nL 45.3125 8.40625 \nQ 42.046875 3.421875 37.71875 1 \nQ 33.40625 -1.421875 27.6875 -1.421875 \nQ 18.265625 -1.421875 13.375 4.4375 \nQ 8.5 10.296875 8.5 21.578125 \nz\nM 31.109375 56 \nz\n\" id=\"DejaVuSans-117\"/>\n     </defs>\n     <g transform=\"translate(14.798438 175.567812)rotate(-90)scale(0.1 -0.1)\">\n      <use xlink:href=\"#DejaVuSans-84\"/>\n      <use x=\"46.333984\" xlink:href=\"#DejaVuSans-114\"/>\n      <use x=\"87.447266\" xlink:href=\"#DejaVuSans-117\"/>\n      <use x=\"150.826172\" xlink:href=\"#DejaVuSans-101\"/>\n      <use x=\"212.349609\" xlink:href=\"#DejaVuSans-32\"/>\n      <use x=\"244.136719\" xlink:href=\"#DejaVuSans-80\"/>\n      <use x=\"300.814453\" xlink:href=\"#DejaVuSans-111\"/>\n      <use x=\"361.996094\" xlink:href=\"#DejaVuSans-115\"/>\n      <use x=\"414.095703\" xlink:href=\"#DejaVuSans-105\"/>\n      <use x=\"441.878906\" xlink:href=\"#DejaVuSans-116\"/>\n      <use x=\"481.087891\" xlink:href=\"#DejaVuSans-105\"/>\n      <use x=\"508.871094\" xlink:href=\"#DejaVuSans-118\"/>\n      <use x=\"568.050781\" xlink:href=\"#DejaVuSans-101\"/>\n      <use x=\"629.574219\" xlink:href=\"#DejaVuSans-32\"/>\n      <use x=\"661.361328\" xlink:href=\"#DejaVuSans-82\"/>\n      <use x=\"728.59375\" xlink:href=\"#DejaVuSans-97\"/>\n      <use x=\"789.873047\" xlink:href=\"#DejaVuSans-116\"/>\n      <use x=\"829.082031\" xlink:href=\"#DejaVuSans-101\"/>\n     </g>\n    </g>\n   </g>\n   <g id=\"line2d_13\">\n    <path clip-path=\"url(#p7629b30d40)\" d=\"M 43.78125 239.758125 \nL 52.236301 75.799319 \nL 378.58125 32.672411 \n\" style=\"fill:none;stroke:#008000;stroke-linecap:square;stroke-width:2;\"/>\n   </g>\n   <g id=\"line2d_14\">\n    <path clip-path=\"url(#p7629b30d40)\" d=\"M 43.78125 239.758125 \nL 50.95986 53.295561 \nL 378.58125 32.672411 \n\" style=\"fill:none;stroke:#0000ff;stroke-linecap:square;stroke-width:2;\"/>\n   </g>\n   <g id=\"line2d_15\">\n    <path clip-path=\"url(#p7629b30d40)\" d=\"M 43.78125 239.758125 \nL 49.894276 77.761478 \nL 378.58125 32.672411 \n\" style=\"fill:none;stroke:#ff8c00;stroke-linecap:square;stroke-width:2;\"/>\n   </g>\n   <g id=\"line2d_16\">\n    <path clip-path=\"url(#p7629b30d40)\" d=\"M 43.78125 239.758125 \nL 50.594848 75.041672 \nL 378.58125 32.672411 \n\" style=\"fill:none;stroke:#000000;stroke-linecap:square;stroke-width:2;\"/>\n   </g>\n   <g id=\"line2d_17\">\n    <path clip-path=\"url(#p7629b30d40)\" d=\"M 43.78125 239.758125 \nL 50.759924 95.232065 \nL 378.58125 32.672411 \n\" style=\"fill:none;stroke:#ff0000;stroke-linecap:square;stroke-width:2;\"/>\n   </g>\n   <g id=\"line2d_18\">\n    <path clip-path=\"url(#p7629b30d40)\" d=\"M 43.78125 239.758125 \nL 49.091232 95.88805 \nL 378.58125 32.672411 \n\" style=\"fill:none;stroke:#a52a2a;stroke-linecap:square;stroke-width:2;\"/>\n   </g>\n   <g id=\"line2d_19\">\n    <path clip-path=\"url(#p7629b30d40)\" d=\"M 43.78125 239.758125 \nL 46.106055 50.031266 \nL 378.58125 32.672411 \n\" style=\"fill:none;stroke:#ffff00;stroke-linecap:square;stroke-width:2;\"/>\n   </g>\n   <g id=\"line2d_20\">\n    <path clip-path=\"url(#p7629b30d40)\" d=\"M 43.78125 239.758125 \nL 50.206036 56.225734 \nL 378.58125 32.672411 \n\" style=\"fill:none;stroke:#ffc0cb;stroke-linecap:square;stroke-width:2;\"/>\n   </g>\n   <g id=\"line2d_21\">\n    <path clip-path=\"url(#p7629b30d40)\" d=\"M 43.78125 239.758125 \nL 54.284421 92.269753 \nL 378.58125 32.672411 \n\" style=\"fill:none;stroke:#006400;stroke-linecap:square;stroke-width:2;\"/>\n   </g>\n   <g id=\"line2d_22\">\n    <path clip-path=\"url(#p7629b30d40)\" d=\"M 43.78125 239.758125 \nL 45.348771 173.19486 \nL 378.58125 32.672411 \n\" style=\"fill:none;stroke:#800080;stroke-linecap:square;stroke-width:2;\"/>\n   </g>\n   <g id=\"line2d_23\">\n    <path clip-path=\"url(#p7629b30d40)\" d=\"M 43.78125 239.758125 \nL 378.58125 32.672411 \n\" style=\"fill:none;stroke:#000080;stroke-dasharray:7.4,3.2;stroke-dashoffset:0;stroke-width:2;\"/>\n   </g>\n   <g id=\"patch_3\">\n    <path d=\"M 43.78125 239.758125 \nL 43.78125 22.318125 \n\" style=\"fill:none;stroke:#000000;stroke-linecap:square;stroke-linejoin:miter;stroke-width:0.8;\"/>\n   </g>\n   <g id=\"patch_4\">\n    <path d=\"M 378.58125 239.758125 \nL 378.58125 22.318125 \n\" style=\"fill:none;stroke:#000000;stroke-linecap:square;stroke-linejoin:miter;stroke-width:0.8;\"/>\n   </g>\n   <g id=\"patch_5\">\n    <path d=\"M 43.78125 239.758125 \nL 378.58125 239.758125 \n\" style=\"fill:none;stroke:#000000;stroke-linecap:square;stroke-linejoin:miter;stroke-width:0.8;\"/>\n   </g>\n   <g id=\"patch_6\">\n    <path d=\"M 43.78125 22.318125 \nL 378.58125 22.318125 \n\" style=\"fill:none;stroke:#000000;stroke-linecap:square;stroke-linejoin:miter;stroke-width:0.8;\"/>\n   </g>\n   <g id=\"text_15\">\n    <!-- Receiver operating characteristic example -->\n    <defs>\n     <path d=\"M 48.78125 52.59375 \nL 48.78125 44.1875 \nQ 44.96875 46.296875 41.140625 47.34375 \nQ 37.3125 48.390625 33.40625 48.390625 \nQ 24.65625 48.390625 19.8125 42.84375 \nQ 14.984375 37.3125 14.984375 27.296875 \nQ 14.984375 17.28125 19.8125 11.734375 \nQ 24.65625 6.203125 33.40625 6.203125 \nQ 37.3125 6.203125 41.140625 7.25 \nQ 44.96875 8.296875 48.78125 10.40625 \nL 48.78125 2.09375 \nQ 45.015625 0.34375 40.984375 -0.53125 \nQ 36.96875 -1.421875 32.421875 -1.421875 \nQ 20.0625 -1.421875 12.78125 6.34375 \nQ 5.515625 14.109375 5.515625 27.296875 \nQ 5.515625 40.671875 12.859375 48.328125 \nQ 20.21875 56 33.015625 56 \nQ 37.15625 56 41.109375 55.140625 \nQ 45.0625 54.296875 48.78125 52.59375 \nz\n\" id=\"DejaVuSans-99\"/>\n     <path d=\"M 18.109375 8.203125 \nL 18.109375 -20.796875 \nL 9.078125 -20.796875 \nL 9.078125 54.6875 \nL 18.109375 54.6875 \nL 18.109375 46.390625 \nQ 20.953125 51.265625 25.265625 53.625 \nQ 29.59375 56 35.59375 56 \nQ 45.5625 56 51.78125 48.09375 \nQ 58.015625 40.1875 58.015625 27.296875 \nQ 58.015625 14.40625 51.78125 6.484375 \nQ 45.5625 -1.421875 35.59375 -1.421875 \nQ 29.59375 -1.421875 25.265625 0.953125 \nQ 20.953125 3.328125 18.109375 8.203125 \nz\nM 48.6875 27.296875 \nQ 48.6875 37.203125 44.609375 42.84375 \nQ 40.53125 48.484375 33.40625 48.484375 \nQ 26.265625 48.484375 22.1875 42.84375 \nQ 18.109375 37.203125 18.109375 27.296875 \nQ 18.109375 17.390625 22.1875 11.75 \nQ 26.265625 6.109375 33.40625 6.109375 \nQ 40.53125 6.109375 44.609375 11.75 \nQ 48.6875 17.390625 48.6875 27.296875 \nz\n\" id=\"DejaVuSans-112\"/>\n     <path d=\"M 54.890625 33.015625 \nL 54.890625 0 \nL 45.90625 0 \nL 45.90625 32.71875 \nQ 45.90625 40.484375 42.875 44.328125 \nQ 39.84375 48.1875 33.796875 48.1875 \nQ 26.515625 48.1875 22.3125 43.546875 \nQ 18.109375 38.921875 18.109375 30.90625 \nL 18.109375 0 \nL 9.078125 0 \nL 9.078125 54.6875 \nL 18.109375 54.6875 \nL 18.109375 46.1875 \nQ 21.34375 51.125 25.703125 53.5625 \nQ 30.078125 56 35.796875 56 \nQ 45.21875 56 50.046875 50.171875 \nQ 54.890625 44.34375 54.890625 33.015625 \nz\n\" id=\"DejaVuSans-110\"/>\n     <path d=\"M 45.40625 27.984375 \nQ 45.40625 37.75 41.375 43.109375 \nQ 37.359375 48.484375 30.078125 48.484375 \nQ 22.859375 48.484375 18.828125 43.109375 \nQ 14.796875 37.75 14.796875 27.984375 \nQ 14.796875 18.265625 18.828125 12.890625 \nQ 22.859375 7.515625 30.078125 7.515625 \nQ 37.359375 7.515625 41.375 12.890625 \nQ 45.40625 18.265625 45.40625 27.984375 \nz\nM 54.390625 6.78125 \nQ 54.390625 -7.171875 48.1875 -13.984375 \nQ 42 -20.796875 29.203125 -20.796875 \nQ 24.46875 -20.796875 20.265625 -20.09375 \nQ 16.0625 -19.390625 12.109375 -17.921875 \nL 12.109375 -9.1875 \nQ 16.0625 -11.328125 19.921875 -12.34375 \nQ 23.78125 -13.375 27.78125 -13.375 \nQ 36.625 -13.375 41.015625 -8.765625 \nQ 45.40625 -4.15625 45.40625 5.171875 \nL 45.40625 9.625 \nQ 42.625 4.78125 38.28125 2.390625 \nQ 33.9375 0 27.875 0 \nQ 17.828125 0 11.671875 7.65625 \nQ 5.515625 15.328125 5.515625 27.984375 \nQ 5.515625 40.671875 11.671875 48.328125 \nQ 17.828125 56 27.875 56 \nQ 33.9375 56 38.28125 53.609375 \nQ 42.625 51.21875 45.40625 46.390625 \nL 45.40625 54.6875 \nL 54.390625 54.6875 \nz\n\" id=\"DejaVuSans-103\"/>\n     <path d=\"M 54.890625 33.015625 \nL 54.890625 0 \nL 45.90625 0 \nL 45.90625 32.71875 \nQ 45.90625 40.484375 42.875 44.328125 \nQ 39.84375 48.1875 33.796875 48.1875 \nQ 26.515625 48.1875 22.3125 43.546875 \nQ 18.109375 38.921875 18.109375 30.90625 \nL 18.109375 0 \nL 9.078125 0 \nL 9.078125 75.984375 \nL 18.109375 75.984375 \nL 18.109375 46.1875 \nQ 21.34375 51.125 25.703125 53.5625 \nQ 30.078125 56 35.796875 56 \nQ 45.21875 56 50.046875 50.171875 \nQ 54.890625 44.34375 54.890625 33.015625 \nz\n\" id=\"DejaVuSans-104\"/>\n     <path d=\"M 54.890625 54.6875 \nL 35.109375 28.078125 \nL 55.90625 0 \nL 45.3125 0 \nL 29.390625 21.484375 \nL 13.484375 0 \nL 2.875 0 \nL 24.125 28.609375 \nL 4.6875 54.6875 \nL 15.28125 54.6875 \nL 29.78125 35.203125 \nL 44.28125 54.6875 \nz\n\" id=\"DejaVuSans-120\"/>\n     <path d=\"M 52 44.1875 \nQ 55.375 50.25 60.0625 53.125 \nQ 64.75 56 71.09375 56 \nQ 79.640625 56 84.28125 50.015625 \nQ 88.921875 44.046875 88.921875 33.015625 \nL 88.921875 0 \nL 79.890625 0 \nL 79.890625 32.71875 \nQ 79.890625 40.578125 77.09375 44.375 \nQ 74.3125 48.1875 68.609375 48.1875 \nQ 61.625 48.1875 57.5625 43.546875 \nQ 53.515625 38.921875 53.515625 30.90625 \nL 53.515625 0 \nL 44.484375 0 \nL 44.484375 32.71875 \nQ 44.484375 40.625 41.703125 44.40625 \nQ 38.921875 48.1875 33.109375 48.1875 \nQ 26.21875 48.1875 22.15625 43.53125 \nQ 18.109375 38.875 18.109375 30.90625 \nL 18.109375 0 \nL 9.078125 0 \nL 9.078125 54.6875 \nL 18.109375 54.6875 \nL 18.109375 46.1875 \nQ 21.1875 51.21875 25.484375 53.609375 \nQ 29.78125 56 35.6875 56 \nQ 41.65625 56 45.828125 52.96875 \nQ 50 49.953125 52 44.1875 \nz\n\" id=\"DejaVuSans-109\"/>\n    </defs>\n    <g transform=\"translate(83.886563 16.318125)scale(0.12 -0.12)\">\n     <use xlink:href=\"#DejaVuSans-82\"/>\n     <use x=\"64.982422\" xlink:href=\"#DejaVuSans-101\"/>\n     <use x=\"126.505859\" xlink:href=\"#DejaVuSans-99\"/>\n     <use x=\"181.486328\" xlink:href=\"#DejaVuSans-101\"/>\n     <use x=\"243.009766\" xlink:href=\"#DejaVuSans-105\"/>\n     <use x=\"270.792969\" xlink:href=\"#DejaVuSans-118\"/>\n     <use x=\"329.972656\" xlink:href=\"#DejaVuSans-101\"/>\n     <use x=\"391.496094\" xlink:href=\"#DejaVuSans-114\"/>\n     <use x=\"432.609375\" xlink:href=\"#DejaVuSans-32\"/>\n     <use x=\"464.396484\" xlink:href=\"#DejaVuSans-111\"/>\n     <use x=\"525.578125\" xlink:href=\"#DejaVuSans-112\"/>\n     <use x=\"589.054688\" xlink:href=\"#DejaVuSans-101\"/>\n     <use x=\"650.578125\" xlink:href=\"#DejaVuSans-114\"/>\n     <use x=\"691.691406\" xlink:href=\"#DejaVuSans-97\"/>\n     <use x=\"752.970703\" xlink:href=\"#DejaVuSans-116\"/>\n     <use x=\"792.179688\" xlink:href=\"#DejaVuSans-105\"/>\n     <use x=\"819.962891\" xlink:href=\"#DejaVuSans-110\"/>\n     <use x=\"883.341797\" xlink:href=\"#DejaVuSans-103\"/>\n     <use x=\"946.818359\" xlink:href=\"#DejaVuSans-32\"/>\n     <use x=\"978.605469\" xlink:href=\"#DejaVuSans-99\"/>\n     <use x=\"1033.585938\" xlink:href=\"#DejaVuSans-104\"/>\n     <use x=\"1096.964844\" xlink:href=\"#DejaVuSans-97\"/>\n     <use x=\"1158.244141\" xlink:href=\"#DejaVuSans-114\"/>\n     <use x=\"1199.357422\" xlink:href=\"#DejaVuSans-97\"/>\n     <use x=\"1260.636719\" xlink:href=\"#DejaVuSans-99\"/>\n     <use x=\"1315.617188\" xlink:href=\"#DejaVuSans-116\"/>\n     <use x=\"1354.826172\" xlink:href=\"#DejaVuSans-101\"/>\n     <use x=\"1416.349609\" xlink:href=\"#DejaVuSans-114\"/>\n     <use x=\"1457.462891\" xlink:href=\"#DejaVuSans-105\"/>\n     <use x=\"1485.246094\" xlink:href=\"#DejaVuSans-115\"/>\n     <use x=\"1537.345703\" xlink:href=\"#DejaVuSans-116\"/>\n     <use x=\"1576.554688\" xlink:href=\"#DejaVuSans-105\"/>\n     <use x=\"1604.337891\" xlink:href=\"#DejaVuSans-99\"/>\n     <use x=\"1659.318359\" xlink:href=\"#DejaVuSans-32\"/>\n     <use x=\"1691.105469\" xlink:href=\"#DejaVuSans-101\"/>\n     <use x=\"1750.878906\" xlink:href=\"#DejaVuSans-120\"/>\n     <use x=\"1810.058594\" xlink:href=\"#DejaVuSans-97\"/>\n     <use x=\"1871.337891\" xlink:href=\"#DejaVuSans-109\"/>\n     <use x=\"1968.75\" xlink:href=\"#DejaVuSans-112\"/>\n     <use x=\"2032.226562\" xlink:href=\"#DejaVuSans-108\"/>\n     <use x=\"2060.009766\" xlink:href=\"#DejaVuSans-101\"/>\n    </g>\n   </g>\n   <g id=\"legend_1\">\n    <g id=\"patch_7\">\n     <path d=\"M 216.303125 234.758125 \nL 371.58125 234.758125 \nQ 373.58125 234.758125 373.58125 232.758125 \nL 373.58125 86.976875 \nQ 373.58125 84.976875 371.58125 84.976875 \nL 216.303125 84.976875 \nQ 214.303125 84.976875 214.303125 86.976875 \nL 214.303125 232.758125 \nQ 214.303125 234.758125 216.303125 234.758125 \nz\n\" style=\"fill:#ffffff;opacity:0.8;stroke:#cccccc;stroke-linejoin:miter;\"/>\n    </g>\n    <g id=\"line2d_24\">\n     <path d=\"M 218.303125 93.075312 \nL 238.303125 93.075312 \n\" style=\"fill:none;stroke:#008000;stroke-linecap:square;stroke-width:2;\"/>\n    </g>\n    <g id=\"line2d_25\"/>\n    <g id=\"text_16\">\n     <!-- ROC curve (area = 0.88) -->\n     <defs>\n      <path d=\"M 39.40625 66.21875 \nQ 28.65625 66.21875 22.328125 58.203125 \nQ 16.015625 50.203125 16.015625 36.375 \nQ 16.015625 22.609375 22.328125 14.59375 \nQ 28.65625 6.59375 39.40625 6.59375 \nQ 50.140625 6.59375 56.421875 14.59375 \nQ 62.703125 22.609375 62.703125 36.375 \nQ 62.703125 50.203125 56.421875 58.203125 \nQ 50.140625 66.21875 39.40625 66.21875 \nz\nM 39.40625 74.21875 \nQ 54.734375 74.21875 63.90625 63.9375 \nQ 73.09375 53.65625 73.09375 36.375 \nQ 73.09375 19.140625 63.90625 8.859375 \nQ 54.734375 -1.421875 39.40625 -1.421875 \nQ 24.03125 -1.421875 14.8125 8.828125 \nQ 5.609375 19.09375 5.609375 36.375 \nQ 5.609375 53.65625 14.8125 63.9375 \nQ 24.03125 74.21875 39.40625 74.21875 \nz\n\" id=\"DejaVuSans-79\"/>\n      <path d=\"M 64.40625 67.28125 \nL 64.40625 56.890625 \nQ 59.421875 61.53125 53.78125 63.8125 \nQ 48.140625 66.109375 41.796875 66.109375 \nQ 29.296875 66.109375 22.65625 58.46875 \nQ 16.015625 50.828125 16.015625 36.375 \nQ 16.015625 21.96875 22.65625 14.328125 \nQ 29.296875 6.6875 41.796875 6.6875 \nQ 48.140625 6.6875 53.78125 8.984375 \nQ 59.421875 11.28125 64.40625 15.921875 \nL 64.40625 5.609375 \nQ 59.234375 2.09375 53.4375 0.328125 \nQ 47.65625 -1.421875 41.21875 -1.421875 \nQ 24.65625 -1.421875 15.125 8.703125 \nQ 5.609375 18.84375 5.609375 36.375 \nQ 5.609375 53.953125 15.125 64.078125 \nQ 24.65625 74.21875 41.21875 74.21875 \nQ 47.75 74.21875 53.53125 72.484375 \nQ 59.328125 70.75 64.40625 67.28125 \nz\n\" id=\"DejaVuSans-67\"/>\n      <path d=\"M 31 75.875 \nQ 24.46875 64.65625 21.28125 53.65625 \nQ 18.109375 42.671875 18.109375 31.390625 \nQ 18.109375 20.125 21.3125 9.0625 \nQ 24.515625 -2 31 -13.1875 \nL 23.1875 -13.1875 \nQ 15.875 -1.703125 12.234375 9.375 \nQ 8.59375 20.453125 8.59375 31.390625 \nQ 8.59375 42.28125 12.203125 53.3125 \nQ 15.828125 64.359375 23.1875 75.875 \nz\n\" id=\"DejaVuSans-40\"/>\n      <path d=\"M 10.59375 45.40625 \nL 73.1875 45.40625 \nL 73.1875 37.203125 \nL 10.59375 37.203125 \nz\nM 10.59375 25.484375 \nL 73.1875 25.484375 \nL 73.1875 17.1875 \nL 10.59375 17.1875 \nz\n\" id=\"DejaVuSans-61\"/>\n      <path d=\"M 8.015625 75.875 \nL 15.828125 75.875 \nQ 23.140625 64.359375 26.78125 53.3125 \nQ 30.421875 42.28125 30.421875 31.390625 \nQ 30.421875 20.453125 26.78125 9.375 \nQ 23.140625 -1.703125 15.828125 -13.1875 \nL 8.015625 -13.1875 \nQ 14.5 -2 17.703125 9.0625 \nQ 20.90625 20.125 20.90625 31.390625 \nQ 20.90625 42.671875 17.703125 53.65625 \nQ 14.5 64.65625 8.015625 75.875 \nz\n\" id=\"DejaVuSans-41\"/>\n     </defs>\n     <g transform=\"translate(246.303125 96.575312)scale(0.1 -0.1)\">\n      <use xlink:href=\"#DejaVuSans-82\"/>\n      <use x=\"69.482422\" xlink:href=\"#DejaVuSans-79\"/>\n      <use x=\"148.193359\" xlink:href=\"#DejaVuSans-67\"/>\n      <use x=\"218.017578\" xlink:href=\"#DejaVuSans-32\"/>\n      <use x=\"249.804688\" xlink:href=\"#DejaVuSans-99\"/>\n      <use x=\"304.785156\" xlink:href=\"#DejaVuSans-117\"/>\n      <use x=\"368.164062\" xlink:href=\"#DejaVuSans-114\"/>\n      <use x=\"409.277344\" xlink:href=\"#DejaVuSans-118\"/>\n      <use x=\"468.457031\" xlink:href=\"#DejaVuSans-101\"/>\n      <use x=\"529.980469\" xlink:href=\"#DejaVuSans-32\"/>\n      <use x=\"561.767578\" xlink:href=\"#DejaVuSans-40\"/>\n      <use x=\"600.78125\" xlink:href=\"#DejaVuSans-97\"/>\n      <use x=\"662.060547\" xlink:href=\"#DejaVuSans-114\"/>\n      <use x=\"700.923828\" xlink:href=\"#DejaVuSans-101\"/>\n      <use x=\"762.447266\" xlink:href=\"#DejaVuSans-97\"/>\n      <use x=\"823.726562\" xlink:href=\"#DejaVuSans-32\"/>\n      <use x=\"855.513672\" xlink:href=\"#DejaVuSans-61\"/>\n      <use x=\"939.302734\" xlink:href=\"#DejaVuSans-32\"/>\n      <use x=\"971.089844\" xlink:href=\"#DejaVuSans-48\"/>\n      <use x=\"1034.712891\" xlink:href=\"#DejaVuSans-46\"/>\n      <use x=\"1066.5\" xlink:href=\"#DejaVuSans-56\"/>\n      <use x=\"1130.123047\" xlink:href=\"#DejaVuSans-56\"/>\n      <use x=\"1193.746094\" xlink:href=\"#DejaVuSans-41\"/>\n     </g>\n    </g>\n    <g id=\"line2d_26\">\n     <path d=\"M 218.303125 107.753438 \nL 238.303125 107.753438 \n\" style=\"fill:none;stroke:#0000ff;stroke-linecap:square;stroke-width:2;\"/>\n    </g>\n    <g id=\"line2d_27\"/>\n    <g id=\"text_17\">\n     <!-- ROC curve (area = 0.94) -->\n     <defs>\n      <path d=\"M 10.984375 1.515625 \nL 10.984375 10.5 \nQ 14.703125 8.734375 18.5 7.8125 \nQ 22.3125 6.890625 25.984375 6.890625 \nQ 35.75 6.890625 40.890625 13.453125 \nQ 46.046875 20.015625 46.78125 33.40625 \nQ 43.953125 29.203125 39.59375 26.953125 \nQ 35.25 24.703125 29.984375 24.703125 \nQ 19.046875 24.703125 12.671875 31.3125 \nQ 6.296875 37.9375 6.296875 49.421875 \nQ 6.296875 60.640625 12.9375 67.421875 \nQ 19.578125 74.21875 30.609375 74.21875 \nQ 43.265625 74.21875 49.921875 64.515625 \nQ 56.59375 54.828125 56.59375 36.375 \nQ 56.59375 19.140625 48.40625 8.859375 \nQ 40.234375 -1.421875 26.421875 -1.421875 \nQ 22.703125 -1.421875 18.890625 -0.6875 \nQ 15.09375 0.046875 10.984375 1.515625 \nz\nM 30.609375 32.421875 \nQ 37.25 32.421875 41.125 36.953125 \nQ 45.015625 41.5 45.015625 49.421875 \nQ 45.015625 57.28125 41.125 61.84375 \nQ 37.25 66.40625 30.609375 66.40625 \nQ 23.96875 66.40625 20.09375 61.84375 \nQ 16.21875 57.28125 16.21875 49.421875 \nQ 16.21875 41.5 20.09375 36.953125 \nQ 23.96875 32.421875 30.609375 32.421875 \nz\n\" id=\"DejaVuSans-57\"/>\n     </defs>\n     <g transform=\"translate(246.303125 111.253438)scale(0.1 -0.1)\">\n      <use xlink:href=\"#DejaVuSans-82\"/>\n      <use x=\"69.482422\" xlink:href=\"#DejaVuSans-79\"/>\n      <use x=\"148.193359\" xlink:href=\"#DejaVuSans-67\"/>\n      <use x=\"218.017578\" xlink:href=\"#DejaVuSans-32\"/>\n      <use x=\"249.804688\" xlink:href=\"#DejaVuSans-99\"/>\n      <use x=\"304.785156\" xlink:href=\"#DejaVuSans-117\"/>\n      <use x=\"368.164062\" xlink:href=\"#DejaVuSans-114\"/>\n      <use x=\"409.277344\" xlink:href=\"#DejaVuSans-118\"/>\n      <use x=\"468.457031\" xlink:href=\"#DejaVuSans-101\"/>\n      <use x=\"529.980469\" xlink:href=\"#DejaVuSans-32\"/>\n      <use x=\"561.767578\" xlink:href=\"#DejaVuSans-40\"/>\n      <use x=\"600.78125\" xlink:href=\"#DejaVuSans-97\"/>\n      <use x=\"662.060547\" xlink:href=\"#DejaVuSans-114\"/>\n      <use x=\"700.923828\" xlink:href=\"#DejaVuSans-101\"/>\n      <use x=\"762.447266\" xlink:href=\"#DejaVuSans-97\"/>\n      <use x=\"823.726562\" xlink:href=\"#DejaVuSans-32\"/>\n      <use x=\"855.513672\" xlink:href=\"#DejaVuSans-61\"/>\n      <use x=\"939.302734\" xlink:href=\"#DejaVuSans-32\"/>\n      <use x=\"971.089844\" xlink:href=\"#DejaVuSans-48\"/>\n      <use x=\"1034.712891\" xlink:href=\"#DejaVuSans-46\"/>\n      <use x=\"1066.5\" xlink:href=\"#DejaVuSans-57\"/>\n      <use x=\"1130.123047\" xlink:href=\"#DejaVuSans-52\"/>\n      <use x=\"1193.746094\" xlink:href=\"#DejaVuSans-41\"/>\n     </g>\n    </g>\n    <g id=\"line2d_28\">\n     <path d=\"M 218.303125 122.431563 \nL 238.303125 122.431563 \n\" style=\"fill:none;stroke:#ff8c00;stroke-linecap:square;stroke-width:2;\"/>\n    </g>\n    <g id=\"line2d_29\"/>\n    <g id=\"text_18\">\n     <!-- ROC curve (area = 0.88) -->\n     <g transform=\"translate(246.303125 125.931563)scale(0.1 -0.1)\">\n      <use xlink:href=\"#DejaVuSans-82\"/>\n      <use x=\"69.482422\" xlink:href=\"#DejaVuSans-79\"/>\n      <use x=\"148.193359\" xlink:href=\"#DejaVuSans-67\"/>\n      <use x=\"218.017578\" xlink:href=\"#DejaVuSans-32\"/>\n      <use x=\"249.804688\" xlink:href=\"#DejaVuSans-99\"/>\n      <use x=\"304.785156\" xlink:href=\"#DejaVuSans-117\"/>\n      <use x=\"368.164062\" xlink:href=\"#DejaVuSans-114\"/>\n      <use x=\"409.277344\" xlink:href=\"#DejaVuSans-118\"/>\n      <use x=\"468.457031\" xlink:href=\"#DejaVuSans-101\"/>\n      <use x=\"529.980469\" xlink:href=\"#DejaVuSans-32\"/>\n      <use x=\"561.767578\" xlink:href=\"#DejaVuSans-40\"/>\n      <use x=\"600.78125\" xlink:href=\"#DejaVuSans-97\"/>\n      <use x=\"662.060547\" xlink:href=\"#DejaVuSans-114\"/>\n      <use x=\"700.923828\" xlink:href=\"#DejaVuSans-101\"/>\n      <use x=\"762.447266\" xlink:href=\"#DejaVuSans-97\"/>\n      <use x=\"823.726562\" xlink:href=\"#DejaVuSans-32\"/>\n      <use x=\"855.513672\" xlink:href=\"#DejaVuSans-61\"/>\n      <use x=\"939.302734\" xlink:href=\"#DejaVuSans-32\"/>\n      <use x=\"971.089844\" xlink:href=\"#DejaVuSans-48\"/>\n      <use x=\"1034.712891\" xlink:href=\"#DejaVuSans-46\"/>\n      <use x=\"1066.5\" xlink:href=\"#DejaVuSans-56\"/>\n      <use x=\"1130.123047\" xlink:href=\"#DejaVuSans-56\"/>\n      <use x=\"1193.746094\" xlink:href=\"#DejaVuSans-41\"/>\n     </g>\n    </g>\n    <g id=\"line2d_30\">\n     <path d=\"M 218.303125 137.109688 \nL 238.303125 137.109688 \n\" style=\"fill:none;stroke:#000000;stroke-linecap:square;stroke-width:2;\"/>\n    </g>\n    <g id=\"line2d_31\"/>\n    <g id=\"text_19\">\n     <!-- ROC curve (area = 0.89) -->\n     <g transform=\"translate(246.303125 140.609688)scale(0.1 -0.1)\">\n      <use xlink:href=\"#DejaVuSans-82\"/>\n      <use x=\"69.482422\" xlink:href=\"#DejaVuSans-79\"/>\n      <use x=\"148.193359\" xlink:href=\"#DejaVuSans-67\"/>\n      <use x=\"218.017578\" xlink:href=\"#DejaVuSans-32\"/>\n      <use x=\"249.804688\" xlink:href=\"#DejaVuSans-99\"/>\n      <use x=\"304.785156\" xlink:href=\"#DejaVuSans-117\"/>\n      <use x=\"368.164062\" xlink:href=\"#DejaVuSans-114\"/>\n      <use x=\"409.277344\" xlink:href=\"#DejaVuSans-118\"/>\n      <use x=\"468.457031\" xlink:href=\"#DejaVuSans-101\"/>\n      <use x=\"529.980469\" xlink:href=\"#DejaVuSans-32\"/>\n      <use x=\"561.767578\" xlink:href=\"#DejaVuSans-40\"/>\n      <use x=\"600.78125\" xlink:href=\"#DejaVuSans-97\"/>\n      <use x=\"662.060547\" xlink:href=\"#DejaVuSans-114\"/>\n      <use x=\"700.923828\" xlink:href=\"#DejaVuSans-101\"/>\n      <use x=\"762.447266\" xlink:href=\"#DejaVuSans-97\"/>\n      <use x=\"823.726562\" xlink:href=\"#DejaVuSans-32\"/>\n      <use x=\"855.513672\" xlink:href=\"#DejaVuSans-61\"/>\n      <use x=\"939.302734\" xlink:href=\"#DejaVuSans-32\"/>\n      <use x=\"971.089844\" xlink:href=\"#DejaVuSans-48\"/>\n      <use x=\"1034.712891\" xlink:href=\"#DejaVuSans-46\"/>\n      <use x=\"1066.5\" xlink:href=\"#DejaVuSans-56\"/>\n      <use x=\"1130.123047\" xlink:href=\"#DejaVuSans-57\"/>\n      <use x=\"1193.746094\" xlink:href=\"#DejaVuSans-41\"/>\n     </g>\n    </g>\n    <g id=\"line2d_32\">\n     <path d=\"M 218.303125 151.787813 \nL 238.303125 151.787813 \n\" style=\"fill:none;stroke:#ff0000;stroke-linecap:square;stroke-width:2;\"/>\n    </g>\n    <g id=\"line2d_33\"/>\n    <g id=\"text_20\">\n     <!-- ROC curve (area = 0.84) -->\n     <g transform=\"translate(246.303125 155.287813)scale(0.1 -0.1)\">\n      <use xlink:href=\"#DejaVuSans-82\"/>\n      <use x=\"69.482422\" xlink:href=\"#DejaVuSans-79\"/>\n      <use x=\"148.193359\" xlink:href=\"#DejaVuSans-67\"/>\n      <use x=\"218.017578\" xlink:href=\"#DejaVuSans-32\"/>\n      <use x=\"249.804688\" xlink:href=\"#DejaVuSans-99\"/>\n      <use x=\"304.785156\" xlink:href=\"#DejaVuSans-117\"/>\n      <use x=\"368.164062\" xlink:href=\"#DejaVuSans-114\"/>\n      <use x=\"409.277344\" xlink:href=\"#DejaVuSans-118\"/>\n      <use x=\"468.457031\" xlink:href=\"#DejaVuSans-101\"/>\n      <use x=\"529.980469\" xlink:href=\"#DejaVuSans-32\"/>\n      <use x=\"561.767578\" xlink:href=\"#DejaVuSans-40\"/>\n      <use x=\"600.78125\" xlink:href=\"#DejaVuSans-97\"/>\n      <use x=\"662.060547\" xlink:href=\"#DejaVuSans-114\"/>\n      <use x=\"700.923828\" xlink:href=\"#DejaVuSans-101\"/>\n      <use x=\"762.447266\" xlink:href=\"#DejaVuSans-97\"/>\n      <use x=\"823.726562\" xlink:href=\"#DejaVuSans-32\"/>\n      <use x=\"855.513672\" xlink:href=\"#DejaVuSans-61\"/>\n      <use x=\"939.302734\" xlink:href=\"#DejaVuSans-32\"/>\n      <use x=\"971.089844\" xlink:href=\"#DejaVuSans-48\"/>\n      <use x=\"1034.712891\" xlink:href=\"#DejaVuSans-46\"/>\n      <use x=\"1066.5\" xlink:href=\"#DejaVuSans-56\"/>\n      <use x=\"1130.123047\" xlink:href=\"#DejaVuSans-52\"/>\n      <use x=\"1193.746094\" xlink:href=\"#DejaVuSans-41\"/>\n     </g>\n    </g>\n    <g id=\"line2d_34\">\n     <path d=\"M 218.303125 166.465937 \nL 238.303125 166.465937 \n\" style=\"fill:none;stroke:#a52a2a;stroke-linecap:square;stroke-width:2;\"/>\n    </g>\n    <g id=\"line2d_35\"/>\n    <g id=\"text_21\">\n     <!-- ROC curve (area = 0.84) -->\n     <g transform=\"translate(246.303125 169.965937)scale(0.1 -0.1)\">\n      <use xlink:href=\"#DejaVuSans-82\"/>\n      <use x=\"69.482422\" xlink:href=\"#DejaVuSans-79\"/>\n      <use x=\"148.193359\" xlink:href=\"#DejaVuSans-67\"/>\n      <use x=\"218.017578\" xlink:href=\"#DejaVuSans-32\"/>\n      <use x=\"249.804688\" xlink:href=\"#DejaVuSans-99\"/>\n      <use x=\"304.785156\" xlink:href=\"#DejaVuSans-117\"/>\n      <use x=\"368.164062\" xlink:href=\"#DejaVuSans-114\"/>\n      <use x=\"409.277344\" xlink:href=\"#DejaVuSans-118\"/>\n      <use x=\"468.457031\" xlink:href=\"#DejaVuSans-101\"/>\n      <use x=\"529.980469\" xlink:href=\"#DejaVuSans-32\"/>\n      <use x=\"561.767578\" xlink:href=\"#DejaVuSans-40\"/>\n      <use x=\"600.78125\" xlink:href=\"#DejaVuSans-97\"/>\n      <use x=\"662.060547\" xlink:href=\"#DejaVuSans-114\"/>\n      <use x=\"700.923828\" xlink:href=\"#DejaVuSans-101\"/>\n      <use x=\"762.447266\" xlink:href=\"#DejaVuSans-97\"/>\n      <use x=\"823.726562\" xlink:href=\"#DejaVuSans-32\"/>\n      <use x=\"855.513672\" xlink:href=\"#DejaVuSans-61\"/>\n      <use x=\"939.302734\" xlink:href=\"#DejaVuSans-32\"/>\n      <use x=\"971.089844\" xlink:href=\"#DejaVuSans-48\"/>\n      <use x=\"1034.712891\" xlink:href=\"#DejaVuSans-46\"/>\n      <use x=\"1066.5\" xlink:href=\"#DejaVuSans-56\"/>\n      <use x=\"1130.123047\" xlink:href=\"#DejaVuSans-52\"/>\n      <use x=\"1193.746094\" xlink:href=\"#DejaVuSans-41\"/>\n     </g>\n    </g>\n    <g id=\"line2d_36\">\n     <path d=\"M 218.303125 181.144063 \nL 238.303125 181.144063 \n\" style=\"fill:none;stroke:#ffff00;stroke-linecap:square;stroke-width:2;\"/>\n    </g>\n    <g id=\"line2d_37\"/>\n    <g id=\"text_22\">\n     <!-- ROC curve (area = 0.95) -->\n     <defs>\n      <path d=\"M 10.796875 72.90625 \nL 49.515625 72.90625 \nL 49.515625 64.59375 \nL 19.828125 64.59375 \nL 19.828125 46.734375 \nQ 21.96875 47.46875 24.109375 47.828125 \nQ 26.265625 48.1875 28.421875 48.1875 \nQ 40.625 48.1875 47.75 41.5 \nQ 54.890625 34.8125 54.890625 23.390625 \nQ 54.890625 11.625 47.5625 5.09375 \nQ 40.234375 -1.421875 26.90625 -1.421875 \nQ 22.3125 -1.421875 17.546875 -0.640625 \nQ 12.796875 0.140625 7.71875 1.703125 \nL 7.71875 11.625 \nQ 12.109375 9.234375 16.796875 8.0625 \nQ 21.484375 6.890625 26.703125 6.890625 \nQ 35.15625 6.890625 40.078125 11.328125 \nQ 45.015625 15.765625 45.015625 23.390625 \nQ 45.015625 31 40.078125 35.4375 \nQ 35.15625 39.890625 26.703125 39.890625 \nQ 22.75 39.890625 18.8125 39.015625 \nQ 14.890625 38.140625 10.796875 36.28125 \nz\n\" id=\"DejaVuSans-53\"/>\n     </defs>\n     <g transform=\"translate(246.303125 184.644063)scale(0.1 -0.1)\">\n      <use xlink:href=\"#DejaVuSans-82\"/>\n      <use x=\"69.482422\" xlink:href=\"#DejaVuSans-79\"/>\n      <use x=\"148.193359\" xlink:href=\"#DejaVuSans-67\"/>\n      <use x=\"218.017578\" xlink:href=\"#DejaVuSans-32\"/>\n      <use x=\"249.804688\" xlink:href=\"#DejaVuSans-99\"/>\n      <use x=\"304.785156\" xlink:href=\"#DejaVuSans-117\"/>\n      <use x=\"368.164062\" xlink:href=\"#DejaVuSans-114\"/>\n      <use x=\"409.277344\" xlink:href=\"#DejaVuSans-118\"/>\n      <use x=\"468.457031\" xlink:href=\"#DejaVuSans-101\"/>\n      <use x=\"529.980469\" xlink:href=\"#DejaVuSans-32\"/>\n      <use x=\"561.767578\" xlink:href=\"#DejaVuSans-40\"/>\n      <use x=\"600.78125\" xlink:href=\"#DejaVuSans-97\"/>\n      <use x=\"662.060547\" xlink:href=\"#DejaVuSans-114\"/>\n      <use x=\"700.923828\" xlink:href=\"#DejaVuSans-101\"/>\n      <use x=\"762.447266\" xlink:href=\"#DejaVuSans-97\"/>\n      <use x=\"823.726562\" xlink:href=\"#DejaVuSans-32\"/>\n      <use x=\"855.513672\" xlink:href=\"#DejaVuSans-61\"/>\n      <use x=\"939.302734\" xlink:href=\"#DejaVuSans-32\"/>\n      <use x=\"971.089844\" xlink:href=\"#DejaVuSans-48\"/>\n      <use x=\"1034.712891\" xlink:href=\"#DejaVuSans-46\"/>\n      <use x=\"1066.5\" xlink:href=\"#DejaVuSans-57\"/>\n      <use x=\"1130.123047\" xlink:href=\"#DejaVuSans-53\"/>\n      <use x=\"1193.746094\" xlink:href=\"#DejaVuSans-41\"/>\n     </g>\n    </g>\n    <g id=\"line2d_38\">\n     <path d=\"M 218.303125 195.822187 \nL 238.303125 195.822187 \n\" style=\"fill:none;stroke:#ffc0cb;stroke-linecap:square;stroke-width:2;\"/>\n    </g>\n    <g id=\"line2d_39\"/>\n    <g id=\"text_23\">\n     <!-- ROC curve (area = 0.93) -->\n     <defs>\n      <path d=\"M 40.578125 39.3125 \nQ 47.65625 37.796875 51.625 33 \nQ 55.609375 28.21875 55.609375 21.1875 \nQ 55.609375 10.40625 48.1875 4.484375 \nQ 40.765625 -1.421875 27.09375 -1.421875 \nQ 22.515625 -1.421875 17.65625 -0.515625 \nQ 12.796875 0.390625 7.625 2.203125 \nL 7.625 11.71875 \nQ 11.71875 9.328125 16.59375 8.109375 \nQ 21.484375 6.890625 26.8125 6.890625 \nQ 36.078125 6.890625 40.9375 10.546875 \nQ 45.796875 14.203125 45.796875 21.1875 \nQ 45.796875 27.640625 41.28125 31.265625 \nQ 36.765625 34.90625 28.71875 34.90625 \nL 20.21875 34.90625 \nL 20.21875 43.015625 \nL 29.109375 43.015625 \nQ 36.375 43.015625 40.234375 45.921875 \nQ 44.09375 48.828125 44.09375 54.296875 \nQ 44.09375 59.90625 40.109375 62.90625 \nQ 36.140625 65.921875 28.71875 65.921875 \nQ 24.65625 65.921875 20.015625 65.03125 \nQ 15.375 64.15625 9.8125 62.3125 \nL 9.8125 71.09375 \nQ 15.4375 72.65625 20.34375 73.4375 \nQ 25.25 74.21875 29.59375 74.21875 \nQ 40.828125 74.21875 47.359375 69.109375 \nQ 53.90625 64.015625 53.90625 55.328125 \nQ 53.90625 49.265625 50.4375 45.09375 \nQ 46.96875 40.921875 40.578125 39.3125 \nz\n\" id=\"DejaVuSans-51\"/>\n     </defs>\n     <g transform=\"translate(246.303125 199.322187)scale(0.1 -0.1)\">\n      <use xlink:href=\"#DejaVuSans-82\"/>\n      <use x=\"69.482422\" xlink:href=\"#DejaVuSans-79\"/>\n      <use x=\"148.193359\" xlink:href=\"#DejaVuSans-67\"/>\n      <use x=\"218.017578\" xlink:href=\"#DejaVuSans-32\"/>\n      <use x=\"249.804688\" xlink:href=\"#DejaVuSans-99\"/>\n      <use x=\"304.785156\" xlink:href=\"#DejaVuSans-117\"/>\n      <use x=\"368.164062\" xlink:href=\"#DejaVuSans-114\"/>\n      <use x=\"409.277344\" xlink:href=\"#DejaVuSans-118\"/>\n      <use x=\"468.457031\" xlink:href=\"#DejaVuSans-101\"/>\n      <use x=\"529.980469\" xlink:href=\"#DejaVuSans-32\"/>\n      <use x=\"561.767578\" xlink:href=\"#DejaVuSans-40\"/>\n      <use x=\"600.78125\" xlink:href=\"#DejaVuSans-97\"/>\n      <use x=\"662.060547\" xlink:href=\"#DejaVuSans-114\"/>\n      <use x=\"700.923828\" xlink:href=\"#DejaVuSans-101\"/>\n      <use x=\"762.447266\" xlink:href=\"#DejaVuSans-97\"/>\n      <use x=\"823.726562\" xlink:href=\"#DejaVuSans-32\"/>\n      <use x=\"855.513672\" xlink:href=\"#DejaVuSans-61\"/>\n      <use x=\"939.302734\" xlink:href=\"#DejaVuSans-32\"/>\n      <use x=\"971.089844\" xlink:href=\"#DejaVuSans-48\"/>\n      <use x=\"1034.712891\" xlink:href=\"#DejaVuSans-46\"/>\n      <use x=\"1066.5\" xlink:href=\"#DejaVuSans-57\"/>\n      <use x=\"1130.123047\" xlink:href=\"#DejaVuSans-51\"/>\n      <use x=\"1193.746094\" xlink:href=\"#DejaVuSans-41\"/>\n     </g>\n    </g>\n    <g id=\"line2d_40\">\n     <path d=\"M 218.303125 210.500313 \nL 238.303125 210.500313 \n\" style=\"fill:none;stroke:#006400;stroke-linecap:square;stroke-width:2;\"/>\n    </g>\n    <g id=\"line2d_41\"/>\n    <g id=\"text_24\">\n     <!-- ROC curve (area = 0.84) -->\n     <g transform=\"translate(246.303125 214.000313)scale(0.1 -0.1)\">\n      <use xlink:href=\"#DejaVuSans-82\"/>\n      <use x=\"69.482422\" xlink:href=\"#DejaVuSans-79\"/>\n      <use x=\"148.193359\" xlink:href=\"#DejaVuSans-67\"/>\n      <use x=\"218.017578\" xlink:href=\"#DejaVuSans-32\"/>\n      <use x=\"249.804688\" xlink:href=\"#DejaVuSans-99\"/>\n      <use x=\"304.785156\" xlink:href=\"#DejaVuSans-117\"/>\n      <use x=\"368.164062\" xlink:href=\"#DejaVuSans-114\"/>\n      <use x=\"409.277344\" xlink:href=\"#DejaVuSans-118\"/>\n      <use x=\"468.457031\" xlink:href=\"#DejaVuSans-101\"/>\n      <use x=\"529.980469\" xlink:href=\"#DejaVuSans-32\"/>\n      <use x=\"561.767578\" xlink:href=\"#DejaVuSans-40\"/>\n      <use x=\"600.78125\" xlink:href=\"#DejaVuSans-97\"/>\n      <use x=\"662.060547\" xlink:href=\"#DejaVuSans-114\"/>\n      <use x=\"700.923828\" xlink:href=\"#DejaVuSans-101\"/>\n      <use x=\"762.447266\" xlink:href=\"#DejaVuSans-97\"/>\n      <use x=\"823.726562\" xlink:href=\"#DejaVuSans-32\"/>\n      <use x=\"855.513672\" xlink:href=\"#DejaVuSans-61\"/>\n      <use x=\"939.302734\" xlink:href=\"#DejaVuSans-32\"/>\n      <use x=\"971.089844\" xlink:href=\"#DejaVuSans-48\"/>\n      <use x=\"1034.712891\" xlink:href=\"#DejaVuSans-46\"/>\n      <use x=\"1066.5\" xlink:href=\"#DejaVuSans-56\"/>\n      <use x=\"1130.123047\" xlink:href=\"#DejaVuSans-52\"/>\n      <use x=\"1193.746094\" xlink:href=\"#DejaVuSans-41\"/>\n     </g>\n    </g>\n    <g id=\"line2d_42\">\n     <path d=\"M 218.303125 225.178437 \nL 238.303125 225.178437 \n\" style=\"fill:none;stroke:#800080;stroke-linecap:square;stroke-width:2;\"/>\n    </g>\n    <g id=\"line2d_43\"/>\n    <g id=\"text_25\">\n     <!-- ROC curve (area = 0.66) -->\n     <g transform=\"translate(246.303125 228.678437)scale(0.1 -0.1)\">\n      <use xlink:href=\"#DejaVuSans-82\"/>\n      <use x=\"69.482422\" xlink:href=\"#DejaVuSans-79\"/>\n      <use x=\"148.193359\" xlink:href=\"#DejaVuSans-67\"/>\n      <use x=\"218.017578\" xlink:href=\"#DejaVuSans-32\"/>\n      <use x=\"249.804688\" xlink:href=\"#DejaVuSans-99\"/>\n      <use x=\"304.785156\" xlink:href=\"#DejaVuSans-117\"/>\n      <use x=\"368.164062\" xlink:href=\"#DejaVuSans-114\"/>\n      <use x=\"409.277344\" xlink:href=\"#DejaVuSans-118\"/>\n      <use x=\"468.457031\" xlink:href=\"#DejaVuSans-101\"/>\n      <use x=\"529.980469\" xlink:href=\"#DejaVuSans-32\"/>\n      <use x=\"561.767578\" xlink:href=\"#DejaVuSans-40\"/>\n      <use x=\"600.78125\" xlink:href=\"#DejaVuSans-97\"/>\n      <use x=\"662.060547\" xlink:href=\"#DejaVuSans-114\"/>\n      <use x=\"700.923828\" xlink:href=\"#DejaVuSans-101\"/>\n      <use x=\"762.447266\" xlink:href=\"#DejaVuSans-97\"/>\n      <use x=\"823.726562\" xlink:href=\"#DejaVuSans-32\"/>\n      <use x=\"855.513672\" xlink:href=\"#DejaVuSans-61\"/>\n      <use x=\"939.302734\" xlink:href=\"#DejaVuSans-32\"/>\n      <use x=\"971.089844\" xlink:href=\"#DejaVuSans-48\"/>\n      <use x=\"1034.712891\" xlink:href=\"#DejaVuSans-46\"/>\n      <use x=\"1066.5\" xlink:href=\"#DejaVuSans-54\"/>\n      <use x=\"1130.123047\" xlink:href=\"#DejaVuSans-54\"/>\n      <use x=\"1193.746094\" xlink:href=\"#DejaVuSans-41\"/>\n     </g>\n    </g>\n   </g>\n  </g>\n </g>\n <defs>\n  <clipPath id=\"p7629b30d40\">\n   <rect height=\"217.44\" width=\"334.8\" x=\"43.78125\" y=\"22.318125\"/>\n  </clipPath>\n </defs>\n</svg>\n"
          },
          "metadata": {
            "tags": [],
            "needs_background": "light"
          }
        }
      ]
    },
    {
      "cell_type": "code",
      "metadata": {
        "id": "UQfPtQHHN6qd",
        "colab": {
          "base_uri": "https://localhost:8080/",
          "height": 391
        },
        "outputId": "0fb0655a-fdef-4b8a-ff98-194c04864304"
      },
      "source": [
        "for i in range(len(set(classes_num))):\n",
        "    fpr[i], tpr[i], _ = roc_curve(test_classes_num_bin[: ,i], y_pred_bin[: ,i])\n",
        "    roc_auc[i] = auc(fpr[i], tpr[i])\n",
        "colors = cycle(['blue', 'red', 'green','pink','black','yellow','darkgreen','orange','darkblue','brown'])\n",
        "for i, color in zip(range(len(set(classes_num))), colors):\n",
        "    plt.plot(fpr[i], tpr[i], color=color, lw=2,\n",
        "             label='ROC curve of class {0} (area = {1:0.2f})'\n",
        "             ''.format(i, roc_auc[i]))\n",
        "plt.plot([0, 1], [0, 1], 'k--', lw=2)\n",
        "plt.xlim([-0.05, 1.0])\n",
        "plt.ylim([0.0, 1.05])\n",
        "plt.xlabel('False Positive Rate')\n",
        "plt.ylabel('True Positive Rate')\n",
        "plt.title('Receiver operating characteristic for multi-class data')\n",
        "plt.legend(loc=\"lower right\")\n",
        "plt.show()"
      ],
      "execution_count": null,
      "outputs": [
        {
          "output_type": "display_data",
          "data": {
            "text/plain": [
              "<Figure size 432x288 with 1 Axes>"
            ],
            "image/svg+xml": "<?xml version=\"1.0\" encoding=\"utf-8\" standalone=\"no\"?>\n<!DOCTYPE svg PUBLIC \"-//W3C//DTD SVG 1.1//EN\"\n  \"http://www.w3.org/Graphics/SVG/1.1/DTD/svg11.dtd\">\n<!-- Created with matplotlib (https://matplotlib.org/) -->\n<svg height=\"277.314375pt\" version=\"1.1\" viewBox=\"0 0 393.732813 277.314375\" width=\"393.732813pt\" xmlns=\"http://www.w3.org/2000/svg\" xmlns:xlink=\"http://www.w3.org/1999/xlink\">\n <defs>\n  <style type=\"text/css\">\n*{stroke-linecap:butt;stroke-linejoin:round;}\n  </style>\n </defs>\n <g id=\"figure_1\">\n  <g id=\"patch_1\">\n   <path d=\"M 0 277.314375 \nL 393.732813 277.314375 \nL 393.732813 0 \nL 0 0 \nz\n\" style=\"fill:none;\"/>\n  </g>\n  <g id=\"axes_1\">\n   <g id=\"patch_2\">\n    <path d=\"M 43.78125 239.758125 \nL 378.58125 239.758125 \nL 378.58125 22.318125 \nL 43.78125 22.318125 \nz\n\" style=\"fill:#ffffff;\"/>\n   </g>\n   <g id=\"matplotlib.axis_1\">\n    <g id=\"xtick_1\">\n     <g id=\"line2d_1\">\n      <defs>\n       <path d=\"M 0 0 \nL 0 3.5 \n\" id=\"mb21f78e74e\" style=\"stroke:#000000;stroke-width:0.8;\"/>\n      </defs>\n      <g>\n       <use style=\"stroke:#000000;stroke-width:0.8;\" x=\"59.724107\" xlink:href=\"#mb21f78e74e\" y=\"239.758125\"/>\n      </g>\n     </g>\n     <g id=\"text_1\">\n      <!-- 0.0 -->\n      <defs>\n       <path d=\"M 31.78125 66.40625 \nQ 24.171875 66.40625 20.328125 58.90625 \nQ 16.5 51.421875 16.5 36.375 \nQ 16.5 21.390625 20.328125 13.890625 \nQ 24.171875 6.390625 31.78125 6.390625 \nQ 39.453125 6.390625 43.28125 13.890625 \nQ 47.125 21.390625 47.125 36.375 \nQ 47.125 51.421875 43.28125 58.90625 \nQ 39.453125 66.40625 31.78125 66.40625 \nz\nM 31.78125 74.21875 \nQ 44.046875 74.21875 50.515625 64.515625 \nQ 56.984375 54.828125 56.984375 36.375 \nQ 56.984375 17.96875 50.515625 8.265625 \nQ 44.046875 -1.421875 31.78125 -1.421875 \nQ 19.53125 -1.421875 13.0625 8.265625 \nQ 6.59375 17.96875 6.59375 36.375 \nQ 6.59375 54.828125 13.0625 64.515625 \nQ 19.53125 74.21875 31.78125 74.21875 \nz\n\" id=\"DejaVuSans-48\"/>\n       <path d=\"M 10.6875 12.40625 \nL 21 12.40625 \nL 21 0 \nL 10.6875 0 \nz\n\" id=\"DejaVuSans-46\"/>\n      </defs>\n      <g transform=\"translate(51.772545 254.356562)scale(0.1 -0.1)\">\n       <use xlink:href=\"#DejaVuSans-48\"/>\n       <use x=\"63.623047\" xlink:href=\"#DejaVuSans-46\"/>\n       <use x=\"95.410156\" xlink:href=\"#DejaVuSans-48\"/>\n      </g>\n     </g>\n    </g>\n    <g id=\"xtick_2\">\n     <g id=\"line2d_2\">\n      <g>\n       <use style=\"stroke:#000000;stroke-width:0.8;\" x=\"123.495536\" xlink:href=\"#mb21f78e74e\" y=\"239.758125\"/>\n      </g>\n     </g>\n     <g id=\"text_2\">\n      <!-- 0.2 -->\n      <defs>\n       <path d=\"M 19.1875 8.296875 \nL 53.609375 8.296875 \nL 53.609375 0 \nL 7.328125 0 \nL 7.328125 8.296875 \nQ 12.9375 14.109375 22.625 23.890625 \nQ 32.328125 33.6875 34.8125 36.53125 \nQ 39.546875 41.84375 41.421875 45.53125 \nQ 43.3125 49.21875 43.3125 52.78125 \nQ 43.3125 58.59375 39.234375 62.25 \nQ 35.15625 65.921875 28.609375 65.921875 \nQ 23.96875 65.921875 18.8125 64.3125 \nQ 13.671875 62.703125 7.8125 59.421875 \nL 7.8125 69.390625 \nQ 13.765625 71.78125 18.9375 73 \nQ 24.125 74.21875 28.421875 74.21875 \nQ 39.75 74.21875 46.484375 68.546875 \nQ 53.21875 62.890625 53.21875 53.421875 \nQ 53.21875 48.921875 51.53125 44.890625 \nQ 49.859375 40.875 45.40625 35.40625 \nQ 44.1875 33.984375 37.640625 27.21875 \nQ 31.109375 20.453125 19.1875 8.296875 \nz\n\" id=\"DejaVuSans-50\"/>\n      </defs>\n      <g transform=\"translate(115.543973 254.356562)scale(0.1 -0.1)\">\n       <use xlink:href=\"#DejaVuSans-48\"/>\n       <use x=\"63.623047\" xlink:href=\"#DejaVuSans-46\"/>\n       <use x=\"95.410156\" xlink:href=\"#DejaVuSans-50\"/>\n      </g>\n     </g>\n    </g>\n    <g id=\"xtick_3\">\n     <g id=\"line2d_3\">\n      <g>\n       <use style=\"stroke:#000000;stroke-width:0.8;\" x=\"187.266964\" xlink:href=\"#mb21f78e74e\" y=\"239.758125\"/>\n      </g>\n     </g>\n     <g id=\"text_3\">\n      <!-- 0.4 -->\n      <defs>\n       <path d=\"M 37.796875 64.3125 \nL 12.890625 25.390625 \nL 37.796875 25.390625 \nz\nM 35.203125 72.90625 \nL 47.609375 72.90625 \nL 47.609375 25.390625 \nL 58.015625 25.390625 \nL 58.015625 17.1875 \nL 47.609375 17.1875 \nL 47.609375 0 \nL 37.796875 0 \nL 37.796875 17.1875 \nL 4.890625 17.1875 \nL 4.890625 26.703125 \nz\n\" id=\"DejaVuSans-52\"/>\n      </defs>\n      <g transform=\"translate(179.315402 254.356562)scale(0.1 -0.1)\">\n       <use xlink:href=\"#DejaVuSans-48\"/>\n       <use x=\"63.623047\" xlink:href=\"#DejaVuSans-46\"/>\n       <use x=\"95.410156\" xlink:href=\"#DejaVuSans-52\"/>\n      </g>\n     </g>\n    </g>\n    <g id=\"xtick_4\">\n     <g id=\"line2d_4\">\n      <g>\n       <use style=\"stroke:#000000;stroke-width:0.8;\" x=\"251.038393\" xlink:href=\"#mb21f78e74e\" y=\"239.758125\"/>\n      </g>\n     </g>\n     <g id=\"text_4\">\n      <!-- 0.6 -->\n      <defs>\n       <path d=\"M 33.015625 40.375 \nQ 26.375 40.375 22.484375 35.828125 \nQ 18.609375 31.296875 18.609375 23.390625 \nQ 18.609375 15.53125 22.484375 10.953125 \nQ 26.375 6.390625 33.015625 6.390625 \nQ 39.65625 6.390625 43.53125 10.953125 \nQ 47.40625 15.53125 47.40625 23.390625 \nQ 47.40625 31.296875 43.53125 35.828125 \nQ 39.65625 40.375 33.015625 40.375 \nz\nM 52.59375 71.296875 \nL 52.59375 62.3125 \nQ 48.875 64.0625 45.09375 64.984375 \nQ 41.3125 65.921875 37.59375 65.921875 \nQ 27.828125 65.921875 22.671875 59.328125 \nQ 17.53125 52.734375 16.796875 39.40625 \nQ 19.671875 43.65625 24.015625 45.921875 \nQ 28.375 48.1875 33.59375 48.1875 \nQ 44.578125 48.1875 50.953125 41.515625 \nQ 57.328125 34.859375 57.328125 23.390625 \nQ 57.328125 12.15625 50.6875 5.359375 \nQ 44.046875 -1.421875 33.015625 -1.421875 \nQ 20.359375 -1.421875 13.671875 8.265625 \nQ 6.984375 17.96875 6.984375 36.375 \nQ 6.984375 53.65625 15.1875 63.9375 \nQ 23.390625 74.21875 37.203125 74.21875 \nQ 40.921875 74.21875 44.703125 73.484375 \nQ 48.484375 72.75 52.59375 71.296875 \nz\n\" id=\"DejaVuSans-54\"/>\n      </defs>\n      <g transform=\"translate(243.08683 254.356562)scale(0.1 -0.1)\">\n       <use xlink:href=\"#DejaVuSans-48\"/>\n       <use x=\"63.623047\" xlink:href=\"#DejaVuSans-46\"/>\n       <use x=\"95.410156\" xlink:href=\"#DejaVuSans-54\"/>\n      </g>\n     </g>\n    </g>\n    <g id=\"xtick_5\">\n     <g id=\"line2d_5\">\n      <g>\n       <use style=\"stroke:#000000;stroke-width:0.8;\" x=\"314.809821\" xlink:href=\"#mb21f78e74e\" y=\"239.758125\"/>\n      </g>\n     </g>\n     <g id=\"text_5\">\n      <!-- 0.8 -->\n      <defs>\n       <path d=\"M 31.78125 34.625 \nQ 24.75 34.625 20.71875 30.859375 \nQ 16.703125 27.09375 16.703125 20.515625 \nQ 16.703125 13.921875 20.71875 10.15625 \nQ 24.75 6.390625 31.78125 6.390625 \nQ 38.8125 6.390625 42.859375 10.171875 \nQ 46.921875 13.96875 46.921875 20.515625 \nQ 46.921875 27.09375 42.890625 30.859375 \nQ 38.875 34.625 31.78125 34.625 \nz\nM 21.921875 38.8125 \nQ 15.578125 40.375 12.03125 44.71875 \nQ 8.5 49.078125 8.5 55.328125 \nQ 8.5 64.0625 14.71875 69.140625 \nQ 20.953125 74.21875 31.78125 74.21875 \nQ 42.671875 74.21875 48.875 69.140625 \nQ 55.078125 64.0625 55.078125 55.328125 \nQ 55.078125 49.078125 51.53125 44.71875 \nQ 48 40.375 41.703125 38.8125 \nQ 48.828125 37.15625 52.796875 32.3125 \nQ 56.78125 27.484375 56.78125 20.515625 \nQ 56.78125 9.90625 50.3125 4.234375 \nQ 43.84375 -1.421875 31.78125 -1.421875 \nQ 19.734375 -1.421875 13.25 4.234375 \nQ 6.78125 9.90625 6.78125 20.515625 \nQ 6.78125 27.484375 10.78125 32.3125 \nQ 14.796875 37.15625 21.921875 38.8125 \nz\nM 18.3125 54.390625 \nQ 18.3125 48.734375 21.84375 45.5625 \nQ 25.390625 42.390625 31.78125 42.390625 \nQ 38.140625 42.390625 41.71875 45.5625 \nQ 45.3125 48.734375 45.3125 54.390625 \nQ 45.3125 60.0625 41.71875 63.234375 \nQ 38.140625 66.40625 31.78125 66.40625 \nQ 25.390625 66.40625 21.84375 63.234375 \nQ 18.3125 60.0625 18.3125 54.390625 \nz\n\" id=\"DejaVuSans-56\"/>\n      </defs>\n      <g transform=\"translate(306.858259 254.356562)scale(0.1 -0.1)\">\n       <use xlink:href=\"#DejaVuSans-48\"/>\n       <use x=\"63.623047\" xlink:href=\"#DejaVuSans-46\"/>\n       <use x=\"95.410156\" xlink:href=\"#DejaVuSans-56\"/>\n      </g>\n     </g>\n    </g>\n    <g id=\"xtick_6\">\n     <g id=\"line2d_6\">\n      <g>\n       <use style=\"stroke:#000000;stroke-width:0.8;\" x=\"378.58125\" xlink:href=\"#mb21f78e74e\" y=\"239.758125\"/>\n      </g>\n     </g>\n     <g id=\"text_6\">\n      <!-- 1.0 -->\n      <defs>\n       <path d=\"M 12.40625 8.296875 \nL 28.515625 8.296875 \nL 28.515625 63.921875 \nL 10.984375 60.40625 \nL 10.984375 69.390625 \nL 28.421875 72.90625 \nL 38.28125 72.90625 \nL 38.28125 8.296875 \nL 54.390625 8.296875 \nL 54.390625 0 \nL 12.40625 0 \nz\n\" id=\"DejaVuSans-49\"/>\n      </defs>\n      <g transform=\"translate(370.629688 254.356562)scale(0.1 -0.1)\">\n       <use xlink:href=\"#DejaVuSans-49\"/>\n       <use x=\"63.623047\" xlink:href=\"#DejaVuSans-46\"/>\n       <use x=\"95.410156\" xlink:href=\"#DejaVuSans-48\"/>\n      </g>\n     </g>\n    </g>\n    <g id=\"text_7\">\n     <!-- False Positive Rate -->\n     <defs>\n      <path d=\"M 9.8125 72.90625 \nL 51.703125 72.90625 \nL 51.703125 64.59375 \nL 19.671875 64.59375 \nL 19.671875 43.109375 \nL 48.578125 43.109375 \nL 48.578125 34.8125 \nL 19.671875 34.8125 \nL 19.671875 0 \nL 9.8125 0 \nz\n\" id=\"DejaVuSans-70\"/>\n      <path d=\"M 34.28125 27.484375 \nQ 23.390625 27.484375 19.1875 25 \nQ 14.984375 22.515625 14.984375 16.5 \nQ 14.984375 11.71875 18.140625 8.90625 \nQ 21.296875 6.109375 26.703125 6.109375 \nQ 34.1875 6.109375 38.703125 11.40625 \nQ 43.21875 16.703125 43.21875 25.484375 \nL 43.21875 27.484375 \nz\nM 52.203125 31.203125 \nL 52.203125 0 \nL 43.21875 0 \nL 43.21875 8.296875 \nQ 40.140625 3.328125 35.546875 0.953125 \nQ 30.953125 -1.421875 24.3125 -1.421875 \nQ 15.921875 -1.421875 10.953125 3.296875 \nQ 6 8.015625 6 15.921875 \nQ 6 25.140625 12.171875 29.828125 \nQ 18.359375 34.515625 30.609375 34.515625 \nL 43.21875 34.515625 \nL 43.21875 35.40625 \nQ 43.21875 41.609375 39.140625 45 \nQ 35.0625 48.390625 27.6875 48.390625 \nQ 23 48.390625 18.546875 47.265625 \nQ 14.109375 46.140625 10.015625 43.890625 \nL 10.015625 52.203125 \nQ 14.9375 54.109375 19.578125 55.046875 \nQ 24.21875 56 28.609375 56 \nQ 40.484375 56 46.34375 49.84375 \nQ 52.203125 43.703125 52.203125 31.203125 \nz\n\" id=\"DejaVuSans-97\"/>\n      <path d=\"M 9.421875 75.984375 \nL 18.40625 75.984375 \nL 18.40625 0 \nL 9.421875 0 \nz\n\" id=\"DejaVuSans-108\"/>\n      <path d=\"M 44.28125 53.078125 \nL 44.28125 44.578125 \nQ 40.484375 46.53125 36.375 47.5 \nQ 32.28125 48.484375 27.875 48.484375 \nQ 21.1875 48.484375 17.84375 46.4375 \nQ 14.5 44.390625 14.5 40.28125 \nQ 14.5 37.15625 16.890625 35.375 \nQ 19.28125 33.59375 26.515625 31.984375 \nL 29.59375 31.296875 \nQ 39.15625 29.25 43.1875 25.515625 \nQ 47.21875 21.78125 47.21875 15.09375 \nQ 47.21875 7.46875 41.1875 3.015625 \nQ 35.15625 -1.421875 24.609375 -1.421875 \nQ 20.21875 -1.421875 15.453125 -0.5625 \nQ 10.6875 0.296875 5.421875 2 \nL 5.421875 11.28125 \nQ 10.40625 8.6875 15.234375 7.390625 \nQ 20.0625 6.109375 24.8125 6.109375 \nQ 31.15625 6.109375 34.5625 8.28125 \nQ 37.984375 10.453125 37.984375 14.40625 \nQ 37.984375 18.0625 35.515625 20.015625 \nQ 33.0625 21.96875 24.703125 23.78125 \nL 21.578125 24.515625 \nQ 13.234375 26.265625 9.515625 29.90625 \nQ 5.8125 33.546875 5.8125 39.890625 \nQ 5.8125 47.609375 11.28125 51.796875 \nQ 16.75 56 26.8125 56 \nQ 31.78125 56 36.171875 55.265625 \nQ 40.578125 54.546875 44.28125 53.078125 \nz\n\" id=\"DejaVuSans-115\"/>\n      <path d=\"M 56.203125 29.59375 \nL 56.203125 25.203125 \nL 14.890625 25.203125 \nQ 15.484375 15.921875 20.484375 11.0625 \nQ 25.484375 6.203125 34.421875 6.203125 \nQ 39.59375 6.203125 44.453125 7.46875 \nQ 49.3125 8.734375 54.109375 11.28125 \nL 54.109375 2.78125 \nQ 49.265625 0.734375 44.1875 -0.34375 \nQ 39.109375 -1.421875 33.890625 -1.421875 \nQ 20.796875 -1.421875 13.15625 6.1875 \nQ 5.515625 13.8125 5.515625 26.8125 \nQ 5.515625 40.234375 12.765625 48.109375 \nQ 20.015625 56 32.328125 56 \nQ 43.359375 56 49.78125 48.890625 \nQ 56.203125 41.796875 56.203125 29.59375 \nz\nM 47.21875 32.234375 \nQ 47.125 39.59375 43.09375 43.984375 \nQ 39.0625 48.390625 32.421875 48.390625 \nQ 24.90625 48.390625 20.390625 44.140625 \nQ 15.875 39.890625 15.1875 32.171875 \nz\n\" id=\"DejaVuSans-101\"/>\n      <path id=\"DejaVuSans-32\"/>\n      <path d=\"M 19.671875 64.796875 \nL 19.671875 37.40625 \nL 32.078125 37.40625 \nQ 38.96875 37.40625 42.71875 40.96875 \nQ 46.484375 44.53125 46.484375 51.125 \nQ 46.484375 57.671875 42.71875 61.234375 \nQ 38.96875 64.796875 32.078125 64.796875 \nz\nM 9.8125 72.90625 \nL 32.078125 72.90625 \nQ 44.34375 72.90625 50.609375 67.359375 \nQ 56.890625 61.8125 56.890625 51.125 \nQ 56.890625 40.328125 50.609375 34.8125 \nQ 44.34375 29.296875 32.078125 29.296875 \nL 19.671875 29.296875 \nL 19.671875 0 \nL 9.8125 0 \nz\n\" id=\"DejaVuSans-80\"/>\n      <path d=\"M 30.609375 48.390625 \nQ 23.390625 48.390625 19.1875 42.75 \nQ 14.984375 37.109375 14.984375 27.296875 \nQ 14.984375 17.484375 19.15625 11.84375 \nQ 23.34375 6.203125 30.609375 6.203125 \nQ 37.796875 6.203125 41.984375 11.859375 \nQ 46.1875 17.53125 46.1875 27.296875 \nQ 46.1875 37.015625 41.984375 42.703125 \nQ 37.796875 48.390625 30.609375 48.390625 \nz\nM 30.609375 56 \nQ 42.328125 56 49.015625 48.375 \nQ 55.71875 40.765625 55.71875 27.296875 \nQ 55.71875 13.875 49.015625 6.21875 \nQ 42.328125 -1.421875 30.609375 -1.421875 \nQ 18.84375 -1.421875 12.171875 6.21875 \nQ 5.515625 13.875 5.515625 27.296875 \nQ 5.515625 40.765625 12.171875 48.375 \nQ 18.84375 56 30.609375 56 \nz\n\" id=\"DejaVuSans-111\"/>\n      <path d=\"M 9.421875 54.6875 \nL 18.40625 54.6875 \nL 18.40625 0 \nL 9.421875 0 \nz\nM 9.421875 75.984375 \nL 18.40625 75.984375 \nL 18.40625 64.59375 \nL 9.421875 64.59375 \nz\n\" id=\"DejaVuSans-105\"/>\n      <path d=\"M 18.3125 70.21875 \nL 18.3125 54.6875 \nL 36.8125 54.6875 \nL 36.8125 47.703125 \nL 18.3125 47.703125 \nL 18.3125 18.015625 \nQ 18.3125 11.328125 20.140625 9.421875 \nQ 21.96875 7.515625 27.59375 7.515625 \nL 36.8125 7.515625 \nL 36.8125 0 \nL 27.59375 0 \nQ 17.1875 0 13.234375 3.875 \nQ 9.28125 7.765625 9.28125 18.015625 \nL 9.28125 47.703125 \nL 2.6875 47.703125 \nL 2.6875 54.6875 \nL 9.28125 54.6875 \nL 9.28125 70.21875 \nz\n\" id=\"DejaVuSans-116\"/>\n      <path d=\"M 2.984375 54.6875 \nL 12.5 54.6875 \nL 29.59375 8.796875 \nL 46.6875 54.6875 \nL 56.203125 54.6875 \nL 35.6875 0 \nL 23.484375 0 \nz\n\" id=\"DejaVuSans-118\"/>\n      <path d=\"M 44.390625 34.1875 \nQ 47.5625 33.109375 50.5625 29.59375 \nQ 53.5625 26.078125 56.59375 19.921875 \nL 66.609375 0 \nL 56 0 \nL 46.6875 18.703125 \nQ 43.0625 26.03125 39.671875 28.421875 \nQ 36.28125 30.8125 30.421875 30.8125 \nL 19.671875 30.8125 \nL 19.671875 0 \nL 9.8125 0 \nL 9.8125 72.90625 \nL 32.078125 72.90625 \nQ 44.578125 72.90625 50.734375 67.671875 \nQ 56.890625 62.453125 56.890625 51.90625 \nQ 56.890625 45.015625 53.6875 40.46875 \nQ 50.484375 35.9375 44.390625 34.1875 \nz\nM 19.671875 64.796875 \nL 19.671875 38.921875 \nL 32.078125 38.921875 \nQ 39.203125 38.921875 42.84375 42.21875 \nQ 46.484375 45.515625 46.484375 51.90625 \nQ 46.484375 58.296875 42.84375 61.546875 \nQ 39.203125 64.796875 32.078125 64.796875 \nz\n\" id=\"DejaVuSans-82\"/>\n     </defs>\n     <g transform=\"translate(164.714844 268.034687)scale(0.1 -0.1)\">\n      <use xlink:href=\"#DejaVuSans-70\"/>\n      <use x=\"48.394531\" xlink:href=\"#DejaVuSans-97\"/>\n      <use x=\"109.673828\" xlink:href=\"#DejaVuSans-108\"/>\n      <use x=\"137.457031\" xlink:href=\"#DejaVuSans-115\"/>\n      <use x=\"189.556641\" xlink:href=\"#DejaVuSans-101\"/>\n      <use x=\"251.080078\" xlink:href=\"#DejaVuSans-32\"/>\n      <use x=\"282.867188\" xlink:href=\"#DejaVuSans-80\"/>\n      <use x=\"339.544922\" xlink:href=\"#DejaVuSans-111\"/>\n      <use x=\"400.726562\" xlink:href=\"#DejaVuSans-115\"/>\n      <use x=\"452.826172\" xlink:href=\"#DejaVuSans-105\"/>\n      <use x=\"480.609375\" xlink:href=\"#DejaVuSans-116\"/>\n      <use x=\"519.818359\" xlink:href=\"#DejaVuSans-105\"/>\n      <use x=\"547.601562\" xlink:href=\"#DejaVuSans-118\"/>\n      <use x=\"606.78125\" xlink:href=\"#DejaVuSans-101\"/>\n      <use x=\"668.304688\" xlink:href=\"#DejaVuSans-32\"/>\n      <use x=\"700.091797\" xlink:href=\"#DejaVuSans-82\"/>\n      <use x=\"767.324219\" xlink:href=\"#DejaVuSans-97\"/>\n      <use x=\"828.603516\" xlink:href=\"#DejaVuSans-116\"/>\n      <use x=\"867.8125\" xlink:href=\"#DejaVuSans-101\"/>\n     </g>\n    </g>\n   </g>\n   <g id=\"matplotlib.axis_2\">\n    <g id=\"ytick_1\">\n     <g id=\"line2d_7\">\n      <defs>\n       <path d=\"M 0 0 \nL -3.5 0 \n\" id=\"m1bd0122f2e\" style=\"stroke:#000000;stroke-width:0.8;\"/>\n      </defs>\n      <g>\n       <use style=\"stroke:#000000;stroke-width:0.8;\" x=\"43.78125\" xlink:href=\"#m1bd0122f2e\" y=\"239.758125\"/>\n      </g>\n     </g>\n     <g id=\"text_8\">\n      <!-- 0.0 -->\n      <g transform=\"translate(20.878125 243.557344)scale(0.1 -0.1)\">\n       <use xlink:href=\"#DejaVuSans-48\"/>\n       <use x=\"63.623047\" xlink:href=\"#DejaVuSans-46\"/>\n       <use x=\"95.410156\" xlink:href=\"#DejaVuSans-48\"/>\n      </g>\n     </g>\n    </g>\n    <g id=\"ytick_2\">\n     <g id=\"line2d_8\">\n      <g>\n       <use style=\"stroke:#000000;stroke-width:0.8;\" x=\"43.78125\" xlink:href=\"#m1bd0122f2e\" y=\"198.340982\"/>\n      </g>\n     </g>\n     <g id=\"text_9\">\n      <!-- 0.2 -->\n      <g transform=\"translate(20.878125 202.140201)scale(0.1 -0.1)\">\n       <use xlink:href=\"#DejaVuSans-48\"/>\n       <use x=\"63.623047\" xlink:href=\"#DejaVuSans-46\"/>\n       <use x=\"95.410156\" xlink:href=\"#DejaVuSans-50\"/>\n      </g>\n     </g>\n    </g>\n    <g id=\"ytick_3\">\n     <g id=\"line2d_9\">\n      <g>\n       <use style=\"stroke:#000000;stroke-width:0.8;\" x=\"43.78125\" xlink:href=\"#m1bd0122f2e\" y=\"156.923839\"/>\n      </g>\n     </g>\n     <g id=\"text_10\">\n      <!-- 0.4 -->\n      <g transform=\"translate(20.878125 160.723058)scale(0.1 -0.1)\">\n       <use xlink:href=\"#DejaVuSans-48\"/>\n       <use x=\"63.623047\" xlink:href=\"#DejaVuSans-46\"/>\n       <use x=\"95.410156\" xlink:href=\"#DejaVuSans-52\"/>\n      </g>\n     </g>\n    </g>\n    <g id=\"ytick_4\">\n     <g id=\"line2d_10\">\n      <g>\n       <use style=\"stroke:#000000;stroke-width:0.8;\" x=\"43.78125\" xlink:href=\"#m1bd0122f2e\" y=\"115.506696\"/>\n      </g>\n     </g>\n     <g id=\"text_11\">\n      <!-- 0.6 -->\n      <g transform=\"translate(20.878125 119.305915)scale(0.1 -0.1)\">\n       <use xlink:href=\"#DejaVuSans-48\"/>\n       <use x=\"63.623047\" xlink:href=\"#DejaVuSans-46\"/>\n       <use x=\"95.410156\" xlink:href=\"#DejaVuSans-54\"/>\n      </g>\n     </g>\n    </g>\n    <g id=\"ytick_5\">\n     <g id=\"line2d_11\">\n      <g>\n       <use style=\"stroke:#000000;stroke-width:0.8;\" x=\"43.78125\" xlink:href=\"#m1bd0122f2e\" y=\"74.089554\"/>\n      </g>\n     </g>\n     <g id=\"text_12\">\n      <!-- 0.8 -->\n      <g transform=\"translate(20.878125 77.888772)scale(0.1 -0.1)\">\n       <use xlink:href=\"#DejaVuSans-48\"/>\n       <use x=\"63.623047\" xlink:href=\"#DejaVuSans-46\"/>\n       <use x=\"95.410156\" xlink:href=\"#DejaVuSans-56\"/>\n      </g>\n     </g>\n    </g>\n    <g id=\"ytick_6\">\n     <g id=\"line2d_12\">\n      <g>\n       <use style=\"stroke:#000000;stroke-width:0.8;\" x=\"43.78125\" xlink:href=\"#m1bd0122f2e\" y=\"32.672411\"/>\n      </g>\n     </g>\n     <g id=\"text_13\">\n      <!-- 1.0 -->\n      <g transform=\"translate(20.878125 36.471629)scale(0.1 -0.1)\">\n       <use xlink:href=\"#DejaVuSans-49\"/>\n       <use x=\"63.623047\" xlink:href=\"#DejaVuSans-46\"/>\n       <use x=\"95.410156\" xlink:href=\"#DejaVuSans-48\"/>\n      </g>\n     </g>\n    </g>\n    <g id=\"text_14\">\n     <!-- True Positive Rate -->\n     <defs>\n      <path d=\"M -0.296875 72.90625 \nL 61.375 72.90625 \nL 61.375 64.59375 \nL 35.5 64.59375 \nL 35.5 0 \nL 25.59375 0 \nL 25.59375 64.59375 \nL -0.296875 64.59375 \nz\n\" id=\"DejaVuSans-84\"/>\n      <path d=\"M 41.109375 46.296875 \nQ 39.59375 47.171875 37.8125 47.578125 \nQ 36.03125 48 33.890625 48 \nQ 26.265625 48 22.1875 43.046875 \nQ 18.109375 38.09375 18.109375 28.8125 \nL 18.109375 0 \nL 9.078125 0 \nL 9.078125 54.6875 \nL 18.109375 54.6875 \nL 18.109375 46.1875 \nQ 20.953125 51.171875 25.484375 53.578125 \nQ 30.03125 56 36.53125 56 \nQ 37.453125 56 38.578125 55.875 \nQ 39.703125 55.765625 41.0625 55.515625 \nz\n\" id=\"DejaVuSans-114\"/>\n      <path d=\"M 8.5 21.578125 \nL 8.5 54.6875 \nL 17.484375 54.6875 \nL 17.484375 21.921875 \nQ 17.484375 14.15625 20.5 10.265625 \nQ 23.53125 6.390625 29.59375 6.390625 \nQ 36.859375 6.390625 41.078125 11.03125 \nQ 45.3125 15.671875 45.3125 23.6875 \nL 45.3125 54.6875 \nL 54.296875 54.6875 \nL 54.296875 0 \nL 45.3125 0 \nL 45.3125 8.40625 \nQ 42.046875 3.421875 37.71875 1 \nQ 33.40625 -1.421875 27.6875 -1.421875 \nQ 18.265625 -1.421875 13.375 4.4375 \nQ 8.5 10.296875 8.5 21.578125 \nz\nM 31.109375 56 \nz\n\" id=\"DejaVuSans-117\"/>\n     </defs>\n     <g transform=\"translate(14.798438 175.567812)rotate(-90)scale(0.1 -0.1)\">\n      <use xlink:href=\"#DejaVuSans-84\"/>\n      <use x=\"46.333984\" xlink:href=\"#DejaVuSans-114\"/>\n      <use x=\"87.447266\" xlink:href=\"#DejaVuSans-117\"/>\n      <use x=\"150.826172\" xlink:href=\"#DejaVuSans-101\"/>\n      <use x=\"212.349609\" xlink:href=\"#DejaVuSans-32\"/>\n      <use x=\"244.136719\" xlink:href=\"#DejaVuSans-80\"/>\n      <use x=\"300.814453\" xlink:href=\"#DejaVuSans-111\"/>\n      <use x=\"361.996094\" xlink:href=\"#DejaVuSans-115\"/>\n      <use x=\"414.095703\" xlink:href=\"#DejaVuSans-105\"/>\n      <use x=\"441.878906\" xlink:href=\"#DejaVuSans-116\"/>\n      <use x=\"481.087891\" xlink:href=\"#DejaVuSans-105\"/>\n      <use x=\"508.871094\" xlink:href=\"#DejaVuSans-118\"/>\n      <use x=\"568.050781\" xlink:href=\"#DejaVuSans-101\"/>\n      <use x=\"629.574219\" xlink:href=\"#DejaVuSans-32\"/>\n      <use x=\"661.361328\" xlink:href=\"#DejaVuSans-82\"/>\n      <use x=\"728.59375\" xlink:href=\"#DejaVuSans-97\"/>\n      <use x=\"789.873047\" xlink:href=\"#DejaVuSans-116\"/>\n      <use x=\"829.082031\" xlink:href=\"#DejaVuSans-101\"/>\n     </g>\n    </g>\n   </g>\n   <g id=\"line2d_13\">\n    <path clip-path=\"url(#pfd7cb0caea)\" d=\"M 59.724107 239.758125 \nL 67.776536 75.799319 \nL 378.58125 32.672411 \n\" style=\"fill:none;stroke:#0000ff;stroke-linecap:square;stroke-width:2;\"/>\n   </g>\n   <g id=\"line2d_14\">\n    <path clip-path=\"url(#pfd7cb0caea)\" d=\"M 59.724107 239.758125 \nL 66.560879 53.295561 \nL 378.58125 32.672411 \n\" style=\"fill:none;stroke:#ff0000;stroke-linecap:square;stroke-width:2;\"/>\n   </g>\n   <g id=\"line2d_15\">\n    <path clip-path=\"url(#pfd7cb0caea)\" d=\"M 59.724107 239.758125 \nL 65.546037 77.761478 \nL 378.58125 32.672411 \n\" style=\"fill:none;stroke:#008000;stroke-linecap:square;stroke-width:2;\"/>\n   </g>\n   <g id=\"line2d_16\">\n    <path clip-path=\"url(#pfd7cb0caea)\" d=\"M 59.724107 239.758125 \nL 66.213248 75.041672 \nL 378.58125 32.672411 \n\" style=\"fill:none;stroke:#ffc0cb;stroke-linecap:square;stroke-width:2;\"/>\n   </g>\n   <g id=\"line2d_17\">\n    <path clip-path=\"url(#pfd7cb0caea)\" d=\"M 59.724107 239.758125 \nL 66.370463 95.232065 \nL 378.58125 32.672411 \n\" style=\"fill:none;stroke:#000000;stroke-linecap:square;stroke-width:2;\"/>\n   </g>\n   <g id=\"line2d_18\">\n    <path clip-path=\"url(#pfd7cb0caea)\" d=\"M 59.724107 239.758125 \nL 64.781233 95.88805 \nL 378.58125 32.672411 \n\" style=\"fill:none;stroke:#ffff00;stroke-linecap:square;stroke-width:2;\"/>\n   </g>\n   <g id=\"line2d_19\">\n    <path clip-path=\"url(#pfd7cb0caea)\" d=\"M 59.724107 239.758125 \nL 61.938208 50.031266 \nL 378.58125 32.672411 \n\" style=\"fill:none;stroke:#006400;stroke-linecap:square;stroke-width:2;\"/>\n   </g>\n   <g id=\"line2d_20\">\n    <path clip-path=\"url(#pfd7cb0caea)\" d=\"M 59.724107 239.758125 \nL 65.842951 56.225734 \nL 378.58125 32.672411 \n\" style=\"fill:none;stroke:#ffa500;stroke-linecap:square;stroke-width:2;\"/>\n   </g>\n   <g id=\"line2d_21\">\n    <path clip-path=\"url(#pfd7cb0caea)\" d=\"M 59.724107 239.758125 \nL 69.727127 92.269753 \nL 378.58125 32.672411 \n\" style=\"fill:none;stroke:#00008b;stroke-linecap:square;stroke-width:2;\"/>\n   </g>\n   <g id=\"line2d_22\">\n    <path clip-path=\"url(#pfd7cb0caea)\" d=\"M 59.724107 239.758125 \nL 61.216984 173.19486 \nL 378.58125 32.672411 \n\" style=\"fill:none;stroke:#a52a2a;stroke-linecap:square;stroke-width:2;\"/>\n   </g>\n   <g id=\"line2d_23\">\n    <path clip-path=\"url(#pfd7cb0caea)\" d=\"M 59.724107 239.758125 \nL 378.58125 32.672411 \n\" style=\"fill:none;stroke:#000000;stroke-dasharray:7.4,3.2;stroke-dashoffset:0;stroke-width:2;\"/>\n   </g>\n   <g id=\"patch_3\">\n    <path d=\"M 43.78125 239.758125 \nL 43.78125 22.318125 \n\" style=\"fill:none;stroke:#000000;stroke-linecap:square;stroke-linejoin:miter;stroke-width:0.8;\"/>\n   </g>\n   <g id=\"patch_4\">\n    <path d=\"M 378.58125 239.758125 \nL 378.58125 22.318125 \n\" style=\"fill:none;stroke:#000000;stroke-linecap:square;stroke-linejoin:miter;stroke-width:0.8;\"/>\n   </g>\n   <g id=\"patch_5\">\n    <path d=\"M 43.78125 239.758125 \nL 378.58125 239.758125 \n\" style=\"fill:none;stroke:#000000;stroke-linecap:square;stroke-linejoin:miter;stroke-width:0.8;\"/>\n   </g>\n   <g id=\"patch_6\">\n    <path d=\"M 43.78125 22.318125 \nL 378.58125 22.318125 \n\" style=\"fill:none;stroke:#000000;stroke-linecap:square;stroke-linejoin:miter;stroke-width:0.8;\"/>\n   </g>\n   <g id=\"text_15\">\n    <!-- Receiver operating characteristic for multi-class data -->\n    <defs>\n     <path d=\"M 48.78125 52.59375 \nL 48.78125 44.1875 \nQ 44.96875 46.296875 41.140625 47.34375 \nQ 37.3125 48.390625 33.40625 48.390625 \nQ 24.65625 48.390625 19.8125 42.84375 \nQ 14.984375 37.3125 14.984375 27.296875 \nQ 14.984375 17.28125 19.8125 11.734375 \nQ 24.65625 6.203125 33.40625 6.203125 \nQ 37.3125 6.203125 41.140625 7.25 \nQ 44.96875 8.296875 48.78125 10.40625 \nL 48.78125 2.09375 \nQ 45.015625 0.34375 40.984375 -0.53125 \nQ 36.96875 -1.421875 32.421875 -1.421875 \nQ 20.0625 -1.421875 12.78125 6.34375 \nQ 5.515625 14.109375 5.515625 27.296875 \nQ 5.515625 40.671875 12.859375 48.328125 \nQ 20.21875 56 33.015625 56 \nQ 37.15625 56 41.109375 55.140625 \nQ 45.0625 54.296875 48.78125 52.59375 \nz\n\" id=\"DejaVuSans-99\"/>\n     <path d=\"M 18.109375 8.203125 \nL 18.109375 -20.796875 \nL 9.078125 -20.796875 \nL 9.078125 54.6875 \nL 18.109375 54.6875 \nL 18.109375 46.390625 \nQ 20.953125 51.265625 25.265625 53.625 \nQ 29.59375 56 35.59375 56 \nQ 45.5625 56 51.78125 48.09375 \nQ 58.015625 40.1875 58.015625 27.296875 \nQ 58.015625 14.40625 51.78125 6.484375 \nQ 45.5625 -1.421875 35.59375 -1.421875 \nQ 29.59375 -1.421875 25.265625 0.953125 \nQ 20.953125 3.328125 18.109375 8.203125 \nz\nM 48.6875 27.296875 \nQ 48.6875 37.203125 44.609375 42.84375 \nQ 40.53125 48.484375 33.40625 48.484375 \nQ 26.265625 48.484375 22.1875 42.84375 \nQ 18.109375 37.203125 18.109375 27.296875 \nQ 18.109375 17.390625 22.1875 11.75 \nQ 26.265625 6.109375 33.40625 6.109375 \nQ 40.53125 6.109375 44.609375 11.75 \nQ 48.6875 17.390625 48.6875 27.296875 \nz\n\" id=\"DejaVuSans-112\"/>\n     <path d=\"M 54.890625 33.015625 \nL 54.890625 0 \nL 45.90625 0 \nL 45.90625 32.71875 \nQ 45.90625 40.484375 42.875 44.328125 \nQ 39.84375 48.1875 33.796875 48.1875 \nQ 26.515625 48.1875 22.3125 43.546875 \nQ 18.109375 38.921875 18.109375 30.90625 \nL 18.109375 0 \nL 9.078125 0 \nL 9.078125 54.6875 \nL 18.109375 54.6875 \nL 18.109375 46.1875 \nQ 21.34375 51.125 25.703125 53.5625 \nQ 30.078125 56 35.796875 56 \nQ 45.21875 56 50.046875 50.171875 \nQ 54.890625 44.34375 54.890625 33.015625 \nz\n\" id=\"DejaVuSans-110\"/>\n     <path d=\"M 45.40625 27.984375 \nQ 45.40625 37.75 41.375 43.109375 \nQ 37.359375 48.484375 30.078125 48.484375 \nQ 22.859375 48.484375 18.828125 43.109375 \nQ 14.796875 37.75 14.796875 27.984375 \nQ 14.796875 18.265625 18.828125 12.890625 \nQ 22.859375 7.515625 30.078125 7.515625 \nQ 37.359375 7.515625 41.375 12.890625 \nQ 45.40625 18.265625 45.40625 27.984375 \nz\nM 54.390625 6.78125 \nQ 54.390625 -7.171875 48.1875 -13.984375 \nQ 42 -20.796875 29.203125 -20.796875 \nQ 24.46875 -20.796875 20.265625 -20.09375 \nQ 16.0625 -19.390625 12.109375 -17.921875 \nL 12.109375 -9.1875 \nQ 16.0625 -11.328125 19.921875 -12.34375 \nQ 23.78125 -13.375 27.78125 -13.375 \nQ 36.625 -13.375 41.015625 -8.765625 \nQ 45.40625 -4.15625 45.40625 5.171875 \nL 45.40625 9.625 \nQ 42.625 4.78125 38.28125 2.390625 \nQ 33.9375 0 27.875 0 \nQ 17.828125 0 11.671875 7.65625 \nQ 5.515625 15.328125 5.515625 27.984375 \nQ 5.515625 40.671875 11.671875 48.328125 \nQ 17.828125 56 27.875 56 \nQ 33.9375 56 38.28125 53.609375 \nQ 42.625 51.21875 45.40625 46.390625 \nL 45.40625 54.6875 \nL 54.390625 54.6875 \nz\n\" id=\"DejaVuSans-103\"/>\n     <path d=\"M 54.890625 33.015625 \nL 54.890625 0 \nL 45.90625 0 \nL 45.90625 32.71875 \nQ 45.90625 40.484375 42.875 44.328125 \nQ 39.84375 48.1875 33.796875 48.1875 \nQ 26.515625 48.1875 22.3125 43.546875 \nQ 18.109375 38.921875 18.109375 30.90625 \nL 18.109375 0 \nL 9.078125 0 \nL 9.078125 75.984375 \nL 18.109375 75.984375 \nL 18.109375 46.1875 \nQ 21.34375 51.125 25.703125 53.5625 \nQ 30.078125 56 35.796875 56 \nQ 45.21875 56 50.046875 50.171875 \nQ 54.890625 44.34375 54.890625 33.015625 \nz\n\" id=\"DejaVuSans-104\"/>\n     <path d=\"M 37.109375 75.984375 \nL 37.109375 68.5 \nL 28.515625 68.5 \nQ 23.6875 68.5 21.796875 66.546875 \nQ 19.921875 64.59375 19.921875 59.515625 \nL 19.921875 54.6875 \nL 34.71875 54.6875 \nL 34.71875 47.703125 \nL 19.921875 47.703125 \nL 19.921875 0 \nL 10.890625 0 \nL 10.890625 47.703125 \nL 2.296875 47.703125 \nL 2.296875 54.6875 \nL 10.890625 54.6875 \nL 10.890625 58.5 \nQ 10.890625 67.625 15.140625 71.796875 \nQ 19.390625 75.984375 28.609375 75.984375 \nz\n\" id=\"DejaVuSans-102\"/>\n     <path d=\"M 52 44.1875 \nQ 55.375 50.25 60.0625 53.125 \nQ 64.75 56 71.09375 56 \nQ 79.640625 56 84.28125 50.015625 \nQ 88.921875 44.046875 88.921875 33.015625 \nL 88.921875 0 \nL 79.890625 0 \nL 79.890625 32.71875 \nQ 79.890625 40.578125 77.09375 44.375 \nQ 74.3125 48.1875 68.609375 48.1875 \nQ 61.625 48.1875 57.5625 43.546875 \nQ 53.515625 38.921875 53.515625 30.90625 \nL 53.515625 0 \nL 44.484375 0 \nL 44.484375 32.71875 \nQ 44.484375 40.625 41.703125 44.40625 \nQ 38.921875 48.1875 33.109375 48.1875 \nQ 26.21875 48.1875 22.15625 43.53125 \nQ 18.109375 38.875 18.109375 30.90625 \nL 18.109375 0 \nL 9.078125 0 \nL 9.078125 54.6875 \nL 18.109375 54.6875 \nL 18.109375 46.1875 \nQ 21.1875 51.21875 25.484375 53.609375 \nQ 29.78125 56 35.6875 56 \nQ 41.65625 56 45.828125 52.96875 \nQ 50 49.953125 52 44.1875 \nz\n\" id=\"DejaVuSans-109\"/>\n     <path d=\"M 4.890625 31.390625 \nL 31.203125 31.390625 \nL 31.203125 23.390625 \nL 4.890625 23.390625 \nz\n\" id=\"DejaVuSans-45\"/>\n     <path d=\"M 45.40625 46.390625 \nL 45.40625 75.984375 \nL 54.390625 75.984375 \nL 54.390625 0 \nL 45.40625 0 \nL 45.40625 8.203125 \nQ 42.578125 3.328125 38.25 0.953125 \nQ 33.9375 -1.421875 27.875 -1.421875 \nQ 17.96875 -1.421875 11.734375 6.484375 \nQ 5.515625 14.40625 5.515625 27.296875 \nQ 5.515625 40.1875 11.734375 48.09375 \nQ 17.96875 56 27.875 56 \nQ 33.9375 56 38.25 53.625 \nQ 42.578125 51.265625 45.40625 46.390625 \nz\nM 14.796875 27.296875 \nQ 14.796875 17.390625 18.875 11.75 \nQ 22.953125 6.109375 30.078125 6.109375 \nQ 37.203125 6.109375 41.296875 11.75 \nQ 45.40625 17.390625 45.40625 27.296875 \nQ 45.40625 37.203125 41.296875 42.84375 \nQ 37.203125 48.484375 30.078125 48.484375 \nQ 22.953125 48.484375 18.875 42.84375 \nQ 14.796875 37.203125 14.796875 27.296875 \nz\n\" id=\"DejaVuSans-100\"/>\n    </defs>\n    <g transform=\"translate(51.743437 16.318125)scale(0.12 -0.12)\">\n     <use xlink:href=\"#DejaVuSans-82\"/>\n     <use x=\"64.982422\" xlink:href=\"#DejaVuSans-101\"/>\n     <use x=\"126.505859\" xlink:href=\"#DejaVuSans-99\"/>\n     <use x=\"181.486328\" xlink:href=\"#DejaVuSans-101\"/>\n     <use x=\"243.009766\" xlink:href=\"#DejaVuSans-105\"/>\n     <use x=\"270.792969\" xlink:href=\"#DejaVuSans-118\"/>\n     <use x=\"329.972656\" xlink:href=\"#DejaVuSans-101\"/>\n     <use x=\"391.496094\" xlink:href=\"#DejaVuSans-114\"/>\n     <use x=\"432.609375\" xlink:href=\"#DejaVuSans-32\"/>\n     <use x=\"464.396484\" xlink:href=\"#DejaVuSans-111\"/>\n     <use x=\"525.578125\" xlink:href=\"#DejaVuSans-112\"/>\n     <use x=\"589.054688\" xlink:href=\"#DejaVuSans-101\"/>\n     <use x=\"650.578125\" xlink:href=\"#DejaVuSans-114\"/>\n     <use x=\"691.691406\" xlink:href=\"#DejaVuSans-97\"/>\n     <use x=\"752.970703\" xlink:href=\"#DejaVuSans-116\"/>\n     <use x=\"792.179688\" xlink:href=\"#DejaVuSans-105\"/>\n     <use x=\"819.962891\" xlink:href=\"#DejaVuSans-110\"/>\n     <use x=\"883.341797\" xlink:href=\"#DejaVuSans-103\"/>\n     <use x=\"946.818359\" xlink:href=\"#DejaVuSans-32\"/>\n     <use x=\"978.605469\" xlink:href=\"#DejaVuSans-99\"/>\n     <use x=\"1033.585938\" xlink:href=\"#DejaVuSans-104\"/>\n     <use x=\"1096.964844\" xlink:href=\"#DejaVuSans-97\"/>\n     <use x=\"1158.244141\" xlink:href=\"#DejaVuSans-114\"/>\n     <use x=\"1199.357422\" xlink:href=\"#DejaVuSans-97\"/>\n     <use x=\"1260.636719\" xlink:href=\"#DejaVuSans-99\"/>\n     <use x=\"1315.617188\" xlink:href=\"#DejaVuSans-116\"/>\n     <use x=\"1354.826172\" xlink:href=\"#DejaVuSans-101\"/>\n     <use x=\"1416.349609\" xlink:href=\"#DejaVuSans-114\"/>\n     <use x=\"1457.462891\" xlink:href=\"#DejaVuSans-105\"/>\n     <use x=\"1485.246094\" xlink:href=\"#DejaVuSans-115\"/>\n     <use x=\"1537.345703\" xlink:href=\"#DejaVuSans-116\"/>\n     <use x=\"1576.554688\" xlink:href=\"#DejaVuSans-105\"/>\n     <use x=\"1604.337891\" xlink:href=\"#DejaVuSans-99\"/>\n     <use x=\"1659.318359\" xlink:href=\"#DejaVuSans-32\"/>\n     <use x=\"1691.105469\" xlink:href=\"#DejaVuSans-102\"/>\n     <use x=\"1726.310547\" xlink:href=\"#DejaVuSans-111\"/>\n     <use x=\"1787.492188\" xlink:href=\"#DejaVuSans-114\"/>\n     <use x=\"1828.605469\" xlink:href=\"#DejaVuSans-32\"/>\n     <use x=\"1860.392578\" xlink:href=\"#DejaVuSans-109\"/>\n     <use x=\"1957.804688\" xlink:href=\"#DejaVuSans-117\"/>\n     <use x=\"2021.183594\" xlink:href=\"#DejaVuSans-108\"/>\n     <use x=\"2048.966797\" xlink:href=\"#DejaVuSans-116\"/>\n     <use x=\"2088.175781\" xlink:href=\"#DejaVuSans-105\"/>\n     <use x=\"2115.958984\" xlink:href=\"#DejaVuSans-45\"/>\n     <use x=\"2152.042969\" xlink:href=\"#DejaVuSans-99\"/>\n     <use x=\"2207.023438\" xlink:href=\"#DejaVuSans-108\"/>\n     <use x=\"2234.806641\" xlink:href=\"#DejaVuSans-97\"/>\n     <use x=\"2296.085938\" xlink:href=\"#DejaVuSans-115\"/>\n     <use x=\"2348.185547\" xlink:href=\"#DejaVuSans-115\"/>\n     <use x=\"2400.285156\" xlink:href=\"#DejaVuSans-32\"/>\n     <use x=\"2432.072266\" xlink:href=\"#DejaVuSans-100\"/>\n     <use x=\"2495.548828\" xlink:href=\"#DejaVuSans-97\"/>\n     <use x=\"2556.828125\" xlink:href=\"#DejaVuSans-116\"/>\n     <use x=\"2596.037109\" xlink:href=\"#DejaVuSans-97\"/>\n    </g>\n   </g>\n   <g id=\"legend_1\">\n    <g id=\"patch_7\">\n     <path d=\"M 165.94375 234.758125 \nL 371.58125 234.758125 \nQ 373.58125 234.758125 373.58125 232.758125 \nL 373.58125 86.976875 \nQ 373.58125 84.976875 371.58125 84.976875 \nL 165.94375 84.976875 \nQ 163.94375 84.976875 163.94375 86.976875 \nL 163.94375 232.758125 \nQ 163.94375 234.758125 165.94375 234.758125 \nz\n\" style=\"fill:#ffffff;opacity:0.8;stroke:#cccccc;stroke-linejoin:miter;\"/>\n    </g>\n    <g id=\"line2d_24\">\n     <path d=\"M 167.94375 93.075312 \nL 187.94375 93.075312 \n\" style=\"fill:none;stroke:#0000ff;stroke-linecap:square;stroke-width:2;\"/>\n    </g>\n    <g id=\"line2d_25\"/>\n    <g id=\"text_16\">\n     <!-- ROC curve of class 0 (area = 0.88) -->\n     <defs>\n      <path d=\"M 39.40625 66.21875 \nQ 28.65625 66.21875 22.328125 58.203125 \nQ 16.015625 50.203125 16.015625 36.375 \nQ 16.015625 22.609375 22.328125 14.59375 \nQ 28.65625 6.59375 39.40625 6.59375 \nQ 50.140625 6.59375 56.421875 14.59375 \nQ 62.703125 22.609375 62.703125 36.375 \nQ 62.703125 50.203125 56.421875 58.203125 \nQ 50.140625 66.21875 39.40625 66.21875 \nz\nM 39.40625 74.21875 \nQ 54.734375 74.21875 63.90625 63.9375 \nQ 73.09375 53.65625 73.09375 36.375 \nQ 73.09375 19.140625 63.90625 8.859375 \nQ 54.734375 -1.421875 39.40625 -1.421875 \nQ 24.03125 -1.421875 14.8125 8.828125 \nQ 5.609375 19.09375 5.609375 36.375 \nQ 5.609375 53.65625 14.8125 63.9375 \nQ 24.03125 74.21875 39.40625 74.21875 \nz\n\" id=\"DejaVuSans-79\"/>\n      <path d=\"M 64.40625 67.28125 \nL 64.40625 56.890625 \nQ 59.421875 61.53125 53.78125 63.8125 \nQ 48.140625 66.109375 41.796875 66.109375 \nQ 29.296875 66.109375 22.65625 58.46875 \nQ 16.015625 50.828125 16.015625 36.375 \nQ 16.015625 21.96875 22.65625 14.328125 \nQ 29.296875 6.6875 41.796875 6.6875 \nQ 48.140625 6.6875 53.78125 8.984375 \nQ 59.421875 11.28125 64.40625 15.921875 \nL 64.40625 5.609375 \nQ 59.234375 2.09375 53.4375 0.328125 \nQ 47.65625 -1.421875 41.21875 -1.421875 \nQ 24.65625 -1.421875 15.125 8.703125 \nQ 5.609375 18.84375 5.609375 36.375 \nQ 5.609375 53.953125 15.125 64.078125 \nQ 24.65625 74.21875 41.21875 74.21875 \nQ 47.75 74.21875 53.53125 72.484375 \nQ 59.328125 70.75 64.40625 67.28125 \nz\n\" id=\"DejaVuSans-67\"/>\n      <path d=\"M 31 75.875 \nQ 24.46875 64.65625 21.28125 53.65625 \nQ 18.109375 42.671875 18.109375 31.390625 \nQ 18.109375 20.125 21.3125 9.0625 \nQ 24.515625 -2 31 -13.1875 \nL 23.1875 -13.1875 \nQ 15.875 -1.703125 12.234375 9.375 \nQ 8.59375 20.453125 8.59375 31.390625 \nQ 8.59375 42.28125 12.203125 53.3125 \nQ 15.828125 64.359375 23.1875 75.875 \nz\n\" id=\"DejaVuSans-40\"/>\n      <path d=\"M 10.59375 45.40625 \nL 73.1875 45.40625 \nL 73.1875 37.203125 \nL 10.59375 37.203125 \nz\nM 10.59375 25.484375 \nL 73.1875 25.484375 \nL 73.1875 17.1875 \nL 10.59375 17.1875 \nz\n\" id=\"DejaVuSans-61\"/>\n      <path d=\"M 8.015625 75.875 \nL 15.828125 75.875 \nQ 23.140625 64.359375 26.78125 53.3125 \nQ 30.421875 42.28125 30.421875 31.390625 \nQ 30.421875 20.453125 26.78125 9.375 \nQ 23.140625 -1.703125 15.828125 -13.1875 \nL 8.015625 -13.1875 \nQ 14.5 -2 17.703125 9.0625 \nQ 20.90625 20.125 20.90625 31.390625 \nQ 20.90625 42.671875 17.703125 53.65625 \nQ 14.5 64.65625 8.015625 75.875 \nz\n\" id=\"DejaVuSans-41\"/>\n     </defs>\n     <g transform=\"translate(195.94375 96.575312)scale(0.1 -0.1)\">\n      <use xlink:href=\"#DejaVuSans-82\"/>\n      <use x=\"69.482422\" xlink:href=\"#DejaVuSans-79\"/>\n      <use x=\"148.193359\" xlink:href=\"#DejaVuSans-67\"/>\n      <use x=\"218.017578\" xlink:href=\"#DejaVuSans-32\"/>\n      <use x=\"249.804688\" xlink:href=\"#DejaVuSans-99\"/>\n      <use x=\"304.785156\" xlink:href=\"#DejaVuSans-117\"/>\n      <use x=\"368.164062\" xlink:href=\"#DejaVuSans-114\"/>\n      <use x=\"409.277344\" xlink:href=\"#DejaVuSans-118\"/>\n      <use x=\"468.457031\" xlink:href=\"#DejaVuSans-101\"/>\n      <use x=\"529.980469\" xlink:href=\"#DejaVuSans-32\"/>\n      <use x=\"561.767578\" xlink:href=\"#DejaVuSans-111\"/>\n      <use x=\"622.949219\" xlink:href=\"#DejaVuSans-102\"/>\n      <use x=\"658.154297\" xlink:href=\"#DejaVuSans-32\"/>\n      <use x=\"689.941406\" xlink:href=\"#DejaVuSans-99\"/>\n      <use x=\"744.921875\" xlink:href=\"#DejaVuSans-108\"/>\n      <use x=\"772.705078\" xlink:href=\"#DejaVuSans-97\"/>\n      <use x=\"833.984375\" xlink:href=\"#DejaVuSans-115\"/>\n      <use x=\"886.083984\" xlink:href=\"#DejaVuSans-115\"/>\n      <use x=\"938.183594\" xlink:href=\"#DejaVuSans-32\"/>\n      <use x=\"969.970703\" xlink:href=\"#DejaVuSans-48\"/>\n      <use x=\"1033.59375\" xlink:href=\"#DejaVuSans-32\"/>\n      <use x=\"1065.380859\" xlink:href=\"#DejaVuSans-40\"/>\n      <use x=\"1104.394531\" xlink:href=\"#DejaVuSans-97\"/>\n      <use x=\"1165.673828\" xlink:href=\"#DejaVuSans-114\"/>\n      <use x=\"1204.537109\" xlink:href=\"#DejaVuSans-101\"/>\n      <use x=\"1266.060547\" xlink:href=\"#DejaVuSans-97\"/>\n      <use x=\"1327.339844\" xlink:href=\"#DejaVuSans-32\"/>\n      <use x=\"1359.126953\" xlink:href=\"#DejaVuSans-61\"/>\n      <use x=\"1442.916016\" xlink:href=\"#DejaVuSans-32\"/>\n      <use x=\"1474.703125\" xlink:href=\"#DejaVuSans-48\"/>\n      <use x=\"1538.326172\" xlink:href=\"#DejaVuSans-46\"/>\n      <use x=\"1570.113281\" xlink:href=\"#DejaVuSans-56\"/>\n      <use x=\"1633.736328\" xlink:href=\"#DejaVuSans-56\"/>\n      <use x=\"1697.359375\" xlink:href=\"#DejaVuSans-41\"/>\n     </g>\n    </g>\n    <g id=\"line2d_26\">\n     <path d=\"M 167.94375 107.753438 \nL 187.94375 107.753438 \n\" style=\"fill:none;stroke:#ff0000;stroke-linecap:square;stroke-width:2;\"/>\n    </g>\n    <g id=\"line2d_27\"/>\n    <g id=\"text_17\">\n     <!-- ROC curve of class 1 (area = 0.94) -->\n     <defs>\n      <path d=\"M 10.984375 1.515625 \nL 10.984375 10.5 \nQ 14.703125 8.734375 18.5 7.8125 \nQ 22.3125 6.890625 25.984375 6.890625 \nQ 35.75 6.890625 40.890625 13.453125 \nQ 46.046875 20.015625 46.78125 33.40625 \nQ 43.953125 29.203125 39.59375 26.953125 \nQ 35.25 24.703125 29.984375 24.703125 \nQ 19.046875 24.703125 12.671875 31.3125 \nQ 6.296875 37.9375 6.296875 49.421875 \nQ 6.296875 60.640625 12.9375 67.421875 \nQ 19.578125 74.21875 30.609375 74.21875 \nQ 43.265625 74.21875 49.921875 64.515625 \nQ 56.59375 54.828125 56.59375 36.375 \nQ 56.59375 19.140625 48.40625 8.859375 \nQ 40.234375 -1.421875 26.421875 -1.421875 \nQ 22.703125 -1.421875 18.890625 -0.6875 \nQ 15.09375 0.046875 10.984375 1.515625 \nz\nM 30.609375 32.421875 \nQ 37.25 32.421875 41.125 36.953125 \nQ 45.015625 41.5 45.015625 49.421875 \nQ 45.015625 57.28125 41.125 61.84375 \nQ 37.25 66.40625 30.609375 66.40625 \nQ 23.96875 66.40625 20.09375 61.84375 \nQ 16.21875 57.28125 16.21875 49.421875 \nQ 16.21875 41.5 20.09375 36.953125 \nQ 23.96875 32.421875 30.609375 32.421875 \nz\n\" id=\"DejaVuSans-57\"/>\n     </defs>\n     <g transform=\"translate(195.94375 111.253438)scale(0.1 -0.1)\">\n      <use xlink:href=\"#DejaVuSans-82\"/>\n      <use x=\"69.482422\" xlink:href=\"#DejaVuSans-79\"/>\n      <use x=\"148.193359\" xlink:href=\"#DejaVuSans-67\"/>\n      <use x=\"218.017578\" xlink:href=\"#DejaVuSans-32\"/>\n      <use x=\"249.804688\" xlink:href=\"#DejaVuSans-99\"/>\n      <use x=\"304.785156\" xlink:href=\"#DejaVuSans-117\"/>\n      <use x=\"368.164062\" xlink:href=\"#DejaVuSans-114\"/>\n      <use x=\"409.277344\" xlink:href=\"#DejaVuSans-118\"/>\n      <use x=\"468.457031\" xlink:href=\"#DejaVuSans-101\"/>\n      <use x=\"529.980469\" xlink:href=\"#DejaVuSans-32\"/>\n      <use x=\"561.767578\" xlink:href=\"#DejaVuSans-111\"/>\n      <use x=\"622.949219\" xlink:href=\"#DejaVuSans-102\"/>\n      <use x=\"658.154297\" xlink:href=\"#DejaVuSans-32\"/>\n      <use x=\"689.941406\" xlink:href=\"#DejaVuSans-99\"/>\n      <use x=\"744.921875\" xlink:href=\"#DejaVuSans-108\"/>\n      <use x=\"772.705078\" xlink:href=\"#DejaVuSans-97\"/>\n      <use x=\"833.984375\" xlink:href=\"#DejaVuSans-115\"/>\n      <use x=\"886.083984\" xlink:href=\"#DejaVuSans-115\"/>\n      <use x=\"938.183594\" xlink:href=\"#DejaVuSans-32\"/>\n      <use x=\"969.970703\" xlink:href=\"#DejaVuSans-49\"/>\n      <use x=\"1033.59375\" xlink:href=\"#DejaVuSans-32\"/>\n      <use x=\"1065.380859\" xlink:href=\"#DejaVuSans-40\"/>\n      <use x=\"1104.394531\" xlink:href=\"#DejaVuSans-97\"/>\n      <use x=\"1165.673828\" xlink:href=\"#DejaVuSans-114\"/>\n      <use x=\"1204.537109\" xlink:href=\"#DejaVuSans-101\"/>\n      <use x=\"1266.060547\" xlink:href=\"#DejaVuSans-97\"/>\n      <use x=\"1327.339844\" xlink:href=\"#DejaVuSans-32\"/>\n      <use x=\"1359.126953\" xlink:href=\"#DejaVuSans-61\"/>\n      <use x=\"1442.916016\" xlink:href=\"#DejaVuSans-32\"/>\n      <use x=\"1474.703125\" xlink:href=\"#DejaVuSans-48\"/>\n      <use x=\"1538.326172\" xlink:href=\"#DejaVuSans-46\"/>\n      <use x=\"1570.113281\" xlink:href=\"#DejaVuSans-57\"/>\n      <use x=\"1633.736328\" xlink:href=\"#DejaVuSans-52\"/>\n      <use x=\"1697.359375\" xlink:href=\"#DejaVuSans-41\"/>\n     </g>\n    </g>\n    <g id=\"line2d_28\">\n     <path d=\"M 167.94375 122.431563 \nL 187.94375 122.431563 \n\" style=\"fill:none;stroke:#008000;stroke-linecap:square;stroke-width:2;\"/>\n    </g>\n    <g id=\"line2d_29\"/>\n    <g id=\"text_18\">\n     <!-- ROC curve of class 2 (area = 0.88) -->\n     <g transform=\"translate(195.94375 125.931563)scale(0.1 -0.1)\">\n      <use xlink:href=\"#DejaVuSans-82\"/>\n      <use x=\"69.482422\" xlink:href=\"#DejaVuSans-79\"/>\n      <use x=\"148.193359\" xlink:href=\"#DejaVuSans-67\"/>\n      <use x=\"218.017578\" xlink:href=\"#DejaVuSans-32\"/>\n      <use x=\"249.804688\" xlink:href=\"#DejaVuSans-99\"/>\n      <use x=\"304.785156\" xlink:href=\"#DejaVuSans-117\"/>\n      <use x=\"368.164062\" xlink:href=\"#DejaVuSans-114\"/>\n      <use x=\"409.277344\" xlink:href=\"#DejaVuSans-118\"/>\n      <use x=\"468.457031\" xlink:href=\"#DejaVuSans-101\"/>\n      <use x=\"529.980469\" xlink:href=\"#DejaVuSans-32\"/>\n      <use x=\"561.767578\" xlink:href=\"#DejaVuSans-111\"/>\n      <use x=\"622.949219\" xlink:href=\"#DejaVuSans-102\"/>\n      <use x=\"658.154297\" xlink:href=\"#DejaVuSans-32\"/>\n      <use x=\"689.941406\" xlink:href=\"#DejaVuSans-99\"/>\n      <use x=\"744.921875\" xlink:href=\"#DejaVuSans-108\"/>\n      <use x=\"772.705078\" xlink:href=\"#DejaVuSans-97\"/>\n      <use x=\"833.984375\" xlink:href=\"#DejaVuSans-115\"/>\n      <use x=\"886.083984\" xlink:href=\"#DejaVuSans-115\"/>\n      <use x=\"938.183594\" xlink:href=\"#DejaVuSans-32\"/>\n      <use x=\"969.970703\" xlink:href=\"#DejaVuSans-50\"/>\n      <use x=\"1033.59375\" xlink:href=\"#DejaVuSans-32\"/>\n      <use x=\"1065.380859\" xlink:href=\"#DejaVuSans-40\"/>\n      <use x=\"1104.394531\" xlink:href=\"#DejaVuSans-97\"/>\n      <use x=\"1165.673828\" xlink:href=\"#DejaVuSans-114\"/>\n      <use x=\"1204.537109\" xlink:href=\"#DejaVuSans-101\"/>\n      <use x=\"1266.060547\" xlink:href=\"#DejaVuSans-97\"/>\n      <use x=\"1327.339844\" xlink:href=\"#DejaVuSans-32\"/>\n      <use x=\"1359.126953\" xlink:href=\"#DejaVuSans-61\"/>\n      <use x=\"1442.916016\" xlink:href=\"#DejaVuSans-32\"/>\n      <use x=\"1474.703125\" xlink:href=\"#DejaVuSans-48\"/>\n      <use x=\"1538.326172\" xlink:href=\"#DejaVuSans-46\"/>\n      <use x=\"1570.113281\" xlink:href=\"#DejaVuSans-56\"/>\n      <use x=\"1633.736328\" xlink:href=\"#DejaVuSans-56\"/>\n      <use x=\"1697.359375\" xlink:href=\"#DejaVuSans-41\"/>\n     </g>\n    </g>\n    <g id=\"line2d_30\">\n     <path d=\"M 167.94375 137.109688 \nL 187.94375 137.109688 \n\" style=\"fill:none;stroke:#ffc0cb;stroke-linecap:square;stroke-width:2;\"/>\n    </g>\n    <g id=\"line2d_31\"/>\n    <g id=\"text_19\">\n     <!-- ROC curve of class 3 (area = 0.89) -->\n     <defs>\n      <path d=\"M 40.578125 39.3125 \nQ 47.65625 37.796875 51.625 33 \nQ 55.609375 28.21875 55.609375 21.1875 \nQ 55.609375 10.40625 48.1875 4.484375 \nQ 40.765625 -1.421875 27.09375 -1.421875 \nQ 22.515625 -1.421875 17.65625 -0.515625 \nQ 12.796875 0.390625 7.625 2.203125 \nL 7.625 11.71875 \nQ 11.71875 9.328125 16.59375 8.109375 \nQ 21.484375 6.890625 26.8125 6.890625 \nQ 36.078125 6.890625 40.9375 10.546875 \nQ 45.796875 14.203125 45.796875 21.1875 \nQ 45.796875 27.640625 41.28125 31.265625 \nQ 36.765625 34.90625 28.71875 34.90625 \nL 20.21875 34.90625 \nL 20.21875 43.015625 \nL 29.109375 43.015625 \nQ 36.375 43.015625 40.234375 45.921875 \nQ 44.09375 48.828125 44.09375 54.296875 \nQ 44.09375 59.90625 40.109375 62.90625 \nQ 36.140625 65.921875 28.71875 65.921875 \nQ 24.65625 65.921875 20.015625 65.03125 \nQ 15.375 64.15625 9.8125 62.3125 \nL 9.8125 71.09375 \nQ 15.4375 72.65625 20.34375 73.4375 \nQ 25.25 74.21875 29.59375 74.21875 \nQ 40.828125 74.21875 47.359375 69.109375 \nQ 53.90625 64.015625 53.90625 55.328125 \nQ 53.90625 49.265625 50.4375 45.09375 \nQ 46.96875 40.921875 40.578125 39.3125 \nz\n\" id=\"DejaVuSans-51\"/>\n     </defs>\n     <g transform=\"translate(195.94375 140.609688)scale(0.1 -0.1)\">\n      <use xlink:href=\"#DejaVuSans-82\"/>\n      <use x=\"69.482422\" xlink:href=\"#DejaVuSans-79\"/>\n      <use x=\"148.193359\" xlink:href=\"#DejaVuSans-67\"/>\n      <use x=\"218.017578\" xlink:href=\"#DejaVuSans-32\"/>\n      <use x=\"249.804688\" xlink:href=\"#DejaVuSans-99\"/>\n      <use x=\"304.785156\" xlink:href=\"#DejaVuSans-117\"/>\n      <use x=\"368.164062\" xlink:href=\"#DejaVuSans-114\"/>\n      <use x=\"409.277344\" xlink:href=\"#DejaVuSans-118\"/>\n      <use x=\"468.457031\" xlink:href=\"#DejaVuSans-101\"/>\n      <use x=\"529.980469\" xlink:href=\"#DejaVuSans-32\"/>\n      <use x=\"561.767578\" xlink:href=\"#DejaVuSans-111\"/>\n      <use x=\"622.949219\" xlink:href=\"#DejaVuSans-102\"/>\n      <use x=\"658.154297\" xlink:href=\"#DejaVuSans-32\"/>\n      <use x=\"689.941406\" xlink:href=\"#DejaVuSans-99\"/>\n      <use x=\"744.921875\" xlink:href=\"#DejaVuSans-108\"/>\n      <use x=\"772.705078\" xlink:href=\"#DejaVuSans-97\"/>\n      <use x=\"833.984375\" xlink:href=\"#DejaVuSans-115\"/>\n      <use x=\"886.083984\" xlink:href=\"#DejaVuSans-115\"/>\n      <use x=\"938.183594\" xlink:href=\"#DejaVuSans-32\"/>\n      <use x=\"969.970703\" xlink:href=\"#DejaVuSans-51\"/>\n      <use x=\"1033.59375\" xlink:href=\"#DejaVuSans-32\"/>\n      <use x=\"1065.380859\" xlink:href=\"#DejaVuSans-40\"/>\n      <use x=\"1104.394531\" xlink:href=\"#DejaVuSans-97\"/>\n      <use x=\"1165.673828\" xlink:href=\"#DejaVuSans-114\"/>\n      <use x=\"1204.537109\" xlink:href=\"#DejaVuSans-101\"/>\n      <use x=\"1266.060547\" xlink:href=\"#DejaVuSans-97\"/>\n      <use x=\"1327.339844\" xlink:href=\"#DejaVuSans-32\"/>\n      <use x=\"1359.126953\" xlink:href=\"#DejaVuSans-61\"/>\n      <use x=\"1442.916016\" xlink:href=\"#DejaVuSans-32\"/>\n      <use x=\"1474.703125\" xlink:href=\"#DejaVuSans-48\"/>\n      <use x=\"1538.326172\" xlink:href=\"#DejaVuSans-46\"/>\n      <use x=\"1570.113281\" xlink:href=\"#DejaVuSans-56\"/>\n      <use x=\"1633.736328\" xlink:href=\"#DejaVuSans-57\"/>\n      <use x=\"1697.359375\" xlink:href=\"#DejaVuSans-41\"/>\n     </g>\n    </g>\n    <g id=\"line2d_32\">\n     <path d=\"M 167.94375 151.787813 \nL 187.94375 151.787813 \n\" style=\"fill:none;stroke:#000000;stroke-linecap:square;stroke-width:2;\"/>\n    </g>\n    <g id=\"line2d_33\"/>\n    <g id=\"text_20\">\n     <!-- ROC curve of class 4 (area = 0.84) -->\n     <g transform=\"translate(195.94375 155.287813)scale(0.1 -0.1)\">\n      <use xlink:href=\"#DejaVuSans-82\"/>\n      <use x=\"69.482422\" xlink:href=\"#DejaVuSans-79\"/>\n      <use x=\"148.193359\" xlink:href=\"#DejaVuSans-67\"/>\n      <use x=\"218.017578\" xlink:href=\"#DejaVuSans-32\"/>\n      <use x=\"249.804688\" xlink:href=\"#DejaVuSans-99\"/>\n      <use x=\"304.785156\" xlink:href=\"#DejaVuSans-117\"/>\n      <use x=\"368.164062\" xlink:href=\"#DejaVuSans-114\"/>\n      <use x=\"409.277344\" xlink:href=\"#DejaVuSans-118\"/>\n      <use x=\"468.457031\" xlink:href=\"#DejaVuSans-101\"/>\n      <use x=\"529.980469\" xlink:href=\"#DejaVuSans-32\"/>\n      <use x=\"561.767578\" xlink:href=\"#DejaVuSans-111\"/>\n      <use x=\"622.949219\" xlink:href=\"#DejaVuSans-102\"/>\n      <use x=\"658.154297\" xlink:href=\"#DejaVuSans-32\"/>\n      <use x=\"689.941406\" xlink:href=\"#DejaVuSans-99\"/>\n      <use x=\"744.921875\" xlink:href=\"#DejaVuSans-108\"/>\n      <use x=\"772.705078\" xlink:href=\"#DejaVuSans-97\"/>\n      <use x=\"833.984375\" xlink:href=\"#DejaVuSans-115\"/>\n      <use x=\"886.083984\" xlink:href=\"#DejaVuSans-115\"/>\n      <use x=\"938.183594\" xlink:href=\"#DejaVuSans-32\"/>\n      <use x=\"969.970703\" xlink:href=\"#DejaVuSans-52\"/>\n      <use x=\"1033.59375\" xlink:href=\"#DejaVuSans-32\"/>\n      <use x=\"1065.380859\" xlink:href=\"#DejaVuSans-40\"/>\n      <use x=\"1104.394531\" xlink:href=\"#DejaVuSans-97\"/>\n      <use x=\"1165.673828\" xlink:href=\"#DejaVuSans-114\"/>\n      <use x=\"1204.537109\" xlink:href=\"#DejaVuSans-101\"/>\n      <use x=\"1266.060547\" xlink:href=\"#DejaVuSans-97\"/>\n      <use x=\"1327.339844\" xlink:href=\"#DejaVuSans-32\"/>\n      <use x=\"1359.126953\" xlink:href=\"#DejaVuSans-61\"/>\n      <use x=\"1442.916016\" xlink:href=\"#DejaVuSans-32\"/>\n      <use x=\"1474.703125\" xlink:href=\"#DejaVuSans-48\"/>\n      <use x=\"1538.326172\" xlink:href=\"#DejaVuSans-46\"/>\n      <use x=\"1570.113281\" xlink:href=\"#DejaVuSans-56\"/>\n      <use x=\"1633.736328\" xlink:href=\"#DejaVuSans-52\"/>\n      <use x=\"1697.359375\" xlink:href=\"#DejaVuSans-41\"/>\n     </g>\n    </g>\n    <g id=\"line2d_34\">\n     <path d=\"M 167.94375 166.465937 \nL 187.94375 166.465937 \n\" style=\"fill:none;stroke:#ffff00;stroke-linecap:square;stroke-width:2;\"/>\n    </g>\n    <g id=\"line2d_35\"/>\n    <g id=\"text_21\">\n     <!-- ROC curve of class 5 (area = 0.84) -->\n     <defs>\n      <path d=\"M 10.796875 72.90625 \nL 49.515625 72.90625 \nL 49.515625 64.59375 \nL 19.828125 64.59375 \nL 19.828125 46.734375 \nQ 21.96875 47.46875 24.109375 47.828125 \nQ 26.265625 48.1875 28.421875 48.1875 \nQ 40.625 48.1875 47.75 41.5 \nQ 54.890625 34.8125 54.890625 23.390625 \nQ 54.890625 11.625 47.5625 5.09375 \nQ 40.234375 -1.421875 26.90625 -1.421875 \nQ 22.3125 -1.421875 17.546875 -0.640625 \nQ 12.796875 0.140625 7.71875 1.703125 \nL 7.71875 11.625 \nQ 12.109375 9.234375 16.796875 8.0625 \nQ 21.484375 6.890625 26.703125 6.890625 \nQ 35.15625 6.890625 40.078125 11.328125 \nQ 45.015625 15.765625 45.015625 23.390625 \nQ 45.015625 31 40.078125 35.4375 \nQ 35.15625 39.890625 26.703125 39.890625 \nQ 22.75 39.890625 18.8125 39.015625 \nQ 14.890625 38.140625 10.796875 36.28125 \nz\n\" id=\"DejaVuSans-53\"/>\n     </defs>\n     <g transform=\"translate(195.94375 169.965937)scale(0.1 -0.1)\">\n      <use xlink:href=\"#DejaVuSans-82\"/>\n      <use x=\"69.482422\" xlink:href=\"#DejaVuSans-79\"/>\n      <use x=\"148.193359\" xlink:href=\"#DejaVuSans-67\"/>\n      <use x=\"218.017578\" xlink:href=\"#DejaVuSans-32\"/>\n      <use x=\"249.804688\" xlink:href=\"#DejaVuSans-99\"/>\n      <use x=\"304.785156\" xlink:href=\"#DejaVuSans-117\"/>\n      <use x=\"368.164062\" xlink:href=\"#DejaVuSans-114\"/>\n      <use x=\"409.277344\" xlink:href=\"#DejaVuSans-118\"/>\n      <use x=\"468.457031\" xlink:href=\"#DejaVuSans-101\"/>\n      <use x=\"529.980469\" xlink:href=\"#DejaVuSans-32\"/>\n      <use x=\"561.767578\" xlink:href=\"#DejaVuSans-111\"/>\n      <use x=\"622.949219\" xlink:href=\"#DejaVuSans-102\"/>\n      <use x=\"658.154297\" xlink:href=\"#DejaVuSans-32\"/>\n      <use x=\"689.941406\" xlink:href=\"#DejaVuSans-99\"/>\n      <use x=\"744.921875\" xlink:href=\"#DejaVuSans-108\"/>\n      <use x=\"772.705078\" xlink:href=\"#DejaVuSans-97\"/>\n      <use x=\"833.984375\" xlink:href=\"#DejaVuSans-115\"/>\n      <use x=\"886.083984\" xlink:href=\"#DejaVuSans-115\"/>\n      <use x=\"938.183594\" xlink:href=\"#DejaVuSans-32\"/>\n      <use x=\"969.970703\" xlink:href=\"#DejaVuSans-53\"/>\n      <use x=\"1033.59375\" xlink:href=\"#DejaVuSans-32\"/>\n      <use x=\"1065.380859\" xlink:href=\"#DejaVuSans-40\"/>\n      <use x=\"1104.394531\" xlink:href=\"#DejaVuSans-97\"/>\n      <use x=\"1165.673828\" xlink:href=\"#DejaVuSans-114\"/>\n      <use x=\"1204.537109\" xlink:href=\"#DejaVuSans-101\"/>\n      <use x=\"1266.060547\" xlink:href=\"#DejaVuSans-97\"/>\n      <use x=\"1327.339844\" xlink:href=\"#DejaVuSans-32\"/>\n      <use x=\"1359.126953\" xlink:href=\"#DejaVuSans-61\"/>\n      <use x=\"1442.916016\" xlink:href=\"#DejaVuSans-32\"/>\n      <use x=\"1474.703125\" xlink:href=\"#DejaVuSans-48\"/>\n      <use x=\"1538.326172\" xlink:href=\"#DejaVuSans-46\"/>\n      <use x=\"1570.113281\" xlink:href=\"#DejaVuSans-56\"/>\n      <use x=\"1633.736328\" xlink:href=\"#DejaVuSans-52\"/>\n      <use x=\"1697.359375\" xlink:href=\"#DejaVuSans-41\"/>\n     </g>\n    </g>\n    <g id=\"line2d_36\">\n     <path d=\"M 167.94375 181.144063 \nL 187.94375 181.144063 \n\" style=\"fill:none;stroke:#006400;stroke-linecap:square;stroke-width:2;\"/>\n    </g>\n    <g id=\"line2d_37\"/>\n    <g id=\"text_22\">\n     <!-- ROC curve of class 6 (area = 0.95) -->\n     <g transform=\"translate(195.94375 184.644063)scale(0.1 -0.1)\">\n      <use xlink:href=\"#DejaVuSans-82\"/>\n      <use x=\"69.482422\" xlink:href=\"#DejaVuSans-79\"/>\n      <use x=\"148.193359\" xlink:href=\"#DejaVuSans-67\"/>\n      <use x=\"218.017578\" xlink:href=\"#DejaVuSans-32\"/>\n      <use x=\"249.804688\" xlink:href=\"#DejaVuSans-99\"/>\n      <use x=\"304.785156\" xlink:href=\"#DejaVuSans-117\"/>\n      <use x=\"368.164062\" xlink:href=\"#DejaVuSans-114\"/>\n      <use x=\"409.277344\" xlink:href=\"#DejaVuSans-118\"/>\n      <use x=\"468.457031\" xlink:href=\"#DejaVuSans-101\"/>\n      <use x=\"529.980469\" xlink:href=\"#DejaVuSans-32\"/>\n      <use x=\"561.767578\" xlink:href=\"#DejaVuSans-111\"/>\n      <use x=\"622.949219\" xlink:href=\"#DejaVuSans-102\"/>\n      <use x=\"658.154297\" xlink:href=\"#DejaVuSans-32\"/>\n      <use x=\"689.941406\" xlink:href=\"#DejaVuSans-99\"/>\n      <use x=\"744.921875\" xlink:href=\"#DejaVuSans-108\"/>\n      <use x=\"772.705078\" xlink:href=\"#DejaVuSans-97\"/>\n      <use x=\"833.984375\" xlink:href=\"#DejaVuSans-115\"/>\n      <use x=\"886.083984\" xlink:href=\"#DejaVuSans-115\"/>\n      <use x=\"938.183594\" xlink:href=\"#DejaVuSans-32\"/>\n      <use x=\"969.970703\" xlink:href=\"#DejaVuSans-54\"/>\n      <use x=\"1033.59375\" xlink:href=\"#DejaVuSans-32\"/>\n      <use x=\"1065.380859\" xlink:href=\"#DejaVuSans-40\"/>\n      <use x=\"1104.394531\" xlink:href=\"#DejaVuSans-97\"/>\n      <use x=\"1165.673828\" xlink:href=\"#DejaVuSans-114\"/>\n      <use x=\"1204.537109\" xlink:href=\"#DejaVuSans-101\"/>\n      <use x=\"1266.060547\" xlink:href=\"#DejaVuSans-97\"/>\n      <use x=\"1327.339844\" xlink:href=\"#DejaVuSans-32\"/>\n      <use x=\"1359.126953\" xlink:href=\"#DejaVuSans-61\"/>\n      <use x=\"1442.916016\" xlink:href=\"#DejaVuSans-32\"/>\n      <use x=\"1474.703125\" xlink:href=\"#DejaVuSans-48\"/>\n      <use x=\"1538.326172\" xlink:href=\"#DejaVuSans-46\"/>\n      <use x=\"1570.113281\" xlink:href=\"#DejaVuSans-57\"/>\n      <use x=\"1633.736328\" xlink:href=\"#DejaVuSans-53\"/>\n      <use x=\"1697.359375\" xlink:href=\"#DejaVuSans-41\"/>\n     </g>\n    </g>\n    <g id=\"line2d_38\">\n     <path d=\"M 167.94375 195.822187 \nL 187.94375 195.822187 \n\" style=\"fill:none;stroke:#ffa500;stroke-linecap:square;stroke-width:2;\"/>\n    </g>\n    <g id=\"line2d_39\"/>\n    <g id=\"text_23\">\n     <!-- ROC curve of class 7 (area = 0.93) -->\n     <defs>\n      <path d=\"M 8.203125 72.90625 \nL 55.078125 72.90625 \nL 55.078125 68.703125 \nL 28.609375 0 \nL 18.3125 0 \nL 43.21875 64.59375 \nL 8.203125 64.59375 \nz\n\" id=\"DejaVuSans-55\"/>\n     </defs>\n     <g transform=\"translate(195.94375 199.322187)scale(0.1 -0.1)\">\n      <use xlink:href=\"#DejaVuSans-82\"/>\n      <use x=\"69.482422\" xlink:href=\"#DejaVuSans-79\"/>\n      <use x=\"148.193359\" xlink:href=\"#DejaVuSans-67\"/>\n      <use x=\"218.017578\" xlink:href=\"#DejaVuSans-32\"/>\n      <use x=\"249.804688\" xlink:href=\"#DejaVuSans-99\"/>\n      <use x=\"304.785156\" xlink:href=\"#DejaVuSans-117\"/>\n      <use x=\"368.164062\" xlink:href=\"#DejaVuSans-114\"/>\n      <use x=\"409.277344\" xlink:href=\"#DejaVuSans-118\"/>\n      <use x=\"468.457031\" xlink:href=\"#DejaVuSans-101\"/>\n      <use x=\"529.980469\" xlink:href=\"#DejaVuSans-32\"/>\n      <use x=\"561.767578\" xlink:href=\"#DejaVuSans-111\"/>\n      <use x=\"622.949219\" xlink:href=\"#DejaVuSans-102\"/>\n      <use x=\"658.154297\" xlink:href=\"#DejaVuSans-32\"/>\n      <use x=\"689.941406\" xlink:href=\"#DejaVuSans-99\"/>\n      <use x=\"744.921875\" xlink:href=\"#DejaVuSans-108\"/>\n      <use x=\"772.705078\" xlink:href=\"#DejaVuSans-97\"/>\n      <use x=\"833.984375\" xlink:href=\"#DejaVuSans-115\"/>\n      <use x=\"886.083984\" xlink:href=\"#DejaVuSans-115\"/>\n      <use x=\"938.183594\" xlink:href=\"#DejaVuSans-32\"/>\n      <use x=\"969.970703\" xlink:href=\"#DejaVuSans-55\"/>\n      <use x=\"1033.59375\" xlink:href=\"#DejaVuSans-32\"/>\n      <use x=\"1065.380859\" xlink:href=\"#DejaVuSans-40\"/>\n      <use x=\"1104.394531\" xlink:href=\"#DejaVuSans-97\"/>\n      <use x=\"1165.673828\" xlink:href=\"#DejaVuSans-114\"/>\n      <use x=\"1204.537109\" xlink:href=\"#DejaVuSans-101\"/>\n      <use x=\"1266.060547\" xlink:href=\"#DejaVuSans-97\"/>\n      <use x=\"1327.339844\" xlink:href=\"#DejaVuSans-32\"/>\n      <use x=\"1359.126953\" xlink:href=\"#DejaVuSans-61\"/>\n      <use x=\"1442.916016\" xlink:href=\"#DejaVuSans-32\"/>\n      <use x=\"1474.703125\" xlink:href=\"#DejaVuSans-48\"/>\n      <use x=\"1538.326172\" xlink:href=\"#DejaVuSans-46\"/>\n      <use x=\"1570.113281\" xlink:href=\"#DejaVuSans-57\"/>\n      <use x=\"1633.736328\" xlink:href=\"#DejaVuSans-51\"/>\n      <use x=\"1697.359375\" xlink:href=\"#DejaVuSans-41\"/>\n     </g>\n    </g>\n    <g id=\"line2d_40\">\n     <path d=\"M 167.94375 210.500313 \nL 187.94375 210.500313 \n\" style=\"fill:none;stroke:#00008b;stroke-linecap:square;stroke-width:2;\"/>\n    </g>\n    <g id=\"line2d_41\"/>\n    <g id=\"text_24\">\n     <!-- ROC curve of class 8 (area = 0.84) -->\n     <g transform=\"translate(195.94375 214.000313)scale(0.1 -0.1)\">\n      <use xlink:href=\"#DejaVuSans-82\"/>\n      <use x=\"69.482422\" xlink:href=\"#DejaVuSans-79\"/>\n      <use x=\"148.193359\" xlink:href=\"#DejaVuSans-67\"/>\n      <use x=\"218.017578\" xlink:href=\"#DejaVuSans-32\"/>\n      <use x=\"249.804688\" xlink:href=\"#DejaVuSans-99\"/>\n      <use x=\"304.785156\" xlink:href=\"#DejaVuSans-117\"/>\n      <use x=\"368.164062\" xlink:href=\"#DejaVuSans-114\"/>\n      <use x=\"409.277344\" xlink:href=\"#DejaVuSans-118\"/>\n      <use x=\"468.457031\" xlink:href=\"#DejaVuSans-101\"/>\n      <use x=\"529.980469\" xlink:href=\"#DejaVuSans-32\"/>\n      <use x=\"561.767578\" xlink:href=\"#DejaVuSans-111\"/>\n      <use x=\"622.949219\" xlink:href=\"#DejaVuSans-102\"/>\n      <use x=\"658.154297\" xlink:href=\"#DejaVuSans-32\"/>\n      <use x=\"689.941406\" xlink:href=\"#DejaVuSans-99\"/>\n      <use x=\"744.921875\" xlink:href=\"#DejaVuSans-108\"/>\n      <use x=\"772.705078\" xlink:href=\"#DejaVuSans-97\"/>\n      <use x=\"833.984375\" xlink:href=\"#DejaVuSans-115\"/>\n      <use x=\"886.083984\" xlink:href=\"#DejaVuSans-115\"/>\n      <use x=\"938.183594\" xlink:href=\"#DejaVuSans-32\"/>\n      <use x=\"969.970703\" xlink:href=\"#DejaVuSans-56\"/>\n      <use x=\"1033.59375\" xlink:href=\"#DejaVuSans-32\"/>\n      <use x=\"1065.380859\" xlink:href=\"#DejaVuSans-40\"/>\n      <use x=\"1104.394531\" xlink:href=\"#DejaVuSans-97\"/>\n      <use x=\"1165.673828\" xlink:href=\"#DejaVuSans-114\"/>\n      <use x=\"1204.537109\" xlink:href=\"#DejaVuSans-101\"/>\n      <use x=\"1266.060547\" xlink:href=\"#DejaVuSans-97\"/>\n      <use x=\"1327.339844\" xlink:href=\"#DejaVuSans-32\"/>\n      <use x=\"1359.126953\" xlink:href=\"#DejaVuSans-61\"/>\n      <use x=\"1442.916016\" xlink:href=\"#DejaVuSans-32\"/>\n      <use x=\"1474.703125\" xlink:href=\"#DejaVuSans-48\"/>\n      <use x=\"1538.326172\" xlink:href=\"#DejaVuSans-46\"/>\n      <use x=\"1570.113281\" xlink:href=\"#DejaVuSans-56\"/>\n      <use x=\"1633.736328\" xlink:href=\"#DejaVuSans-52\"/>\n      <use x=\"1697.359375\" xlink:href=\"#DejaVuSans-41\"/>\n     </g>\n    </g>\n    <g id=\"line2d_42\">\n     <path d=\"M 167.94375 225.178437 \nL 187.94375 225.178437 \n\" style=\"fill:none;stroke:#a52a2a;stroke-linecap:square;stroke-width:2;\"/>\n    </g>\n    <g id=\"line2d_43\"/>\n    <g id=\"text_25\">\n     <!-- ROC curve of class 9 (area = 0.66) -->\n     <g transform=\"translate(195.94375 228.678437)scale(0.1 -0.1)\">\n      <use xlink:href=\"#DejaVuSans-82\"/>\n      <use x=\"69.482422\" xlink:href=\"#DejaVuSans-79\"/>\n      <use x=\"148.193359\" xlink:href=\"#DejaVuSans-67\"/>\n      <use x=\"218.017578\" xlink:href=\"#DejaVuSans-32\"/>\n      <use x=\"249.804688\" xlink:href=\"#DejaVuSans-99\"/>\n      <use x=\"304.785156\" xlink:href=\"#DejaVuSans-117\"/>\n      <use x=\"368.164062\" xlink:href=\"#DejaVuSans-114\"/>\n      <use x=\"409.277344\" xlink:href=\"#DejaVuSans-118\"/>\n      <use x=\"468.457031\" xlink:href=\"#DejaVuSans-101\"/>\n      <use x=\"529.980469\" xlink:href=\"#DejaVuSans-32\"/>\n      <use x=\"561.767578\" xlink:href=\"#DejaVuSans-111\"/>\n      <use x=\"622.949219\" xlink:href=\"#DejaVuSans-102\"/>\n      <use x=\"658.154297\" xlink:href=\"#DejaVuSans-32\"/>\n      <use x=\"689.941406\" xlink:href=\"#DejaVuSans-99\"/>\n      <use x=\"744.921875\" xlink:href=\"#DejaVuSans-108\"/>\n      <use x=\"772.705078\" xlink:href=\"#DejaVuSans-97\"/>\n      <use x=\"833.984375\" xlink:href=\"#DejaVuSans-115\"/>\n      <use x=\"886.083984\" xlink:href=\"#DejaVuSans-115\"/>\n      <use x=\"938.183594\" xlink:href=\"#DejaVuSans-32\"/>\n      <use x=\"969.970703\" xlink:href=\"#DejaVuSans-57\"/>\n      <use x=\"1033.59375\" xlink:href=\"#DejaVuSans-32\"/>\n      <use x=\"1065.380859\" xlink:href=\"#DejaVuSans-40\"/>\n      <use x=\"1104.394531\" xlink:href=\"#DejaVuSans-97\"/>\n      <use x=\"1165.673828\" xlink:href=\"#DejaVuSans-114\"/>\n      <use x=\"1204.537109\" xlink:href=\"#DejaVuSans-101\"/>\n      <use x=\"1266.060547\" xlink:href=\"#DejaVuSans-97\"/>\n      <use x=\"1327.339844\" xlink:href=\"#DejaVuSans-32\"/>\n      <use x=\"1359.126953\" xlink:href=\"#DejaVuSans-61\"/>\n      <use x=\"1442.916016\" xlink:href=\"#DejaVuSans-32\"/>\n      <use x=\"1474.703125\" xlink:href=\"#DejaVuSans-48\"/>\n      <use x=\"1538.326172\" xlink:href=\"#DejaVuSans-46\"/>\n      <use x=\"1570.113281\" xlink:href=\"#DejaVuSans-54\"/>\n      <use x=\"1633.736328\" xlink:href=\"#DejaVuSans-54\"/>\n      <use x=\"1697.359375\" xlink:href=\"#DejaVuSans-41\"/>\n     </g>\n    </g>\n   </g>\n  </g>\n </g>\n <defs>\n  <clipPath id=\"pfd7cb0caea\">\n   <rect height=\"217.44\" width=\"334.8\" x=\"43.78125\" y=\"22.318125\"/>\n  </clipPath>\n </defs>\n</svg>\n"
          },
          "metadata": {
            "tags": [],
            "needs_background": "light"
          }
        }
      ]
    },
    {
      "cell_type": "markdown",
      "metadata": {
        "id": "EkITq6MyFLX8"
      },
      "source": [
        "## LSTM"
      ]
    },
    {
      "cell_type": "code",
      "metadata": {
        "id": "2Oxh3UNnTUE7"
      },
      "source": [
        "from keras.models import Sequential\n",
        "from keras.layers import Dense, Embedding, LSTM, SpatialDropout1D, Dropout\n",
        "from keras.callbacks import EarlyStopping\n",
        "from keras.preprocessing.text import Tokenizer\n",
        "from keras.preprocessing.sequence import pad_sequences"
      ],
      "execution_count": null,
      "outputs": []
    },
    {
      "cell_type": "code",
      "metadata": {
        "id": "sEDjFKAD3E21"
      },
      "source": [
        "MAX_NB_WORDS = 10000\n",
        "MAX_SEQUENCE_LENGTH = int(mean_word_size)\n",
        "EMBEDDING_DIM = 100\n",
        "epochs = 5\n",
        "batch_size = 64"
      ],
      "execution_count": null,
      "outputs": []
    },
    {
      "cell_type": "code",
      "metadata": {
        "id": "9q3X-TXkP2ZR",
        "colab": {
          "base_uri": "https://localhost:8080/"
        },
        "outputId": "a67f3bec-1697-4a88-89c5-977de78d2a0b"
      },
      "source": [
        "tokenizer = Tokenizer(num_words=MAX_NB_WORDS)\n",
        "tokenizer.fit_on_texts(train_data_processed)\n",
        "word_index = tokenizer.word_index\n",
        "print('Found %s unique tokens.' % len(word_index))"
      ],
      "execution_count": null,
      "outputs": [
        {
          "output_type": "stream",
          "text": [
            "Found 10001 unique tokens.\n"
          ],
          "name": "stdout"
        }
      ]
    },
    {
      "cell_type": "code",
      "metadata": {
        "id": "BsMuK270abHl",
        "colab": {
          "base_uri": "https://localhost:8080/"
        },
        "outputId": "9f3e9c8e-372f-4358-a537-645378adfce6"
      },
      "source": [
        "X = tokenizer.texts_to_sequences(train_data)\n",
        "X = pad_sequences(X, maxlen=MAX_SEQUENCE_LENGTH , padding='post')\n",
        "print('Shape of data tensor:', X.shape)"
      ],
      "execution_count": null,
      "outputs": [
        {
          "output_type": "stream",
          "text": [
            "Shape of data tensor: (83912, 284)\n"
          ],
          "name": "stdout"
        }
      ]
    },
    {
      "cell_type": "code",
      "metadata": {
        "id": "_FAmoRjscL71",
        "colab": {
          "base_uri": "https://localhost:8080/"
        },
        "outputId": "afe96af4-d6ee-4f41-d7e8-869544acb120"
      },
      "source": [
        "from sklearn.preprocessing import LabelBinarizer\n",
        "encoder = LabelBinarizer()\n",
        "Y = encoder.fit_transform(classes_num)\n",
        "\n",
        "print('Shape of label tensor:', Y.shape)"
      ],
      "execution_count": null,
      "outputs": [
        {
          "output_type": "stream",
          "text": [
            "Shape of label tensor: (83912, 10)\n"
          ],
          "name": "stdout"
        }
      ]
    },
    {
      "cell_type": "code",
      "metadata": {
        "id": "NhkrjWn5sZ1t",
        "colab": {
          "base_uri": "https://localhost:8080/"
        },
        "outputId": "88fddde7-4823-4a2a-a93b-e012e59ef5f1"
      },
      "source": [
        "model = Sequential()\n",
        "model.add(Embedding(MAX_NB_WORDS, EMBEDDING_DIM, input_length=X.shape[1]))\n",
        "model.add(SpatialDropout1D(0.2))\n",
        "model.add(LSTM(50, dropout=0.2, recurrent_dropout=0.2))\n",
        "model.add(Dense(10, activation='softmax'))\n",
        "model.compile(loss='categorical_crossentropy', optimizer='adam', metrics=['accuracy'])\n",
        "print(model.summary())"
      ],
      "execution_count": null,
      "outputs": [
        {
          "output_type": "stream",
          "text": [
            "Model: \"sequential\"\n",
            "_________________________________________________________________\n",
            "Layer (type)                 Output Shape              Param #   \n",
            "=================================================================\n",
            "embedding (Embedding)        (None, 284, 100)          1000000   \n",
            "_________________________________________________________________\n",
            "spatial_dropout1d (SpatialDr (None, 284, 100)          0         \n",
            "_________________________________________________________________\n",
            "lstm (LSTM)                  (None, 50)                30200     \n",
            "_________________________________________________________________\n",
            "dense (Dense)                (None, 10)                510       \n",
            "=================================================================\n",
            "Total params: 1,030,710\n",
            "Trainable params: 1,030,710\n",
            "Non-trainable params: 0\n",
            "_________________________________________________________________\n",
            "None\n"
          ],
          "name": "stdout"
        }
      ]
    },
    {
      "cell_type": "code",
      "metadata": {
        "id": "esvtlCpBubiu",
        "colab": {
          "base_uri": "https://localhost:8080/"
        },
        "outputId": "c14c0368-741e-428b-dbcc-3d9d92045bbe"
      },
      "source": [
        "from sklearn.model_selection import train_test_split\n",
        "epochs = 10\n",
        "batch_size = 128\n",
        "\n",
        "\n",
        "X_train, X_valid, Y_train, Y_valid = train_test_split(X,Y, test_size = 0.20, random_state = 42)\n",
        "\n",
        "history = model.fit(X_train, Y_train, epochs=epochs, batch_size=batch_size,validation_data=(X_valid, Y_valid),callbacks=[EarlyStopping(monitor='val_loss', patience=3, min_delta=0.0001)])"
      ],
      "execution_count": null,
      "outputs": [
        {
          "output_type": "stream",
          "text": [
            "Epoch 1/10\n",
            "525/525 [==============================] - 412s 786ms/step - loss: 2.0234 - accuracy: 0.2178 - val_loss: 2.0201 - val_accuracy: 0.2220\n",
            "Epoch 2/10\n",
            "525/525 [==============================] - 412s 785ms/step - loss: 1.9513 - accuracy: 0.2349 - val_loss: 1.9850 - val_accuracy: 0.2293\n",
            "Epoch 3/10\n",
            "455/525 [=========================>....] - ETA: 53s - loss: 2.0161 - accuracy: 0.2205"
          ],
          "name": "stdout"
        }
      ]
    }
  ]
}